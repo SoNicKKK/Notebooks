{
 "cells": [
  {
   "cell_type": "code",
   "execution_count": 16,
   "metadata": {
    "collapsed": true
   },
   "outputs": [],
   "source": [
    "import numpy as np\n",
    "import pandas as pd"
   ]
  },
  {
   "cell_type": "code",
   "execution_count": 17,
   "metadata": {
    "collapsed": false
   },
   "outputs": [
    {
     "data": {
      "text/html": [
       "<div>\n",
       "<table border=\"1\" class=\"dataframe\">\n",
       "  <thead>\n",
       "    <tr style=\"text-align: right;\">\n",
       "      <th></th>\n",
       "      <th>index</th>\n",
       "      <th>year</th>\n",
       "      <th>country</th>\n",
       "      <th>no</th>\n",
       "      <th>name</th>\n",
       "      <th>position</th>\n",
       "      <th>side</th>\n",
       "      <th>height</th>\n",
       "      <th>weight</th>\n",
       "      <th>birth</th>\n",
       "      <th>club</th>\n",
       "      <th>age</th>\n",
       "      <th>cohort</th>\n",
       "      <th>bmi</th>\n",
       "    </tr>\n",
       "  </thead>\n",
       "  <tbody>\n",
       "    <tr>\n",
       "      <th>0</th>\n",
       "      <td>0</td>\n",
       "      <td>2001</td>\n",
       "      <td>RUS</td>\n",
       "      <td>10</td>\n",
       "      <td>tverdovsky oleg</td>\n",
       "      <td>0</td>\n",
       "      <td>L</td>\n",
       "      <td>185</td>\n",
       "      <td>84</td>\n",
       "      <td>1976-05-18</td>\n",
       "      <td>anaheim mighty ducks</td>\n",
       "      <td>24.952772</td>\n",
       "      <td>1976</td>\n",
       "      <td>24.543462</td>\n",
       "    </tr>\n",
       "    <tr>\n",
       "      <th>1</th>\n",
       "      <td>1</td>\n",
       "      <td>2001</td>\n",
       "      <td>RUS</td>\n",
       "      <td>2</td>\n",
       "      <td>vichnevsky vitali</td>\n",
       "      <td>0</td>\n",
       "      <td>L</td>\n",
       "      <td>188</td>\n",
       "      <td>86</td>\n",
       "      <td>1980-03-18</td>\n",
       "      <td>anaheim mighty ducks</td>\n",
       "      <td>21.119781</td>\n",
       "      <td>1980</td>\n",
       "      <td>24.332277</td>\n",
       "    </tr>\n",
       "    <tr>\n",
       "      <th>2</th>\n",
       "      <td>2</td>\n",
       "      <td>2001</td>\n",
       "      <td>RUS</td>\n",
       "      <td>26</td>\n",
       "      <td>petrochinin evgeni</td>\n",
       "      <td>0</td>\n",
       "      <td>L</td>\n",
       "      <td>182</td>\n",
       "      <td>95</td>\n",
       "      <td>1976-02-07</td>\n",
       "      <td>severstal cherepovetal</td>\n",
       "      <td>25.229295</td>\n",
       "      <td>1976</td>\n",
       "      <td>28.680111</td>\n",
       "    </tr>\n",
       "    <tr>\n",
       "      <th>3</th>\n",
       "      <td>3</td>\n",
       "      <td>2001</td>\n",
       "      <td>RUS</td>\n",
       "      <td>28</td>\n",
       "      <td>zhdan alexander</td>\n",
       "      <td>0</td>\n",
       "      <td>R</td>\n",
       "      <td>178</td>\n",
       "      <td>85</td>\n",
       "      <td>1971-08-28</td>\n",
       "      <td>ak bars kazan</td>\n",
       "      <td>29.675565</td>\n",
       "      <td>1971</td>\n",
       "      <td>26.827421</td>\n",
       "    </tr>\n",
       "    <tr>\n",
       "      <th>4</th>\n",
       "      <td>4</td>\n",
       "      <td>2001</td>\n",
       "      <td>RUS</td>\n",
       "      <td>32</td>\n",
       "      <td>orekhovsky oleg</td>\n",
       "      <td>0</td>\n",
       "      <td>R</td>\n",
       "      <td>175</td>\n",
       "      <td>88</td>\n",
       "      <td>1977-11-03</td>\n",
       "      <td>dynamo moscow</td>\n",
       "      <td>23.490760</td>\n",
       "      <td>1977</td>\n",
       "      <td>28.734694</td>\n",
       "    </tr>\n",
       "  </tbody>\n",
       "</table>\n",
       "</div>"
      ],
      "text/plain": [
       "   index  year country  no                 name  position side  height  \\\n",
       "0      0  2001     RUS  10     tverdovsky oleg          0    L     185   \n",
       "1      1  2001     RUS   2   vichnevsky vitali          0    L     188   \n",
       "2      2  2001     RUS  26  petrochinin evgeni          0    L     182   \n",
       "3      3  2001     RUS  28     zhdan alexander          0    R     178   \n",
       "4      4  2001     RUS  32     orekhovsky oleg          0    R     175   \n",
       "\n",
       "   weight       birth                     club        age  cohort        bmi  \n",
       "0      84  1976-05-18    anaheim mighty ducks   24.952772    1976  24.543462  \n",
       "1      86  1980-03-18    anaheim mighty ducks   21.119781    1980  24.332277  \n",
       "2      95  1976-02-07  severstal cherepovetal   25.229295    1976  28.680111  \n",
       "3      85  1971-08-28           ak bars kazan   29.675565    1971  26.827421  \n",
       "4      88  1977-11-03           dynamo moscow   23.490760    1977  28.734694  "
      ]
     },
     "execution_count": 17,
     "metadata": {},
     "output_type": "execute_result"
    }
   ],
   "source": [
    "df = pd.read_csv('hockey_players.csv', sep=',')\n",
    "df = df[df.position != 'G'].reset_index()\n",
    "df.position.replace('D', 0, inplace=True)\n",
    "df.position.replace('F', 1, inplace=True)\n",
    "df.head()"
   ]
  },
  {
   "cell_type": "code",
   "execution_count": 19,
   "metadata": {
    "collapsed": false
   },
   "outputs": [
    {
     "data": {
      "text/html": [
       "<div>\n",
       "<table border=\"1\" class=\"dataframe\">\n",
       "  <thead>\n",
       "    <tr style=\"text-align: right;\">\n",
       "      <th></th>\n",
       "      <th>name</th>\n",
       "      <th>height</th>\n",
       "      <th>weight</th>\n",
       "      <th>bmi</th>\n",
       "      <th>position</th>\n",
       "    </tr>\n",
       "  </thead>\n",
       "  <tbody>\n",
       "    <tr>\n",
       "      <th>0</th>\n",
       "      <td>tverdovsky oleg</td>\n",
       "      <td>185</td>\n",
       "      <td>84</td>\n",
       "      <td>24.543462</td>\n",
       "      <td>0</td>\n",
       "    </tr>\n",
       "    <tr>\n",
       "      <th>1</th>\n",
       "      <td>vichnevsky vitali</td>\n",
       "      <td>188</td>\n",
       "      <td>86</td>\n",
       "      <td>24.332277</td>\n",
       "      <td>0</td>\n",
       "    </tr>\n",
       "    <tr>\n",
       "      <th>2</th>\n",
       "      <td>petrochinin evgeni</td>\n",
       "      <td>182</td>\n",
       "      <td>95</td>\n",
       "      <td>28.680111</td>\n",
       "      <td>0</td>\n",
       "    </tr>\n",
       "    <tr>\n",
       "      <th>3</th>\n",
       "      <td>zhdan alexander</td>\n",
       "      <td>178</td>\n",
       "      <td>85</td>\n",
       "      <td>26.827421</td>\n",
       "      <td>0</td>\n",
       "    </tr>\n",
       "    <tr>\n",
       "      <th>4</th>\n",
       "      <td>orekhovsky oleg</td>\n",
       "      <td>175</td>\n",
       "      <td>88</td>\n",
       "      <td>28.734694</td>\n",
       "      <td>0</td>\n",
       "    </tr>\n",
       "  </tbody>\n",
       "</table>\n",
       "</div>"
      ],
      "text/plain": [
       "                  name  height  weight        bmi  position\n",
       "0     tverdovsky oleg      185      84  24.543462         0\n",
       "1   vichnevsky vitali      188      86  24.332277         0\n",
       "2  petrochinin evgeni      182      95  28.680111         0\n",
       "3     zhdan alexander      178      85  26.827421         0\n",
       "4     orekhovsky oleg      175      88  28.734694         0"
      ]
     },
     "execution_count": 19,
     "metadata": {},
     "output_type": "execute_result"
    }
   ],
   "source": [
    "df = df[['name', 'height', 'weight', 'bmi', 'position']]\n",
    "df.head()"
   ]
  },
  {
   "cell_type": "code",
   "execution_count": 20,
   "metadata": {
    "collapsed": false
   },
   "outputs": [],
   "source": [
    "from sklearn import preprocessing\n",
    "df['bmisq'] = df.bmi * df.bmi\n",
    "data = df[['height', 'weight', 'bmi', 'bmisq']]\n",
    "target = df.position\n",
    "data_scaled = preprocessing.scale(data)\n",
    "data = pd.DataFrame(data_scaled)"
   ]
  },
  {
   "cell_type": "code",
   "execution_count": 21,
   "metadata": {
    "collapsed": false
   },
   "outputs": [
    {
     "data": {
      "text/plain": [
       "array([[ 0.21789138, -0.59310387, -1.06393386, -1.05775987],\n",
       "       [ 0.77659587, -0.3024195 , -1.21346828, -1.19771797],\n",
       "       [-0.3408131 ,  1.00566015,  1.86511116,  1.92757872],\n",
       "       ..., \n",
       "       [-1.08575242, -0.88378823, -0.11716498, -0.14355176],\n",
       "       [-0.71328276, -0.15707732,  0.57057203,  0.55093446],\n",
       "       [-0.15457828,  1.00566015,  1.64377676,  1.68578218]])"
      ]
     },
     "execution_count": 21,
     "metadata": {},
     "output_type": "execute_result"
    }
   ],
   "source": [
    "from sklearn.linear_model import LogisticRegression\n",
    "train_data = data_scaled[:-1]\n",
    "train_target = df.position[:-1]\n",
    "train_data"
   ]
  },
  {
   "cell_type": "code",
   "execution_count": 22,
   "metadata": {
    "collapsed": false
   },
   "outputs": [
    {
     "data": {
      "text/plain": [
       "sklearn.cross_validation.KFold(n=5530, n_folds=5, shuffle=True, random_state=1)"
      ]
     },
     "execution_count": 22,
     "metadata": {},
     "output_type": "execute_result"
    }
   ],
   "source": [
    "from sklearn.cross_validation import KFold\n",
    "kf = KFold(len(data.index), n_folds=5, shuffle=True, random_state=1)\n",
    "kf"
   ]
  },
  {
   "cell_type": "code",
   "execution_count": 23,
   "metadata": {
    "collapsed": false
   },
   "outputs": [
    {
     "name": "stdout",
     "output_type": "stream",
     "text": [
      "0.0001 0.645388788427\n",
      "0.0005 0.650090415913\n",
      "0.001 0.651717902351\n",
      "0.005 0.650452079566\n",
      "0.01 0.649909584087\n",
      "0.1 0.649005424955\n",
      "1.0 0.648643761302\n",
      "10.0 0.649005424955\n",
      "100.0 0.649186256781\n",
      "1000.0 0.649186256781\n",
      "10000.0 0.649186256781\n"
     ]
    }
   ],
   "source": [
    "c = 0.001\n",
    "\n",
    "coefs = [0.0001, 0.0005, 0.001, 0.005, 0.01, 0.1, 1.0, 10.0, 100.0, 1000.0, 10000.0]\n",
    "res = []\n",
    "for c in coefs:\n",
    "    scores = []\n",
    "    for train_index, test_index in kf:\n",
    "        clf = LogisticRegression(penalty='l2', C=c, random_state=1)\n",
    "        x_train, x_test = data.ix[train_index], data.ix[test_index]\n",
    "        y_train, y_test = target.ix[train_index], target.ix[test_index]\n",
    "        clf.fit(x_train, y_train)    \n",
    "        scores.append(clf.score(x_test, y_test))\n",
    "    print(c, np.mean(scores))"
   ]
  },
  {
   "cell_type": "code",
   "execution_count": 8,
   "metadata": {
    "collapsed": false
   },
   "outputs": [
    {
     "name": "stdout",
     "output_type": "stream",
     "text": [
      "(4424, 3) (4424,)\n",
      "(1106, 3) (1106,)\n"
     ]
    }
   ],
   "source": [
    "from sklearn import cross_validation\n",
    "x_train, x_test, y_train, y_test = cross_validation.train_test_split(data, target, test_size=0.2, random_state=0)\n",
    "print(x_train.shape, y_train.shape)\n",
    "print(x_test.shape, y_test.shape)"
   ]
  },
  {
   "cell_type": "code",
   "execution_count": null,
   "metadata": {
    "collapsed": false
   },
   "outputs": [
    {
     "name": "stdout",
     "output_type": "stream",
     "text": [
      "0.0001 0.632007233273\n",
      "0.001 0.632007233273\n",
      "0.01 0.632007233273\n",
      "0.1 0.632007233273\n",
      "1.0 0.632368896926\n",
      "10.0"
     ]
    }
   ],
   "source": [
    "from sklearn import svm\n",
    "c = 0.001\n",
    "\n",
    "coefs = [0.01, 0.1, 1.0, 10.0, 100.0, 1000.0, 10000.0]\n",
    "res = []\n",
    "for c in coefs:\n",
    "    scores = []\n",
    "    for train_index, test_index in kf:\n",
    "        clf = svm.SVC(kernel='linear', C=c)\n",
    "        x_train, x_test = data.ix[train_index], data.ix[test_index]\n",
    "        y_train, y_test = target.ix[train_index], target.ix[test_index]\n",
    "        clf.fit(x_train, y_train)    \n",
    "        scores.append(clf.score(x_test, y_test))\n",
    "    print(c, np.mean(scores))"
   ]
  },
  {
   "cell_type": "code",
   "execution_count": 24,
   "metadata": {
    "collapsed": false
   },
   "outputs": [
    {
     "name": "stdout",
     "output_type": "stream",
     "text": [
      "10 0.641952983725\n",
      "100 0.652622061483\n",
      "500 0.652079566004\n",
      "1000 0.651717902351\n",
      "2000 0.64972875226\n"
     ]
    }
   ],
   "source": [
    "from sklearn import neighbors\n",
    "c = 0.001\n",
    "\n",
    "n_neighbors = [10, 100, 500, 1000, 2000]\n",
    "res = []\n",
    "for n in n_neighbors:\n",
    "    scores = []\n",
    "    weights = 'distance'    \n",
    "    for train_index, test_index in kf:        \n",
    "        clf = neighbors.KNeighborsClassifier(n, weights, algorithm='auto')\n",
    "        x_train, x_test = data.ix[train_index], data.ix[test_index]\n",
    "        y_train, y_test = target.ix[train_index], target.ix[test_index]\n",
    "        clf.fit(x_train, y_train)    \n",
    "        scores.append(clf.score(x_test, y_test))\n",
    "    print(n, np.mean(scores))"
   ]
  },
  {
   "cell_type": "code",
   "execution_count": null,
   "metadata": {
    "collapsed": true
   },
   "outputs": [],
   "source": []
  }
 ],
 "metadata": {
  "kernelspec": {
   "display_name": "Python 3",
   "language": "python",
   "name": "python3"
  },
  "language_info": {
   "codemirror_mode": {
    "name": "ipython",
    "version": 3
   },
   "file_extension": ".py",
   "mimetype": "text/x-python",
   "name": "python",
   "nbconvert_exporter": "python",
   "pygments_lexer": "ipython3",
   "version": "3.5.1"
  }
 },
 "nbformat": 4,
 "nbformat_minor": 0
}
