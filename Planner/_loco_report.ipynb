{
 "cells": [
  {
   "cell_type": "markdown",
   "metadata": {},
   "source": [
    "<a id='toc'></a>\n",
    "# Список тестов по запланированным локомотивам:"
   ]
  },
  {
   "cell_type": "markdown",
   "metadata": {},
   "source": [
    "1. [Вычисление процента подвязки поездов и локомотивов.](#perc)\n",
    "2. [Проверка правильности назначениях тяговых плеч локомотивам во входных данных.](#regions)\n",
    "   1. [Проверка назначения тяговых плеч локомотивам в соответствии с сериями](#correct_reg_ser)\n",
    "   2. [Проверка невыезда локомотива за пределы своих тяговых плеч в процессе планирования](#correct_reg_plan)\n",
    "   3. [Локомотивы на чужих тяговых плечах на начало планирования](#bad_regs_loco_info)\n",
    "3. [Проверка пунктов проведения ТО-2.](#st_to2)\n",
    "4. [Проверка подвязки на соответствие весовым нормам.](#tonnage)\n",
    "5. [Проверка смен локомотива на станциях обязательной смены.](#change)\n",
    "6. [Анализ локомотивов резервом.](#res)\n",
    "   1. [Проверка номеров поездов, соответствующих локомотивам резервом.](#res_nums)\n",
    "   2. [Вычисление количества локомотивов резервом по направлениям.](#res_amount)\n",
    "   3. [Проверка отправления локомотивов резервом до начала планирования.](#res_before)\n",
    "   4. [Анализ отправления локомотивов резервом в четную сторону.](#res_even)\n",
    "7. [Проверка скачков по времени назад](#time_leaps)\n",
    "7. [Создание отчета](#report)"
   ]
  },
  {
   "cell_type": "markdown",
   "metadata": {},
   "source": [
    "### Константы и настройки"
   ]
  },
  {
   "cell_type": "code",
   "execution_count": 1,
   "metadata": {
    "collapsed": true
   },
   "outputs": [],
   "source": [
    "report = ''\n",
    "FOLDER = 'resources/'\n",
    "REPORT_FOLDER = 'report/'\n",
    "PRINT = True"
   ]
  },
  {
   "cell_type": "markdown",
   "metadata": {},
   "source": [
    "### Функции для экспорта в HTML"
   ]
  },
  {
   "cell_type": "code",
   "execution_count": 2,
   "metadata": {
    "collapsed": false
   },
   "outputs": [],
   "source": [
    "def add_line(line, p=PRINT):    \n",
    "    global report        \n",
    "    if p:        \n",
    "        if type(line) == str:\n",
    "            print(line)        \n",
    "        elif type(line) == pd.core.frame.DataFrame:\n",
    "            print(line.to_string(index=False))\n",
    "        elif type(line) == pd.core.series.Series:\n",
    "            print(line.to_string())\n",
    "    if type(line) == pd.core.frame.DataFrame:        \n",
    "        report += ('%s<br>' % line.to_html(index=False))\n",
    "    elif type(line) == pd.core.series.Series:\n",
    "        report += ('%s<br>' % line.to_frame().reset_index().to_html(index=False))\n",
    "    else:                \n",
    "        report += ('%s<br>' % line)\n",
    "    \n",
    "def add_header(header, h=4, p=PRINT):\n",
    "    global report    \n",
    "    report += ('<h%d>%s</h%d>' % (h, header, h))    \n",
    "    if p:\n",
    "        print(header)\n",
    "        \n",
    "def add_image(filename):\n",
    "    global report\n",
    "    report += ('<img src=\"%s\" alt=\"%s\" height=\"40%%\">' % (filename, filename))\n",
    "\n",
    "def create_report(filename):\n",
    "    global report\n",
    "    report = report.replace('<table border=\"1\" class=\"dataframe\">','<table class=\"table table-striped\">')\n",
    "    html_string = '''\n",
    "        <html>\n",
    "            <head>\n",
    "                <link rel=\"stylesheet\" href=\"skeleton.css\">\n",
    "                <style>body{ margin:20 20; background:whitesmoke; }\n",
    "                table {table-layout : fixed}\n",
    "                </style>\n",
    "            </head>\n",
    "            <body>\n",
    "                <h1>Проверки по локомотивам</h1>        \n",
    "                %s\n",
    "            </body>\n",
    "        </html>''' % (report)\n",
    "    f = open(filename,'w', encoding='utf-8-sig')\n",
    "    f.write(html_string)\n",
    "    f.close()\n",
    "    print('Отчет сформирован за %.2f сек. и записан в файл %s' % (time.time() - start_time, filename))"
   ]
  },
  {
   "cell_type": "markdown",
   "metadata": {},
   "source": [
    "## Загрузка и подготовка данных"
   ]
  },
  {
   "cell_type": "code",
   "execution_count": 3,
   "metadata": {
    "collapsed": false
   },
   "outputs": [
    {
     "name": "stdout",
     "output_type": "stream",
     "text": [
      "Log time: 1465472474, Thu Jun  9 14:41:14 2016\n",
      "Read csvs: 0.84 sec\n"
     ]
    }
   ],
   "source": [
    "import numpy as np\n",
    "import pandas as pd\n",
    "import time, datetime\n",
    "from ast import literal_eval\n",
    "import matplotlib.pyplot as plt\n",
    "import seaborn as sns\n",
    "from IPython import get_ipython\n",
    "\n",
    "%matplotlib inline\n",
    "plt.style.use('fivethirtyeight')\n",
    "plt.rc('font', family='Times New Roman')\n",
    "\n",
    "pd.set_option('max_rows', 50)\n",
    "pd.set_option('display.max_colwidth', 25)\n",
    "\n",
    "time_format = '%b %d, %H:%M'\n",
    "\n",
    "start_time = time.time()\n",
    "current_time   = pd.read_csv(FOLDER + 'current_time.csv').current_time[0]\n",
    "twr            = pd.read_csv(FOLDER + 'team_work_region.csv', converters={'team_work_region':str})\n",
    "links          = pd.read_csv(FOLDER + 'link.csv', converters={'st_from':str, 'st_to':str})\n",
    "stations       = pd.read_csv(FOLDER + 'station.csv', converters={'station':str})\n",
    "train_info     = pd.read_csv(FOLDER + 'train_info.csv', converters={'train': str, 'st_from':str, 'st_to':str})\n",
    "train_plan     = pd.read_csv(FOLDER + 'slot_train.csv', converters={'train': str, 'st_from':str, 'st_to':str})\n",
    "loco_info      = pd.read_csv(FOLDER + 'loco_attributes.csv', converters={'train':str, 'loco':str, \n",
    "                                                                   'st_from':str, 'st_to':str, 'depot':str})\n",
    "loco_plan      = pd.read_csv(FOLDER + 'slot_loco.csv', converters={'train':str, 'loco':str, 'st_from':str, 'st_to':str})\n",
    "team_info      = pd.read_csv(FOLDER + 'team_attributes.csv', converters={'team':str,'depot':str, 'oper_location':str, \\\n",
    "                                                     'st_from':str, 'st_to':str, 'loco':str, 'depot_st':str})\n",
    "\n",
    "team_plan      = pd.read_csv(FOLDER + 'slot_team.csv', converters={'team':str,'loco':str, 'st_from':str, 'st_to':str})\n",
    "loco_series    = pd.read_csv(FOLDER + 'loco_series.csv')\n",
    "loco_info_regs = pd.read_csv(FOLDER + 'loco_info_regs.csv', converters={'loco':str})\n",
    "loco_tonnage   = pd.read_csv(FOLDER + 'loco_tonnage.csv', converters={'st_from':str, 'st_to':str})\n",
    "\n",
    "st_names = stations[['station', 'name', 'esr']].drop_duplicates().set_index('station')\n",
    "team_info.regions = team_info.regions.apply(literal_eval)\n",
    "\n",
    "print('Log time: %d, %s' % (current_time, time.ctime(current_time)))\n",
    "print('Read csvs:', np.round(time.time() - start_time, 2), 'sec')"
   ]
  },
  {
   "cell_type": "code",
   "execution_count": 4,
   "metadata": {
    "collapsed": true
   },
   "outputs": [],
   "source": [
    "# Мержим таблицы _plan и _info для поездов, локомотивов и бригад\n",
    "# Добавляем во все таблицы названия станций на маршруте и времена отправления/прибытия в читабельном формате\n",
    "\n",
    "def add_info(df):    \n",
    "    if 'st_from' in df.columns:\n",
    "        df['st_from_name'] = df.st_from.map(st_names.name)\n",
    "    if 'st_to' in df.columns:\n",
    "        df['st_to_name'] = df.st_to.map(st_names.name)\n",
    "    if 'time_start' in df.columns:\n",
    "        df['time_start_norm'] = df.time_start.apply(lambda x: time.strftime(time_format, time.localtime(x)))\n",
    "    if 'time_end' in df.columns:\n",
    "        df['time_end_norm'] = df.time_end.apply(lambda x: time.strftime(time_format, time.localtime(x)))\n",
    "    if 'oper_location' in df.columns:\n",
    "        df['oper_location_name'] = df.oper_location.map(st_names.name)    \n",
    "        df.oper_location_name.fillna(0, inplace=True)\n",
    "    if ('oper_location' in df.columns) & ('st_from' in df.columns) & ('st_to' in df.columns):        \n",
    "        df['loc_name'] = df.oper_location_name\n",
    "        df.loc[df.loc_name == 0, 'loc_name'] = df.st_from_name + ' - ' + df.st_to_name\n",
    "    \n",
    "add_info(train_plan)\n",
    "add_info(loco_plan)\n",
    "add_info(team_plan)\n",
    "add_info(loco_info)\n",
    "add_info(team_info)\n",
    "train_plan = train_plan.merge(train_info, on='train', suffixes=('', '_info'), how='left')\n",
    "loco_plan = loco_plan.merge(loco_info, on='loco', suffixes=('', '_info'), how='left')\n",
    "team_plan = team_plan.merge(team_info, on='team', suffixes=('', '_info'), how='left')"
   ]
  },
  {
   "cell_type": "code",
   "execution_count": 5,
   "metadata": {
    "collapsed": false
   },
   "outputs": [],
   "source": [
    "# Добавляем ссылку на бригаду в таблицу локомотивов\n",
    "# Добавляем ссылку на локомотив и бригаду в таблицу поездов\n",
    "\n",
    "loco_plan['loco_time'] = list(zip(loco_plan.loco , loco_plan.time_start))\n",
    "team_plan['loco_time'] = list(zip(team_plan.loco , team_plan.time_start))\n",
    "loco_plan['team'] = loco_plan.loco_time.map(team_plan.drop_duplicates('loco_time').set_index('loco_time').team)\n",
    "\n",
    "loco_plan['train_time'] = list(zip(loco_plan.train, loco_plan.time_start))\n",
    "train_plan['train_time'] = list(zip(train_plan.train, train_plan.time_start))\n",
    "train_plan['loco'] = train_plan.train_time.map(loco_plan.drop_duplicates('train_time').set_index('train_time').loco)\n",
    "train_plan['team'] = train_plan.train_time.map(loco_plan.drop_duplicates('train_time').set_index('train_time').team)\n",
    "\n",
    "add_info(loco_tonnage)\n",
    "loco_tonnage['link'] = list(zip(loco_tonnage.st_from, loco_tonnage.st_to))\n",
    "loco_tonnage['ssl'] = list(zip(loco_tonnage.series, loco_tonnage.sections, loco_tonnage.link))\n",
    "loco_tonnage['ser_name'] = loco_tonnage.series.map(loco_series.set_index('ser_id').ser_name)"
   ]
  },
  {
   "cell_type": "markdown",
   "metadata": {},
   "source": [
    "<a =id='perc'></a>\n",
    "## Вычисление процента подвязки поездов и локомотивов [ToC](#toc)"
   ]
  },
  {
   "cell_type": "code",
   "execution_count": 6,
   "metadata": {
    "collapsed": false
   },
   "outputs": [
    {
     "name": "stdout",
     "output_type": "stream",
     "text": [
      "Процент подвязки поездов и локомотивов на горизонте в  6 часов: 94.87% (поездов без локомотива - 220)\n",
      "Процент подвязки поездов и локомотивов на горизонте в 12 часов: 92.33% (поездов без локомотива - 329)\n",
      "Процент подвязки поездов и локомотивов на горизонте в 24 часов: 88.00% (поездов без локомотива - 515)\n",
      "Процент подвязки поездов и локомотивов на горизонте в 48 часов: 82.35% (поездов без локомотива - 757)\n"
     ]
    }
   ],
   "source": [
    "def count_assign_percent(horizon):\n",
    "    mask = (train_plan.time_start < current_time + horizon)\n",
    "    bad_trains = train_plan.loc[mask & (train_plan.loco.isnull())]\n",
    "    bad_trains_n = bad_trains.drop_duplicates('train').train.count()\n",
    "    good_percent = 100 * (1 - bad_trains_n / total_trains_n)        \n",
    "    return 'Процент подвязки поездов и локомотивов на горизонте в %2.d часов: %.2f%% (поездов без локомотива - %d)'\\\n",
    "         % (horizon / 3600, good_percent, bad_trains_n)\n",
    "\n",
    "train_plan['train_type'] = train_plan.train.apply(lambda x: int(str(x)[0]))\n",
    "total_trains_n = train_plan[train_plan.train_type.isin([2, 9])].drop_duplicates('train').train.count()\n",
    "add_header('Вычисление процента подвязки поездов и локомотивов', p=False, h=2)\n",
    "add_line(count_assign_percent(6 * 3600))\n",
    "add_line(count_assign_percent(12 * 3600))\n",
    "add_line(count_assign_percent(24 * 3600))\n",
    "add_line(count_assign_percent(48 * 3600))"
   ]
  },
  {
   "cell_type": "code",
   "execution_count": 7,
   "metadata": {
    "collapsed": false
   },
   "outputs": [
    {
     "name": "stdout",
     "output_type": "stream",
     "text": [
      "Направления, на которые не удалось подвязать локомотив под поезд (первые 10 по количеству поездов):\n",
      "st_from_name                        st_to_name \n",
      "ТАЙШЕТ                              БАЙРОНОВКА     17\n",
      "ЗАБАЙКАЛЬСК                         ХАРАНОР        17\n",
      "УССУРИЙСК                           БАРАНОВСКИЙ    14\n",
      "МАРИИНСК                            БОГОТОЛ        13\n",
      "ТЫНДА                               ШАХТАУМ        10\n",
      "НАХОДКА                             КУЗНЕЦОВО      10\n",
      "ТАЙШЕТ                              ТОРЕЯ           9\n",
      "КОМСОМОЛЬСК-НА-АМУРЕ-СОРТИРОВОЧНЫЙ  МЫЛКИ           9\n",
      "НОВЫЙ УРГАЛ                         УРГАЛ I         8\n",
      "ТАКСИМО                             КУАНДА          7\n"
     ]
    }
   ],
   "source": [
    "a = train_plan[(train_plan.time_start < current_time + 24 * 3600) & (train_plan.loco.isnull())]\\\n",
    "    .drop_duplicates('train')\\\n",
    "    .groupby(['st_from_name', 'st_to_name']).train\\\n",
    "    .count().sort_values(ascending=False)\n",
    "add_header('Направления, на которые не удалось подвязать локомотив под поезд (первые 10 по количеству поездов):')\n",
    "add_line(a.head(10))\n",
    "a.to_csv('a.csv')"
   ]
  },
  {
   "cell_type": "code",
   "execution_count": 8,
   "metadata": {
    "collapsed": false
   },
   "outputs": [
    {
     "name": "stdout",
     "output_type": "stream",
     "text": [
      "Поезда со станции ТАЙШЕТ, к которым не были подвязаны локомотивы\n",
      "        train  weight st_from_name  st_to_name       st_dest_name time_start_norm loco ser_name  sections\n",
      " 220200275273    6020       ТАЙШЕТ  БАЙРОНОВКА  НАХОДКА-ВОСТОЧНАЯ   Jun 09, 14:41  NaN      NaN       NaN\n",
      " 220200058589    5981       ТАЙШЕТ  БАЙРОНОВКА  НАХОДКА-ВОСТОЧНАЯ   Jun 09, 14:41  NaN      NaN       NaN\n",
      " 220200265386    5992       ТАЙШЕТ  БАЙРОНОВКА             ВАНИНО   Jun 09, 14:41  NaN      NaN       NaN\n",
      " 220200704735    6028       ТАЙШЕТ  БАЙРОНОВКА           ГВОЗДЕВО   Jun 09, 14:41  NaN      NaN       NaN\n",
      " 220201205815    6017       ТАЙШЕТ       ТОРЕЯ             ДЗЕМГИ   Jun 09, 14:41  NaN      NaN       NaN\n",
      " 220200318629    5965       ТАЙШЕТ  БАЙРОНОВКА             ВАНИНО   Jun 09, 14:41  NaN      NaN       NaN\n",
      " 210208176776    5989       ТАЙШЕТ  БАЙРОНОВКА             ВАНИНО   Jun 09, 14:41  NaN      NaN       NaN\n",
      " 210211642434    5979       ТАЙШЕТ       ТОРЕЯ               ЛЕНА   Jun 09, 17:40  NaN      NaN       NaN\n",
      " 220201247181    5969       ТАЙШЕТ       ТОРЕЯ             ДЗЕМГИ   Jun 09, 17:41  NaN      NaN       NaN\n",
      " 220200405644    5941       ТАЙШЕТ  БАЙРОНОВКА            РЫБНИКИ   Jun 09, 17:41  NaN      NaN       NaN\n",
      " 220201274457    4191       ТАЙШЕТ       ТОРЕЯ               ЛЕНА   Jun 09, 18:20  NaN      NaN       NaN\n",
      " 220200396571    5989       ТАЙШЕТ  БАЙРОНОВКА             ВАНИНО   Jun 09, 18:50  NaN      NaN       NaN\n",
      " 220201350963    5861       ТАЙШЕТ       ТОРЕЯ          БАГУЛЬНАЯ   Jun 09, 19:30  NaN      NaN       NaN\n",
      " 220200394067    5979       ТАЙШЕТ  БАЙРОНОВКА      МЫС АСТАФЬЕВА   Jun 09, 20:55  NaN      NaN       NaN\n",
      " 220200365184    5917       ТАЙШЕТ  БАЙРОНОВКА             ВАНИНО   Jun 09, 21:00  NaN      NaN       NaN\n",
      " 220200622364    5882       ТАЙШЕТ  БАЙРОНОВКА  НАХОДКА-ВОСТОЧНАЯ   Jun 09, 21:20  NaN      NaN       NaN\n",
      " 220200587230    5915       ТАЙШЕТ  БАЙРОНОВКА             ВАНИНО   Jun 09, 21:30  NaN      NaN       NaN\n",
      " 220200388082    5983       ТАЙШЕТ  БАЙРОНОВКА  НАХОДКА-ВОСТОЧНАЯ   Jun 09, 21:35  NaN      NaN       NaN\n",
      " 210209351159    6000       ТАЙШЕТ  БАЙРОНОВКА  НАХОДКА-ВОСТОЧНАЯ   Jun 09, 23:15  NaN      NaN       NaN\n",
      " 220200655762    6020       ТАЙШЕТ  БАЙРОНОВКА           ГВОЗДЕВО   Jun 09, 23:55  NaN      NaN       NaN\n",
      " 210211663724    5972       ТАЙШЕТ        ЮРТЫ           МАРИИНСК   Jun 10, 07:32  NaN      NaN       NaN\n",
      " 220200335452    6028       ТАЙШЕТ  БАЙРОНОВКА  НАХОДКА-ВОСТОЧНАЯ   Jun 10, 07:54  NaN      NaN       NaN\n",
      " 220200445081    5963       ТАЙШЕТ  БАЙРОНОВКА            НАХОДКА   Jun 10, 08:09  NaN      NaN       NaN\n",
      " 210209383157    5982       ТАЙШЕТ  БАЙРОНОВКА  НАХОДКА-ВОСТОЧНАЯ   Jun 10, 10:50  NaN      NaN       NaN\n",
      " 210211649605    5947       ТАЙШЕТ  БАЙРОНОВКА  НАХОДКА-ВОСТОЧНАЯ   Jun 10, 13:50  NaN      NaN       NaN\n",
      " 220201224159    6025       ТАЙШЕТ  БАЙРОНОВКА           ГВОЗДЕВО   Jun 10, 14:10  NaN      NaN       NaN\n",
      " 220200814701    6011       ТАЙШЕТ  БАЙРОНОВКА            НАХОДКА   Jun 10, 14:30  NaN      NaN       NaN\n",
      " 220200750145     288       ТАЙШЕТ       ТОРЕЯ          ВИХОРЕВКА   Jun 10, 14:35  NaN      NaN       NaN\n",
      " 220200819783    5978       ТАЙШЕТ  БАЙРОНОВКА             ВАНИНО   Jun 10, 14:40  NaN      NaN       NaN\n"
     ]
    }
   ],
   "source": [
    "(st_name, st2_name) = a.index[0]\n",
    "train_cols = ['train', 'weight', 'st_from_name', 'st_to_name', 'st_dest_name', 'time_start_norm', 'time_end_norm', 'loco', 'team']\n",
    "cols = ['train', 'weight', 'st_from_name', 'st_to_name', 'st_dest_name', 'time_start_norm', 'loco', 'ser_name', 'sections']\n",
    "routes = pd.read_csv(FOLDER + 'routes.csv', converters={'st_from':str, 'st_to':str, 'train':str})\n",
    "add_info(routes)\n",
    "routes['end'] = routes.train != routes.train.shift(-1)\n",
    "train_plan['st_dest_name'] = train_plan.train.map(routes[routes.end].set_index('train').st_to_name)\n",
    "loco_info['ser_name'] = loco_info.series.map(loco_series.set_index('ser_id').ser_name)\n",
    "train_plan['ser_name'] = train_plan.loco.map(loco_info.set_index('loco').ser_name)\n",
    "train_plan['sections'] = train_plan.loco.map(loco_info.set_index('loco').sections)\n",
    "a = train_plan[(train_plan.time_start < current_time + 24 * 3600) \n",
    "               & (train_plan.loco.isnull())\n",
    "               & (train_plan.st_dest_name.isnull() == False)\n",
    "               & (train_plan.st_from_name == st_name)].drop_duplicates('train')\n",
    "add_header('Поезда со станции %s, к которым не были подвязаны локомотивы' % st_name)\n",
    "add_line(a.sort_values('time_start')[cols])"
   ]
  },
  {
   "cell_type": "code",
   "execution_count": 9,
   "metadata": {
    "collapsed": false
   },
   "outputs": [
    {
     "data": {
      "text/plain": [
       "Series([], Name: max_weight, dtype: float64)"
      ]
     },
     "execution_count": 9,
     "metadata": {},
     "output_type": "execute_result"
    }
   ],
   "source": [
    "a[a.weight != 0][cols].sort_values('weight')\n",
    "st2 = 'ХАБАРОВСК II'\n",
    "st1 = 'КАРЫМСКАЯ'\n",
    "train_id = '200248755762'\n",
    "train_plan['link'] = list(zip(train_plan.st_from, train_plan.st_to))\n",
    "route = train_plan[(train_plan.train == train_id) & (train_plan.loco.isnull())].link\n",
    "ton_cols = ['ser_name', 'sections', 'st_from_name', 'st_to_name', 'max_weight']\n",
    "loco_tonnage[(loco_tonnage.link.isin(route)) & (loco_tonnage.ser_name == '3ЭС5К')][ton_cols].groupby(['st_from_name', 'st_to_name', 'sections']).max_weight.unique()"
   ]
  },
  {
   "cell_type": "markdown",
   "metadata": {},
   "source": [
    "<a =id='regions'></a>\n",
    "## Проверка наличия локомотивов только на своих тяговых плечах [ToC](#toc)"
   ]
  },
  {
   "cell_type": "code",
   "execution_count": 10,
   "metadata": {
    "collapsed": false
   },
   "outputs": [],
   "source": [
    "add_header('Проверка наличия локомотивов только на своих тяговых плечах', h=2, p=False)"
   ]
  },
  {
   "cell_type": "markdown",
   "metadata": {},
   "source": [
    "<a id='correct_reg_ser'></a>\n",
    "### Проверка назначения тяговых плеч локомотивам в соответствии с сериями [ToC](#toc)"
   ]
  },
  {
   "cell_type": "code",
   "execution_count": 11,
   "metadata": {
    "collapsed": true
   },
   "outputs": [],
   "source": [
    "add_header('Проверка назначения тяговых плеч локомотивам в соответствии с сериями', h=3, p=False)"
   ]
  },
  {
   "cell_type": "code",
   "execution_count": 12,
   "metadata": {
    "collapsed": false
   },
   "outputs": [
    {
     "name": "stdout",
     "output_type": "stream",
     "text": [
      "                                                  short_name\n",
      "loco_region                                                 \n",
      "2002119282                                    [АБАЗА, АСКИЗ]\n",
      "2002119284                               [АБАКАН, АЧИНСК II]\n",
      "2002119286                           [АЧИНСК I, ЛЕСОСИБИРСК]\n",
      "2002119287                         [БЕЛОГОРСК, БЛАГОВЕЩЕНСК]\n",
      "2002119288                              [БОРЗЯ, ЗАБАЙКАЛЬСК]\n",
      "2002119290                         [ПОЯРКОВО, ХОЛОДНЫЙ КЛЮЧ]\n",
      "2002119292                        [ГРОДЕКОВО (КИТАЙ), ХАСАН]\n",
      "2002119294                         [КАРЫМСКАЯ, ХАБАРОВСК II]\n",
      "2002119296   [КОМСОМОЛЬСК-НА-АМУРЕ, СОВЕТСКАЯ ГАВАНЬ- ГОРОД]\n",
      "2002119297                                                []\n",
      "2002119299                                 [БОРЗЯ, МАРИИНСК]\n",
      "2002119301                           [МЕЖДУРЕЧЕНСК, ТАКСИМО]\n",
      "2002119303                                  [ТАКСИМО, ТЫНДА]\n",
      "2002119305                        [ИЗВЕСТКОВАЯ, НОВЫЙ УРГАЛ]\n",
      "2002119307                   [КОМСОМОЛЬСК-НА-АМУРЕ, ТАКСИМО]\n",
      "2002119308                                [КАРАБУЛА, РЕШОТЫ]\n",
      "2002119310                     [НОВОКАЧАЛИНСК, НОВОЧУГУЕВКА]\n",
      "2002119312                  [НАХОДКА-ВОСТОЧНАЯ, СМОЛЯНИНОВО]\n",
      "2002119314                                                []\n",
      "2002119316                                                []\n",
      "2002119317                              [СКОВОРОДИНО, ТЫНДА]\n",
      "2002119318                                [НАУШКИ, УЛАН-УДЭ]\n",
      "2002119320                       [СМОЛЯНИНОВО, ХАБАРОВСК II]\n",
      "2002119322                                        [МАРИИНСК]\n",
      "2002119323                                                []\n"
     ]
    }
   ],
   "source": [
    "def func(df, stations, st):    \n",
    "    a = links.loc[(links.st_from_name.isin(st))].st_from_name.value_counts()\n",
    "    b = links.loc[(links.st_from_name.isin(st)) & (links.st_to_name.isin(st))].st_from_name.value_counts()\n",
    "    c = a.to_frame().join(b, rsuffix='_reg')\n",
    "    c['delta'] = c.st_from_name - c.st_from_name_reg    \n",
    "    d = c.join(stations[['name', 'norm_time']].drop_duplicates().set_index('name'), how='right')\n",
    "    e = d.loc[((d.delta > 0) | (d.st_from_name == 1))]\n",
    "    return sorted(e.index.values)\n",
    "\n",
    "add_info(links)\n",
    "loco_info['regions_eval'] = loco_info.regions.apply(literal_eval)\n",
    "stations_regs = stations.groupby('station').loco_region.apply(lambda x: x.values)\n",
    "loco_info['ser_name'] = loco_info.series.map(loco_series.set_index('ser_id').ser_name)\n",
    "reg_st = stations.groupby('loco_region')['name'].unique().to_frame()\n",
    "reg_st['short_name'] = reg_st['name'].apply(lambda x: func(links, stations, x))\n",
    "reg_st.columns = ['stations', 'reg_name']\n",
    "reg_borders = pd.read_csv(FOLDER + 'loco_reg_borders.csv', encoding='utf-8-sig')\n",
    "bord = reg_borders.station.values\n",
    "reg_st['short_name'] = reg_st.reg_name.apply(lambda x: np.intersect1d(x, bord) if len(np.intersect1d(x, bord)) > 1 else [])\n",
    "big_borders = ['МАРИИНСК', 'БОРЗЯ', 'КАРЫМСКАЯ', 'ХАБАРОВСК II', 'МЕЖДУРЕЧЕНСК', 'ТАКСИМО', 'КОМСОМОЛЬСК-НА-АМУРЕ']\n",
    "reg_st['short_name'] = reg_st.short_name.apply(lambda x: np.intersect1d(x, big_borders) if len(x) > 2 else x)\n",
    "pd.set_option('display.max_colwidth', 60)\n",
    "print(reg_st[['short_name']].to_string())\n",
    "#reg_st.ix[2002119307].reg_name"
   ]
  },
  {
   "cell_type": "code",
   "execution_count": 13,
   "metadata": {
    "collapsed": false
   },
   "outputs": [
    {
     "name": "stdout",
     "output_type": "stream",
     "text": [
      "Total locos: 1584\n",
      "Freight locos: 1459\n",
      "Locos of type = 1: 1396\n",
      "     region                             reg_name_str                                 ser_name      ser_type  loco\n",
      " 2002119299                     ['БОРЗЯ' 'МАРИИНСК']  [ВЛ85, ВЛ80Р, ВЛ80С, 2ЭС5К, 3ЭС5К, В...  [Электровоз]   507\n",
      " 2002119294             ['КАРЫМСКАЯ' 'ХАБАРОВСК II']                    [3ЭС5К, ВЛ80С, 2ЭС5К]  [Электровоз]   466\n",
      " 2002119320           ['СМОЛЯНИНОВО' 'ХАБАРОВСК II']                    [ВЛ80С, 3ЭС5К, 2ЭС5К]  [Электровоз]   197\n",
      " 2002119301               ['МЕЖДУРЕЧЕНСК' 'ТАКСИМО']     [ВЛ80ТК, 2ЭС5К, 3ЭС5К, ВЛ80С, ВЛ80Т]  [Электровоз]   170\n",
      " 2002119296  ['КОМСОМОЛЬСК-НА-АМУРЕ' 'СОВЕТСКАЯ Г...  [3ТЭ10МК, 2ТЭ10М, 2ТЭ10МК, 3ТЭ10УК, ...    [Тепловоз]    89\n",
      " 2002119305            ['ИЗВЕСТКОВАЯ' 'НОВЫЙ УРГАЛ']  [3ТЭ10МК, 2ТЭ10МК, 2ТЭ10М, 3ТЭ10УК, ...    [Тепловоз]    59\n",
      " 2002119317                  ['СКОВОРОДИНО' 'ТЫНДА']  [3ТЭ10МК, 2ТЭ25А, 2ТЭ10МК, 2ТЭ10М, 2...    [Тепловоз]    59\n",
      " 2002119312      ['НАХОДКА-ВОСТОЧНАЯ' 'СМОЛЯНИНОВО']                           [2ЭС5К, 3ЭС5К]  [Электровоз]    47\n",
      " 2002119303                      ['ТАКСИМО' 'ТЫНДА']               [2ТЭ25А, 2ТЭ10МК, 2ТЭ10УК]    [Тепловоз]    46\n",
      " 2002119288                  ['БОРЗЯ' 'ЗАБАЙКАЛЬСК']  [3ТЭ10УК, 2ТЭ10В, 2ТЭ10М, 3ТЭ10МК, 2...    [Тепловоз]    17\n",
      " 2002119292            ['ГРОДЕКОВО (КИТАЙ)' 'ХАСАН']      [2ТЭ10МК, 2ТЭ10УК, 3ТЭ10МК, 3ТЭ10М]    [Тепловоз]    15\n",
      " 2002119286               ['АЧИНСК I' 'ЛЕСОСИБИРСК']                         [2ТЭ10У, 2ТЭ10М]    [Тепловоз]    14\n",
      " 2002119318                    ['НАУШКИ' 'УЛАН-УДЭ']                [2ТЭ10М, 2ТЭ10МК, 2ТЭ10У]    [Тепловоз]     7\n",
      " 2002119310         ['НОВОКАЧАЛИНСК' 'НОВОЧУГУЕВКА']                [2ТЭ10МК, 2ТЭ10М, 2ТЭ10У]    [Тепловоз]     6\n",
      " 2002119308                    ['КАРАБУЛА' 'РЕШОТЫ']                         [2ТЭ10М, 2ТЭ10У]    [Тепловоз]     3\n"
     ]
    }
   ],
   "source": [
    "def save_to_excel(df, filename=FOLDER + 'reg_ser.xlsx'):    \n",
    "    df.to_excel(filename)\n",
    "    print('Excel file %s created' % filename)\n",
    "\n",
    "loco_info['ser_name'] = loco_info.series.map(loco_series.set_index('ser_id').ser_name)\n",
    "loco_info['ser_desc'] = loco_info.series.map(loco_series.set_index('ser_id').ser_desc)\n",
    "loco_info['ser_type'] = loco_info.series.map(loco_series.set_index('ser_id').ser_type)\n",
    "loco_info_regs['number'] = loco_info.loco.map(loco_info.drop_duplicates('loco').set_index('loco').number)\n",
    "loco_info_regs['reg_name'] = loco_info_regs.region.map(reg_st.short_name)\n",
    "loco_info_regs['ser_name'] = loco_info_regs.loco.map(loco_info.set_index('loco').ser_name)\n",
    "loco_info_regs['ser_type'] = loco_info_regs.loco.map(loco_info.set_index('loco').ser_type)\n",
    "loco_info_regs['reg_name_str'] = loco_info_regs.reg_name.apply(str)\n",
    "loco_info_regs['ltype'] = loco_info_regs.loco.map(loco_info.set_index('loco').ltype)\n",
    "loco_info_regs.sort_values(['ser_name', 'reg_name_str'])[['loco', 'ser_name', 'reg_name']].set_index('loco')\\\n",
    "                .to_excel(FOLDER + 'ans.xlsx')\n",
    "a = loco_info_regs.groupby('reg_name_str').ser_name.unique()\n",
    "loco_info_regs['ser_desc'] = loco_info_regs.ser_name.map(loco_series.drop_duplicates('ser_name').set_index('ser_name').ser_desc)\n",
    "a = loco_info_regs.loc[(loco_info_regs.ltype == 1) & (loco_info_regs.ser_desc.isin(['Грузовое', 'Грузопассажирское']))]\\\n",
    "            .groupby(['region', 'reg_name_str']).ser_name.unique().to_frame()\n",
    "b = loco_info_regs.loc[(loco_info_regs.ltype == 1) & (loco_info_regs.ser_desc.isin(['Грузовое', 'Грузопассажирское']))]\\\n",
    "            .groupby(['region', 'reg_name_str']).ser_type.unique().to_frame()\n",
    "c = a.join(b)\n",
    "d = c.join(loco_info_regs.loc[loco_info_regs.ltype == 1].groupby(['region', 'reg_name_str']).loco.count())\n",
    "print('Total locos:', loco_info.loco.drop_duplicates().count())\n",
    "print('Freight locos:', loco_info.loc[loco_info.ser_desc.isin(['Грузовое', 'Грузопассажирское'])].loco.drop_duplicates().count())\n",
    "print('Locos of type = 1:', loco_info[loco_info.ltype == 1].loco.drop_duplicates().count())\n",
    "pd.set_option('display.max_colwidth', 40)\n",
    "add_line(d.reset_index().sort_values('loco', ascending=False))\n",
    "#save_to_excel(d)"
   ]
  },
  {
   "cell_type": "code",
   "execution_count": 14,
   "metadata": {
    "collapsed": false
   },
   "outputs": [],
   "source": [
    "reg_ser = d.reset_index()[['region', 'ser_type']]"
   ]
  },
  {
   "cell_type": "markdown",
   "metadata": {},
   "source": [
    "<a id='correct_reg_plan'></a>\n",
    "### Проверка выезда локомотивов за пределы своих тяговых плеч [ToC](#toc)"
   ]
  },
  {
   "cell_type": "code",
   "execution_count": 15,
   "metadata": {
    "collapsed": true
   },
   "outputs": [],
   "source": [
    "add_header('Проверка выезда локомотивов за пределы своих тяговых плеч', h=3, p=False)"
   ]
  },
  {
   "cell_type": "markdown",
   "metadata": {},
   "source": [
    "#### Добавляем тяговое плечо в таблицу линков"
   ]
  },
  {
   "cell_type": "code",
   "execution_count": 16,
   "metadata": {
    "collapsed": false
   },
   "outputs": [],
   "source": [
    "stations['regions'] = stations.station.map(stations.groupby('station').loco_region.unique())\n",
    "stations_unique = stations.drop_duplicates('station').set_index('station')\n",
    "links['st_from_regs'] = links.st_from.map(stations_unique.regions)\n",
    "links['st_to_regs'] = links.st_to.map(stations_unique.regions)\n",
    "links['regs'] = links.st_from_regs.combine(links.st_to_regs, np.intersect1d)\n",
    "links['link'] = list(zip(links.st_from, links.st_to))\n",
    "regs = reg_st.reset_index()\n",
    "links['reg_name'] = links.regs.apply(lambda x: regs[regs.loco_region.isin(x)].short_name.values)"
   ]
  },
  {
   "cell_type": "markdown",
   "metadata": {},
   "source": [
    "#### Добавляем текущее тяговое плечо в каждый участок планов по локомотивам"
   ]
  },
  {
   "cell_type": "code",
   "execution_count": 17,
   "metadata": {
    "collapsed": false
   },
   "outputs": [],
   "source": [
    "loco_plan['curr_reg'] = loco_plan.link.map(links.drop_duplicates('link').set_index('link').regs)\n",
    "loco_plan['curr_reg_name'] = loco_plan.link.map(links.drop_duplicates('link').set_index('link').reg_name)\n",
    "loco_plan['regions'] = loco_plan.loco.map(loco_info.set_index('loco').regions_eval)\n",
    "loco_info['reg_names'] = loco_info.regions_eval.apply(lambda x: \\\n",
    "                                                      regs[regs.loco_region.isin([int(i) for i in x])].short_name.values)\n",
    "loco_plan['reg_names'] = loco_plan.loco.map(loco_info.set_index('loco').reg_names)"
   ]
  },
  {
   "cell_type": "markdown",
   "metadata": {},
   "source": [
    "#### Вычисляем, есть у локомотива текущее тяговое плечо в списке разрешенных"
   ]
  },
  {
   "cell_type": "code",
   "execution_count": 18,
   "metadata": {
    "collapsed": false
   },
   "outputs": [],
   "source": [
    "loco_plan['ok_reg'] = loco_plan.curr_reg.combine(loco_plan.regions, np.intersect1d).apply(len) > 0"
   ]
  },
  {
   "cell_type": "markdown",
   "metadata": {},
   "source": [
    "#### Вычисляем тяговое плечо на исходном местоположении локомотива"
   ]
  },
  {
   "cell_type": "code",
   "execution_count": 19,
   "metadata": {
    "collapsed": false
   },
   "outputs": [],
   "source": [
    "def get_current_region(row):\n",
    "    if row.st_from == '-1':        \n",
    "        a = links[links.st_from == row.oper_location].regs.values\n",
    "    else:\n",
    "        a = links[(links.st_from == row.st_from) & (links.st_to == row.st_to)].regs.values\n",
    "    return list(np.concatenate(a) if len(a) > 0 else [])\n",
    "        \n",
    "loco_info['location'] = list(zip(loco_info.oper_location, loco_info.st_from, loco_info.st_to))\n",
    "loco_info['curr_reg'] = loco_info.apply(lambda row: get_current_region(row), axis=1)"
   ]
  },
  {
   "cell_type": "markdown",
   "metadata": {},
   "source": [
    "#### Вычисляем, находится ли локомотив на своем тяговом плече на начало планирования"
   ]
  },
  {
   "cell_type": "code",
   "execution_count": 20,
   "metadata": {
    "collapsed": true
   },
   "outputs": [],
   "source": [
    "loco_info['ok_reg'] = loco_info.curr_reg.combine(loco_info.regions_eval, np.intersect1d).apply(len) > 0\n",
    "loco_plan['info_ok_reg'] = loco_plan.loco.map(loco_info.drop_duplicates('loco').set_index('loco').ok_reg)"
   ]
  },
  {
   "cell_type": "markdown",
   "metadata": {},
   "source": [
    "#### Составляем список локомотивов, выезжающих за пределы своих ТП в процессе планирования"
   ]
  },
  {
   "cell_type": "code",
   "execution_count": 21,
   "metadata": {
    "collapsed": false
   },
   "outputs": [
    {
     "name": "stdout",
     "output_type": "stream",
     "text": [
      "Всего 0 локомотивов, выезжающих за пределы своих тяговых плеч в процессе планирования:\n",
      "- 0 следуют резервом;\n",
      "- 0 с поездами.\n"
     ]
    }
   ],
   "source": [
    "loco_out_of_regs = loco_plan[(loco_plan.curr_reg_name.isnull() == False) \n",
    "                             & (loco_plan.ok_reg == False) & (loco_plan.info_ok_reg == True)]\n",
    "cols = ['loco', 'ser_name', 'reg_names', 'st_from_name', 'st_to_name', 'train', 'state', 'loc_name']\n",
    "add_line('Всего %d локомотивов, выезжающих за пределы своих тяговых плеч в процессе планирования:' \n",
    "           % loco_out_of_regs.loco.drop_duplicates().count())\n",
    "add_line('- %d следуют резервом;' % (loco_out_of_regs[loco_out_of_regs.state == 0].loco.drop_duplicates().count()))\n",
    "add_line('- %d с поездами.' % (loco_out_of_regs[loco_out_of_regs.state == 1].loco.drop_duplicates().count()))\n",
    "\n",
    "pd.set_option('display.max_colwidth', 40)\n",
    "states = sorted(loco_out_of_regs.state.unique())\n",
    "for s in states:\n",
    "    add_header('\\nПримеры локомотивов в состоянии %d за пределами своих тяговых плеч:' % s)\n",
    "    add_line(loco_out_of_regs[loco_out_of_regs.state == s].drop_duplicates('loco')[cols].head(5))"
   ]
  },
  {
   "cell_type": "markdown",
   "metadata": {},
   "source": [
    "<a id='bad_regs_loco_info'></a>\n",
    "### Локомотивы на чужих тяговых плечах на начало планирования [ToC](#toc)"
   ]
  },
  {
   "cell_type": "code",
   "execution_count": 22,
   "metadata": {
    "collapsed": true
   },
   "outputs": [],
   "source": [
    "add_header('Локомотивы на чужих тяговых плечах на начало планирования', h=3, p=False)"
   ]
  },
  {
   "cell_type": "code",
   "execution_count": 23,
   "metadata": {
    "collapsed": false
   },
   "outputs": [
    {
     "name": "stdout",
     "output_type": "stream",
     "text": [
      "Всего 111 локомотивов на чужих тяговых плечах на начало планирования\n",
      "\n",
      "Распределение по сериям (показаны первые 5):\n",
      "3ТЭ10МК    24\n",
      "2ТЭ10М     16\n",
      "ВЛ80Р      14\n",
      "2ТЭ10МК    14\n",
      "2ЭС5К       8\n",
      "\n",
      "Распределение по тяговым плечам локомотивов (показаны первые 5):\n",
      "[[СКОВОРОДИНО, ТЫНДА]]         28\n",
      "[[БОРЗЯ, МАРИИНСК]]            17\n",
      "[[КАРЫМСКАЯ, ХАБАРОВСК II]]    13\n",
      "[[АЧИНСК I, ЛЕСОСИБИРСК]]       8\n",
      "[[МЕЖДУРЕЧЕНСК, ТАКСИМО]]       6\n",
      "\n",
      "Примеры локомотивов:\n",
      "         loco ser_name                  loc_name                                reg_names\n",
      " 200200104344  3ТЭ10МК                 ФЕВРАЛЬСК                   [[СКОВОРОДИНО, ТЫНДА]]\n",
      " 200200039490   2ТЭ10В                 БАМОВСКАЯ                   [[БОРЗЯ, ЗАБАЙКАЛЬСК]]\n",
      " 200200088698   2ТЭ10У      АЧИНСК II - АЧИНСК I                [[АЧИНСК I, ЛЕСОСИБИРСК]]\n",
      " 200200062912   2ТЭ10М  АМАЗАР - ЕРОФЕЙ ПАВЛОВИЧ                   [[БОРЗЯ, ЗАБАЙКАЛЬСК]]\n",
      " 200200377386  2ТЭ10МК               НОВЫЙ УРГАЛ                   [[СКОВОРОДИНО, ТЫНДА]]\n",
      " 200200080996    ВЛ80Р                    АБАКАН                      [[БОРЗЯ, МАРИИНСК]]\n",
      " 200200090013    ВЛ80Р               КОШУРНИКОВО                      [[БОРЗЯ, МАРИИНСК]]\n",
      " 200200042960   2ТЭ10М                   ОБЛУЧЬЕ  [[КОМСОМОЛЬСК-НА-АМУРЕ, СОВЕТСКАЯ ГА...\n",
      " 200200094274  3ТЭ10МК                 ФЕВРАЛЬСК                   [[СКОВОРОДИНО, ТЫНДА]]\n",
      " 200200044376  2ТЭ10МК                 УССУРИЙСК  [[КОМСОМОЛЬСК-НА-АМУРЕ, СОВЕТСКАЯ ГА...\n",
      " 200200092296    ВЛ80Р                      ЛЕНА                      [[БОРЗЯ, МАРИИНСК]]\n",
      " 200206066989   2ТЭ10У               КСЕНЬЕВСКАЯ                   [[БОРЗЯ, ЗАБАЙКАЛЬСК]]\n",
      " 200200138551   2ТЭ10У                 БЕЛОГОРСК                   [[БОРЗЯ, ЗАБАЙКАЛЬСК]]\n",
      " 200200044588   2ТЭ10М               КИЯ-ШАЛТЫРЬ                [[АЧИНСК I, ЛЕСОСИБИРСК]]\n",
      " 200200066478  2ТЭ10МК                      ХАНИ                   [[СКОВОРОДИНО, ТЫНДА]]\n",
      " 200200058350    2ЭС5К                    ТАЛЬЦЫ  [[КАРЫМСКАЯ, ХАБАРОВСК II], [НАХОДКА...\n",
      " 200200066549    ВЛ80Р              МЕЖДУРЕЧЕНСК                      [[БОРЗЯ, МАРИИНСК]]\n",
      " 200200083007   2ТЭ10М                 АЧИНСК II                [[АЧИНСК I, ЛЕСОСИБИРСК]]\n",
      " 200200098870    ВЛ80Р                   ТАКСИМО                      [[БОРЗЯ, МАРИИНСК]]\n",
      " 200200048139  3ТЭ10МК                 ПОСТЫШЕВО  [[КОМСОМОЛЬСК-НА-АМУРЕ, СОВЕТСКАЯ ГА...\n"
     ]
    }
   ],
   "source": [
    "cols = ['loco', 'ser_name', 'loc_name', 'reg_names']\n",
    "bad_regs_loco_info = loco_info[(loco_info.ltype == 1) & (loco_info.ok_reg == False)]\n",
    "add_header('Всего %d локомотивов на чужих тяговых плечах на начало планирования' % bad_regs_loco_info.loco.count())\n",
    "add_header('\\nРаспределение по сериям (показаны первые 5):')\n",
    "add_line(bad_regs_loco_info[cols].ser_name.value_counts().head())\n",
    "add_header('\\nРаспределение по тяговым плечам локомотивов (показаны первые 5):')\n",
    "add_line(bad_regs_loco_info[cols].reg_names.value_counts().head())\n",
    "add_header('\\nПримеры локомотивов:')\n",
    "add_line(bad_regs_loco_info[cols].head(20))"
   ]
  },
  {
   "cell_type": "markdown",
   "metadata": {},
   "source": [
    "<a =id='st_to2'></a>\n",
    "## Проверка пунктов проведения ТО-2 [ToC](#toc)"
   ]
  },
  {
   "cell_type": "code",
   "execution_count": 24,
   "metadata": {
    "collapsed": true
   },
   "outputs": [],
   "source": [
    "add_header('Проверка планирования ТО-2', h=2, p=False)"
   ]
  },
  {
   "cell_type": "code",
   "execution_count": 25,
   "metadata": {
    "collapsed": false
   },
   "outputs": [
    {
     "name": "stdout",
     "output_type": "stream",
     "text": [
      "Пункты проведения ТО-2 во входных данных:\n",
      "               st_name  dur_h\n",
      "                АБАКАН   0.98\n",
      "               БОГОТОЛ   0.95\n",
      "             ВИХОРЕВКА   0.90\n",
      "                  ЗИМА   1.00\n",
      "              ИЛАНСКАЯ   1.01\n",
      " ИРКУТСК-СОРТИРОВОЧНЫЙ   0.91\n",
      "  КОМСОМОЛЬСК-НА-АМУРЕ   1.08\n",
      "             МАГДАГАЧИ   0.90\n",
      "           НИЖНЕУДИНСК   0.90\n",
      "            НОВАЯ ЧАРА   1.08\n",
      "           НОВЫЙ УРГАЛ   1.08\n",
      "       СЕВЕРОБАЙКАЛЬСК   0.90\n",
      "           СМОЛЯНИНОВО   0.90\n",
      "                 ТЫНДА   1.08\n",
      "                  УЖУР   1.01\n",
      "              УЛАН-УДЭ   1.00\n",
      "                ЧИТА I   0.91\n",
      "Медианное время проведения ТО-2: 0.98 часа\n"
     ]
    }
   ],
   "source": [
    "to2_type = 2001889869\n",
    "service = pd.read_csv(FOLDER + 'service.csv', converters={'station':str})\n",
    "service['st_name'] = service.station.map(st_names.name)\n",
    "service['dur_h'] = np.round((service.duration / 3600), 2)\n",
    "to2 = service[service.serv_type == to2_type].drop_duplicates()\n",
    "to2_dur_median = to2.dur_h.median()\n",
    "add_header('Пункты проведения ТО-2 во входных данных:')\n",
    "add_line(to2[['st_name', 'dur_h']].sort_values('st_name'))\n",
    "add_line('Медианное время проведения ТО-2: %.2f часа' % to2_dur_median)"
   ]
  },
  {
   "cell_type": "code",
   "execution_count": 26,
   "metadata": {
    "collapsed": false
   },
   "outputs": [
    {
     "name": "stdout",
     "output_type": "stream",
     "text": [
      "Проведение ТО запланировано на 16 разных станциях (показаны первые 10):\n",
      "                 index  num  time_h\n",
      "             МАГДАГАЧИ  112    0.90\n",
      "                ЧИТА I   44    0.91\n",
      "           СМОЛЯНИНОВО   42    0.90\n",
      "               БОГОТОЛ   34    0.95\n",
      "                 ТЫНДА   33    1.08\n",
      "              ИЛАНСКАЯ   29    1.01\n",
      "  КОМСОМОЛЬСК-НА-АМУРЕ   28    1.08\n",
      "              УЛАН-УДЭ   24    1.00\n",
      "             ВИХОРЕВКА   20    0.90\n",
      " ИРКУТСК-СОРТИРОВОЧНЫЙ   18    0.91\n",
      "                АБАКАН   17    0.98\n",
      "           НИЖНЕУДИНСК   11    0.90\n",
      "                  ЗИМА    7    1.00\n",
      "       СЕВЕРОБАЙКАЛЬСК    6    0.90\n",
      "           НОВЫЙ УРГАЛ    3    1.08\n",
      "            НОВАЯ ЧАРА    2    1.08\n"
     ]
    }
   ],
   "source": [
    "loco_plan['tt'] = loco_plan.time_end - loco_plan.time_start\n",
    "plan_to = loco_plan[loco_plan.state == 4][['loco', 'st_from_name', 'st_to_name', 'time_start_norm', 'time_end_norm', 'tt']]\n",
    "add_header('Проведение ТО запланировано на %d разных станциях (показаны первые 10):' \n",
    "           % plan_to.st_from_name.drop_duplicates().count())\n",
    "stats_plan_to = plan_to.st_from_name.value_counts().to_frame().join(plan_to.groupby('st_from_name').tt.median())\n",
    "stats_plan_to.columns = ['num', 'time']\n",
    "stats_plan_to['time_h'] = np.round((stats_plan_to.time / 3600), 2)\n",
    "add_line(stats_plan_to[['num', 'time_h']].reset_index().head(20))"
   ]
  },
  {
   "cell_type": "code",
   "execution_count": 27,
   "metadata": {
    "collapsed": false
   },
   "outputs": [
    {
     "data": {
      "text/plain": [
       "<matplotlib.axes._subplots.AxesSubplot at 0x28e52e66400>"
      ]
     },
     "execution_count": 27,
     "metadata": {},
     "output_type": "execute_result"
    },
    {
     "data": {
      "image/png": "[encoded data removed]",
      "text/plain": [
       "<matplotlib.figure.Figure at 0x28e4d9f2cc0>"
      ]
     },
     "metadata": {},
     "output_type": "display_data"
    }
   ],
   "source": [
    "cols = ['loco', 'st_from_name', 'st_to_name', 'time_start_norm', 'time_end_norm', 'state', 'tt']\n",
    "plan_to = loco_plan[loco_plan.state == 4]\n",
    "plan_to[plan_to.tt > 10 * 3600].sort_values('time_start')[cols]\n",
    "sns.kdeplot(plan_to.tt / 3600, shade=True, bw=200, label='Время на прохождение ТО, ч.')"
   ]
  },
  {
   "cell_type": "code",
   "execution_count": 28,
   "metadata": {
    "collapsed": false
   },
   "outputs": [
    {
     "name": "stdout",
     "output_type": "stream",
     "text": [
      "         loco           st_from_name             st_to_name time_start_norm  time_end_norm  state     tt\n",
      " 200200068390                 ЧИТА I              КАРЫМСКАЯ   Jun 09, 04:57  Jun 09, 07:06      1   7793\n",
      " 200200068390              КАРЫМСКАЯ                 ЧИТА I   Jun 09, 17:02  Jun 09, 19:17      0   8076\n",
      " 200200068390                 ЧИТА I                 ЧИТА I   Jun 09, 19:17  Jun 09, 20:11      4   3262\n",
      " 200200068390                 ЧИТА I                 КАДАЛА   Jun 10, 03:15  Jun 10, 03:31      1    990\n",
      " 200200068390                 КАДАЛА                 ЛЕСНАЯ   Jun 10, 03:31  Jun 10, 04:23      1   3093\n",
      " 200200068390                 ЛЕСНАЯ               ТУРГУТУЙ   Jun 10, 04:23  Jun 10, 05:13      1   3025\n",
      " 200200068390               ТУРГУТУЙ                 МОГЗОН   Jun 10, 05:13  Jun 10, 06:18      1   3917\n",
      " 200200068390                 МОГЗОН                  ХИЛОК   Jun 10, 06:18  Jun 10, 08:32      1   8045\n",
      " 200200068390                  ХИЛОК                 МОГЗОН   Jun 10, 11:23  Jun 10, 14:11      0  10118\n",
      " 200200068390                 МОГЗОН               ТУРГУТУЙ   Jun 10, 14:11  Jun 10, 15:16      0   3880\n",
      " 200200068390               ТУРГУТУЙ                 ЛЕСНАЯ   Jun 10, 15:16  Jun 10, 16:12      0   3365\n",
      " 200200068390                 ЛЕСНАЯ                 КАДАЛА   Jun 10, 16:12  Jun 10, 17:05      0   3163\n",
      " 200200068390                 КАДАЛА                 ЧИТА I   Jun 10, 17:05  Jun 10, 17:20      0    935\n",
      " 200200068390                 ЧИТА I              КАРЫМСКАЯ   Jun 11, 00:03  Jun 11, 02:13      0   7833\n",
      " 200200068390              КАРЫМСКАЯ                 ЧИТА I   Jun 14, 10:31  Jun 14, 12:54      1   8573\n",
      " 200200068390                 ЧИТА I                 КАДАЛА   Aug 14, 16:53  Aug 14, 17:09      1    954\n",
      " 200200068390                 КАДАЛА                 ЛЕСНАЯ   Aug 14, 17:09  Aug 14, 17:57      1   2862\n",
      " 200200068390                 ЛЕСНАЯ               ТУРГУТУЙ   Aug 14, 17:57  Aug 14, 18:40      1   2568\n",
      " 200200068390               ТУРГУТУЙ                 МОГЗОН   Aug 14, 18:40  Aug 14, 19:37      1   3457\n",
      " 200200068390                 МОГЗОН                  ХИЛОК   Aug 14, 19:37  Aug 14, 21:43      1   7554\n",
      " 200200068390                  ХИЛОК               ЖИПХЕГЕН   Aug 15, 01:12  Aug 15, 01:43      1   1860\n",
      " 200200068390               ЖИПХЕГЕН       ПЕТРОВСКИЙ ЗАВОД   Aug 15, 01:43  Aug 15, 04:00      1   8220\n",
      " 200200068390       ПЕТРОВСКИЙ ЗАВОД                   КИЖА   Aug 15, 04:00  Aug 15, 04:32      1   1885\n",
      " 200200068390                   КИЖА                 ГОРХОН   Aug 15, 04:32  Aug 15, 04:49      1   1032\n",
      " 200200068390                 ГОРХОН                ЧЕЛУТАЙ   Aug 15, 04:49  Aug 15, 05:30      1   2446\n",
      " 200200068390                ЧЕЛУТАЙ                 ТАЛЬЦЫ   Aug 15, 05:30  Aug 15, 06:19      1   2925\n",
      " 200200068390                 ТАЛЬЦЫ             ЗАУДИНСКИЙ   Aug 15, 06:19  Aug 15, 06:28      1    545\n",
      " 200200068390             ЗАУДИНСКИЙ               УЛАН-УДЭ   Aug 15, 06:28  Aug 15, 06:48      1   1204\n",
      " 200200068390               УЛАН-УДЭ                МЫСОВАЯ   Aug 21, 05:33  Aug 21, 08:12      1   9565\n",
      " 200200068390                МЫСОВАЯ              БАЙКАЛЬСК   Aug 21, 08:12  Aug 21, 10:23      1   7820\n",
      " 200200068390              БАЙКАЛЬСК             СЛЮДЯНКА I   Aug 21, 10:23  Aug 21, 11:11      1   2906\n",
      " 200200068390             СЛЮДЯНКА I            СЛЮДЯНКА II   Aug 21, 11:11  Aug 21, 11:19      1    497\n",
      " 200200068390            СЛЮДЯНКА II              АНГАСОЛКА   Aug 21, 11:19  Aug 21, 11:45      1   1560\n",
      " 200200068390              АНГАСОЛКА          АНДРИАНОВСКАЯ   Aug 21, 11:45  Aug 21, 12:00      1    900\n",
      " 200200068390          АНДРИАНОВСКАЯ            БОЛЬШОЙ ЛУГ   Aug 21, 12:00  Aug 21, 13:08      1   4073\n",
      " 200200068390            БОЛЬШОЙ ЛУГ              ГОНЧАРОВО   Aug 21, 13:08  Aug 21, 13:29      1   1260\n",
      " 200200068390              ГОНЧАРОВО  ИРКУТСК-СОРТИРОВОЧНЫЙ   Aug 21, 13:29  Aug 21, 13:57      1   1692\n",
      " 200200068390  ИРКУТСК-СОРТИРОВОЧНЫЙ             БАТАРЕЙНАЯ   Aug 21, 14:07  Aug 21, 14:18      1    660\n",
      " 200200068390             БАТАРЕЙНАЯ                  МЕГЕТ   Aug 21, 14:18  Aug 21, 14:27      1    532\n",
      " 200200068390                  МЕГЕТ              СУХОВСКАЯ   Aug 21, 14:27  Aug 21, 14:39      1    705\n",
      " 200200068390              СУХОВСКАЯ                АНГАРСК   Aug 21, 14:39  Aug 21, 14:45      1    372\n",
      " 200200068390                АНГАРСК                  КИТОЙ   Aug 21, 14:45  Aug 21, 14:51      1    360\n",
      " 200200068390                  КИТОЙ                 МАЛЬТА   Aug 21, 14:51  Aug 21, 15:26      1   2100\n",
      " 200200068390                 МАЛЬТА             КАСЬЯНОВКА   Aug 21, 15:26  Aug 21, 16:13      1   2820\n",
      " 200200068390             КАСЬЯНОВКА              ЧЕРЕМХОВО   Aug 21, 16:13  Aug 21, 16:25      1    720\n",
      " 200200068390              ЧЕРЕМХОВО                 ЗАЛАРИ   Aug 21, 16:25  Aug 21, 17:35      1   4173\n",
      " 200200068390                 ЗАЛАРИ                   ЗИМА   Aug 21, 17:35  Aug 21, 18:38      1   3792\n",
      " 200200068390                   ЗИМА                ПЕРЕВОЗ   Aug 21, 18:38  Aug 21, 19:16      1   2300\n",
      " 200200068390                ПЕРЕВОЗ                 КУЙТУН   Aug 21, 19:16  Aug 21, 20:13      1   3411\n",
      " 200200068390                 КУЙТУН                   АЗЕЙ   Aug 21, 20:13  Aug 21, 21:25      1   4295\n",
      " 200200068390                   АЗЕЙ                  ТУЛУН   Aug 21, 21:25  Aug 21, 21:49      1   1466\n",
      " 200200068390                  ТУЛУН                 УДА II   Aug 21, 21:49  Aug 21, 23:41      1   6732\n",
      " 200200068390                 УДА II            НИЖНЕУДИНСК   Aug 21, 23:41  Aug 21, 23:50      1    540\n",
      " 200200068390            НИЖНЕУДИНСК                АЛЗАМАЙ   Aug 22, 00:51  Aug 22, 02:44      1   6740\n",
      " 200200068390                АЛЗАМАЙ             БАЙРОНОВКА   Aug 22, 02:44  Aug 22, 03:33      1   2940\n",
      " 200200068390             БАЙРОНОВКА                 ТАЙШЕТ   Aug 22, 03:33  Aug 22, 04:04      1   1894\n",
      " 200200068390                 ТАЙШЕТ                   ЮРТЫ   Aug 22, 04:04  Aug 22, 04:38      1   2040\n",
      " 200200068390                   ЮРТЫ                  КЛЮЧИ   Aug 22, 04:38  Aug 22, 05:06      1   1630\n",
      " 200200068390                  КЛЮЧИ                 РЕШОТЫ   Aug 22, 05:06  Aug 22, 05:21      1    955\n",
      " 200200068390                 РЕШОТЫ               ИЛАНСКАЯ   Aug 22, 05:21  Aug 22, 06:44      1   4968\n",
      " 200200068390               ИЛАНСКАЯ              ЗАОЗЕРНАЯ   Aug 22, 07:20  Aug 22, 09:32      1   7900\n",
      " 200200068390              ЗАОЗЕРНАЯ                    УЯР   Aug 22, 09:32  Aug 22, 10:09      1   2230\n",
      " 200200068390                    УЯР                 ЗЫКОВО   Aug 22, 10:09  Aug 22, 12:03      1   6863\n",
      " 200200068390                 ЗЫКОВО   КРАСНОЯРСК-ВОСТОЧНЫЙ   Aug 22, 12:03  Aug 22, 12:22      1   1125\n",
      " 200200068390   КРАСНОЯРСК-ВОСТОЧНЫЙ    КРАСНОЯРСК-СЕВЕРНЫЙ   Aug 22, 12:22  Aug 22, 12:57      1   2105\n",
      " 200200068390    КРАСНОЯРСК-СЕВЕРНЫЙ                  БУГАЧ   Aug 22, 12:57  Aug 22, 13:13      1    945\n",
      " 200200068390                  БУГАЧ         ЧЕРНОРЕЧЕНСКАЯ   Aug 22, 13:13  Aug 22, 16:02      1  10140\n",
      " 200200068390         ЧЕРНОРЕЧЕНСКАЯ               АЧИНСК I   Aug 22, 16:02  Aug 22, 16:39      1   2240\n",
      " 200200068390               АЧИНСК I                ЗЕРЦАЛЫ   Aug 22, 16:49  Aug 22, 17:06      1    980\n",
      " 200200068390                ЗЕРЦАЛЫ                БОГОТОЛ   Aug 22, 17:06  Aug 22, 17:59      1   3212\n",
      " 200200068390                БОГОТОЛ               МАРИИНСК   Aug 22, 17:59  Aug 22, 20:18      1   8340\n"
     ]
    }
   ],
   "source": [
    "print(loco_plan[loco_plan.loco == '200200068390'][cols].to_string(index=False))"
   ]
  },
  {
   "cell_type": "markdown",
   "metadata": {},
   "source": [
    "<a =id='tonnage'></a>\n",
    "## Проверка подвязки на соответствие весовым нормам [ToC](#toc)"
   ]
  },
  {
   "cell_type": "code",
   "execution_count": 29,
   "metadata": {
    "collapsed": false
   },
   "outputs": [],
   "source": [
    "add_header('Проверка подвязки на соответствие весовым нормам', h=2, p=False)"
   ]
  },
  {
   "cell_type": "markdown",
   "metadata": {},
   "source": [
    "### Маска времени"
   ]
  },
  {
   "cell_type": "code",
   "execution_count": 30,
   "metadata": {
    "collapsed": false
   },
   "outputs": [],
   "source": [
    "#Ниже надо раскомментировать соответствующую строчку для нужного анализа\n",
    "\n",
    "def time_mask(df):\n",
    "    # Маска для анализа поездов, которые запланировал планировщик (отправленных после начала планирования)\n",
    "    return df.time_start >= current_time\n",
    "    # Маска для анализа позедов, отправленных до начала планирования (следующих по факту)\n",
    "    #time_mask = overweight.time_start < current_time"
   ]
  },
  {
   "cell_type": "markdown",
   "metadata": {},
   "source": [
    "### Проверка соответствия результатов планирования справочнику весовых норм"
   ]
  },
  {
   "cell_type": "code",
   "execution_count": 31,
   "metadata": {
    "collapsed": false
   },
   "outputs": [
    {
     "name": "stdout",
     "output_type": "stream",
     "text": [
      "Thu Jun  9 14:41:14 2016\n",
      "Всего 73 подвязок локомотивов к поезду с нарушением весовых норм (показаны первые 10):\n",
      "         loco ser_name    st_from_name      st_to_name time_start_norm  max_weight  train_weight  overweight         train\n",
      " 200200092244    ВЛ80Р      КАСЬЯНОВКА          МАЛЬТА   Jun 09, 16:10        6300         11833        5533  220200910637\n",
      " 200200030522  3ТЭ10МК  КОМСОМОЛЬСК...         СЕЛИХИН   Jun 10, 03:25        3600          5568        1968  210207292866\n",
      " 200200070118  3ТЭ10МК  КОМСОМОЛЬСК...         СЕЛИХИН   Jun 10, 15:35        3600          5552        1952  210205572478\n",
      " 200200087697  3ТЭ10УК  КОМСОМОЛЬСК...         СЕЛИХИН   Jun 10, 07:05        3600          5549        1949  210209846899\n",
      " 200200081281   ВЛ80ТК     КОШУРНИКОВО       ЩЕТИНКИНО   Jun 09, 15:40        4000          5875        1875  220200864446\n",
      " 200200077959    3ЭС5К         ТАКОВКА          НЕБЕЛЬ   Jun 09, 17:34        3000          4849        1849  220200655738\n",
      " 200200104714    ВЛ80Р           ТОРЕЯ           ТУРМА   Jun 09, 17:04        2200          3872        1672  210211652292\n",
      " 200200094249    3ЭС5К  АМУРСКИЙ ЗАЛИВ         УГЛОВАЯ   Jun 10, 06:02        5000          6300        1300  210206660223\n",
      " 200200100338    3ЭС5К         УГЛОВАЯ  АРТЕМ-ПРИМО...   Jun 09, 14:55        5000          6288        1288  220200777134\n",
      " 200200107614    3ЭС5К  АМУРСКИЙ ЗАЛИВ         УГЛОВАЯ   Jun 10, 03:31        5000          6275        1275  220201224115\n",
      "\n",
      "Всего 72 подвязок локомотивов к поездам (за исключением сдвоенных) с нарушением весовых норм (показаны первые 10):\n",
      "         loco ser_name    st_from_name      st_to_name time_start_norm  max_weight  train_weight  overweight         train\n",
      " 200200030522  3ТЭ10МК  КОМСОМОЛЬСК...         СЕЛИХИН   Jun 10, 03:25        3600          5568        1968  210207292866\n",
      " 200200070118  3ТЭ10МК  КОМСОМОЛЬСК...         СЕЛИХИН   Jun 10, 15:35        3600          5552        1952  210205572478\n",
      " 200200087697  3ТЭ10УК  КОМСОМОЛЬСК...         СЕЛИХИН   Jun 10, 07:05        3600          5549        1949  210209846899\n",
      " 200200081281   ВЛ80ТК     КОШУРНИКОВО       ЩЕТИНКИНО   Jun 09, 15:40        4000          5875        1875  220200864446\n",
      " 200200077959    3ЭС5К         ТАКОВКА          НЕБЕЛЬ   Jun 09, 17:34        3000          4849        1849  220200655738\n",
      " 200200104714    ВЛ80Р           ТОРЕЯ           ТУРМА   Jun 09, 17:04        2200          3872        1672  210211652292\n",
      " 200200094249    3ЭС5К  АМУРСКИЙ ЗАЛИВ         УГЛОВАЯ   Jun 10, 06:02        5000          6300        1300  210206660223\n",
      " 200200100338    3ЭС5К         УГЛОВАЯ  АРТЕМ-ПРИМО...   Jun 09, 14:55        5000          6288        1288  220200777134\n",
      " 200200107614    3ЭС5К  АМУРСКИЙ ЗАЛИВ         УГЛОВАЯ   Jun 10, 03:31        5000          6275        1275  220201224115\n",
      " 200200092553  3ТЭ10МК  КОМСОМОЛЬСК...         СЕЛИХИН   Jun 10, 14:35        3600          4871        1271  210208044022\n"
     ]
    }
   ],
   "source": [
    "print(time.ctime(current_time))\n",
    "loco_plan['ser_name'] = loco_plan.series.map(loco_series.set_index('ser_id').ser_name)\n",
    "loco_tonnage = pd.read_csv(FOLDER + 'loco_tonnage.csv', converters={'st_from':str, 'st_to':str})\n",
    "loco_tonnage['link'] = list(zip(loco_tonnage.st_from, loco_tonnage.st_to))\n",
    "loco_tonnage['ssl'] = list(zip(loco_tonnage.series, loco_tonnage.sections, loco_tonnage.link))\n",
    "loco_plan['link'] = list(zip(loco_plan.st_from, loco_plan.st_to))\n",
    "loco_plan['link_name'] = list(zip(loco_plan.st_from_name, loco_plan.st_to_name))\n",
    "loco_plan['ssl'] = list(zip(loco_plan.series, loco_plan.sections, loco_plan.link))\n",
    "loco_plan['max_weight'] = loco_plan.ssl.map(loco_tonnage.groupby('ssl').max_weight.max().to_frame().max_weight)\n",
    "loco_plan['train_weight'] = loco_plan.train.map(train_info.drop_duplicates('train').set_index('train').weight)\n",
    "loco_plan['overweight'] = loco_plan.train_weight - loco_plan.max_weight\n",
    "cols = ['loco', 'ser_name', 'st_from_name', 'st_to_name', 'time_start_norm', 'max_weight', 'train_weight', 'overweight', 'train']\n",
    "overweight = loco_plan[(loco_plan.overweight > 0)].dropna(subset=['max_weight']).drop_duplicates(subset=['loco', 'train'])\n",
    "overweight_plan = overweight[time_mask(overweight)] # <<<<<<<<<<<<<<<<<<<<<<<<<<<<< TIME_MASK -----------------------\n",
    "overweight_n = len(overweight_plan.index)\n",
    "add_header('Всего %d подвязок локомотивов к поезду с нарушением весовых норм (показаны первые 10):' % overweight_n)\n",
    "pd.set_option('display.max_colwidth', 15)\n",
    "add_line(overweight_plan.sort_values('overweight', ascending=False).head(10)[cols])\n",
    "\n",
    "overweight_no_joint = overweight_plan[overweight_plan.train_weight < 10000]\n",
    "add_header('\\nВсего %d подвязок локомотивов к поездам (за исключением сдвоенных) с нарушением весовых норм (показаны первые 10):' \n",
    "      % len(overweight_no_joint.index))\n",
    "add_line(overweight_no_joint.sort_values('overweight', ascending=False).head(10)[cols])"
   ]
  },
  {
   "cell_type": "code",
   "execution_count": 32,
   "metadata": {
    "collapsed": false
   },
   "outputs": [
    {
     "data": {
      "image/png": "[encoded data removed]",
      "text/plain": [
       "<matplotlib.figure.Figure at 0x28e5bb5f7b8>"
      ]
     },
     "metadata": {},
     "output_type": "display_data"
    }
   ],
   "source": [
    "sns.set(style='whitegrid', context='talk')\n",
    "sns.set_color_codes('dark')\n",
    "fig, ax = plt.subplots(nrows=1, ncols=2, figsize=(20,8))\n",
    "sns.distplot(overweight_plan.train_weight, hist=False, color='b', \n",
    "             kde_kws={'shade':True, 'label':'Вес поезда'}, ax=ax[0])\n",
    "sns.distplot(overweight_plan.overweight, hist=False, color='g', \n",
    "             kde_kws={'shade':True, 'label':'Превышение весовой нормы'}, ax=ax[0])\n",
    "sns.distplot(overweight_no_joint.train_weight, hist=False, color='b', \n",
    "             kde_kws={'shade':True, 'label':'Вес поезда'}, ax=ax[1])\n",
    "sns.distplot(overweight_no_joint.overweight, hist=False, color='g', \n",
    "             kde_kws={'shade':True, 'label':'Превышение весовой нормы'}, ax=ax[1])\n",
    "title = 'Для всех поездов'\n",
    "title_nj = 'Без сдвоенных поезов'\n",
    "ax[0].set(title=title, xlabel='Вес поезда')\n",
    "ax[1].set(title=title_nj, xlabel='Вес поезда')\n",
    "ax[0].legend(frameon=True)\n",
    "ax[1].legend(frameon=True)\n",
    "plt.suptitle('Распределение весов поездов, для которых наблюдается нарушение весовых норм', fontsize=20)\n",
    "sns.despine()\n",
    "filename = 'weight_error.png'\n",
    "fig.savefig(REPORT_FOLDER + filename, bbox_inches='tight')\n",
    "add_image(filename)"
   ]
  },
  {
   "cell_type": "code",
   "execution_count": 33,
   "metadata": {
    "collapsed": false
   },
   "outputs": [
    {
     "name": "stdout",
     "output_type": "stream",
     "text": [
      "Распределение нарушений весовых норм по участкам (первые 5):\n",
      "                                         index  number  overw_median\n",
      "                               (ХИЛОК, МОГЗОН)      30         499.5\n",
      "                     (АМУРСКИЙ ЗАЛИВ, УГЛОВАЯ)      12        1122.5\n",
      " (КОМСОМОЛЬСК-НА-АМУРЕ-СОРТИРОВОЧНЫЙ, СЕЛИХИН)       5        1949.0\n",
      "           (ЧЕРНЫШЕВСК-ЗАБАЙКАЛЬСКИЙ, ЖИРЕКЕН)       2         394.5\n",
      "                             (ТАКОВКА, НЕБЕЛЬ)       2        1489.0\n",
      "\n",
      "Распределение нарушений весовых норм по сериям локомотивов:\n",
      "   index  number  overw_median\n",
      "   3ЭС5К      24         942.0\n",
      "    ВЛ85      19         256.0\n",
      "   ВЛ80Р      14         634.0\n",
      "  ВЛ80ТК       5          20.0\n",
      " 3ТЭ10МК       4        1611.5\n",
      "   ВЛ80С       3         463.0\n",
      "  2ТЭ10В       1        1253.0\n",
      " 3ТЭ10УК       1        1949.0\n",
      "  2ТЭ10У       1           9.0\n"
     ]
    }
   ],
   "source": [
    "add_header('Распределение нарушений весовых норм по участкам (первые 5):')\n",
    "a = overweight_no_joint.link_name.value_counts()\n",
    "b = overweight_no_joint.groupby('link_name').overweight.median()\n",
    "overweight_links = a.to_frame().join(b)\n",
    "overweight_links.columns = ['number', 'overw_median']\n",
    "pd.set_option('display.max_colwidth', 50)\n",
    "add_line(overweight_links.reset_index().head())\n",
    "\n",
    "add_header('\\nРаспределение нарушений весовых норм по сериям локомотивов:')\n",
    "a = overweight_no_joint.ser_name.value_counts()\n",
    "b = overweight_no_joint.groupby('ser_name').overweight.median()\n",
    "overweight_ser = a.to_frame().join(b)\n",
    "overweight_ser.columns = ['number', 'overw_median']\n",
    "add_line(overweight_ser.reset_index())"
   ]
  },
  {
   "cell_type": "markdown",
   "metadata": {},
   "source": [
    "### Причины нарушений весовых норм:"
   ]
  },
  {
   "cell_type": "markdown",
   "metadata": {},
   "source": [
    "1. На участке Торея-Турма почему-то задан максимальный вес для серии 3ЭС5К = 3000 тонн, хотя на прилегающих участках для этой же серии задан максимальный вес 6000 тонн.\n",
    "  1. Видимо, при загрузке был пропущен фрагмент с подталкивающими локомотивами. Похоже, на участке Торея-Турма нужно подталкивание (при наличии подталкивающего локомотива норма сразу подскакивает до 6000).\n",
    "  2. Аналогичная ситуация с участком Кунерма-Дабан. Но там подталкивания нет и в справочнике (экселевской таблице). Возможно, его просто забыли?\n",
    "2. Для участка Хилок-Могзон в справочнике указаны максимальные значения весов 5500-5700. Многие поезда имеют вес 6000-6200, так что наблюдается небольшое превышение (среднее значение превышения - на 433т.), но случаев превышения довольно много. Вопрос к технологам: 1) исправлять справочник? 2) есть какой-то нюанс планирования? толкание? 3) оставить, как есть? Аналогично для участка Амурский Залив -- Угловая (там норма 5000)."
   ]
  },
  {
   "cell_type": "code",
   "execution_count": 34,
   "metadata": {
    "collapsed": false
   },
   "outputs": [
    {
     "name": "stdout",
     "output_type": "stream",
     "text": [
      "ser_name  sections st_from_name st_to_name  max_weight\n",
      "   3ЭС5К         3        ХИЛОК   ЖИПХЕГЕН        6300\n",
      "   3ЭС5К         3        ХИЛОК     МОГЗОН        5700\n"
     ]
    }
   ],
   "source": [
    "cols = ['loco', 'ser_name', 'st_from_name', 'st_to_name', 'time_start_norm', 'max_weight', 'train_weight', 'overweight', 'train']\n",
    "add_info(loco_tonnage)\n",
    "loco_tonnage['ser_name'] = loco_tonnage.series.map(loco_series.set_index('ser_id').ser_name)\n",
    "a = overweight_no_joint.loc[(overweight_no_joint.st_from_name == 'ХИЛОК')]\n",
    "a[cols]\n",
    "tcols = ['ser_name', 'sections', 'st_from_name', 'st_to_name', 'max_weight']\n",
    "print(loco_tonnage.loc[(loco_tonnage.ser_name == '3ЭС5К') \n",
    "                       & ((loco_tonnage.st_from_name == 'ХИЛОК'))][tcols].to_string(index=False))"
   ]
  },
  {
   "cell_type": "markdown",
   "metadata": {},
   "source": [
    "<a =id='change'></a>\n",
    "## Проверка смены локомотивов на станциях обязательной смены [ToC](#toc)"
   ]
  },
  {
   "cell_type": "code",
   "execution_count": 35,
   "metadata": {
    "collapsed": true
   },
   "outputs": [],
   "source": [
    "add_header('Проверка смены локомотивов на станциях обязательной смены', h=2, p=False)"
   ]
  },
  {
   "cell_type": "code",
   "execution_count": 36,
   "metadata": {
    "collapsed": false
   },
   "outputs": [
    {
     "name": "stdout",
     "output_type": "stream",
     "text": [
      "Станции смены локомотивов (показаны первые 10):\n",
      "КАРЫМСКАЯ        25\n",
      "СМОЛЯНИНОВО      19\n",
      "ХАБАРОВСК II      6\n",
      "ВОЛОЧАЕВКА II     4\n",
      "СКОВОРОДИНО       3\n",
      "БОГОТОЛ           2\n",
      "УЛАН-УДЭ          2\n",
      "УЯР               2\n",
      "ТАЙШЕТ            2\n",
      "МАГДАГАЧИ         2\n"
     ]
    }
   ],
   "source": [
    "hor = 24 * 3600\n",
    "cols = ['train', 'st_from_name', 'st_to_name', 'time_start_norm', 'loco', 'train_start', 'loco_start']\n",
    "train_plan['train_start'] = train_plan.train != train_plan.train.shift(1)\n",
    "train_plan['loco_start'] = (train_plan.loco != train_plan.loco.shift(1)) & (train_plan.loco.isnull() == False)\n",
    "loco_changes = train_plan.loc[(train_plan.train_start == False) & (train_plan.loco_start == True) &\n",
    "              (train_plan.time_start < current_time + hor)]\n",
    "add_header('Станции смены локомотивов (показаны первые 10):')\n",
    "add_line(loco_changes.st_from_name.value_counts().head(10))"
   ]
  },
  {
   "cell_type": "code",
   "execution_count": 37,
   "metadata": {
    "collapsed": false
   },
   "outputs": [
    {
     "name": "stdout",
     "output_type": "stream",
     "text": [
      "Станции обязательной смены локомотивов:\n",
      "            st                 other_st\n",
      "     КАРЫМСКАЯ                [УРУЛЬГА]\n",
      "         БОРЗЯ     [ХАРАНОР, ЗУН-ТОРЕЙ]\n",
      "       ТАКСИМО       [КУАНДА, КАЗАНКАН]\n",
      "   СКОВОРОДИНО                  [ШТУРМ]\n",
      "   ИЗВЕСТКОВАЯ                [КУЛЬДУР]\n",
      " ВОЛОЧАЕВКА II                [СЕЛЬГОН]\n",
      "     УССУРИЙСК  [ПРИМОРСКАЯ, ГРОДЕКОВО]\n",
      "\n",
      "Всего 4 поездов, у которых должна быть смена локомотивов на станциях обязательной смены, но она не запланирована:\n",
      "        train st_from_name st_to_name time_start_norm          loco in_route\n",
      " 210209383212    КАРЫМСКАЯ     ЧИТА I   Jun 09, 18:55  200200104865     True\n",
      " 210208679749    КАРЫМСКАЯ     ЧИТА I   Jun 09, 21:30  200200032658     True\n",
      " 220200315074    КАРЫМСКАЯ     ЧИТА I   Jun 10, 00:43  200207612033     True\n",
      " 220200131662    КАРЫМСКАЯ     ЧИТА I   Jun 10, 09:53  200200107138     True\n"
     ]
    }
   ],
   "source": [
    "# Список станций (первый столбец), на которых локомотивы меняются всегда,\n",
    "# если в машруте поезда есть любая из проверочных станций (второй столбец)\n",
    "st_list = [['КАРЫМСКАЯ',['УРУЛЬГА']], ['БОРЗЯ',['ХАРАНОР','ЗУН-ТОРЕЙ']], ['ТАКСИМО', ['КУАНДА','КАЗАНКАН']], \n",
    "           ['СКОВОРОДИНО', ['ШТУРМ']], ['ИЗВЕСТКОВАЯ', ['КУЛЬДУР']], ['ВОЛОЧАЕВКА II', ['СЕЛЬГОН']], \n",
    "           ['УССУРИЙСК', ['ПРИМОРСКАЯ', 'ГРОДЕКОВО']]]\n",
    "df_list = pd.DataFrame(st_list, columns=['st', 'other_st'])\n",
    "pd.set_option('display.max_colwidth', 50)\n",
    "add_header('Станции обязательной смены локомотивов:')\n",
    "add_line(df_list)\n",
    "a = train_plan.groupby('train').st_from_name.unique().to_frame()\n",
    "a.columns = ['route']\n",
    "train_plan['route'] = train_plan.train.map(a.route)\n",
    "# Если проверочная станция находится в маршруте поезда, значит, поезд едет в том направлении, где НАДО менять локомотив\n",
    "train_plan['check_st'] = train_plan.st_from_name.map(df_list.set_index('st').other_st)\n",
    "train_plan['in_route'] = train_plan.route.combine(train_plan.check_st, \\\n",
    "                                                  lambda x, y: not False in [st in x for st in y] if type(y) == list else False)\n",
    "\n",
    "cols = ['train', 'st_from_name', 'st_to_name', 'time_start_norm', 'loco', 'in_route']\n",
    "change_fails = train_plan.loc[(train_plan.time_start < current_time + hor) \n",
    "                              & (train_plan.train_type.isin([2, 9]))\n",
    "                              & (train_plan.train_start == False)\n",
    "                              & (train_plan.loco_start == False)\n",
    "                              & (train_plan.st_from_name.isin(df_list.st))\n",
    "                              & (train_plan.in_route == True)][cols].drop_duplicates().dropna(subset=['loco'])\n",
    "add_header('\\nВсего %d поездов, у которых должна быть смена локомотивов на станциях обязательной смены, но она не запланирована:' \n",
    "      % len(change_fails))\n",
    "add_line(change_fails.sort_values(['st_to_name', 'time_start_norm']))"
   ]
  },
  {
   "cell_type": "markdown",
   "metadata": {},
   "source": [
    "#### Причины отсутствия смены локомотивов:"
   ]
  },
  {
   "cell_type": "markdown",
   "metadata": {},
   "source": [
    "1. У локомотивов указано несколько тяговых плеч, времени до ТО хватает.\n",
    "2. Локомотивы могут пересылаться на ТО без учета тяговых плеч! Выглядит это так:\n",
    "  - если локомотив надо отправить на ТО, то ищется ближайшая станция проведения ТО в нечетном направлении;\n",
    "  - если она не находится, то ищется ближайшая станция проведения ТО в четном направлении.  \n",
    "  - Получается, что локомотив может выехать за пределы своего плеча, если, например, на границе этого тягового плеча нет пункта ТО (или вообще есть косяки с определением пунктов ТО). Поскольку пока пунктов ТО нет в Борзе и Волочаевке, то локомотивы проскакивают эти станции и едут на ТО в Читу/Магдагачи. Потом они возвращаются на свои тяговые плечи (!!), следуя алгоритму возврата локомотивов с чужих тяговых плеч."
   ]
  },
  {
   "cell_type": "code",
   "execution_count": 38,
   "metadata": {
    "collapsed": false
   },
   "outputs": [
    {
     "name": "stdout",
     "output_type": "stream",
     "text": [
      "Series([], Name: regions, dtype: object)\n",
      "['ГУРСКОЕ' 'КУН' 'ВОЛОЧАЕВКА II' 'МЫЛКИ'\n",
      " 'КОМСОМОЛЬСК-НА-АМУРЕ-СОРТИРОВОЧНЫЙ' 'ЭЛЬДИГАН' 'СЕЛИХИН' 'ОУНЭ'\n",
      " 'БЛОКПОСТ 197 КМ' 'МОНГОХТО' 'ВЫСОКОГОРНАЯ' 'КОМСОМОЛЬСК-НА-АМУРЕ'\n",
      " 'СОВЕТСКАЯ ГАВАНЬ- ГОРОД' 'СОВЕТСКАЯ ГАВАНЬ-СОРТИРОВОЧНАЯ' 'КУЗНЕЦОВСКИЙ'\n",
      " 'ВАНИНО' 'ТОКИ' 'СЕЛЬГОН' 'СОЛЛУ' 'ДЗЕМГИ']\n"
     ]
    }
   ],
   "source": [
    "loco = '200236798740'\n",
    "pd.set_option('display.max_colwidth', 20)\n",
    "print(loco_info[loco_info.loco == loco].regions)\n",
    "print(stations[stations.loco_region == 2002119296].name.unique())\n",
    "cols = ['loco', 'st_from_name', 'st_to_name', 'time_start_norm', 'time_end_norm', 'state', 'train']"
   ]
  },
  {
   "cell_type": "markdown",
   "metadata": {},
   "source": [
    "<a =id='res'></a>\n",
    "## Анализ локомотивов резервом [ToC](#toc)"
   ]
  },
  {
   "cell_type": "code",
   "execution_count": 39,
   "metadata": {
    "collapsed": false
   },
   "outputs": [
    {
     "name": "stdout",
     "output_type": "stream",
     "text": [
      "Анализируемый горизонт отправления: 24.00 ч.\n"
     ]
    }
   ],
   "source": [
    "add_header('Анализ локомотивов резервом', h=2, p=False)\n",
    "hor = 24 * 3600\n",
    "add_line('Анализируемый горизонт отправления: %.2f ч.' % (hor / 3600))"
   ]
  },
  {
   "cell_type": "markdown",
   "metadata": {},
   "source": [
    "<a =id='res_nums'></a>\n",
    "### Проверка диапазона номеров для локомотивов резервом [ToC](#toc)"
   ]
  },
  {
   "cell_type": "code",
   "execution_count": 40,
   "metadata": {
    "collapsed": false
   },
   "outputs": [
    {
     "name": "stdout",
     "output_type": "stream",
     "text": [
      "Диапазон номеров поездов для локомотивов резервом: от 4201 до 4898\n"
     ]
    }
   ],
   "source": [
    "train_plan.columns\n",
    "train_plan['train_type'] = train_plan.train.apply(lambda x: int(str(x)[0]))\n",
    "train_plan['res_train_num'] = train_plan.train.apply(lambda x: int(str(x)[-4:]))\n",
    "res_train_nums = train_plan[train_plan.train_type == 8].res_train_num.drop_duplicates()\n",
    "add_line('Диапазон номеров поездов для локомотивов резервом: от %d до %d' % (res_train_nums.min(), res_train_nums.max()))"
   ]
  },
  {
   "cell_type": "markdown",
   "metadata": {},
   "source": [
    "<a =id='res_amount'></a>\n",
    "### Анализ количества отправлений локомотивов резервом по направлениям [ToC](#toc)"
   ]
  },
  {
   "cell_type": "code",
   "execution_count": 41,
   "metadata": {
    "collapsed": false
   },
   "outputs": [
    {
     "name": "stdout",
     "output_type": "stream",
     "text": [
      "Всего отправок локомотивов резервом: 849\n",
      "Всего локомотивов, для которых есть пересылка резервом: 683\n",
      "\n",
      "Станции, с которых было отправлено больше всего локомотивов резервом (первые 10):\n",
      "КАРЫМСКАЯ       58\n",
      "ТАЙШЕТ          37\n",
      "БИРА            36\n",
      "СМОЛЯНИНОВО     31\n",
      "ВОЛОЧАЕВКА I    25\n",
      "ХАБАРОВСК II    23\n",
      "МОГОЧА          19\n",
      "СКОВОРОДИНО     19\n",
      "ЧИТА I          19\n",
      "ТЫНДА           19\n",
      "\n",
      "Участки планирования, на которых было отправлено больше всего локомотивов резервом (первые 10):\n",
      "st_from_name  st_to_name \n",
      "КАРЫМСКАЯ     ЧИТА I         45\n",
      "СМОЛЯНИНОВО   ШКОТОВО        31\n",
      "БИРА          ИЗВЕСТКОВАЯ    19\n",
      "ТАЙШЕТ        ЮРТЫ           18\n",
      "МАРИИНСК      БОГОТОЛ        17\n",
      "МОГОЧА        КСЕНЬЕВСКАЯ    17\n",
      "ИЛАНСКАЯ      ЗАОЗЕРНАЯ      16\n",
      "ВОЛОЧАЕВКА I  ТУНГУССКИЙ     16\n",
      "ХАБАРОВСК II  ХАБАРОВСК I    15\n",
      "ТЫНДА         ШТУРМ          15\n",
      "\n",
      "Самые частые маршруты для локомотивов резервом (первые 10):\n",
      "st_from_name  st_to_name_end       \n",
      "КАРЫМСКАЯ     ЧИТА I                   17\n",
      "БИРА          ХАБАРОВСК II             16\n",
      "ВОЛОЧАЕВКА I  ХАБАРОВСК II             15\n",
      "ТЫНДА         СКОВОРОДИНО              12\n",
      "СМОЛЯНИНОВО   ХАБАРОВСК II             10\n",
      "МАРИИНСК      КРАСНОЯРСК-ВОСТОЧНЫЙ     10\n",
      "БОЛЬШОЙ ЛУГ   ИРКУТСК-СОРТИРОВОЧНЫЙ    10\n",
      "КАРЫМСКАЯ     ПЕТРОВСКИЙ ЗАВОД          9\n",
      "ЧИТА I        КАРЫМСКАЯ                 9\n",
      "УРУША         КАРЫМСКАЯ                 8\n"
     ]
    }
   ],
   "source": [
    "loco_mask = loco_plan.time_start < current_time + hor\n",
    "loco_cols = ['loco', 'st_from_name', 'st_to_name', 'time_start', 'time_start_norm', 'time_end_norm',\n",
    "             'state', 'train', 'res_start', 'res_end']\n",
    "loco_plan['res_start'] = loco_plan.train != loco_plan.train.shift(1)\n",
    "loco_plan['res_end'] = loco_plan.train != loco_plan.train.shift(-1)\n",
    "loco_plan.loc[loco_plan.state == 0, loco_cols]\n",
    "loco_res_start = loco_plan.loc[(loco_plan.res_start == True) &\n",
    "                               (loco_plan.state == 0), loco_cols].sort_values(['loco', 'time_start'])\n",
    "loco_res_end = loco_plan.loc[(loco_plan.res_end == True) & (loco_plan.state == 0), loco_cols].sort_values(['loco', 'time_start'])\n",
    "cols = ['loco', 'st_from_name', 'st_to_name', 'st_to_name_end', 'time_start', 'time_start_norm', 'time_end_norm', 'train']\n",
    "loco_res_trips = loco_res_start[['loco', 'st_from_name', 'st_to_name', 'time_start', 'time_start_norm', 'train']].\\\n",
    "                set_index(['loco', 'train']).join(loco_res_end[['loco', 'st_to_name', 'time_end_norm', 'train']].\\\n",
    "                                                  set_index(['loco', 'train']), rsuffix='_end').reset_index()[cols]\n",
    "\n",
    "loco_res_trips_hor = loco_res_trips.loc[loco_res_trips.time_start < current_time + hor]\n",
    "add_line('Всего отправок локомотивов резервом: %d' % loco_res_trips_hor.loco.count())\n",
    "add_line('Всего локомотивов, для которых есть пересылка резервом: %d' % loco_res_trips_hor.loco.drop_duplicates().count())\n",
    "add_header('\\nСтанции, с которых было отправлено больше всего локомотивов резервом (первые 10):')\n",
    "add_line(loco_res_trips_hor.st_from_name.value_counts().head(10))\n",
    "add_header('\\nУчастки планирования, на которых было отправлено больше всего локомотивов резервом (первые 10):')\n",
    "add_line(loco_res_trips_hor.groupby('st_from_name').st_to_name.value_counts().sort_values(ascending=False).head(10))\n",
    "add_header('\\nСамые частые маршруты для локомотивов резервом (первые 10):')\n",
    "add_line(loco_res_trips_hor.groupby('st_from_name').st_to_name_end.value_counts().sort_values(ascending=False).head(10))"
   ]
  },
  {
   "cell_type": "markdown",
   "metadata": {},
   "source": [
    "<a =id='res_before'></a>\n",
    "### Локомотивы резервом до начала планирования [ToC](#toc)"
   ]
  },
  {
   "cell_type": "code",
   "execution_count": 42,
   "metadata": {
    "collapsed": false
   },
   "outputs": [
    {
     "name": "stdout",
     "output_type": "stream",
     "text": [
      "Время начала планирования: Jun 09, 14:41 (1465472474)\n",
      "Всего 0 локомотивов, отправленных резервом до начала планирования (показаны первые 10):\n"
     ]
    }
   ],
   "source": [
    "add_info(links)\n",
    "print('Время начала планирования: %s (%d)' % (time.strftime(time_format, time.localtime(current_time)), current_time))\n",
    "loco_res_trips['link_name'] = list(zip(loco_res_trips.st_from_name, loco_res_trips.st_to_name))\n",
    "links['link_name'] = list(zip(links.st_from_name, links.st_to_name))\n",
    "loco_res_trips['dir'] = loco_res_trips.link_name.map(links.drop_duplicates('link_name').set_index('link_name')['dir'])\n",
    "loco_res_trips_hor = loco_res_trips.loc[loco_res_trips.time_start < current_time + hor]\n",
    "    \n",
    "cols = ['loco', 'st_from_name', 'st_to_name_end', 'time_start', 'time_start_norm', 'dir', 'train']\n",
    "res_before_ct = loco_res_trips.loc[loco_res_trips.time_start < current_time, cols]\n",
    "add_header('Всего %d локомотивов, отправленных резервом до начала планирования (показаны первые 10):' % len(res_before_ct.index))\n",
    "if not res_before_ct.empty:\n",
    "    add_line(res_before_ct.sort_values('time_start').head(10))"
   ]
  },
  {
   "cell_type": "markdown",
   "metadata": {},
   "source": [
    "<a =id='res_even'></a>\n",
    "### Локомотивы резервом в четном направлении [ToC](#toc)"
   ]
  },
  {
   "cell_type": "code",
   "execution_count": 43,
   "metadata": {
    "collapsed": false
   },
   "outputs": [
    {
     "name": "stdout",
     "output_type": "stream",
     "text": [
      "Самые частые маршруты для локомотивов резервом в четном направлении (всего 183, показаны первые 10):\n",
      "st_from_name                        st_to_name_end      \n",
      "БИРА                                ХАБАРОВСК II            16\n",
      "ВОЛОЧАЕВКА I                        ХАБАРОВСК II            15\n",
      "МАРИИНСК                            КРАСНОЯРСК-ВОСТОЧНЫЙ    10\n",
      "ЧИТА I                              КАРЫМСКАЯ                9\n",
      "БЕЛОГОРСК II                        ХАБАРОВСК II             5\n",
      "МАРИИНСК                            БОГОТОЛ                  5\n",
      "КОМСОМОЛЬСК-НА-АМУРЕ-СОРТИРОВОЧНЫЙ  ВЫСОКОГОРНАЯ             4\n",
      "УССУРИЙСК                           СМОЛЯНИНОВО              4\n",
      "ГОРХОН                              ПЕТРОВСКИЙ ЗАВОД         4\n",
      "КОМСОМОЛЬСК-НА-АМУРЕ-СОРТИРОВОЧНЫЙ  ДЗЕМГИ                   4\n",
      "\n",
      "Локомотивы резервом на самом частном маршруте в четном направлении:\n",
      "         loco st_from_name st_to_name_end  time_start time_start_norm  dir           train\n",
      " 200200048330         БИРА   ХАБАРОВСК II  1465472474   Jun 09, 14:41    0  88880007964444\n",
      " 200200087630         БИРА   ХАБАРОВСК II  1465472474   Jun 09, 14:41    0  88880007864684\n",
      " 200200067477         БИРА   ХАБАРОВСК II  1465477006   Jun 09, 15:56    0  88880007964448\n",
      " 200200030606         БИРА   ХАБАРОВСК II  1465482610   Jun 09, 17:30    0  88880007984256\n",
      " 200200046719         БИРА   ХАБАРОВСК II  1465485480   Jun 09, 18:18    0  88880007964442\n",
      " 200200075918         БИРА   ХАБАРОВСК II  1465485886   Jun 09, 18:24    0  88880007864678\n",
      " 200200056295         БИРА   ХАБАРОВСК II  1465487410   Jun 09, 18:50    0  88880009404778\n",
      " 200200084763         БИРА   ХАБАРОВСК II  1465503221   Jun 09, 23:13    0  88880009344286\n",
      " 200200096590         БИРА   ХАБАРОВСК II  1465506323   Jun 10, 00:05    0  88880008634288\n",
      " 200200138371         БИРА   ХАБАРОВСК II  1465514468   Jun 10, 02:21    0  88880009214884\n",
      " 200200103339         БИРА   ХАБАРОВСК II  1465516123   Jun 10, 02:48    0  88880009214888\n",
      " 200200101092         БИРА   ХАБАРОВСК II  1465518279   Jun 10, 03:24    0  88880009324322\n",
      " 200200068759         БИРА   ХАБАРОВСК II  1465523876   Jun 10, 04:57    0  88880009324318\n",
      " 200200094812         БИРА   ХАБАРОВСК II  1465547403   Jun 10, 11:30    0  88880009864832\n",
      " 200200104695         БИРА   ХАБАРОВСК II  1465557213   Jun 10, 14:13    0  88880009774306\n",
      " 200207612043         БИРА   ХАБАРОВСК II  1465558012   Jun 10, 14:26    0  88880004634584\n"
     ]
    }
   ],
   "source": [
    "cols = ['loco', 'st_from_name', 'st_to_name_end', 'time_start', 'time_start_norm', 'dir', 'train']\n",
    "even_res = loco_res_trips.loc[loco_res_trips.dir == 0, cols]\n",
    "even_res_hor = loco_res_trips_hor.loc[loco_res_trips_hor.dir == 0, cols]\n",
    "a = even_res_hor.groupby('st_from_name').st_to_name_end.value_counts().sort_values(ascending=False)\n",
    "add_header('Самые частые маршруты для локомотивов резервом в четном направлении (всего %d, показаны первые 10):' \n",
    "      % even_res_hor.loco.drop_duplicates().count())\n",
    "add_line(a.head(10))\n",
    "\n",
    "st_from = a.to_frame().reset_index().ix[0]['st_from_name']\n",
    "st_to = a.to_frame().reset_index().ix[0]['st_to_name_end']\n",
    "most_even_res = even_res_hor.loc[(even_res_hor.st_from_name == st_from) \n",
    "                                 & (even_res_hor.st_to_name_end == st_to)].sort_values('time_start')\n",
    "add_header('\\nЛокомотивы резервом на самом частном маршруте в четном направлении:')\n",
    "add_line(most_even_res)"
   ]
  },
  {
   "cell_type": "markdown",
   "metadata": {},
   "source": [
    "### Причины появления четных локомотивов резервом:"
   ]
  },
  {
   "cell_type": "markdown",
   "metadata": {},
   "source": [
    "1. Мариинск и Карымская не являются станциями прохождения ТО. Поэтому локомотивы пересылаются резервом из Мариинска в Боготол для прохождения ТО или из Читы на Карымскую после прохождения ТО в Чите для подвязки под поезда в Карымской. Необходимо обновить справочник ПТОЛ.\n",
    "2. У локомотивов среди разрешенных тяговых плеч указаны и Мариинск-Борзя, и Карымская-Хабаровск. Поэтому локомотивы едут резервом из Читы в Карымскую, чтобы везти локомотивы на Хабаровск, поскольку Чита совсем недалеко от Карымской. Если бы у локомотивов с плеча Мариинск-Борзя не было проставлено плечо Карымская-Хабаровск, то направления резервом из Читы не было бы. Необходимо загрузить новый справочник тяговых плеч, где такого не будет.\n",
    "3. Поезда своего формирования (ССП) из Карымской следуют только до Читы. Поэтому локомотивы и освобождаются в Чите. Но поскольку в Чите они не нужны, то следуют резервом \"куда-то, где нужны\". В новом справочнике от Войтенко поезда СФ из Карымской следуют до Иркутска, Челутая и Петровского Завода -- это дальше Читы. Поэтому отправлений резервом из Читы станет меньше. Аналогичная проблема: для поездов СФ из Красноярска-Восточного и Тайшета.\n",
    "4. Недостаточное количество поездов в четном направлении на главном ходу -- поэтому локомотивы, которые могли бы ехать в четную сторону с поездами, едут резервом. Будет исправлено с загрузкой новых маршрутов.\n",
    "5. Смена локомотивов происходит на станции Горелый (для маршрутов типа Карымская--Беркакит или Таксимо--Карымская, например). Хотя поезд правильнее заводить на Сковородино и менять локомотив там. Проблема в том, что тогда на маршруте поезда получится петля типа \"Бамовская -- Горелый -- Сковородино -- Горелый -- Штурм\". Текущий алгоритм построения маршрутов не сможет сгенерировать такой маршрут у поезда. Видимо, нужна более продвинутая проверка на приоритетные станции при смене локомотивов и корректировка маршрута поезда. Сложная проблема, надо думать. Пока отложено до 10.05.2016.\n",
    "6. Узел Комсомольска-на-Амуре сложный, надо разбираться. Возможно, надо будет вводить дополнительный участок планирования КнА II - КнА-Сорт. Тоже сложная проблема, тоже пока отложено до 10.05.2016."
   ]
  },
  {
   "cell_type": "code",
   "execution_count": 44,
   "metadata": {
    "collapsed": false
   },
   "outputs": [
    {
     "name": "stdout",
     "output_type": "stream",
     "text": [
      "Thu Jun  9 14:41:14 2016\n"
     ]
    },
    {
     "data": {
      "text/html": [
       "<div>\n",
       "<table border=\"1\" class=\"dataframe\">\n",
       "  <thead>\n",
       "    <tr style=\"text-align: right;\">\n",
       "      <th></th>\n",
       "      <th>loco</th>\n",
       "      <th>st_from_name</th>\n",
       "      <th>st_to_name</th>\n",
       "      <th>time_start_norm</th>\n",
       "      <th>time_end_norm</th>\n",
       "      <th>state</th>\n",
       "      <th>train</th>\n",
       "    </tr>\n",
       "  </thead>\n",
       "  <tbody>\n",
       "    <tr>\n",
       "      <th>11248</th>\n",
       "      <td>200200048330</td>\n",
       "      <td>ОБЛУЧЬЕ</td>\n",
       "      <td>ИЗВЕСТКОВАЯ</td>\n",
       "      <td>Jun 09, 10:09</td>\n",
       "      <td>Jun 09, 11:05</td>\n",
       "      <td>1</td>\n",
       "      <td>210207437307</td>\n",
       "    </tr>\n",
       "    <tr>\n",
       "      <th>11249</th>\n",
       "      <td>200200048330</td>\n",
       "      <td>ИЗВЕСТКОВАЯ</td>\n",
       "      <td>БИРА</td>\n",
       "      <td>Jun 09, 11:05</td>\n",
       "      <td>Jun 09, 12:30</td>\n",
       "      <td>1</td>\n",
       "      <td>210207437307</td>\n",
       "    </tr>\n",
       "    <tr>\n",
       "      <th>11250</th>\n",
       "      <td>200200048330</td>\n",
       "      <td>БИРА</td>\n",
       "      <td>NaN</td>\n",
       "      <td>Jun 09, 14:41</td>\n",
       "      <td>Jun 09, 15:26</td>\n",
       "      <td>0</td>\n",
       "      <td>88880007964444</td>\n",
       "    </tr>\n",
       "    <tr>\n",
       "      <th>11251</th>\n",
       "      <td>200200048330</td>\n",
       "      <td>NaN</td>\n",
       "      <td>ВОЛОЧАЕВКА I</td>\n",
       "      <td>Jun 09, 15:26</td>\n",
       "      <td>Jun 09, 17:07</td>\n",
       "      <td>0</td>\n",
       "      <td>88880007964444</td>\n",
       "    </tr>\n",
       "    <tr>\n",
       "      <th>11252</th>\n",
       "      <td>200200048330</td>\n",
       "      <td>ВОЛОЧАЕВКА I</td>\n",
       "      <td>ТУНГУССКИЙ</td>\n",
       "      <td>Jun 09, 17:07</td>\n",
       "      <td>Jun 09, 17:12</td>\n",
       "      <td>0</td>\n",
       "      <td>88880007964444</td>\n",
       "    </tr>\n",
       "    <tr>\n",
       "      <th>11253</th>\n",
       "      <td>200200048330</td>\n",
       "      <td>ТУНГУССКИЙ</td>\n",
       "      <td>ДЕЖНЕВКА</td>\n",
       "      <td>Jun 09, 17:12</td>\n",
       "      <td>Jun 09, 17:17</td>\n",
       "      <td>0</td>\n",
       "      <td>88880007964444</td>\n",
       "    </tr>\n",
       "    <tr>\n",
       "      <th>11254</th>\n",
       "      <td>200200048330</td>\n",
       "      <td>ДЕЖНЕВКА</td>\n",
       "      <td>ПРИАМУРСКАЯ</td>\n",
       "      <td>Jun 09, 17:17</td>\n",
       "      <td>Jun 09, 17:41</td>\n",
       "      <td>0</td>\n",
       "      <td>88880007964444</td>\n",
       "    </tr>\n",
       "    <tr>\n",
       "      <th>11255</th>\n",
       "      <td>200200048330</td>\n",
       "      <td>ПРИАМУРСКАЯ</td>\n",
       "      <td>ПОСТ-ПОКРОВСКИЙ</td>\n",
       "      <td>Jun 09, 17:41</td>\n",
       "      <td>Jun 09, 17:45</td>\n",
       "      <td>0</td>\n",
       "      <td>88880007964444</td>\n",
       "    </tr>\n",
       "    <tr>\n",
       "      <th>11256</th>\n",
       "      <td>200200048330</td>\n",
       "      <td>ПОСТ-ПОКРОВСКИЙ</td>\n",
       "      <td>АМУР</td>\n",
       "      <td>Jun 09, 17:45</td>\n",
       "      <td>Jun 09, 18:01</td>\n",
       "      <td>0</td>\n",
       "      <td>88880007964444</td>\n",
       "    </tr>\n",
       "    <tr>\n",
       "      <th>11257</th>\n",
       "      <td>200200048330</td>\n",
       "      <td>АМУР</td>\n",
       "      <td>ХАБАРОВСК I</td>\n",
       "      <td>Jun 09, 18:01</td>\n",
       "      <td>Jun 09, 18:19</td>\n",
       "      <td>0</td>\n",
       "      <td>88880007964444</td>\n",
       "    </tr>\n",
       "    <tr>\n",
       "      <th>11258</th>\n",
       "      <td>200200048330</td>\n",
       "      <td>ХАБАРОВСК I</td>\n",
       "      <td>ХАБАРОВСК II</td>\n",
       "      <td>Jun 09, 18:19</td>\n",
       "      <td>Jun 09, 18:42</td>\n",
       "      <td>0</td>\n",
       "      <td>88880007964444</td>\n",
       "    </tr>\n",
       "    <tr>\n",
       "      <th>11259</th>\n",
       "      <td>200200048330</td>\n",
       "      <td>ХАБАРОВСК II</td>\n",
       "      <td>ХАБАРОВСК I</td>\n",
       "      <td>Jun 09, 21:10</td>\n",
       "      <td>Jun 09, 21:29</td>\n",
       "      <td>1</td>\n",
       "      <td>999912435032041</td>\n",
       "    </tr>\n",
       "    <tr>\n",
       "      <th>11260</th>\n",
       "      <td>200200048330</td>\n",
       "      <td>ХАБАРОВСК I</td>\n",
       "      <td>АМУР</td>\n",
       "      <td>Jun 09, 21:29</td>\n",
       "      <td>Jun 09, 21:47</td>\n",
       "      <td>1</td>\n",
       "      <td>999912435032041</td>\n",
       "    </tr>\n",
       "    <tr>\n",
       "      <th>11261</th>\n",
       "      <td>200200048330</td>\n",
       "      <td>АМУР</td>\n",
       "      <td>ПОСТ-ПОКРОВСКИЙ</td>\n",
       "      <td>Jun 09, 21:47</td>\n",
       "      <td>Jun 09, 21:56</td>\n",
       "      <td>1</td>\n",
       "      <td>999912435032041</td>\n",
       "    </tr>\n",
       "    <tr>\n",
       "      <th>11262</th>\n",
       "      <td>200200048330</td>\n",
       "      <td>ПОСТ-ПОКРОВСКИЙ</td>\n",
       "      <td>ПРИАМУРСКАЯ</td>\n",
       "      <td>Jun 09, 21:56</td>\n",
       "      <td>Jun 09, 22:03</td>\n",
       "      <td>1</td>\n",
       "      <td>999912435032041</td>\n",
       "    </tr>\n",
       "    <tr>\n",
       "      <th>11263</th>\n",
       "      <td>200200048330</td>\n",
       "      <td>ПРИАМУРСКАЯ</td>\n",
       "      <td>ДЕЖНЕВКА</td>\n",
       "      <td>Jun 09, 22:03</td>\n",
       "      <td>Jun 09, 22:20</td>\n",
       "      <td>1</td>\n",
       "      <td>999912435032041</td>\n",
       "    </tr>\n",
       "    <tr>\n",
       "      <th>11264</th>\n",
       "      <td>200200048330</td>\n",
       "      <td>ДЕЖНЕВКА</td>\n",
       "      <td>ТУНГУССКИЙ</td>\n",
       "      <td>Jun 09, 22:20</td>\n",
       "      <td>Jun 09, 22:25</td>\n",
       "      <td>1</td>\n",
       "      <td>999912435032041</td>\n",
       "    </tr>\n",
       "    <tr>\n",
       "      <th>11265</th>\n",
       "      <td>200200048330</td>\n",
       "      <td>ТУНГУССКИЙ</td>\n",
       "      <td>ВОЛОЧАЕВКА I</td>\n",
       "      <td>Jun 09, 22:25</td>\n",
       "      <td>Jun 09, 22:30</td>\n",
       "      <td>1</td>\n",
       "      <td>999912435032041</td>\n",
       "    </tr>\n",
       "    <tr>\n",
       "      <th>11266</th>\n",
       "      <td>200200048330</td>\n",
       "      <td>ВОЛОЧАЕВКА I</td>\n",
       "      <td>ТУНГУССКИЙ</td>\n",
       "      <td>Jun 10, 00:20</td>\n",
       "      <td>Jun 10, 00:25</td>\n",
       "      <td>0</td>\n",
       "      <td>88880008644824</td>\n",
       "    </tr>\n",
       "    <tr>\n",
       "      <th>11267</th>\n",
       "      <td>200200048330</td>\n",
       "      <td>ТУНГУССКИЙ</td>\n",
       "      <td>ДЕЖНЕВКА</td>\n",
       "      <td>Jun 10, 00:25</td>\n",
       "      <td>Jun 10, 00:30</td>\n",
       "      <td>0</td>\n",
       "      <td>88880008644824</td>\n",
       "    </tr>\n",
       "    <tr>\n",
       "      <th>11268</th>\n",
       "      <td>200200048330</td>\n",
       "      <td>ДЕЖНЕВКА</td>\n",
       "      <td>ПРИАМУРСКАЯ</td>\n",
       "      <td>Jun 10, 00:30</td>\n",
       "      <td>Jun 10, 00:50</td>\n",
       "      <td>0</td>\n",
       "      <td>88880008644824</td>\n",
       "    </tr>\n",
       "    <tr>\n",
       "      <th>11269</th>\n",
       "      <td>200200048330</td>\n",
       "      <td>ПРИАМУРСКАЯ</td>\n",
       "      <td>ПОСТ-ПОКРОВСКИЙ</td>\n",
       "      <td>Jun 10, 00:50</td>\n",
       "      <td>Jun 10, 00:53</td>\n",
       "      <td>0</td>\n",
       "      <td>88880008644824</td>\n",
       "    </tr>\n",
       "    <tr>\n",
       "      <th>11270</th>\n",
       "      <td>200200048330</td>\n",
       "      <td>ПОСТ-ПОКРОВСКИЙ</td>\n",
       "      <td>АМУР</td>\n",
       "      <td>Jun 10, 00:53</td>\n",
       "      <td>Jun 10, 01:03</td>\n",
       "      <td>0</td>\n",
       "      <td>88880008644824</td>\n",
       "    </tr>\n",
       "    <tr>\n",
       "      <th>11271</th>\n",
       "      <td>200200048330</td>\n",
       "      <td>АМУР</td>\n",
       "      <td>ХАБАРОВСК I</td>\n",
       "      <td>Jun 10, 01:03</td>\n",
       "      <td>Jun 10, 01:18</td>\n",
       "      <td>0</td>\n",
       "      <td>88880008644824</td>\n",
       "    </tr>\n",
       "    <tr>\n",
       "      <th>11272</th>\n",
       "      <td>200200048330</td>\n",
       "      <td>ХАБАРОВСК I</td>\n",
       "      <td>ХАБАРОВСК II</td>\n",
       "      <td>Jun 10, 01:18</td>\n",
       "      <td>Jun 10, 01:42</td>\n",
       "      <td>0</td>\n",
       "      <td>88880008644824</td>\n",
       "    </tr>\n",
       "    <tr>\n",
       "      <th>...</th>\n",
       "      <td>...</td>\n",
       "      <td>...</td>\n",
       "      <td>...</td>\n",
       "      <td>...</td>\n",
       "      <td>...</td>\n",
       "      <td>...</td>\n",
       "      <td>...</td>\n",
       "    </tr>\n",
       "    <tr>\n",
       "      <th>11284</th>\n",
       "      <td>200200048330</td>\n",
       "      <td>ОБЛУЧЬЕ</td>\n",
       "      <td>АРХАРА</td>\n",
       "      <td>Jun 10, 14:30</td>\n",
       "      <td>Jun 10, 16:59</td>\n",
       "      <td>0</td>\n",
       "      <td>88880010614607</td>\n",
       "    </tr>\n",
       "    <tr>\n",
       "      <th>11285</th>\n",
       "      <td>200200048330</td>\n",
       "      <td>АРХАРА</td>\n",
       "      <td>БУРЕЯ</td>\n",
       "      <td>Jun 10, 16:59</td>\n",
       "      <td>Jun 10, 17:56</td>\n",
       "      <td>0</td>\n",
       "      <td>88880010614607</td>\n",
       "    </tr>\n",
       "    <tr>\n",
       "      <th>11286</th>\n",
       "      <td>200200048330</td>\n",
       "      <td>БУРЕЯ</td>\n",
       "      <td>ЗАВИТАЯ</td>\n",
       "      <td>Jun 10, 17:56</td>\n",
       "      <td>Jun 10, 18:45</td>\n",
       "      <td>0</td>\n",
       "      <td>88880010614607</td>\n",
       "    </tr>\n",
       "    <tr>\n",
       "      <th>11287</th>\n",
       "      <td>200200048330</td>\n",
       "      <td>ЗАВИТАЯ</td>\n",
       "      <td>БЕЛОГОРСК II</td>\n",
       "      <td>Jun 10, 18:45</td>\n",
       "      <td>Jun 10, 20:40</td>\n",
       "      <td>0</td>\n",
       "      <td>88880010614607</td>\n",
       "    </tr>\n",
       "    <tr>\n",
       "      <th>11288</th>\n",
       "      <td>200200048330</td>\n",
       "      <td>БЕЛОГОРСК II</td>\n",
       "      <td>ЗАВИТАЯ</td>\n",
       "      <td>Jun 26, 10:52</td>\n",
       "      <td>Jun 26, 13:02</td>\n",
       "      <td>1</td>\n",
       "      <td>9999166452112000</td>\n",
       "    </tr>\n",
       "    <tr>\n",
       "      <th>11289</th>\n",
       "      <td>200200048330</td>\n",
       "      <td>ЗАВИТАЯ</td>\n",
       "      <td>БУРЕЯ</td>\n",
       "      <td>Jun 26, 13:02</td>\n",
       "      <td>Jun 26, 14:02</td>\n",
       "      <td>1</td>\n",
       "      <td>9999166452112000</td>\n",
       "    </tr>\n",
       "    <tr>\n",
       "      <th>11290</th>\n",
       "      <td>200200048330</td>\n",
       "      <td>БУРЕЯ</td>\n",
       "      <td>АРХАРА</td>\n",
       "      <td>Jun 26, 14:02</td>\n",
       "      <td>Jun 26, 15:49</td>\n",
       "      <td>1</td>\n",
       "      <td>9999166452112000</td>\n",
       "    </tr>\n",
       "    <tr>\n",
       "      <th>11291</th>\n",
       "      <td>200200048330</td>\n",
       "      <td>АРХАРА</td>\n",
       "      <td>ОБЛУЧЬЕ</td>\n",
       "      <td>Jun 26, 15:49</td>\n",
       "      <td>Jun 26, 18:10</td>\n",
       "      <td>1</td>\n",
       "      <td>9999166452112000</td>\n",
       "    </tr>\n",
       "    <tr>\n",
       "      <th>11292</th>\n",
       "      <td>200200048330</td>\n",
       "      <td>ОБЛУЧЬЕ</td>\n",
       "      <td>ИЗВЕСТКОВАЯ</td>\n",
       "      <td>Jun 26, 18:20</td>\n",
       "      <td>Jun 26, 19:17</td>\n",
       "      <td>1</td>\n",
       "      <td>9999166452112000</td>\n",
       "    </tr>\n",
       "    <tr>\n",
       "      <th>11293</th>\n",
       "      <td>200200048330</td>\n",
       "      <td>ИЗВЕСТКОВАЯ</td>\n",
       "      <td>БИРА</td>\n",
       "      <td>Jun 26, 19:17</td>\n",
       "      <td>Jun 26, 20:49</td>\n",
       "      <td>1</td>\n",
       "      <td>9999166452112000</td>\n",
       "    </tr>\n",
       "    <tr>\n",
       "      <th>11294</th>\n",
       "      <td>200200048330</td>\n",
       "      <td>БИРА</td>\n",
       "      <td>ИЗВЕСТКОВАЯ</td>\n",
       "      <td>Jun 23, 06:22</td>\n",
       "      <td>Jun 23, 07:54</td>\n",
       "      <td>0</td>\n",
       "      <td>88880002974795</td>\n",
       "    </tr>\n",
       "    <tr>\n",
       "      <th>11295</th>\n",
       "      <td>200200048330</td>\n",
       "      <td>ИЗВЕСТКОВАЯ</td>\n",
       "      <td>ОБЛУЧЬЕ</td>\n",
       "      <td>Jun 23, 11:34</td>\n",
       "      <td>Jun 23, 12:33</td>\n",
       "      <td>0</td>\n",
       "      <td>88880005874291</td>\n",
       "    </tr>\n",
       "    <tr>\n",
       "      <th>11296</th>\n",
       "      <td>200200048330</td>\n",
       "      <td>ОБЛУЧЬЕ</td>\n",
       "      <td>АРХАРА</td>\n",
       "      <td>Jun 23, 12:33</td>\n",
       "      <td>Jun 23, 15:10</td>\n",
       "      <td>0</td>\n",
       "      <td>88880005874291</td>\n",
       "    </tr>\n",
       "    <tr>\n",
       "      <th>11297</th>\n",
       "      <td>200200048330</td>\n",
       "      <td>АРХАРА</td>\n",
       "      <td>БУРЕЯ</td>\n",
       "      <td>Jun 23, 15:10</td>\n",
       "      <td>Jun 23, 16:07</td>\n",
       "      <td>0</td>\n",
       "      <td>88880005874291</td>\n",
       "    </tr>\n",
       "    <tr>\n",
       "      <th>11298</th>\n",
       "      <td>200200048330</td>\n",
       "      <td>БУРЕЯ</td>\n",
       "      <td>ЗАВИТАЯ</td>\n",
       "      <td>Jun 23, 16:07</td>\n",
       "      <td>Jun 23, 16:57</td>\n",
       "      <td>0</td>\n",
       "      <td>88880005874291</td>\n",
       "    </tr>\n",
       "    <tr>\n",
       "      <th>11299</th>\n",
       "      <td>200200048330</td>\n",
       "      <td>ЗАВИТАЯ</td>\n",
       "      <td>БЕЛОГОРСК II</td>\n",
       "      <td>Jun 23, 16:57</td>\n",
       "      <td>Jun 23, 18:59</td>\n",
       "      <td>0</td>\n",
       "      <td>88880005874291</td>\n",
       "    </tr>\n",
       "    <tr>\n",
       "      <th>11300</th>\n",
       "      <td>200200048330</td>\n",
       "      <td>БЕЛОГОРСК II</td>\n",
       "      <td>БЕЛОГОРСК</td>\n",
       "      <td>Jun 23, 18:59</td>\n",
       "      <td>Jun 23, 19:10</td>\n",
       "      <td>0</td>\n",
       "      <td>88880005874291</td>\n",
       "    </tr>\n",
       "    <tr>\n",
       "      <th>11301</th>\n",
       "      <td>200200048330</td>\n",
       "      <td>БЕЛОГОРСК</td>\n",
       "      <td>ЛЕДЯНАЯ</td>\n",
       "      <td>Jul 17, 15:02</td>\n",
       "      <td>Jul 17, 16:32</td>\n",
       "      <td>0</td>\n",
       "      <td>88880005874291</td>\n",
       "    </tr>\n",
       "    <tr>\n",
       "      <th>11302</th>\n",
       "      <td>200200048330</td>\n",
       "      <td>ЛЕДЯНАЯ</td>\n",
       "      <td>ШИМАНОВСКАЯ</td>\n",
       "      <td>Jul 17, 16:32</td>\n",
       "      <td>Jul 17, 17:10</td>\n",
       "      <td>0</td>\n",
       "      <td>88880005874291</td>\n",
       "    </tr>\n",
       "    <tr>\n",
       "      <th>11303</th>\n",
       "      <td>200200048330</td>\n",
       "      <td>ШИМАНОВСКАЯ</td>\n",
       "      <td>УШУМУН</td>\n",
       "      <td>Jul 17, 17:10</td>\n",
       "      <td>Jul 17, 19:03</td>\n",
       "      <td>0</td>\n",
       "      <td>88880005874291</td>\n",
       "    </tr>\n",
       "    <tr>\n",
       "      <th>11304</th>\n",
       "      <td>200200048330</td>\n",
       "      <td>УШУМУН</td>\n",
       "      <td>МАГДАГАЧИ</td>\n",
       "      <td>Jul 17, 19:03</td>\n",
       "      <td>Jul 17, 21:08</td>\n",
       "      <td>0</td>\n",
       "      <td>88880005874291</td>\n",
       "    </tr>\n",
       "    <tr>\n",
       "      <th>11305</th>\n",
       "      <td>200200048330</td>\n",
       "      <td>МАГДАГАЧИ</td>\n",
       "      <td>ТАЛДАН</td>\n",
       "      <td>Jul 17, 21:08</td>\n",
       "      <td>Jul 17, 21:51</td>\n",
       "      <td>0</td>\n",
       "      <td>88880005874291</td>\n",
       "    </tr>\n",
       "    <tr>\n",
       "      <th>11306</th>\n",
       "      <td>200200048330</td>\n",
       "      <td>ТАЛДАН</td>\n",
       "      <td>БОЛЬШОЙ НЕВЕР</td>\n",
       "      <td>Jul 17, 21:51</td>\n",
       "      <td>Jul 17, 23:15</td>\n",
       "      <td>0</td>\n",
       "      <td>88880005874291</td>\n",
       "    </tr>\n",
       "    <tr>\n",
       "      <th>11307</th>\n",
       "      <td>200200048330</td>\n",
       "      <td>БОЛЬШОЙ НЕВЕР</td>\n",
       "      <td>СКОВОРОДИНО</td>\n",
       "      <td>Jul 17, 23:15</td>\n",
       "      <td>Jul 17, 23:40</td>\n",
       "      <td>0</td>\n",
       "      <td>88880005874291</td>\n",
       "    </tr>\n",
       "    <tr>\n",
       "      <th>11308</th>\n",
       "      <td>200200048330</td>\n",
       "      <td>СКОВОРОДИНО</td>\n",
       "      <td>ГОРЕЛЫЙ</td>\n",
       "      <td>Jul 17, 23:50</td>\n",
       "      <td>Jul 18, 00:25</td>\n",
       "      <td>0</td>\n",
       "      <td>88880005874291</td>\n",
       "    </tr>\n",
       "  </tbody>\n",
       "</table>\n",
       "<p>61 rows × 7 columns</p>\n",
       "</div>"
      ],
      "text/plain": [
       "               loco     st_from_name       st_to_name time_start_norm  \\\n",
       "11248  200200048330          ОБЛУЧЬЕ      ИЗВЕСТКОВАЯ   Jun 09, 10:09   \n",
       "11249  200200048330      ИЗВЕСТКОВАЯ             БИРА   Jun 09, 11:05   \n",
       "11250  200200048330             БИРА              NaN   Jun 09, 14:41   \n",
       "11251  200200048330              NaN     ВОЛОЧАЕВКА I   Jun 09, 15:26   \n",
       "11252  200200048330     ВОЛОЧАЕВКА I       ТУНГУССКИЙ   Jun 09, 17:07   \n",
       "11253  200200048330       ТУНГУССКИЙ         ДЕЖНЕВКА   Jun 09, 17:12   \n",
       "11254  200200048330         ДЕЖНЕВКА      ПРИАМУРСКАЯ   Jun 09, 17:17   \n",
       "11255  200200048330      ПРИАМУРСКАЯ  ПОСТ-ПОКРОВСКИЙ   Jun 09, 17:41   \n",
       "11256  200200048330  ПОСТ-ПОКРОВСКИЙ             АМУР   Jun 09, 17:45   \n",
       "11257  200200048330             АМУР      ХАБАРОВСК I   Jun 09, 18:01   \n",
       "11258  200200048330      ХАБАРОВСК I     ХАБАРОВСК II   Jun 09, 18:19   \n",
       "11259  200200048330     ХАБАРОВСК II      ХАБАРОВСК I   Jun 09, 21:10   \n",
       "11260  200200048330      ХАБАРОВСК I             АМУР   Jun 09, 21:29   \n",
       "11261  200200048330             АМУР  ПОСТ-ПОКРОВСКИЙ   Jun 09, 21:47   \n",
       "11262  200200048330  ПОСТ-ПОКРОВСКИЙ      ПРИАМУРСКАЯ   Jun 09, 21:56   \n",
       "11263  200200048330      ПРИАМУРСКАЯ         ДЕЖНЕВКА   Jun 09, 22:03   \n",
       "11264  200200048330         ДЕЖНЕВКА       ТУНГУССКИЙ   Jun 09, 22:20   \n",
       "11265  200200048330       ТУНГУССКИЙ     ВОЛОЧАЕВКА I   Jun 09, 22:25   \n",
       "11266  200200048330     ВОЛОЧАЕВКА I       ТУНГУССКИЙ   Jun 10, 00:20   \n",
       "11267  200200048330       ТУНГУССКИЙ         ДЕЖНЕВКА   Jun 10, 00:25   \n",
       "11268  200200048330         ДЕЖНЕВКА      ПРИАМУРСКАЯ   Jun 10, 00:30   \n",
       "11269  200200048330      ПРИАМУРСКАЯ  ПОСТ-ПОКРОВСКИЙ   Jun 10, 00:50   \n",
       "11270  200200048330  ПОСТ-ПОКРОВСКИЙ             АМУР   Jun 10, 00:53   \n",
       "11271  200200048330             АМУР      ХАБАРОВСК I   Jun 10, 01:03   \n",
       "11272  200200048330      ХАБАРОВСК I     ХАБАРОВСК II   Jun 10, 01:18   \n",
       "...             ...              ...              ...             ...   \n",
       "11284  200200048330          ОБЛУЧЬЕ           АРХАРА   Jun 10, 14:30   \n",
       "11285  200200048330           АРХАРА            БУРЕЯ   Jun 10, 16:59   \n",
       "11286  200200048330            БУРЕЯ          ЗАВИТАЯ   Jun 10, 17:56   \n",
       "11287  200200048330          ЗАВИТАЯ     БЕЛОГОРСК II   Jun 10, 18:45   \n",
       "11288  200200048330     БЕЛОГОРСК II          ЗАВИТАЯ   Jun 26, 10:52   \n",
       "11289  200200048330          ЗАВИТАЯ            БУРЕЯ   Jun 26, 13:02   \n",
       "11290  200200048330            БУРЕЯ           АРХАРА   Jun 26, 14:02   \n",
       "11291  200200048330           АРХАРА          ОБЛУЧЬЕ   Jun 26, 15:49   \n",
       "11292  200200048330          ОБЛУЧЬЕ      ИЗВЕСТКОВАЯ   Jun 26, 18:20   \n",
       "11293  200200048330      ИЗВЕСТКОВАЯ             БИРА   Jun 26, 19:17   \n",
       "11294  200200048330             БИРА      ИЗВЕСТКОВАЯ   Jun 23, 06:22   \n",
       "11295  200200048330      ИЗВЕСТКОВАЯ          ОБЛУЧЬЕ   Jun 23, 11:34   \n",
       "11296  200200048330          ОБЛУЧЬЕ           АРХАРА   Jun 23, 12:33   \n",
       "11297  200200048330           АРХАРА            БУРЕЯ   Jun 23, 15:10   \n",
       "11298  200200048330            БУРЕЯ          ЗАВИТАЯ   Jun 23, 16:07   \n",
       "11299  200200048330          ЗАВИТАЯ     БЕЛОГОРСК II   Jun 23, 16:57   \n",
       "11300  200200048330     БЕЛОГОРСК II        БЕЛОГОРСК   Jun 23, 18:59   \n",
       "11301  200200048330        БЕЛОГОРСК          ЛЕДЯНАЯ   Jul 17, 15:02   \n",
       "11302  200200048330          ЛЕДЯНАЯ      ШИМАНОВСКАЯ   Jul 17, 16:32   \n",
       "11303  200200048330      ШИМАНОВСКАЯ           УШУМУН   Jul 17, 17:10   \n",
       "11304  200200048330           УШУМУН        МАГДАГАЧИ   Jul 17, 19:03   \n",
       "11305  200200048330        МАГДАГАЧИ           ТАЛДАН   Jul 17, 21:08   \n",
       "11306  200200048330           ТАЛДАН    БОЛЬШОЙ НЕВЕР   Jul 17, 21:51   \n",
       "11307  200200048330    БОЛЬШОЙ НЕВЕР      СКОВОРОДИНО   Jul 17, 23:15   \n",
       "11308  200200048330      СКОВОРОДИНО          ГОРЕЛЫЙ   Jul 17, 23:50   \n",
       "\n",
       "       time_end_norm  state             train  \n",
       "11248  Jun 09, 11:05      1      210207437307  \n",
       "11249  Jun 09, 12:30      1      210207437307  \n",
       "11250  Jun 09, 15:26      0    88880007964444  \n",
       "11251  Jun 09, 17:07      0    88880007964444  \n",
       "11252  Jun 09, 17:12      0    88880007964444  \n",
       "11253  Jun 09, 17:17      0    88880007964444  \n",
       "11254  Jun 09, 17:41      0    88880007964444  \n",
       "11255  Jun 09, 17:45      0    88880007964444  \n",
       "11256  Jun 09, 18:01      0    88880007964444  \n",
       "11257  Jun 09, 18:19      0    88880007964444  \n",
       "11258  Jun 09, 18:42      0    88880007964444  \n",
       "11259  Jun 09, 21:29      1   999912435032041  \n",
       "11260  Jun 09, 21:47      1   999912435032041  \n",
       "11261  Jun 09, 21:56      1   999912435032041  \n",
       "11262  Jun 09, 22:03      1   999912435032041  \n",
       "11263  Jun 09, 22:20      1   999912435032041  \n",
       "11264  Jun 09, 22:25      1   999912435032041  \n",
       "11265  Jun 09, 22:30      1   999912435032041  \n",
       "11266  Jun 10, 00:25      0    88880008644824  \n",
       "11267  Jun 10, 00:30      0    88880008644824  \n",
       "11268  Jun 10, 00:50      0    88880008644824  \n",
       "11269  Jun 10, 00:53      0    88880008644824  \n",
       "11270  Jun 10, 01:03      0    88880008644824  \n",
       "11271  Jun 10, 01:18      0    88880008644824  \n",
       "11272  Jun 10, 01:42      0    88880008644824  \n",
       "...              ...    ...               ...  \n",
       "11284  Jun 10, 16:59      0    88880010614607  \n",
       "11285  Jun 10, 17:56      0    88880010614607  \n",
       "11286  Jun 10, 18:45      0    88880010614607  \n",
       "11287  Jun 10, 20:40      0    88880010614607  \n",
       "11288  Jun 26, 13:02      1  9999166452112000  \n",
       "11289  Jun 26, 14:02      1  9999166452112000  \n",
       "11290  Jun 26, 15:49      1  9999166452112000  \n",
       "11291  Jun 26, 18:10      1  9999166452112000  \n",
       "11292  Jun 26, 19:17      1  9999166452112000  \n",
       "11293  Jun 26, 20:49      1  9999166452112000  \n",
       "11294  Jun 23, 07:54      0    88880002974795  \n",
       "11295  Jun 23, 12:33      0    88880005874291  \n",
       "11296  Jun 23, 15:10      0    88880005874291  \n",
       "11297  Jun 23, 16:07      0    88880005874291  \n",
       "11298  Jun 23, 16:57      0    88880005874291  \n",
       "11299  Jun 23, 18:59      0    88880005874291  \n",
       "11300  Jun 23, 19:10      0    88880005874291  \n",
       "11301  Jul 17, 16:32      0    88880005874291  \n",
       "11302  Jul 17, 17:10      0    88880005874291  \n",
       "11303  Jul 17, 19:03      0    88880005874291  \n",
       "11304  Jul 17, 21:08      0    88880005874291  \n",
       "11305  Jul 17, 21:51      0    88880005874291  \n",
       "11306  Jul 17, 23:15      0    88880005874291  \n",
       "11307  Jul 17, 23:40      0    88880005874291  \n",
       "11308  Jul 18, 00:25      0    88880005874291  \n",
       "\n",
       "[61 rows x 7 columns]"
      ]
     },
     "execution_count": 44,
     "metadata": {},
     "output_type": "execute_result"
    }
   ],
   "source": [
    "print(time.ctime(current_time))\n",
    "loco_cols = ['loco', 'st_from_name', 'st_to_name', 'time_start_norm', 'time_end_norm', 'state', 'train']\n",
    "train_cols = ['train', 'st_from_name', 'st_to_name', 'time_start_norm', 'time_end_norm']\n",
    "loco = most_even_res.loco.values[0]\n",
    "loco_plan[loco_plan.loco == loco][loco_cols]\n",
    "#train_plan[train_plan.train == '200239082277'][train_cols]\n",
    "#№loco_plan[loco_plan.train == '210230044336'].sort_values('time_start')[loco_cols].drop_duplicates()"
   ]
  },
  {
   "cell_type": "markdown",
   "metadata": {},
   "source": [
    "<a id='time_leaps'></a>\n",
    "## Проверка скачков по времени назад [ToC](#toc)"
   ]
  },
  {
   "cell_type": "code",
   "execution_count": 45,
   "metadata": {
    "collapsed": true
   },
   "outputs": [],
   "source": [
    "add_header('Проверка скачков по времени назад', h=2, p=False)"
   ]
  },
  {
   "cell_type": "code",
   "execution_count": 46,
   "metadata": {
    "collapsed": false
   },
   "outputs": [
    {
     "name": "stdout",
     "output_type": "stream",
     "text": [
      "Всего 578 локомотивов со скачками по времени назад в плане. Примеры:\n",
      "         loco st_from_name      st_to_name time_start_norm  time_end_norm next_time_start_norm\n",
      " 200200054007        СОЛЛУ    ВЫСОКОГОРНАЯ   Aug 16, 23:48  Aug 17, 00:00        Jun 12, 12:46\n",
      " 200200051954      ТАРСКАЯ       КАРЫМСКАЯ   Aug 12, 15:38  Aug 12, 15:58        Jul 18, 03:04\n",
      " 200200051954    СОЛНЦЕВАЯ  ШИЛКА-ТОВАРНАЯ   Jul 18, 05:36  Jul 18, 06:18        Jul 04, 19:31\n",
      " 200200086778      ТАРСКАЯ       КАРЫМСКАЯ   Aug 15, 01:02  Aug 15, 01:21        Jul 14, 15:36\n",
      " 200200105211  СМОЛЯНИНОВО     СМОЛЯНИНОВО   Aug 16, 15:36  Aug 16, 16:30        Jun 12, 04:13\n",
      " 200200066277      УРУЛЬГА         ТАРСКАЯ   Jun 11, 06:11  Jun 11, 06:43        Jun 10, 18:19\n",
      " 200200101092  ХАБАРОВСК I    ХАБАРОВСК II   Aug 15, 21:12  Aug 15, 21:35        Jun 12, 07:27\n",
      " 200200105190    ВИХОРЕВКА       ВИХОРЕВКА   Jun 26, 03:16  Jun 26, 04:10        Jun 20, 09:13\n",
      " 200200049872         БИРА     ИЗВЕСТКОВАЯ   Jun 21, 14:42  Jun 21, 16:07        Jun 12, 06:51\n",
      " 200200105168       ЗЫКОВО         БАЗАИХА   Aug 22, 23:05  Aug 22, 23:18        Jul 07, 03:53\n"
     ]
    }
   ],
   "source": [
    "loco_plan['next_time_start'] = loco_plan.time_start.shift(-1)\n",
    "loco_plan['next_time_start_norm'] = loco_plan.time_start_norm.shift(-1)\n",
    "loco_plan['loco_end'] = loco_plan.loco != loco_plan.loco.shift(-1)\n",
    "cols = ['loco', 'st_from_name', 'st_to_name', 'time_start_norm', 'time_end_norm', 'next_time_start_norm']\n",
    "leaps = loco_plan[(loco_plan.loco_end == False) & (loco_plan.next_time_start < loco_plan.time_end)]\n",
    "if leaps.empty:\n",
    "    add_header('Не найдено локомотивов со скачками по времени назад в плане')\n",
    "else:\n",
    "    add_header('Всего %d локомотивов со скачками по времени назад в плане. Примеры:' % leaps.loco.count())\n",
    "    add_line(leaps.head(10)[cols])"
   ]
  },
  {
   "cell_type": "markdown",
   "metadata": {},
   "source": [
    "<a id='report'></a>\n",
    "### Экспорт результатов в HTML [ToC](#toc)"
   ]
  },
  {
   "cell_type": "code",
   "execution_count": 47,
   "metadata": {
    "collapsed": false
   },
   "outputs": [
    {
     "name": "stdout",
     "output_type": "stream",
     "text": [
      "Отчет сформирован за 35.07 сек. и записан в файл report/loco_report_20160620_164941.html\n"
     ]
    }
   ],
   "source": [
    "filename = REPORT_FOLDER + 'loco_report_' + time.strftime('%Y%m%d_%H%M%S', time.localtime(time.time())) + '.html'\n",
    "create_report(filename)"
   ]
  }
 ],
 "metadata": {
  "kernelspec": {
   "display_name": "Python 3",
   "language": "python",
   "name": "python3"
  },
  "language_info": {
   "codemirror_mode": {
    "name": "ipython",
    "version": 3
   },
   "file_extension": ".py",
   "mimetype": "text/x-python",
   "name": "python",
   "nbconvert_exporter": "python",
   "pygments_lexer": "ipython3",
   "version": "3.5.1"
  }
 },
 "nbformat": 4,
 "nbformat_minor": 0
}
