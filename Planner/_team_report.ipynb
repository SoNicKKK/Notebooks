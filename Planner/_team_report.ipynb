{
 "cells": [
  {
   "cell_type": "markdown",
   "metadata": {},
   "source": [
    "<a id='toc'></a>\n",
    "# Список тестов по бригадам:"
   ]
  },
  {
   "cell_type": "markdown",
   "metadata": {},
   "source": [
    "1. [Расчет процента подвязки между бригадами и локомотивами.](#perc_assign)\n",
    "2. [Расчет процента запланированных бригад от общего количества бригад на входе планировщика.](#perc_assign2)\n",
    "3. [Распределение между реальными и фейковыми бригадами в результатах планирования.](#real_fake)\n",
    "4. [Составление списка станций и участков, на которых не состоялась подвязка бригады.](#no_assign)\n",
    "5. [Проверка переработки бригад.](#overwork)   \n",
    "6. [Проверка \"скачков\" бригад между станциями.](#leaps)\n",
    "7. [Анализ времен стоянок поездов для смены бригады.](#stop_time)\n",
    "8. [Анализ времен отдыха бригад.](#rest_time)\n",
    "9. [Проверка корректности времен явки бригад во входных данных](#ready_time)\n",
    "10. [Проверка смены бригад на корректных станциях](#change)\n",
    "11. [Проверка отправления бригад до времени явки](#presence)\n",
    "12. [Проверка планирования бригад до времени начала планирования](#before_current_time)\n",
    "13. [Проверка планируемых явок бригад](#presenting)\n",
    "14. [Проверка использования бригад после засылки пассажирами](#pass040)\n",
    "15. [Проверка подвязки негрузовых бригад](#pass_teams_in_plan)"
   ]
  },
  {
   "cell_type": "markdown",
   "metadata": {},
   "source": [
    "### Константы и настройки"
   ]
  },
  {
   "cell_type": "code",
   "execution_count": 85,
   "metadata": {
    "collapsed": true
   },
   "outputs": [],
   "source": [
    "report = ''\n",
    "FOLDER = 'resources/'\n",
    "REPORT_FOLDER = 'report/'\n",
    "PRINT = True"
   ]
  },
  {
   "cell_type": "code",
   "execution_count": 86,
   "metadata": {
    "collapsed": false
   },
   "outputs": [],
   "source": [
    "time_format = '%b %d, %H:%M'\n",
    "def sprint(s):\n",
    "    print(s.to_string(index=False))\n",
    "    \n",
    "#def scount(df):\n",
    "#    return scount(df, df.columns[0])\n",
    "    \n",
    "def scount(df, col):\n",
    "    return df[col].drop_duplicates().count() if col in df.columns else 0\n",
    "\n",
    "def nice_time(t):\n",
    "    return time.strftime(time_format, time.localtime(t)) if t > 0 else ''"
   ]
  },
  {
   "cell_type": "markdown",
   "metadata": {},
   "source": [
    "### Функции для экспорта в HTML"
   ]
  },
  {
   "cell_type": "code",
   "execution_count": 87,
   "metadata": {
    "collapsed": false
   },
   "outputs": [],
   "source": [
    "def add_line(line, p=PRINT):    \n",
    "    global report        \n",
    "    if p:                \n",
    "        if type(line) == pd.core.frame.DataFrame:\n",
    "            print(line.to_string(index=False))\n",
    "        elif type(line) == pd.core.series.Series:\n",
    "            print(line.to_string())\n",
    "        else:\n",
    "            print(line)\n",
    "    if type(line) == pd.core.frame.DataFrame:        \n",
    "        report += ('%s<br>' % line.to_html(index=False))\n",
    "    elif type(line) == pd.core.series.Series:\n",
    "        report += ('%s<br>' % line.to_frame().reset_index().to_html(index=False))\n",
    "    else:\n",
    "        if line[:2] == '\\n':\n",
    "            line_rep = line[2:]\n",
    "        else:\n",
    "            line_rep = line\n",
    "        report += ('%s<br>' % line_rep)\n",
    "    \n",
    "def add_header(header, h=4, p=PRINT):\n",
    "    global report\n",
    "    report += ('<h%d>%s</h%d>' % (h, header, h))\n",
    "    if p:\n",
    "        print(header)\n",
    "\n",
    "def add_image(filename):\n",
    "    global report\n",
    "    report += ('<img src=\"%s\" alt=\"%s\" height=\"40%%\">' % (filename, filename))\n",
    "\n",
    "def create_report(filename):\n",
    "    global report\n",
    "    report = report.replace('<table border=\"1\" class=\"dataframe\">','<table class=\"table table-striped\">')\n",
    "    html_string = '''\n",
    "        <html>\n",
    "            <head>\n",
    "                <link rel=\"stylesheet\" href=\"skeleton.css\">\n",
    "                <style>body{ margin:20 20; background:whitesmoke; }\n",
    "                table {table-layout : fixed}\n",
    "                </style>\n",
    "            </head>\n",
    "            <body>                \n",
    "                %s\n",
    "            </body>\n",
    "        </html>''' % (report)\n",
    "    f = open(filename,'w', encoding='utf-8-sig')\n",
    "    f.write(html_string)\n",
    "    f.close()\n",
    "    print('Отчет сформирован: %s' % filename)"
   ]
  },
  {
   "cell_type": "markdown",
   "metadata": {},
   "source": [
    "## Загрузка и подготовка данных"
   ]
  },
  {
   "cell_type": "code",
   "execution_count": 88,
   "metadata": {
    "collapsed": false
   },
   "outputs": [
    {
     "name": "stdout",
     "output_type": "stream",
     "text": [
      "Log time: 1466188800, Sat Jun 18 02:40:00 2016\n",
      "Read csvs: 2.41 sec\n"
     ]
    }
   ],
   "source": [
    "import numpy as np\n",
    "import pandas as pd\n",
    "import time, datetime\n",
    "from ast import literal_eval\n",
    "import matplotlib.pyplot as plt\n",
    "import seaborn as sns\n",
    "\n",
    "%matplotlib inline\n",
    "plt.style.use('fivethirtyeight')\n",
    "plt.rc('font', family='Times New Roman')\n",
    "\n",
    "pd.set_option('max_rows', 50)\n",
    "\n",
    "time_format = '%b %d, %H:%M'\n",
    "\n",
    "start_time = time.time()\n",
    "current_time = pd.read_csv(FOLDER + 'current_time.csv').current_time[0]\n",
    "twr          = pd.read_csv(FOLDER + 'team_work_region.csv', converters={'twr':str})\n",
    "links        = pd.read_csv(FOLDER + 'link.csv')\n",
    "stations     = pd.read_csv(FOLDER + 'station.csv', converters={'station':str})\n",
    "train_info   = pd.read_csv(FOLDER + 'train_info.csv', converters={'train': str, 'st_from':str, 'st_to':str})\n",
    "train_plan   = pd.read_csv(FOLDER + 'slot_train.csv', converters={'train': str, 'st_from':str, 'st_to':str})\n",
    "loco_info    = pd.read_csv(FOLDER + 'loco_attributes.csv', converters={'train':str, 'loco':str})\n",
    "loco_plan    = pd.read_csv(FOLDER + 'slot_loco.csv', converters={'train':str, 'loco':str, 'st_from':str, 'st_to':str})\n",
    "team_info    = pd.read_csv(FOLDER + 'team_attributes.csv', converters={'team':str,'depot':str, 'oper_location':str, \\\n",
    "                                                                 'st_from':str, 'st_to':str, 'loco':str, 'depot_st':str})\n",
    "team_plan    = pd.read_csv(FOLDER + 'slot_team.csv', converters={'team':str,'loco':str, 'st_from':str, 'st_to':str})\n",
    "loco_series  = pd.read_csv(FOLDER + 'loco_series.csv')\n",
    "\n",
    "team_info.regions = team_info.regions.apply(literal_eval)\n",
    "st_names = stations[['station', 'name', 'esr']].drop_duplicates().set_index('station')\n",
    "print('Log time: %d, %s' % (current_time, time.ctime(current_time)))\n",
    "print('Read csvs:', np.round(time.time() - start_time, 2), 'sec')"
   ]
  },
  {
   "cell_type": "code",
   "execution_count": 89,
   "metadata": {
    "collapsed": true
   },
   "outputs": [],
   "source": [
    "# Мержим таблицы _plan и _info для поездов, локомотивов и бригад\n",
    "# Добавляем во все таблицы названия станций на маршруте и времена отправления/прибытия в читабельном формате\n",
    "\n",
    "def add_info(df):    \n",
    "    if 'st_from' in df.columns:\n",
    "        df['st_from_name'] = df.st_from.map(st_names.name)\n",
    "    if 'st_to' in df.columns:\n",
    "        df['st_to_name'] = df.st_to.map(st_names.name)\n",
    "    if 'time_start' in df.columns:\n",
    "        df['time_start_f'] = df.time_start.apply(lambda x: nice_time(x))\n",
    "    if 'time_end' in df.columns:\n",
    "        df['time_end_f'] = df.time_end.apply(lambda x: nice_time(x))\n",
    "    if 'oper_location' in df.columns:\n",
    "        df['oper_location_name'] = df.oper_location.map(st_names.name)    \n",
    "        df.oper_location_name.fillna(0, inplace=True)\n",
    "    if ('oper_location' in df.columns) & ('st_from' in df.columns) & ('st_to' in df.columns):        \n",
    "        df['loc_name'] = df.oper_location_name\n",
    "        df.loc[df.loc_name == 0, 'loc_name'] = df.st_from_name + ' - ' + df.st_to_name\n",
    "    \n",
    "add_info(train_plan)\n",
    "add_info(loco_plan)\n",
    "add_info(team_plan)\n",
    "add_info(loco_info)\n",
    "add_info(team_info)\n",
    "train_plan = train_plan.merge(train_info, on='train', suffixes=('', '_info'), how='left')\n",
    "loco_plan = loco_plan.merge(loco_info, on='loco', suffixes=('', '_info'), how='left')\n",
    "team_plan = team_plan.merge(team_info, on='team', suffixes=('', '_info'), how='left')\n",
    "team_plan['team_type'] = team_plan.team.apply(lambda x: 'Реальная' if str(x)[0] == '2' else 'Фейковая')"
   ]
  },
  {
   "cell_type": "code",
   "execution_count": 90,
   "metadata": {
    "collapsed": false
   },
   "outputs": [
    {
     "name": "stdout",
     "output_type": "stream",
     "text": [
      "Время сбора данных и запуска планировщика: Jun 18, 02:40\n"
     ]
    }
   ],
   "source": [
    "add_line('Время сбора данных и запуска планировщика: %s' % time.strftime(time_format, time.localtime(current_time)))"
   ]
  },
  {
   "cell_type": "markdown",
   "metadata": {},
   "source": [
    "<a id='perc_assign'></a>\n",
    "## Расчет процента подвязки между локомотивами и бригадами [ToC](#toc)"
   ]
  },
  {
   "cell_type": "code",
   "execution_count": 91,
   "metadata": {
    "collapsed": true
   },
   "outputs": [],
   "source": [
    "add_header('Расчет процента подвязки между локомотивами и бригадами', h=2, p=False)"
   ]
  },
  {
   "cell_type": "code",
   "execution_count": 92,
   "metadata": {
    "collapsed": false
   },
   "outputs": [
    {
     "name": "stdout",
     "output_type": "stream",
     "text": [
      "Локомотивов без бригад на горизонте  6 часов: 13 из 476 (процент подвязки 97%)\n",
      "Локомотивов без реальных бригад на горизонте  6 часов: 110 из 476 (процент подвязки 76%)\n",
      "Локомотивов без бригад на горизонте 12 часов: 18 из 476 (процент подвязки 96%)\n",
      "Локомотивов без реальных бригад на горизонте 12 часов: 190 из 476 (процент подвязки 60%)\n",
      "Локомотивов без бригад на горизонте 24 часов: 81 из 476 (процент подвязки 82%)\n",
      "Локомотивов без реальных бригад на горизонте 24 часов: 312 из 476 (процент подвязки 34%)\n"
     ]
    }
   ],
   "source": [
    "def count_real_assign_percent(hor):\n",
    "    loco_no_team = loco_plan.loc[(loco_plan.time_start < current_time + hor) &\n",
    "                             ((loco_plan.team == -1) | (loco_plan.team_type == 'Фейковая')) &\n",
    "                             (loco_plan.state.isin([0, 1]))]\n",
    "    loco_n = len(loco_plan.drop_duplicates(subset=['loco']).index)\n",
    "    loco_no_team_n = len(loco_no_team.loco.drop_duplicates().index)\n",
    "    percent = 100 - np.round((100 * loco_no_team_n / loco_n), 2)\n",
    "    add_line('Локомотивов без реальных бригад на горизонте %2.d часов: %d из %d (процент подвязки %d%%)' %\n",
    "          (hor / 3600, loco_no_team_n, loco_n, percent))\n",
    "    \n",
    "    \n",
    "def count_assign_percent(hor):\n",
    "    loco_no_team = loco_plan.loc[(loco_plan.time_start < current_time + hor) &\n",
    "                             (loco_plan.team == -1) &\n",
    "                             (loco_plan.state.isin([0, 1]))]\n",
    "    loco_n = len(loco_plan.drop_duplicates(subset=['loco']).index)\n",
    "    loco_no_team_n = len(loco_no_team.loco.drop_duplicates().index)\n",
    "    percent = 100 - np.round((100 * loco_no_team_n / loco_n), 2)\n",
    "    add_line('Локомотивов без бригад на горизонте %2.d часов: %d из %d (процент подвязки %d%%)' %\n",
    "          (hor / 3600, loco_no_team_n, loco_n, percent))\n",
    "    count_real_assign_percent(hor)   \n",
    "\n",
    "    \n",
    "if 'team' not in loco_plan.columns:\n",
    "    loco_plan = loco_plan.set_index(['loco', 'time_start']).join(team_plan.loc[team_plan.state == 1, \\\n",
    "                                                                ['team', 'loco', 'time_start', 'team_type']].\\\n",
    "                                                                 set_index(['loco', 'time_start'])).reset_index()    \n",
    "    loco_plan.team.fillna(-1, inplace=True)\n",
    "\n",
    "count_assign_percent(6 * 3600)\n",
    "count_assign_percent(12 * 3600)\n",
    "count_assign_percent(24 * 3600)"
   ]
  },
  {
   "cell_type": "markdown",
   "metadata": {},
   "source": [
    "<a id='perc_assign2'></a>\n",
    "## Расчет процента запланированных бригад от общего количества [ToC](#toc)"
   ]
  },
  {
   "cell_type": "code",
   "execution_count": 93,
   "metadata": {
    "collapsed": true
   },
   "outputs": [],
   "source": [
    "add_header('Расчет процента запланированных бригад от общего количества бригад на входе', h=2, p=False)"
   ]
  },
  {
   "cell_type": "code",
   "execution_count": 94,
   "metadata": {
    "collapsed": false
   },
   "outputs": [
    {
     "name": "stdout",
     "output_type": "stream",
     "text": [
      "Всего бригад, запланированных с локомотивами в работе: 1263 из 4658 (27.11%)\n"
     ]
    },
    {
     "data": {
      "image/png": "[encoded data removed]",
      "text/plain": [
       "<matplotlib.figure.Figure at 0x28195dc3ac8>"
      ]
     },
     "metadata": {},
     "output_type": "display_data"
    }
   ],
   "source": [
    "# team_planned = team_plan.loc[team_plan.state.isin([0, 1])]\n",
    "team_assigned = team_plan.loc[team_plan.state.isin([1])]\n",
    "team_assigned_n = len(team_assigned.drop_duplicates(subset=['team']).index)\n",
    "team_total_n = len(team_info.team.index)\n",
    "team_assigned_percent = team_assigned_n / team_total_n\n",
    "add_line('Всего бригад, запланированных с локомотивами в работе: %d из %d (%.2f%%)' %\n",
    "      (team_assigned_n, team_total_n, 100 * team_assigned_percent))\n",
    "team_info['is_assign'] = team_info.team.isin(team_assigned.team)\n",
    "assign_states = team_info.loc[team_info.is_assign == True, ['team', 'state']].state.astype(str).value_counts().to_frame()\n",
    "initial_states = team_info.state.value_counts().to_frame()\n",
    "initial_states.columns=['Бригады во входных данных']\n",
    "assign_states.columns=['Бригады в результатах']\n",
    "states = initial_states.join(assign_states)\n",
    "states.fillna(0, inplace=True)\n",
    "\n",
    "sns.set_style(\"ticks\")\n",
    "sns.set_context(\"talk\")\n",
    "sns.set_color_codes(\"pastel\")\n",
    "fig = plt.figure()\n",
    "sns.barplot(x='index', y='Бригады во входных данных', data=states.sort_index().reset_index(), \n",
    "            color=\"b\", label='Бригады во входных данных')\n",
    "sns.set_color_codes('muted')\n",
    "ax = sns.barplot(x='index', y='Бригады в результатах', data=states.sort_index().reset_index(), \n",
    "            color=\"b\", label='Бригады в результатах')\n",
    "ax.legend(ncol=1, loc=\"upper right\", frameon=False)\n",
    "ax.set(ylabel='Количество бригад', xlabel='Исходное состояние бригады', \n",
    "       title='Соотношение между количеством запланированных бригад и бригад на входе')\n",
    "sns.despine()\n",
    "filename = 'team_usage.png'\n",
    "plt.savefig(REPORT_FOLDER + filename, bbox_inches='tight')\n",
    "add_image(filename)"
   ]
  },
  {
   "cell_type": "markdown",
   "metadata": {},
   "source": [
    "<a id='real_fake'></a>\n",
    "### Распределение реальных и фейковых бригад в результатах планирования"
   ]
  },
  {
   "cell_type": "code",
   "execution_count": 95,
   "metadata": {
    "collapsed": true
   },
   "outputs": [],
   "source": [
    "add_header('Распределение реальных и фейковых бригад в результатах планирования', h=2, p=False)"
   ]
  },
  {
   "cell_type": "code",
   "execution_count": 96,
   "metadata": {
    "collapsed": false
   },
   "outputs": [
    {
     "data": {
      "image/png": "[encoded data removed]",
      "text/plain": [
       "<matplotlib.figure.Figure at 0x281940c7748>"
      ]
     },
     "metadata": {},
     "output_type": "display_data"
    }
   ],
   "source": [
    "f = team_plan.drop_duplicates(subset=['team']).team_type.value_counts()\n",
    "fig = plt.figure()\n",
    "ax = f.plot(kind='pie', colormap='Pastel2', figsize=(5,5), autopct='%.2f%%')\n",
    "ax.set_ylabel('')\n",
    "#plt.show()\n",
    "filename = 'real_fake_teams_ratio.png'\n",
    "fig.savefig(REPORT_FOLDER + filename, bbox_inches='tight')\n",
    "add_image(filename)"
   ]
  },
  {
   "cell_type": "markdown",
   "metadata": {},
   "source": [
    "<a id='no_assign'></a>\n",
    "## Cтанции и участки, на которых не состоялась подвязка бригады [ToC](#toc)"
   ]
  },
  {
   "cell_type": "code",
   "execution_count": 97,
   "metadata": {
    "collapsed": true
   },
   "outputs": [],
   "source": [
    "add_header('Станции и участки, на которых не состоялась подвязка бригады', h=2, p=False)"
   ]
  },
  {
   "cell_type": "code",
   "execution_count": 98,
   "metadata": {
    "collapsed": false
   },
   "outputs": [],
   "source": [
    "horizon = 6 * 3600\n",
    "add_line('Горизонт анализа: %d часов' % (horizon / 3600), p=False)\n",
    "loco_mask = (loco_plan.time_start < current_time + horizon)"
   ]
  },
  {
   "cell_type": "code",
   "execution_count": 99,
   "metadata": {
    "collapsed": false
   },
   "outputs": [
    {
     "name": "stdout",
     "output_type": "stream",
     "text": [
      "Станции, на которых не удалось подвязать бригады под локомотив (первые 10):\n",
      "КРАСНОЯРСК-ВОСТОЧНЫЙ                  6\n",
      "КОМСОМОЛЬСК-НА-АМУРЕ-СОРТИРОВОЧНЫЙ    2\n",
      "ИЛАНСКАЯ                              1\n",
      "ЗАОЗЕРНАЯ                             1\n",
      "ПОСТЫШЕВО                             1\n",
      "АБАКАН                                1\n",
      "ДЗЕМГИ                                1\n",
      "\n",
      "Участки планирования, на которых не удалось подвязать бригады под локомотив (первые 10):\n",
      "st_from_name                        st_to_name          \n",
      "КРАСНОЯРСК-ВОСТОЧНЫЙ                ЗЫКОВО                  6\n",
      "КОМСОМОЛЬСК-НА-АМУРЕ-СОРТИРОВОЧНЫЙ  КОМСОМОЛЬСК-НА-АМУРЕ    2\n",
      "ПОСТЫШЕВО                           БОЛЕН                   1\n",
      "ИЛАНСКАЯ                            ЗАОЗЕРНАЯ               1\n",
      "ЗАОЗЕРНАЯ                           УЯР                     1\n",
      "ДЗЕМГИ                              КОМСОМОЛЬСК-НА-АМУРЕ    1\n",
      "АБАКАН                              ТАШЕБА                  1\n"
     ]
    }
   ],
   "source": [
    "# Добавляем признак первой станции на маршруте локомотива, где не была подвязана бригада\n",
    "loco_plan.loc[loco_plan.state == 4, 'team'] = 0\n",
    "loco_plan['no_team_start'] = (loco_plan.team == -1) & \\\n",
    "                             ((loco_plan.team != loco_plan.team.shift(1)) | (loco_plan.loco != loco_plan.loco.shift(1)))\n",
    "    \n",
    "loco_cols = ['loco', 'st_from_name', 'st_to_name', 'state', 'time_start_f', 'team', 'no_team_start']\n",
    "fail_team_assign_locos = loco_plan.loc[loco_mask & (loco_plan.no_team_start == True)]\n",
    "fail_team_assign_stations = fail_team_assign_locos.st_from_name.value_counts().head(10)\n",
    "fail_team_assign_tracks = fail_team_assign_locos.groupby('st_from_name').st_to_name.value_counts().\\\n",
    "                            sort_values(ascending=False).head(10)\n",
    "add_header('Станции, на которых не удалось подвязать бригады под локомотив (первые 10):')\n",
    "add_line(fail_team_assign_stations)\n",
    "add_header('\\nУчастки планирования, на которых не удалось подвязать бригады под локомотив (первые 10):')\n",
    "add_line(fail_team_assign_tracks)"
   ]
  },
  {
   "cell_type": "code",
   "execution_count": 100,
   "metadata": {
    "collapsed": false
   },
   "outputs": [
    {
     "name": "stdout",
     "output_type": "stream",
     "text": [
      "Локомотивы, к которым не была подвязана бригада на станции КРАСНОЯРСК-ВОСТОЧНЫЙ, по направлениям:\n",
      "ЗЫКОВО    6\n"
     ]
    }
   ],
   "source": [
    "#st_name = fail_team_assign_stations.head(1).index[0]\n",
    "st_name = 'КРАСНОЯРСК-ВОСТОЧНЫЙ'\n",
    "bad_locos = loco_plan.loc[loco_mask & (loco_plan.st_from_name == st_name) & (loco_plan.no_team_start == True)]\n",
    "if not bad_locos.empty:\n",
    "    add_header('Локомотивы, к которым не была подвязана бригада на станции %s, по направлениям:' % st_name)\n",
    "    add_line(bad_locos.st_to_name.value_counts())"
   ]
  },
  {
   "cell_type": "markdown",
   "metadata": {},
   "source": [
    "<a id='overwork'></a>\n",
    "## Проверка переработки бригад [ToC](#toc)"
   ]
  },
  {
   "cell_type": "code",
   "execution_count": 101,
   "metadata": {
    "collapsed": true
   },
   "outputs": [],
   "source": [
    "add_header('Бригады с переработкой', h=2, p=False)"
   ]
  },
  {
   "cell_type": "markdown",
   "metadata": {},
   "source": [
    "#### Вычисляем последнее время явки для каждого участка на маршруте"
   ]
  },
  {
   "cell_type": "code",
   "execution_count": 102,
   "metadata": {
    "collapsed": false
   },
   "outputs": [],
   "source": [
    "# В поле presence прописываем последнюю явку бригады из входных данных\n",
    "team_info['all_presence'] = list(zip(team_info.depot_time, team_info.return_time))\n",
    "team_info['presence'] = team_info.all_presence.apply(lambda x: max(x))\n",
    "team_info['presence_norm'] = team_info.presence.apply(lambda x: time.strftime(time_format, time.localtime(x)) if x>0 else x)\n",
    "team_plan['info_presence'] = team_plan.team.map(team_info.set_index('team').presence)\n",
    "team_plan['info_presence_norm'] = team_plan.info_presence\\\n",
    "            .apply(lambda x: time.strftime(time_format, time.localtime(x)) if x>0 else x)\n",
    "team_plan['info_presence'] = team_plan.info_presence.apply(lambda x: [] if np.isnan(x) else [int(x)])\n",
    "\n",
    "# Собираем все запланированные явки бригады. \n",
    "# Если ни одной явки не запланировано, то проставляем фейковые явки: время первого отправления (после отдыха) минус 1 час\n",
    "team_plan['start_trip'] = team_plan.state.isin([0, 1]) \\\n",
    "                & ((team_plan.team != team_plan.team.shift(1)) | (team_plan.state.shift(1) == 4))\n",
    "team_plan['fake_plan_presence'] = team_plan.team.map(team_plan[team_plan.start_trip].groupby('team').time_start.unique() - 3600)\n",
    "team_plan.fake_plan_presence.fillna(0, inplace=True)\n",
    "team_plan['fake_plan_presence'] = team_plan.fake_plan_presence.apply(lambda x: [] if (type(x) == int) else x)\n",
    "team_plan['plan_presence'] = team_plan.team.map(team_plan[team_plan.state == 2].groupby('team').time_start.unique())\n",
    "team_plan.plan_presence.fillna(0, inplace=True)\n",
    "team_plan['plan_presence'] = team_plan.plan_presence.apply(lambda x: [] if (type(x) == int) else x)"
   ]
  },
  {
   "cell_type": "code",
   "execution_count": 103,
   "metadata": {
    "collapsed": false
   },
   "outputs": [
    {
     "data": {
      "text/html": [
       "<div>\n",
       "<table border=\"1\" class=\"dataframe\">\n",
       "  <thead>\n",
       "    <tr style=\"text-align: right;\">\n",
       "      <th></th>\n",
       "      <th>team</th>\n",
       "      <th>st_from_name</th>\n",
       "      <th>time_start</th>\n",
       "      <th>state</th>\n",
       "      <th>info_presence</th>\n",
       "      <th>info_presence_norm</th>\n",
       "      <th>plan_presence</th>\n",
       "      <th>fake_plan_presence</th>\n",
       "      <th>curr_presence</th>\n",
       "    </tr>\n",
       "  </thead>\n",
       "  <tbody>\n",
       "  </tbody>\n",
       "</table>\n",
       "</div>"
      ],
      "text/plain": [
       "Empty DataFrame\n",
       "Columns: [team, st_from_name, time_start, state, info_presence, info_presence_norm, plan_presence, fake_plan_presence, curr_presence]\n",
       "Index: []"
      ]
     },
     "execution_count": 103,
     "metadata": {},
     "output_type": "execute_result"
    }
   ],
   "source": [
    "def get_curr_presence(row):\n",
    "    real_presence = np.concatenate([row.info_presence, row.plan_presence])   \n",
    "    if len(real_presence) > 0:\n",
    "        presence_list = real_presence\n",
    "    elif len(row.fake_plan_presence) > 0:\n",
    "        presence_list = row.fake_plan_presence\n",
    "    else:\n",
    "        return current_time\n",
    "        \n",
    "    t = row.time_start\n",
    "    b = [x for x in presence_list if x <= t]\n",
    "    return int(max(b)) if b != [] else current_time\n",
    "    \n",
    "team_plan['curr_presence'] = team_plan.apply(lambda row: get_curr_presence(row), axis=1)\n",
    "#team_plan[team_plan.team == '200200196025'][['team', 'st_from_name', 'st_to_name', 'state', 'time_start_f', 'time_end_f', 'loco']]\n",
    "team_plan[team_plan.team == '200200196025'][['team', 'st_from_name', 'time_start', 'state', 'info_presence', 'info_presence_norm', 'plan_presence', 'fake_plan_presence', 'curr_presence']]\n",
    "#sprint(team_plan[['team', 'info_presence', 'plan_presence', 'fake_plan_presence', 'curr_presence']].head(10))"
   ]
  },
  {
   "cell_type": "markdown",
   "metadata": {},
   "source": [
    "#### Составляем таблицу team_trips с поездками бригад"
   ]
  },
  {
   "cell_type": "code",
   "execution_count": 104,
   "metadata": {
    "collapsed": false
   },
   "outputs": [],
   "source": [
    "cols = ['team', 'state', 'st_from_name', 'st_to_name', 'time_start', 'time_end', 'loco', 'start_trip', 'end_trip', \n",
    "        'start_trip_time', 'end_trip_time']\n",
    "team_plan['end_trip'] = ((team_plan.team != team_plan.team.shift(-1)) & (team_plan.state == 1)) | \\\n",
    "                        ((team_plan.state == 1) & (team_plan.state.shift(-1).isin([0, 2, 4])))\n",
    "team_plan.loc[team_plan.end_trip == True, 'end_trip_time'] = team_plan.time_end\n",
    "team_plan['start_trip'] = ((team_plan.state == 1) & (team_plan.team != team_plan.team.shift(1))) | \\\n",
    "                        ((team_plan.state == 1) & (team_plan.state.shift(1).isin([0, 2, 4])))\n",
    "team_plan.loc[team_plan.start_trip == True, 'start_trip_time'] = team_plan.time_start\n",
    "start_trips = team_plan.dropna(subset=['start_trip_time'])\n",
    "end_trips = team_plan.dropna(subset=['end_trip_time'])\n",
    "\n",
    "frames = [start_trips.reset_index()[['team', 'state', 'st_from_name', 'start_trip_time']],\n",
    "          end_trips.reset_index()[['st_to_name', 'end_trip_time', 'curr_presence']]]\n",
    "team_trips = pd.concat(frames, axis=1, ignore_index=True)\n",
    "team_trips.columns = ['team', 'state', 'st_from_name', 'time_start', 'st_to_name', 'time_end', 'curr_presence']\n",
    "add_info(team_trips)\n",
    "team_trips['curr_presence_norm'] = team_trips.curr_presence.apply(lambda x: time.strftime(time_format, time.localtime(x)))"
   ]
  },
  {
   "cell_type": "markdown",
   "metadata": {},
   "source": [
    "#### Загружаем нормы рабочего времени и составляем таблицу по нормам для каждой бригады"
   ]
  },
  {
   "cell_type": "code",
   "execution_count": 105,
   "metadata": {
    "collapsed": true
   },
   "outputs": [],
   "source": [
    "WORK_TIME_LIMIT = 11 #hours"
   ]
  },
  {
   "cell_type": "code",
   "execution_count": 106,
   "metadata": {
    "collapsed": false
   },
   "outputs": [
    {
     "data": {
      "text/html": [
       "<div>\n",
       "<table border=\"1\" class=\"dataframe\">\n",
       "  <thead>\n",
       "    <tr style=\"text-align: right;\">\n",
       "      <th></th>\n",
       "      <th>team_region</th>\n",
       "      <th>asoup</th>\n",
       "      <th>depot</th>\n",
       "      <th>st_from</th>\n",
       "      <th>st_to</th>\n",
       "      <th>time_f</th>\n",
       "      <th>time_b</th>\n",
       "      <th>time_wr</th>\n",
       "      <th>st_from_name</th>\n",
       "      <th>st_to_name</th>\n",
       "      <th>link</th>\n",
       "      <th>tr_depot</th>\n",
       "    </tr>\n",
       "  </thead>\n",
       "  <tbody>\n",
       "  </tbody>\n",
       "</table>\n",
       "</div>"
      ],
      "text/plain": [
       "Empty DataFrame\n",
       "Columns: [team_region, asoup, depot, st_from, st_to, time_f, time_b, time_wr, st_from_name, st_to_name, link, tr_depot]\n",
       "Index: []"
      ]
     },
     "execution_count": 106,
     "metadata": {},
     "output_type": "execute_result"
    }
   ],
   "source": [
    "team_region"
   ]
  },
  {
   "cell_type": "code",
   "execution_count": 107,
   "metadata": {
    "collapsed": false
   },
   "outputs": [],
   "source": [
    "def get_cmp(row):\n",
    "    d, l = row.depot, row.link    \n",
    "    try:\n",
    "        res = trd.ix[d].link.apply(lambda x: len(np.intersect1d(x, l))).idxmax()        \n",
    "    except:\n",
    "        res = -1\n",
    "    return res\n",
    "\n",
    "team_region = pd.read_csv(FOLDER + 'team_region.csv', dtype={'st_from':str, 'st_to':str, 'depot':str})\n",
    "add_info(team_region)\n",
    "team_region['link'] = list(zip(team_region.st_from, team_region.st_to))\n",
    "team_plan['link'] = list(zip(team_plan.st_from, team_plan.st_to))\n",
    "tr_links = team_region.groupby(['team_region', 'depot']).link.unique().to_frame().reset_index()\n",
    "if not tr_links.empty:\n",
    "    trd = tr_links.set_index(['depot', 'team_region'])\n",
    "else:\n",
    "    trd = tr_links\n",
    "team_links = team_plan[team_plan.state.isin([0, 1])].groupby(['team', 'depot']).link.unique().to_frame().reset_index()\n",
    "team_links['team_region'] = team_links.apply(lambda row: get_cmp(row), axis=1)\n",
    "\n",
    "team_links['tr_depot'] = list(zip(team_links.team_region, team_links.depot))\n",
    "team_region['tr_depot'] = list(zip(team_region.team_region, team_region.depot))\n",
    "team_links['time_f'] = team_links.tr_depot.map(team_region.drop_duplicates('tr_depot').set_index('tr_depot').time_f)\n",
    "team_links['time_b'] = team_links.tr_depot.map(team_region.drop_duplicates('tr_depot').set_index('tr_depot').time_b)\n",
    "team_links['time_wr'] = team_links.tr_depot.map(team_region.drop_duplicates('tr_depot').set_index('tr_depot').time_wr)\n",
    "#team_links.head()"
   ]
  },
  {
   "cell_type": "code",
   "execution_count": 108,
   "metadata": {
    "collapsed": false
   },
   "outputs": [
    {
     "data": {
      "text/html": [
       "<div>\n",
       "<table border=\"1\" class=\"dataframe\">\n",
       "  <thead>\n",
       "    <tr style=\"text-align: right;\">\n",
       "      <th></th>\n",
       "      <th>team</th>\n",
       "      <th>time_f</th>\n",
       "      <th>time_b</th>\n",
       "      <th>time_wr</th>\n",
       "    </tr>\n",
       "  </thead>\n",
       "  <tbody>\n",
       "    <tr>\n",
       "      <th>0</th>\n",
       "      <td>200200032910</td>\n",
       "      <td>NaN</td>\n",
       "      <td>NaN</td>\n",
       "      <td>NaN</td>\n",
       "    </tr>\n",
       "    <tr>\n",
       "      <th>1</th>\n",
       "      <td>200200035170</td>\n",
       "      <td>NaN</td>\n",
       "      <td>NaN</td>\n",
       "      <td>NaN</td>\n",
       "    </tr>\n",
       "    <tr>\n",
       "      <th>2</th>\n",
       "      <td>200200036640</td>\n",
       "      <td>NaN</td>\n",
       "      <td>NaN</td>\n",
       "      <td>NaN</td>\n",
       "    </tr>\n",
       "    <tr>\n",
       "      <th>3</th>\n",
       "      <td>200200049199</td>\n",
       "      <td>NaN</td>\n",
       "      <td>NaN</td>\n",
       "      <td>NaN</td>\n",
       "    </tr>\n",
       "    <tr>\n",
       "      <th>4</th>\n",
       "      <td>200200049849</td>\n",
       "      <td>NaN</td>\n",
       "      <td>NaN</td>\n",
       "      <td>NaN</td>\n",
       "    </tr>\n",
       "  </tbody>\n",
       "</table>\n",
       "</div>"
      ],
      "text/plain": [
       "           team time_f time_b time_wr\n",
       "0  200200032910    NaN    NaN     NaN\n",
       "1  200200035170    NaN    NaN     NaN\n",
       "2  200200036640    NaN    NaN     NaN\n",
       "3  200200049199    NaN    NaN     NaN\n",
       "4  200200049849    NaN    NaN     NaN"
      ]
     },
     "execution_count": 108,
     "metadata": {},
     "output_type": "execute_result"
    }
   ],
   "source": [
    "time_limit = team_links[['team', 'time_f', 'time_b', 'time_wr']]\n",
    "time_limit.head()"
   ]
  },
  {
   "cell_type": "markdown",
   "metadata": {},
   "source": [
    "#### Вычисляем переработки, предварительно удалив выбросы"
   ]
  },
  {
   "cell_type": "code",
   "execution_count": 109,
   "metadata": {
    "collapsed": false
   },
   "outputs": [
    {
     "name": "stdout",
     "output_type": "stream",
     "text": [
      "Всего 4 бригад с явно некорретными (более суток назад) временами последеней явки. Примеры:\n",
      "         team st_from_name    st_to_name   time_start_f     time_end_f curr_presence_norm\n",
      " 200200256580    ВИХОРЕВКА        ТАЙШЕТ  Jun 18, 05:19  Jun 18, 10:20      Jun 05, 11:00\n",
      " 200200122380       РЕШОТЫ      ИЛАНСКАЯ  Jun 17, 13:26  Jun 17, 14:46      Jun 16, 08:00\n",
      " 200200262618         БИРА  ВОЛОЧАЕВКА I  Jun 17, 10:11  Jun 17, 12:59      Jun 16, 11:00\n",
      " 200200234785     ИЛАНСКАЯ        ТАЙШЕТ  Jun 18, 03:20  Jun 18, 06:24      Jun 16, 19:30\n"
     ]
    }
   ],
   "source": [
    "cols = ['team', 'st_from_name', 'st_to_name', 'time_start_f', 'time_end_f', 'curr_presence_norm']\n",
    "outliers = team_trips[team_trips.curr_presence < current_time - 24 * 3600]\n",
    "#outliers = team_trips[team_trips.info_presence < current_time - 24 * 3600]\n",
    "outliers_n = outliers.team.count()\n",
    "add_header('Всего %d бригад с явно некорретными (более суток назад) временами последеней явки. Примеры:' % outliers_n)\n",
    "add_line(outliers.sort_values('curr_presence_norm').head(10 if outliers_n > 20 else outliers_n)[cols])"
   ]
  },
  {
   "cell_type": "code",
   "execution_count": 110,
   "metadata": {
    "collapsed": false
   },
   "outputs": [
    {
     "data": {
      "text/html": [
       "<div>\n",
       "<table border=\"1\" class=\"dataframe\">\n",
       "  <thead>\n",
       "    <tr style=\"text-align: right;\">\n",
       "      <th></th>\n",
       "      <th>team</th>\n",
       "      <th>st_from_name</th>\n",
       "      <th>st_to_name</th>\n",
       "      <th>curr_presence_norm</th>\n",
       "      <th>time_start_f</th>\n",
       "      <th>time_end_f</th>\n",
       "      <th>time_limit</th>\n",
       "      <th>time_limit_no_rest</th>\n",
       "    </tr>\n",
       "  </thead>\n",
       "  <tbody>\n",
       "    <tr>\n",
       "      <th>0</th>\n",
       "      <td>200200171649</td>\n",
       "      <td>ВЫСОКОГОРНАЯ</td>\n",
       "      <td>КОМСОМОЛЬСК-НА-АМУРЕ-...</td>\n",
       "      <td>Jun 18, 06:41</td>\n",
       "      <td>Jun 18, 08:11</td>\n",
       "      <td>Jun 18, 15:21</td>\n",
       "      <td>39600</td>\n",
       "      <td>39600</td>\n",
       "    </tr>\n",
       "    <tr>\n",
       "      <th>1</th>\n",
       "      <td>200200121313</td>\n",
       "      <td>МАГДАГАЧИ</td>\n",
       "      <td>УРУША</td>\n",
       "      <td>Jun 18, 07:10</td>\n",
       "      <td>Jun 18, 08:15</td>\n",
       "      <td>Jun 18, 14:10</td>\n",
       "      <td>39600</td>\n",
       "      <td>39600</td>\n",
       "    </tr>\n",
       "    <tr>\n",
       "      <th>3</th>\n",
       "      <td>200200281486</td>\n",
       "      <td>РУЖИНО</td>\n",
       "      <td>ХАБАРОВСК II</td>\n",
       "      <td>Jun 19, 01:09</td>\n",
       "      <td>Jun 19, 01:50</td>\n",
       "      <td>Jun 19, 08:40</td>\n",
       "      <td>39600</td>\n",
       "      <td>39600</td>\n",
       "    </tr>\n",
       "    <tr>\n",
       "      <th>4</th>\n",
       "      <td>200200167849</td>\n",
       "      <td>МАГДАГАЧИ</td>\n",
       "      <td>СКОВОРОДИНО</td>\n",
       "      <td>Jun 18, 17:24</td>\n",
       "      <td>Jun 18, 18:28</td>\n",
       "      <td>Jun 19, 04:27</td>\n",
       "      <td>39600</td>\n",
       "      <td>39600</td>\n",
       "    </tr>\n",
       "    <tr>\n",
       "      <th>5</th>\n",
       "      <td>200200109596</td>\n",
       "      <td>РЕШОТЫ</td>\n",
       "      <td>ТАЙШЕТ</td>\n",
       "      <td>Jun 18, 10:20</td>\n",
       "      <td>Jun 18, 22:00</td>\n",
       "      <td>Jun 18, 23:16</td>\n",
       "      <td>39600</td>\n",
       "      <td>39600</td>\n",
       "    </tr>\n",
       "  </tbody>\n",
       "</table>\n",
       "</div>"
      ],
      "text/plain": [
       "           team  st_from_name                st_to_name curr_presence_norm  \\\n",
       "0  200200171649  ВЫСОКОГОРНАЯ  КОМСОМОЛЬСК-НА-АМУРЕ-...      Jun 18, 06:41   \n",
       "1  200200121313     МАГДАГАЧИ                     УРУША      Jun 18, 07:10   \n",
       "3  200200281486        РУЖИНО              ХАБАРОВСК II      Jun 19, 01:09   \n",
       "4  200200167849     МАГДАГАЧИ               СКОВОРОДИНО      Jun 18, 17:24   \n",
       "5  200200109596        РЕШОТЫ                    ТАЙШЕТ      Jun 18, 10:20   \n",
       "\n",
       "    time_start_f     time_end_f  time_limit  time_limit_no_rest  \n",
       "0  Jun 18, 08:11  Jun 18, 15:21       39600               39600  \n",
       "1  Jun 18, 08:15  Jun 18, 14:10       39600               39600  \n",
       "3  Jun 19, 01:50  Jun 19, 08:40       39600               39600  \n",
       "4  Jun 18, 18:28  Jun 19, 04:27       39600               39600  \n",
       "5  Jun 18, 22:00  Jun 18, 23:16       39600               39600  "
      ]
     },
     "execution_count": 110,
     "metadata": {},
     "output_type": "execute_result"
    }
   ],
   "source": [
    "pd.set_option('display.max_colwidth', 25)\n",
    "# Оставляем только корректные бригады\n",
    "team_trips = team_trips[(team_trips.team.isin(outliers.team) == False) & (team_trips.time_start < current_time + 24 * 3600)]\n",
    "team_trips['time_limit'] = team_trips.team.map(time_limit.set_index('team').time_f)\n",
    "team_trips['time_limit_no_rest'] = team_trips.team.map(time_limit.set_index('team').time_wr)\n",
    "team_trips.time_limit.fillna(WORK_TIME_LIMIT * 3600, inplace=True)\n",
    "team_trips.time_limit_no_rest.fillna(WORK_TIME_LIMIT * 3600, inplace=True)\n",
    "team_trips[['team', 'st_from_name', 'st_to_name', 'curr_presence_norm', 'time_start_f', 'time_end_f', 'time_limit', 'time_limit_no_rest']].head()"
   ]
  },
  {
   "cell_type": "code",
   "execution_count": 111,
   "metadata": {
    "collapsed": false
   },
   "outputs": [
    {
     "name": "stdout",
     "output_type": "stream",
     "text": [
      "Количество бригад с переработкой (показаны первые 10 интервалов):\n",
      "(0, 1]     30\n",
      "(1, 2]     26\n",
      "(2, 3]     19\n",
      "(3, 4]     13\n",
      "(4, 5]     11\n",
      "(5, 6]      8\n",
      "(6, 7]      8\n",
      "(7, 8]      6\n",
      "(8, 9]      6\n",
      "(9, 10]    11\n"
     ]
    }
   ],
   "source": [
    "team_trips['work_time'] = np.round(((team_trips.time_end - team_trips.curr_presence) / 3600), 2)\n",
    "#team_trips['overtime'] = team_trips.work_time.apply(lambda x: np.max([x - WORK_TIME_LIMIT, 0]))\n",
    "team_trips['overtime'] = np.round((team_trips.time_end - team_trips.curr_presence - team_trips.time_limit) / 3600, 2)\n",
    "team_trips['overtime'] = team_trips.overtime.apply(lambda x: 0 if x < 0 else x)\n",
    "cols = ['team', 'st_from_name', 'st_to_name', 'curr_presence_norm', 'time_end_f', 'overtime' ]\n",
    "add_header('Количество бригад с переработкой (показаны первые 10 интервалов):')\n",
    "add_line(pd.cut(team_trips.overtime, bins=np.arange(int(team_trips.overtime.max()) + 2), include_lowest=False)\\\n",
    "      .value_counts().head(10).sort_index())"
   ]
  },
  {
   "cell_type": "code",
   "execution_count": 112,
   "metadata": {
    "collapsed": false
   },
   "outputs": [
    {
     "name": "stdout",
     "output_type": "stream",
     "text": [
      "\n",
      "Бригады с переработкой больше 2 часов (всего 104):\n",
      "         team  st_from_name                st_to_name curr_presence_norm   time_start_f     time_end_f  overtime\n",
      " 200200178935       ЧЕЛУТАЙ                     ХИЛОК      Jun 17, 14:20  Jun 18, 11:52  Jun 18, 21:47     20.46\n",
      " 200200233165       УГЛОВАЯ                    РУЖИНО      Jun 17, 08:00  Jun 18, 09:15  Jun 18, 14:53     19.89\n",
      " 777700002908     КАРЫМСКАЯ  ЧЕРНЫШЕВСК-ЗАБАЙКАЛЬСКИЙ      Jun 18, 02:40  Jun 19, 02:24  Jun 19, 08:09     18.50\n",
      " 200200171768       ШКОТОВО               ВЛАДИВОСТОК      Jun 17, 09:00  Jun 18, 11:48  Jun 18, 13:18     17.30\n",
      " 200200167522         УРУША                 МАГДАГАЧИ      Jun 18, 09:59  Jun 19, 01:45  Jun 19, 14:14     17.26\n",
      " 777700002766     ФЕВРАЛЬСК               ВЕРХНЕЗЕЙСК      Jun 18, 02:40  Jun 18, 23:40  Jun 19, 06:11     16.53\n",
      " 200200110752        ТАЛЬЦЫ                     ХИЛОК      Jun 17, 13:40  Jun 18, 07:10  Jun 18, 16:25     15.75\n",
      " 777700002790          ЗИМА                    ТАЙШЕТ      Jun 18, 02:40  Jun 18, 20:55  Jun 19, 04:39     14.99\n",
      " 200200267486     МАГДАГАЧИ                 МАГДАГАЧИ      Jun 19, 00:11  Jun 19, 01:15  Jun 20, 01:21     14.17\n",
      " 200200224499         УРУША                 МАГДАГАЧИ      Jun 18, 03:57  Jun 18, 20:25  Jun 19, 03:58     13.02\n",
      " 777700002789       СЕЛЬГОН             ВОЛОЧАЕВКА II      Jun 18, 02:40  Jun 18, 23:15  Jun 19, 02:18     12.63\n",
      " 777700002641       СЕЛИХИН                    ВАНИНО      Jun 18, 02:40  Jun 18, 16:10  Jun 19, 01:52     12.21\n",
      " 777700002596        ВАНИНО  КОМСОМОЛЬСК-НА-АМУРЕ-...      Jun 18, 02:40  Jun 18, 15:35  Jun 19, 01:17     11.62\n",
      " 777700002702     КАРЫМСКАЯ  ЧЕРНЫШЕВСК-ЗАБАЙКАЛЬСКИЙ      Jun 18, 02:40  Jun 18, 19:33  Jun 19, 01:15     11.60\n",
      " 777700002762        НАУШКИ                  УЛАН-УДЭ      Jun 18, 02:40  Jun 18, 19:50  Jun 19, 00:47     11.12\n",
      " 200200190358       ГОРЕЛЫЙ                     ТЫНДА      Jun 18, 06:33  Jun 19, 01:10  Jun 19, 04:36     11.05\n",
      " 200200188283         УРУША                 МАГДАГАЧИ      Jun 18, 05:55  Jun 18, 20:00  Jun 19, 03:48     10.88\n",
      " 200200101728      БЕРКАКИТ                     ТЫНДА      Jun 18, 02:31  Jun 18, 17:45  Jun 19, 00:10     10.66\n",
      " 200200134400  МЕЖДУРЕЧЕНСК                    АБАКАН      Jun 18, 05:00  Jun 18, 20:05  Jun 19, 02:23     10.38\n",
      " 777700002703     КАРЫМСКАЯ  ЧЕРНЫШЕВСК-ЗАБАЙКАЛЬСКИЙ      Jun 18, 02:40  Jun 18, 18:10  Jun 18, 23:57     10.30\n",
      "\n",
      "Распределение бригад с переработкой больше 2 часов по типу:\n",
      "Реальная    57\n",
      "Фейковая    47\n"
     ]
    }
   ],
   "source": [
    "pd.set_option('display.max_colwidth', 25)\n",
    "cols = ['team', 'st_from_name', 'st_to_name', 'curr_presence_norm', 'time_start_f', 'time_end_f', 'overtime' ]\n",
    "add_header('\\nБригады с переработкой больше 2 часов (всего %d):' % len(team_trips.loc[team_trips.overtime > 2].index))\n",
    "add_line(team_trips.loc[team_trips.overtime > 2, cols].sort_values('overtime', ascending=False).head(20))\n",
    "\n",
    "add_header('\\nРаспределение бригад с переработкой больше 2 часов по типу:')\n",
    "team_trips['team_type'] = team_trips.team.map(team_plan.drop_duplicates('team').set_index('team').team_type)\n",
    "add_line(team_trips.loc[team_trips.overtime > 2].team_type.value_counts())"
   ]
  },
  {
   "cell_type": "code",
   "execution_count": 113,
   "metadata": {
    "collapsed": false
   },
   "outputs": [
    {
     "name": "stdout",
     "output_type": "stream",
     "text": [
      "Empty DataFrame\n",
      "Columns: [team, depot_time_f, return_time_f]\n",
      "Index: []\n",
      "Empty DataFrame\n",
      "Columns: [team, st_from_name, st_to_name, state, time_start_f, time_end_f, loco]\n",
      "Index: []\n"
     ]
    }
   ],
   "source": [
    "team_id = '200200170505'\n",
    "cols = ['team', 'st_from_name', 'st_to_name', 'state', 'time_start_f', 'time_end_f', 'loco']\n",
    "team_info['depot_time_f'] = team_info.depot_time.apply(nice_time)\n",
    "team_info['return_time_f'] = team_info.return_time.apply(nice_time)\n",
    "print(team_info[team_info.team == team_id][['team', 'depot_time_f', 'return_time_f']])\n",
    "print(team_plan[team_plan.team == team_id][cols].to_string())"
   ]
  },
  {
   "cell_type": "code",
   "execution_count": 114,
   "metadata": {
    "collapsed": false
   },
   "outputs": [
    {
     "data": {
      "image/png": "[encoded data removed]",
      "text/plain": [
       "<matplotlib.figure.Figure at 0x28193591198>"
      ]
     },
     "metadata": {},
     "output_type": "display_data"
    }
   ],
   "source": [
    "sns.set_style('whitegrid')\n",
    "sns.set_context('notebook')\n",
    "sns.set_color_codes('dark')\n",
    "fig = plt.figure()\n",
    "to_hist = team_trips.loc[team_trips.overtime > 0].overtime\n",
    "ax = sns.distplot(to_hist, bins=20, color='b', hist=False, kde_kws={'shade':True})\n",
    "title = '''Бригады с переработкой\n",
    "(среднее время переработки %.2f ч., медиана %.2f ч.)\n",
    "(всего %d бригад с переработкой более 2 часов)''' % \\\n",
    "            (to_hist.mean(), to_hist.median(), len(team_trips.loc[team_trips.overtime > 2].index))\n",
    "ax.set(title=title, xlabel='Переработка (час)')\n",
    "#sns.despine()\n",
    "filename = 'team_overwork.png'\n",
    "fig.savefig(REPORT_FOLDER + filename, bbox_inches='tight')\n",
    "add_image(filename)"
   ]
  },
  {
   "cell_type": "markdown",
   "metadata": {},
   "source": [
    "<a id='leaps'></a>\n",
    "## Скачки по станциям на маршруте бригад [ToC](#toc)"
   ]
  },
  {
   "cell_type": "code",
   "execution_count": 115,
   "metadata": {
    "collapsed": true
   },
   "outputs": [],
   "source": [
    "add_header('Скачки по станциям на маршруте бригад', h=2, p=False)"
   ]
  },
  {
   "cell_type": "markdown",
   "metadata": {},
   "source": [
    "### Скачки внутри планируемого маршрута бригад"
   ]
  },
  {
   "cell_type": "code",
   "execution_count": 116,
   "metadata": {
    "collapsed": false
   },
   "outputs": [
    {
     "name": "stdout",
     "output_type": "stream",
     "text": [
      "\n",
      "Всего бригад, у которых есть скачки на маршруте: 50\n",
      "Всего скачков на маршруте бригад: 55 (показаны первые 10):\n",
      "         team         st_from_name           st_to_name              next_st   time_start_f     time_end_f  state state_info\n",
      " 200200171743             АЧИНСК I             АЧИНСК I            АЧИНСК II  Jun 18, 12:24  Jun 18, 12:43      2          4\n",
      " 200200242557         ВОЛОЧАЕВКА I                  NaN                  NaN  Jun 18, 10:09  Jun 18, 11:31      0          4\n",
      " 200200246470                 БИРА                  NaN                  NaN  Jun 18, 06:56  Jun 18, 07:42      0          4\n",
      " 200200074494         ВОЛОЧАЕВКА I                  NaN                  NaN  Jun 18, 05:41  Jun 18, 07:30      1          3\n",
      " 200200074494                 БИРА                  NaN                  NaN  Jun 18, 20:53  Jun 18, 21:33      0          3\n",
      " 777700002909             АЧИНСК I            АЧИНСК II             АЧИНСК I  Jun 18, 21:46  Jun 18, 22:02      1        NaN\n",
      " 777700002909             АЧИНСК I            АЧИНСК II             АЧИНСК I  Jun 19, 00:42  Jun 19, 00:58      1        NaN\n",
      " 200200224475  КОМСОМОЛЬСК-НА-А...  КОМСОМОЛЬСК-НА-А...  КОМСОМОЛЬСК-НА-А...  Jun 18, 04:58  Jun 18, 06:58      2          3\n",
      " 200200128400             АЧИНСК I             АЧИНСК I            АЧИНСК II  Jun 18, 07:10  Jun 18, 07:30      2          3\n",
      " 200200147711         ВОЛОЧАЕВКА I                  NaN                  NaN  Jun 18, 10:09  Jun 18, 11:31      0          4\n",
      " 200200199948                  NaN                  NaN                  NaN  Jun 18, 00:59  Jun 18, 07:08      4          3\n",
      " 200200126160                 БИРА                  NaN                  NaN  Jun 18, 18:14  Jun 18, 19:03      0          4\n",
      " 200200254038         ВОЛОЧАЕВКА I                  NaN                  NaN  Jun 18, 09:34  Jun 18, 11:24      1          2\n",
      " 200200254038                 БИРА                  NaN                  NaN  Jun 18, 20:53  Jun 18, 21:33      0          2\n",
      " 200200135297             АЧИНСК I             АЧИНСК I            АЧИНСК II  Jun 18, 20:20  Jun 18, 20:40      2          3\n",
      " 200200223737                  NaN                  NaN                  NaN  Jun 18, 05:30  Jun 18, 11:36      4          3\n",
      " 200200144639         ВОЛОЧАЕВКА I                  NaN                  NaN  Jun 18, 10:09  Jun 18, 11:31      0          4\n",
      " 200200108280         ВОЛОЧАЕВКА I                  NaN                  NaN  Jun 18, 09:34  Jun 18, 11:24      1          2\n",
      " 200200108280                 БИРА                  NaN                  NaN  Jun 18, 20:53  Jun 18, 21:33      0          2\n",
      " 777700002646             АЧИНСК I            АЧИНСК II             АЧИНСК I  Jun 18, 15:45  Jun 18, 16:13      1        NaN\n",
      "\n",
      "Станции, на которых наблюдаются скачки (первые 5):\n",
      "КОМСОМОЛЬСК-НА-АМУРЕ-СОРТИРОВОЧНЫЙ    6\n",
      "АЧИНСК I                              4\n",
      "АЧИНСК II                             3\n",
      "КРАСНОЯРСК-ВОСТОЧНЫЙ                  3\n",
      "КОМСОМОЛЬСК-НА-АМУРЕ                  1\n",
      "\n",
      "Маршрут бригады 200200164017:\n",
      "         team st_from_name  st_to_name   time_start_f     time_end_f  state          loco state_info\n",
      " 200200164017   СЛЮДЯНКА I  СЛЮДЯНКА I  Jun 18, 11:01  Jun 18, 11:40      2            -1          3\n",
      " 200200164017   СЛЮДЯНКА I   БАЙКАЛЬСК  Jun 18, 11:40  Jun 18, 12:32      1  200200073164          3\n",
      " 200200164017    БАЙКАЛЬСК     МЫСОВАЯ  Jun 18, 12:32  Jun 18, 14:40      1  200200073164          3\n",
      " 200200164017      МЫСОВАЯ    УЛАН-УДЭ  Jun 18, 14:40  Jun 18, 17:22      1  200200073164          3\n",
      " 200200164017     УЛАН-УДЭ    УЛАН-УДЭ  Jun 18, 17:52  Jun 18, 22:21      4            -1          3\n",
      " 200200164017     УЛАН-УДЭ     МЫСОВАЯ  Jun 18, 22:21  Jun 19, 00:25      0            -1          3\n",
      " 200200164017      МЫСОВАЯ   БАЙКАЛЬСК  Jun 19, 00:25  Jun 19, 02:14      0            -1          3\n",
      " 200200164017    БАЙКАЛЬСК  СЛЮДЯНКА I  Jun 19, 02:14  Jun 19, 02:55      0            -1          3\n"
     ]
    }
   ],
   "source": [
    "pd.set_option('display.max_colwidth', 20)\n",
    "team_cols = ['team', 'st_from_name', 'st_to_name', 'next_st', 'time_start_f', 'time_end_f', 'state', 'state_info']\n",
    "team_plan['is_end'] = team_plan.team != team_plan.team.shift(-1)\n",
    "team_plan['next_st'] = team_plan.st_from_name.shift(-1)\n",
    "team_leaps = team_plan.loc[(team_plan.is_end == False) & (team_plan.st_to_name != team_plan.next_st), team_cols]\n",
    "team_leaps_n = len(team_leaps.team.drop_duplicates().index)\n",
    "add_header('\\nВсего бригад, у которых есть скачки на маршруте: %d' % team_leaps_n)\n",
    "add_header('Всего скачков на маршруте бригад: %d (показаны первые 10):' % len(team_leaps.index))\n",
    "add_line(team_leaps.head(20))\n",
    "\n",
    "add_header('\\nСтанции, на которых наблюдаются скачки (первые 5):')\n",
    "add_line(team_leaps.st_to_name.value_counts().head())\n",
    "\n",
    "# Пример маршрута такой бригады (подставить id из предыдущего вывода):\n",
    "team_cols2 = ['team', 'st_from_name', 'st_to_name', 'time_start_f', 'time_end_f', 'state', 'loco', 'state_info']\n",
    "team_id = '200200164017'\n",
    "print('\\nМаршрут бригады %s:' % team_id)\n",
    "print(team_plan.loc[team_plan.team == team_id, team_cols2].to_string(index=False))"
   ]
  },
  {
   "cell_type": "markdown",
   "metadata": {},
   "source": [
    "### Скачки между станцией исходного местоположения и первой станцией планирования"
   ]
  },
  {
   "cell_type": "code",
   "execution_count": 117,
   "metadata": {
    "collapsed": false
   },
   "outputs": [],
   "source": [
    "team_info.loc[team_info.st_from != '-1', 'first_station'] = team_info.loc[team_info.st_from != '-1', 'st_from']\n",
    "team_info.loc[team_info.st_from == '-1', 'first_station'] = team_info.loc[team_info.st_from == '-1', 'oper_location']\n",
    "team_info.loc[team_info.st_to != '-1', 'next_station'] = team_info.loc[team_info.st_to != '-1', 'st_to']\n",
    "team_info[['team', 'oper_location', 'st_from', 'first_station', 'next_station']]\n",
    "team_plan['first_station'] = team_plan.team.map(team_info.drop_duplicates('team').set_index('team').first_station)\n",
    "team_plan['next_station'] = team_plan.team.map(team_info.drop_duplicates('team').set_index('team').next_station)\n",
    "team_plan['first_st_name'] = team_plan.first_station.map(st_names.name)\n",
    "team_plan['next_st_name'] = team_plan.next_station.map(st_names.name)\n",
    "team_starts = team_plan[team_plan.state.isin([0, 1])].drop_duplicates('team').copy(deep=True)\n",
    "start_leaps = team_starts[((team_starts.first_station.isnull() == False) & (team_starts.st_from != team_starts.first_station)) | \n",
    "            ((team_starts.next_station.isnull() == False) & (team_starts.st_to != team_starts.next_station))]"
   ]
  },
  {
   "cell_type": "code",
   "execution_count": 118,
   "metadata": {
    "collapsed": false
   },
   "outputs": [
    {
     "name": "stdout",
     "output_type": "stream",
     "text": [
      "Распределение скачков бригад по станциям местоположения (показаны первые 5):\n",
      "АЧИНСК I                              4\n",
      "КОМСОМОЛЬСК-НА-АМУРЕ-СОРТИРОВОЧНЫЙ    2\n",
      "КРАСНОЯРСК-ВОСТОЧНЫЙ                  1\n",
      "\n",
      "Бригады со скачками между станцией местоположения и первой станцией в маршруте (показаны первые 10):\n",
      "         team         st_from_name           st_to_name          loco        first_st_name next_st_name loco_info\n",
      " 200200171743            АЧИНСК II             АЧИНСК I  200200044632             АЧИНСК I          NaN        -1\n",
      " 200200224475  КОМСОМОЛЬСК-НА-А...  КОМСОМОЛЬСК-НА-А...  200200068377  КОМСОМОЛЬСК-НА-А...          NaN        -1\n",
      " 200200128400            АЧИНСК II             АЧИНСК I  200200056996             АЧИНСК I          NaN        -1\n",
      " 200200135297            АЧИНСК II             АЧИНСК I  200200094079             АЧИНСК I          NaN        -1\n",
      " 200200248332            АЧИНСК II             АЧИНСК I  200200100368             АЧИНСК I          NaN        -1\n",
      " 200200094169  КОМСОМОЛЬСК-НА-А...  КОМСОМОЛЬСК-НА-А...  200200076001  КОМСОМОЛЬСК-НА-А...          NaN        -1\n",
      " 200200123405           КРАСНОЯРСК               ЕНИСЕЙ  200200077917  КРАСНОЯРСК-ВОСТО...          NaN        -1\n"
     ]
    }
   ],
   "source": [
    "cols = ['team', 'st_from_name', 'st_to_name', 'loco', 'first_st_name', 'next_st_name', 'loco_info']\n",
    "first_st_leaps = team_starts[(team_starts.first_station.isnull() == False) & (team_starts.next_station.isnull())\n",
    "                             & (team_starts.st_from != team_starts.first_station)]\n",
    "add_header('Распределение скачков бригад по станциям местоположения (показаны первые 5):')\n",
    "add_line(first_st_leaps.first_st_name.value_counts().head())\n",
    "add_header('\\nБригады со скачками между станцией местоположения и первой станцией в маршруте (показаны первые 10):')\n",
    "add_line(first_st_leaps[cols].head(10))"
   ]
  },
  {
   "cell_type": "code",
   "execution_count": 119,
   "metadata": {
    "collapsed": false
   },
   "outputs": [
    {
     "name": "stdout",
     "output_type": "stream",
     "text": [
      "Распределение скачков бригад по станциям направления (показаны первые 5):\n",
      "Series([], )\n",
      "\n",
      "Бригады со скачками между станцией направления и первой станцией направления в маршруте (показаны первые 10):\n",
      "Empty DataFrame\n",
      "Columns: [team, st_from_name, st_to_name, loco, first_st_name, next_st_name, loco_info, train]\n",
      "Index: []\n"
     ]
    }
   ],
   "source": [
    "cols = ['team', 'st_from_name', 'st_to_name', 'loco', 'first_st_name', 'next_st_name', 'loco_info', 'train']\n",
    "loco_info['train_number'] = loco_info.train.map(train_info.drop_duplicates('train').set_index('train').number)\n",
    "team_starts['train'] = team_starts.loco_info.map(loco_info.drop_duplicates('loco').set_index('loco').train_number)\n",
    "next_st_leaps = team_starts[(team_starts.next_station.isnull() == False) \n",
    "                            & (team_starts.st_to != team_starts.next_station)]\n",
    "add_header('Распределение скачков бригад по станциям направления (показаны первые 5):')\n",
    "add_line(next_st_leaps.next_st_name.value_counts())\n",
    "add_header('\\nБригады со скачками между станцией направления и первой станцией направления в маршруте (показаны первые 10):')\n",
    "add_line(next_st_leaps[cols].head(10))"
   ]
  },
  {
   "cell_type": "markdown",
   "metadata": {},
   "source": [
    "<a id='stop_time'></a>\n",
    "## Анализ времен стоянок локомотивов для смены бригады [ToC](#toc)"
   ]
  },
  {
   "cell_type": "code",
   "execution_count": 120,
   "metadata": {
    "collapsed": true
   },
   "outputs": [],
   "source": [
    "add_header('Анализ времен стоянок локомотивов для смены бригады', h=2, p=False)"
   ]
  },
  {
   "cell_type": "markdown",
   "metadata": {},
   "source": [
    "#### Распределение времен стоянок для смены бригады"
   ]
  },
  {
   "cell_type": "code",
   "execution_count": 121,
   "metadata": {
    "collapsed": false
   },
   "outputs": [
    {
     "data": {
      "image/png": "[encoded data removed]",
      "text/plain": [
       "<matplotlib.figure.Figure at 0x28193812f28>"
      ]
     },
     "metadata": {},
     "output_type": "display_data"
    }
   ],
   "source": [
    "# Смена бригады без стоянки локомотива\n",
    "cols = ['loco', 'st_from_name', 'st_to_name', 'time_start', 'time_end', 'team', 'time_start_next', 'loco_finish', 'stop_time']\n",
    "\n",
    "loco_plan['team_start'] = (loco_plan.team != loco_plan.team.shift(1)) | (loco_plan.loco != loco_plan.loco.shift(1))\n",
    "loco_plan['team_end'] = (loco_plan.team != loco_plan.team.shift(-1)) | (loco_plan.loco != loco_plan.loco.shift(-1))\n",
    "start_teams = loco_plan.loc[(loco_plan.team.isin([-1, 0]) == False) & (loco_plan.team_start == True)].reset_index()\\\n",
    "                            [['loco', 'st_from_name', 'time_start', 'time_start_f', 'train', 'team']]\n",
    "end_teams = loco_plan.loc[(loco_plan.team.isin([-1, 0]) == False) & (loco_plan.team_end == True)].reset_index()\\\n",
    "                            [['st_to_name', 'time_end', 'time_end_f']]\n",
    "teams_trip = pd.concat([start_teams, end_teams], axis=1)\n",
    "teams_trip['time_start_next'] = teams_trip.time_start.shift(-1)\n",
    "teams_trip['loco_finish'] = teams_trip.loco != teams_trip.loco.shift(-1)\n",
    "teams_trip.loc[teams_trip.loco_finish == False, 'stop_time'] = teams_trip.time_start_next - teams_trip.time_end\n",
    "sns.set_style('ticks')\n",
    "sns.set_context('talk')\n",
    "sns.set_color_codes('dark')\n",
    "fig = plt.figure()\n",
    "series_to_hist = teams_trip.dropna(subset=['stop_time']).stop_time / 3600\n",
    "#series_to_hist2 = teams_trip.dropna(subset=['stop_time']).loc[(teams_trip.stop_time > 90 * 60)].stop_time / 3600\n",
    "series_to_hist.name = 'Время стоянки локомотива для смены бригады (час)'\n",
    "title = 'Распределение времен стоянок локомотивов для смены бригад\\n(среднее %.2f ч., медиана %.2f ч.)' %\\\n",
    "        (series_to_hist.mean(), series_to_hist.median())\n",
    "ax = sns.distplot(series_to_hist, hist_kws={'label':'a'}, color='b', hist=False, kde_kws={'shade':True})\n",
    "ax.set_title(title)\n",
    "sns.despine()\n",
    "filename = 'loco_stop_time.png'\n",
    "fig.savefig(REPORT_FOLDER + filename, bbox_inches='tight')\n",
    "add_image(filename)"
   ]
  },
  {
   "cell_type": "markdown",
   "metadata": {},
   "source": [
    "#### Поиск локомотивов, у которых смены бригады занимает меньше 15 минут"
   ]
  },
  {
   "cell_type": "code",
   "execution_count": 122,
   "metadata": {
    "collapsed": false
   },
   "outputs": [
    {
     "name": "stdout",
     "output_type": "stream",
     "text": [
      "Sat Jun 18 02:40:00 2016\n",
      "Всего 30 локомотивов со сменой бригад быстрее 15 минут (показаны первые 10):\n",
      "         loco         st_from_name           st_to_name     time_end_f       tsn_norm           train  stop_time          team\n",
      " 200200060416  КОМСОМОЛЬСК-НА-А...  КОМСОМОЛЬСК-НА-А...  Jun 19, 06:20  Jun 19, 06:10  88880003784692       -634  777700002474\n",
      " 200200030418            ПОСТЫШЕВО  КОМСОМОЛЬСК-НА-А...  Jun 18, 13:36  Jun 18, 13:36  88880000264218          0  777700002419\n",
      " 200200030522            ПОСТЫШЕВО  КОМСОМОЛЬСК-НА-А...  Jun 18, 13:36  Jun 18, 13:36    210211706112          0  777700002418\n",
      " 200200044632                 УЖУР            АЧИНСК II  Jun 18, 12:43  Jun 18, 12:43  88880003334412          0  777700002318\n",
      " 200200061369               РУЖИНО           КРУГЛИКОВО  Jun 18, 18:47  Jun 18, 18:47    200255468074          0  200200248058\n",
      " 200200065702            ВЯЗЕМСКАЯ           КРУГЛИКОВО  Jun 18, 10:12  Jun 18, 10:12    200255019583          0  777700002306\n",
      " 200200072818             УЛАН-УДЭ           ЗАУДИНСКИЙ  Jun 18, 20:23  Jun 18, 20:23  88880000924306          0  777700002457\n",
      " 200200084436            УССУРИЙСК         ПЕРВАЯ РЕЧКА  Jun 18, 23:49  Jun 18, 23:49    200255549692          0  777700002537\n",
      " 200200086598              ОБЛУЧЬЕ                 БИРА  Jun 19, 07:51  Jun 19, 07:51    200251701126          0  777700002344\n",
      " 200200094802              ОБЛУЧЬЕ               АРХАРА  Jun 18, 15:27  Jun 18, 15:27  88880000174407          0  777700002538\n",
      "\n",
      "Распределение проблемных локомотивов по станциям смены (показаны первые 10 по частоте):\n",
      "             station  freq  norm_time\n",
      " КОМСОМОЛЬСК-НА-А...     3          0\n",
      "          СЛЮДЯНКА I     3       2340\n",
      "              АРХАРА     2          0\n",
      "               ХИЛОК     2       4086\n",
      "          КРУГЛИКОВО     2          0\n",
      "              АБАКАН     2       7200\n",
      "           ВИХОРЕВКА     2       6372\n",
      "            САЯНСКАЯ     2       4752\n",
      "            АЧИНСК I     1       1152\n",
      "            УЛАН-УДЭ     1       2772\n",
      "\n",
      "Распределение проблемных локомотивов по типам поездов:\n",
      "Резерв      11\n",
      "Реальный    10\n",
      "Задания      9\n"
     ]
    }
   ],
   "source": [
    "print(time.ctime(current_time))\n",
    "cols2 = ['loco', 'st_from_name', 'st_to_name', 'time_end_f', 'tsn_norm', 'train', 'stop_time', 'team']\n",
    "pd.set_option('display.max_colwidth', 20)\n",
    "teams_trip = teams_trip.dropna(subset=['time_start_next'])\n",
    "teams_trip['tsn_norm'] = teams_trip.time_start_next.apply(lambda x: time.strftime(time_format, time.localtime(x)))\n",
    "teams_trip.loc[teams_trip.stop_time.isnull() == False, 'next_team'] = teams_trip.team.shift(-1)\n",
    "teams_trip['train_type'] = teams_trip.train.apply(lambda x: 'Резерв' if str(x)[0]=='8' \\\n",
    "                                                      else ('Задания' if str(x)[0]=='9' else 'Реальный'))\n",
    "fast_change = teams_trip.loc[teams_trip.stop_time < 15 * 60]\n",
    "if fast_change.empty == False:\n",
    "    add_header('Всего %d локомотивов со сменой бригад быстрее 15 минут (показаны первые 10):' % len(fast_change.index))\n",
    "    add_line(fast_change[cols2].sort_values(['stop_time', 'loco']).head(10))\n",
    "    add_header('\\nРаспределение проблемных локомотивов по станциям смены (показаны первые 10 по частоте):')\n",
    "    bad_st = fast_change.st_to_name.value_counts().to_frame().reset_index()\n",
    "    bad_st.columns = ['station', 'freq']\n",
    "    bad_st['norm_time'] = bad_st['station'].map(stations.drop_duplicates(subset=['name']).set_index('name').norm_time)\n",
    "    add_line(bad_st.head(10))\n",
    "    add_header('\\nРаспределение проблемных локомотивов по типам поездов:')    \n",
    "    add_line(fast_change.train_type.value_counts())\n",
    "else:\n",
    "    add_line('Нет локомотивов со сменой бригад со стоянкой меньше 15 минут')\n",
    "    \n",
    "# Посмотреть маршруты конкретных локомотивов или бригад\n",
    "loco_cols = ['loco', 'st_from','st_to', 'st_from_name', 'st_to_name', 'time_start', 'time_end', 'team']\n",
    "#team_cols = ['team', 'st_from_name', 'st_to_name', 'time_start_f', 'time_end_f', 'state', 'loco']\n",
    "#print(loco_plan.loc[loco_plan.loco == '200200093307', loco_cols].to_string(index=False))\n",
    "#print(team_plan.loc[team_plan.loco == '200250042559', team_cols].sort_values('time_start_norm').to_string(index=False))"
   ]
  },
  {
   "cell_type": "markdown",
   "metadata": {},
   "source": [
    "<a id='rest_time'></a>\n",
    "## Проверка времен отдыха бригад [ToC](#toc)"
   ]
  },
  {
   "cell_type": "code",
   "execution_count": 123,
   "metadata": {
    "collapsed": true
   },
   "outputs": [],
   "source": [
    "add_header('Проверка времен отдыха бригад', h=2, p=False)"
   ]
  },
  {
   "cell_type": "code",
   "execution_count": 124,
   "metadata": {
    "collapsed": false
   },
   "outputs": [
    {
     "name": "stdout",
     "output_type": "stream",
     "text": [
      "Время начала планирования: Jun 18, 02:40\n",
      "Бригад с аномально большим временем отдыха: 0 (показаны первые 10):\n",
      "Минимальное время отдыха (3 часа) нарушено у 1 бригад (показаны первые 10):\n",
      "         team st_from_name st_to_name   time_start_f     time_end_f  time  state\n",
      " 200200157669          NaN        NaN  Jun 18, 08:30  Jun 18, 02:40 -5.83      4\n"
     ]
    }
   ],
   "source": [
    "print('Время начала планирования:', time.strftime(time_format, time.localtime(current_time)))\n",
    "team_cols = ['team', 'st_from_name', 'st_to_name', 'time_start_f', 'time_end_f', 'time', 'state', 'loco']\n",
    "team_plan['time'] = np.round(((team_plan.time_end - team_plan.time_start) / 3600), 2)\n",
    "rest_outliers = team_plan[(team_plan.state == 4) & (team_plan.time > 1000)]\n",
    "add_header('Бригад с аномально большим временем отдыха: %d (показаны первые 10):' % len(rest_outliers.index))\n",
    "out_cols = ['team', 'st_from_name', 'st_to_name', 'time_start_f', 'time_end_f', 'time', 'state']\n",
    "if not rest_outliers.empty:\n",
    "    add_line(rest_outliers[out_cols].head(10))\n",
    "\n",
    "rest_check = team_plan[(team_plan.state == 4) & (team_plan.time < 1000)]\n",
    "\n",
    "min_rest = rest_check.time.min()\n",
    "if min_rest < 3:\n",
    "    add_header('Минимальное время отдыха (3 часа) нарушено у %d бригад (показаны первые 10):' \\\n",
    "          % len(rest_check[rest_check.time < 3].index))\n",
    "    add_line(rest_check[rest_check.time < 3][out_cols].head(10))    \n",
    "else:\n",
    "    add_header('Минимальное время отдыха бригад: %.2f часа' % (min_rest))"
   ]
  },
  {
   "cell_type": "markdown",
   "metadata": {},
   "source": [
    "#### Отсев бригад со слишком ранним временем явки"
   ]
  },
  {
   "cell_type": "code",
   "execution_count": 125,
   "metadata": {
    "collapsed": false
   },
   "outputs": [
    {
     "name": "stdout",
     "output_type": "stream",
     "text": [
      "Всего 430 бригад со слишком большим отдыхом и слишком ранним временем явки (сутки назад и более). Примеры:\n",
      "         team st_from_name   st_to_name   time_start_f     time_end_f   time  state\n",
      " 200200210926       ТАЛДАН       ТАЛДАН  Jun 17, 17:29  Jun 19, 17:38  48.16      4\n",
      " 200200110253      ТАКСИМО      ТАКСИМО  Jun 17, 19:44  Jun 19, 17:39  45.92      4\n",
      " 200200094394  НОВЫЙ УРГАЛ  НОВЫЙ УРГАЛ  Jun 17, 07:58  Jun 18, 20:46  36.80      4\n",
      " 200200182766      ТАКСИМО      ТАКСИМО  Jun 18, 00:35  Jun 19, 09:47  33.21      4\n",
      " 200200120563        ХИЛОК        ХИЛОК  Jun 17, 17:43  Jun 18, 22:19  28.61      4\n",
      " 200200230061    КАРЫМСКАЯ    КАРЫМСКАЯ  Jun 17, 19:35  Jun 18, 22:47  27.21      4\n",
      " 200200210970       РУЖИНО       РУЖИНО  Jun 17, 18:40  Jun 18, 21:25  26.75      4\n",
      " 200200193527       РУЖИНО       РУЖИНО  Jun 17, 19:05  Jun 18, 21:25  26.33      4\n",
      " 200200144966     САЯНСКАЯ     САЯНСКАЯ  Jun 17, 16:50  Jun 18, 18:44  25.90      4\n",
      " 200200102695  СМОЛЯНИНОВО  СМОЛЯНИНОВО  Jun 17, 17:05  Jun 18, 18:34  25.48      4\n"
     ]
    }
   ],
   "source": [
    "rest_old_presence = rest_check[(rest_check.info_presence < current_time - 12 * 3600) & (rest_check.state_info != '3')]\n",
    "add_header('Всего %d бригад со слишком большим отдыхом и слишком ранним временем явки (сутки назад и более). Примеры:' \n",
    "           % rest_old_presence.team.count())\n",
    "add_line(rest_old_presence.sort_values('time', ascending=False)[out_cols].head(10))"
   ]
  },
  {
   "cell_type": "markdown",
   "metadata": {},
   "source": [
    "#### Бригады со слишком большим отдыхом"
   ]
  },
  {
   "cell_type": "code",
   "execution_count": 126,
   "metadata": {
    "collapsed": false
   },
   "outputs": [
    {
     "name": "stdout",
     "output_type": "stream",
     "text": [
      "Всего 14 бригад с большим временем отдыха (больше 10 часов) (показаны первые 10):\n",
      "         team         st_from_name           st_to_name   time_start_f     time_end_f   time  state\n",
      " 200200204155               РУЖИНО               РУЖИНО  Jun 17, 23:00  Jun 18, 21:25  22.42      4\n",
      " 200200213901               РУЖИНО               РУЖИНО  Jun 18, 00:40  Jun 18, 21:25  20.75      4\n",
      " 210206337752             ГВОЗДЕВО             ГВОЗДЕВО  Jun 17, 23:42  Jun 18, 17:03  17.34      4\n",
      " 200200249911            КАРЫМСКАЯ            КАРЫМСКАЯ  Jun 18, 01:30  Jun 18, 18:05  16.58      4\n",
      " 200200281158                 ЗИМА                 ЗИМА  Jun 18, 00:15  Jun 18, 14:58  14.72      4\n",
      " 200200193386              ТАКСИМО              ТАКСИМО  Jun 18, 00:59  Jun 18, 15:23  14.40      4\n",
      " 200200104780  ЧЕРНЫШЕВСК-ЗАБАЙ...  ЧЕРНЫШЕВСК-ЗАБАЙ...  Jun 17, 23:01  Jun 18, 13:16  14.26      4\n",
      " 200200147407                 ХАНИ                 ХАНИ  Jun 18, 01:44  Jun 18, 15:30  13.77      4\n",
      " 200200266716               ТАЙШЕТ               ТАЙШЕТ  Jun 18, 21:32  Jun 19, 10:21  12.81      4\n",
      " 200200224421         ХАБАРОВСК II         ХАБАРОВСК II  Jun 18, 01:45  Jun 18, 13:11  11.43      4\n"
     ]
    }
   ],
   "source": [
    "long_rest = rest_check[(rest_check.time > 10) & (rest_check.team.isin(rest_old_presence.team) == False)]\n",
    "add_header('Всего %d бригад с большим временем отдыха (больше 10 часов) (показаны первые 10):' % len(long_rest.index))\n",
    "add_line(long_rest.sort_values('time', ascending=False)[out_cols].head(10))"
   ]
  },
  {
   "cell_type": "code",
   "execution_count": 127,
   "metadata": {
    "collapsed": false
   },
   "outputs": [
    {
     "data": {
      "image/png": "[encoded data removed]",
      "text/plain": [
       "<matplotlib.figure.Figure at 0x2819357aac8>"
      ]
     },
     "metadata": {},
     "output_type": "display_data"
    }
   ],
   "source": [
    "rest_show = rest_check[(rest_check.team.isin(rest_old_presence.team) == False)]\n",
    "title = 'Распределение бригад по временам на отдых\\n(медианное время отдыха = %.2f час)' % (rest_show.time.median())\n",
    "sns.set_style('whitegrid')\n",
    "sns.set_context('notebook')\n",
    "fig = plt.figure()\n",
    "ax = sns.distplot(rest_show.time, hist=False, kde_kws={'shade':True}, color='b')\n",
    "ax.set(title=title)\n",
    "sns.despine()\n",
    "filename = 'team_rest_time.png'\n",
    "fig.savefig(REPORT_FOLDER + filename, bbox_inches='tight')\n",
    "add_image(filename)"
   ]
  },
  {
   "cell_type": "markdown",
   "metadata": {},
   "source": [
    "#### Бригады с недостаточным отдыхом"
   ]
  },
  {
   "cell_type": "code",
   "execution_count": 128,
   "metadata": {
    "collapsed": false
   },
   "outputs": [],
   "source": [
    "rest = team_plan[team_plan.state == 4][['team', 'time_start', 'time']]\n",
    "team_trips['rest_start_time'] = team_trips.team.map(rest.set_index('team').time_start)\n",
    "team_trips['rest_start_time_f'] = team_trips.rest_start_time\\\n",
    "                .apply(lambda x: time.strftime(time_format, time.localtime(x)) if np.isnan(x) == False else '')\n",
    "team_trips['rest_time'] = team_trips.team.map(rest.set_index('team').time)\n",
    "team_trips['min_rest_time'] = np.round((team_trips.rest_start_time - team_trips.curr_presence) / (2 * 3600), 2)\n",
    "team_trips['underrest'] = team_trips.min_rest_time - team_trips.rest_time"
   ]
  },
  {
   "cell_type": "code",
   "execution_count": 129,
   "metadata": {
    "collapsed": true
   },
   "outputs": [],
   "source": [
    "# Для подсчета требуемого отдыха удаляем поездки, которые связаны с одной явкой бригады; \n",
    "# для каждой явки оставляем только последнюю поездку, чтобы правильно взять полное рабочее время.\n",
    "team_trips_cut = team_trips.sort_values(['team', 'curr_presence', 'work_time'], ascending=[True, True, False])\\\n",
    "                            .drop_duplicates(subset=['team', 'curr_presence'])"
   ]
  },
  {
   "cell_type": "code",
   "execution_count": 130,
   "metadata": {
    "collapsed": false
   },
   "outputs": [
    {
     "name": "stdout",
     "output_type": "stream",
     "text": [
      "Всего 320 бригад с недостаточным отдыхом:\n",
      "Распределение по типу бригад:\n",
      "Реальная    215\n",
      "Фейковая    105\n"
     ]
    }
   ],
   "source": [
    "cols = ['team', 'curr_presence_norm', 'time_start_f', 'rest_start_time_f', \n",
    "        'work_time', 'min_rest_time', 'rest_time', 'underrest']\n",
    "underrest = team_trips_cut[(team_trips_cut.time_start < team_trips_cut.rest_start_time) & (team_trips_cut.underrest > 0)]\n",
    "underrest_n = underrest.team.drop_duplicates().count()\n",
    "add_header('Всего %d бригад с недостаточным отдыхом:' % underrest_n)\n",
    "add_header('Распределение по типу бригад:')\n",
    "add_line(underrest.team_type.value_counts())"
   ]
  },
  {
   "cell_type": "code",
   "execution_count": 131,
   "metadata": {
    "collapsed": false
   },
   "outputs": [
    {
     "name": "stdout",
     "output_type": "stream",
     "text": [
      "Всего 254 бригад без переработки с недостаточным отдыхом.\n",
      "\n",
      "Распределение по типу бригад:\n",
      "Реальная    207\n",
      "Фейковая     47\n",
      "\n",
      "Примеры бригад без переработки с недостаточным отдыхом:\n",
      "         team curr_presence_norm   time_start_f rest_start_time_f  work_time  min_rest_time  rest_time  underrest\n",
      " 777700002386      Jun 18, 02:40  Jun 18, 06:15     Jun 18, 13:22      10.21           5.36       3.32       2.04\n",
      " 777700002395      Jun 18, 02:40  Jun 18, 06:05     Jun 18, 12:21       9.19           4.85       3.00       1.85\n",
      " 200200173229      Jun 18, 10:12  Jun 18, 12:30     Jun 18, 19:09       8.46           4.48       3.08       1.40\n",
      " 200200072719      Jun 18, 11:27  Jun 18, 13:45     Jun 18, 20:10       8.23           4.36       3.00       1.36\n",
      " 777700002372      Jun 18, 03:54  Jun 18, 06:00     Jun 18, 12:32       8.14           4.32       3.02       1.30\n",
      " 200200137515      Jun 18, 20:45  Jun 18, 22:51     Jun 19, 06:19       9.07           4.78       3.48       1.30\n",
      " 200200078948      Jun 18, 19:24  Jun 18, 21:30     Jun 19, 04:58       9.07           4.78       3.48       1.30\n",
      " 200200248950      Jun 18, 12:29  Jun 18, 14:35     Jun 18, 22:33       9.57           5.03       3.73       1.30\n",
      " 200200104712      Jun 18, 19:09  Jun 18, 21:15     Jun 19, 04:43       9.07           4.78       3.48       1.30\n",
      " 200200255504      Jun 18, 06:04  Jun 18, 08:10     Jun 18, 16:25       9.85           5.18       3.88       1.30\n"
     ]
    },
    {
     "data": {
      "image/png": "[encoded data removed]",
      "text/plain": [
       "<matplotlib.figure.Figure at 0x2819598d5c0>"
      ]
     },
     "metadata": {},
     "output_type": "display_data"
    }
   ],
   "source": [
    "underrest_no_overtime = underrest[underrest.work_time <= WORK_TIME_LIMIT]\n",
    "underrest_no_n = underrest_no_overtime.team.drop_duplicates().count()\n",
    "add_header('Всего %d бригад без переработки с недостаточным отдыхом.' % underrest_no_n)\n",
    "add_header('\\nРаспределение по типу бригад:')\n",
    "add_line(underrest_no_overtime.team_type.value_counts())\n",
    "add_header('\\nПримеры бригад без переработки с недостаточным отдыхом:')\n",
    "add_line(underrest_no_overtime.sort_values('underrest', ascending=False).head(10 if underrest_no_n > 20 else underrest_no_n)[cols])\n",
    "\n",
    "sns.set_context('notebook')\n",
    "sns.set_style('whitegrid')\n",
    "title = 'Распределение недостаточного отдыха бригад\\n(медианное время недоотдыха = %.2f час)' \\\n",
    "            % (underrest_no_overtime.underrest.median())\n",
    "fig = plt.figure()\n",
    "ax = sns.distplot(underrest_no_overtime.underrest, color='b', hist=False, kde_kws={'shade':True})\n",
    "ax.set(title=title, xlabel='Недостаточный отдых, ч.')\n",
    "sns.despine()\n",
    "filename = 'team_under_rest.png'\n",
    "fig.savefig(REPORT_FOLDER + filename, bbox_inches='tight')\n",
    "add_image(filename)"
   ]
  },
  {
   "cell_type": "code",
   "execution_count": 132,
   "metadata": {
    "collapsed": false
   },
   "outputs": [
    {
     "data": {
      "text/plain": [
       "'Thu May 12 23:00:00 2016'"
      ]
     },
     "execution_count": 132,
     "metadata": {},
     "output_type": "execute_result"
    }
   ],
   "source": [
    "team_plan['loco_time'] = list(zip(team_plan.loco, team_plan.time_start))\n",
    "loco_plan['loco_time'] = list(zip(loco_plan.loco, loco_plan.time_start))\n",
    "team_plan['train'] = team_plan.loco_time.map(loco_plan.drop_duplicates('loco_time').set_index('loco_time').train)\n",
    "#print(team_plan[team_plan.team == '777700000270']\\\n",
    "#      [['team', 'st_from_name', 'st_to_name', 'time_start_f', 'time_end_f', \n",
    "#        'state', 'loco', 'train', 'time']].to_string(index=False))\n",
    "time.ctime(1463065200)"
   ]
  },
  {
   "cell_type": "markdown",
   "metadata": {},
   "source": [
    "## Проверка подвязки бригад по Иркутску"
   ]
  },
  {
   "cell_type": "code",
   "execution_count": 133,
   "metadata": {
    "collapsed": false
   },
   "outputs": [
    {
     "name": "stdout",
     "output_type": "stream",
     "text": [
      "Распределение поездов через Иркутск по направлениям:\n",
      "st_to_name\n",
      "БАТАРЕЙНАЯ    63\n",
      "ГОНЧАРОВО     79\n",
      "\n",
      "Распределение бригад, в маршруте которых есть Иркутск, по депо приписки:\n",
      "                      team percent\n",
      "depot_name                        \n",
      "ЗИМА                    25  32.05%\n",
      "ИРКУТСК-СОРТИРОВО...    47  60.26%\n",
      "СЛЮДЯНКА I               2   2.56%\n",
      "УЛАН-УДЭ                 4   5.13%\n"
     ]
    }
   ],
   "source": [
    "team_cols = ['team', 'st_from_name', 'st_to_name', 'time_start_f', 'state', 'loco', 'depot_name']\n",
    "team_plan['depot_name'] = team_plan.depot.map(st_names.name)\n",
    "st_name = 'ИРКУТСК-СОРТИРОВОЧНЫЙ'\n",
    "train_cols = ['train', 'number', 'st_from_name', 'st_to_name', 'time_start_f']\n",
    "train_plan['train_type'] = train_plan.train.apply(lambda x: str(x)[:1])\n",
    "print('Распределение поездов через Иркутск по направлениям:')\n",
    "print(train_plan.loc[(train_plan.st_from_name == st_name)\n",
    "              & (train_plan.time_start >= current_time) & (train_plan.train_type.isin(['2', '9']))\n",
    "              & (train_plan.time_start < current_time + 24*3600), train_cols].groupby('st_to_name').train.count().to_string())\n",
    "\n",
    "print('\\nРаспределение бригад, в маршруте которых есть Иркутск, по депо приписки:')\n",
    "#print(team_plan.loc[(team_plan.st_from_name == st_name) & (team_plan.state.isin([0, 1]))\n",
    "#              & (team_plan.time_start >= current_time), team_cols].groupby('depot_name').team.count().to_string())\n",
    "b = team_plan.loc[(team_plan.st_from_name == st_name) & (team_plan.state.isin([0, 1]))\n",
    "              & (team_plan.time_start >= current_time), team_cols].groupby('depot_name').team.count().to_frame()\n",
    "b['percent'] = np.round((100 * b.team / b.team.sum()), 2)\n",
    "b['percent'] = b['percent'].apply(lambda x: str(x) + '%')\n",
    "print(b.to_string())\n",
    "\n",
    "team_plan.loc[team_plan.team == '200235746392', team_cols]\n",
    "#team_trips.columns\n",
    "#trips_cols = ['team', 'number', 'st_from_name', 'st_to_name', 'time_start_f', 'time_end_f', 'work_time', 'overtime']\n",
    "trips_cols_print = ['number', 'st_from_name', 'st_to_name', 'time_start_f', 'time_end_f', 'work_time', 'overtime']\n",
    "a = team_trips.loc[team_trips.team == '200235746392', trips_cols_print]\n",
    "a.columns = ['Номер', 'Откуда', 'Куда', 'Время отпр.', 'Время приб.', 'Рабочее время', 'Переработка']\n",
    "#print(a.to_string(index=False))"
   ]
  },
  {
   "cell_type": "markdown",
   "metadata": {},
   "source": [
    "1. Поездов по Иркутску, в целом, достаточно, но меньше, чем требуется (56 чет, 48 нечет, должно быть 86/70):\n",
    "    * Решается проблема с маршрутами через БАМ, будет окончательно завершено на следующей неделе (четверг/пятница).\n",
    "    * Решается проблема с соединенными поездами (аналогично - четверг/пятница).\n",
    "2. Зиминские бригады часто едут Иркутск на проход: рабочего времени хватает, чтобы доехать от Зимы до Слюдянки без смены.\n",
    "3. В планировщике стоит приоритет отправления оборотных бригад и бригад после отдыха. Как следствие, в Иркутске часто подвязываются бригады из Зимы и Слюдянки. Только если нет подходящей бригады с отдыха/оборота, подвязывается иркутская бригада. Время хода позволяет бригадам из Слюдянки работать с оборота, без отдыха по Иркутску."
   ]
  },
  {
   "cell_type": "markdown",
   "metadata": {},
   "source": [
    "## Проверка смен бригад на конкретных станциях"
   ]
  },
  {
   "cell_type": "code",
   "execution_count": 134,
   "metadata": {
    "collapsed": false
   },
   "outputs": [
    {
     "name": "stdout",
     "output_type": "stream",
     "text": [
      "4 из 27 поездов (14.81%) проследовали станцию КОМСОМОЛЬСК-НА-АМУРЕ-СОРТИРОВОЧНЫЙ без смены бригады (показаны первые 10):\n",
      "         team         st_from_name           st_to_name   time_start_f     time_end_f  state          loco\n",
      " 777700002474  КОМСОМОЛЬСК-НА-А...  КОМСОМОЛЬСК-НА-А...  Jun 19, 05:39  Jun 19, 06:20      1  200200060416\n",
      " 777700002393  КОМСОМОЛЬСК-НА-А...              СЕЛИХИН  Jun 19, 04:17  Jun 19, 06:54      1  200200098421\n",
      " 777700002361  КОМСОМОЛЬСК-НА-А...              СЕЛИХИН  Jun 18, 10:50  Jun 18, 13:46      1  200200107269\n",
      " 200200258487  КОМСОМОЛЬСК-НА-А...              СЕЛИХИН  Jun 19, 03:33  Jun 19, 03:54      1  200200060355\n"
     ]
    }
   ],
   "source": [
    "st_name = 'КОМСОМОЛЬСК-НА-АМУРЕ-СОРТИРОВОЧНЫЙ'\n",
    "#st_name = 'БОГОТОЛ'\n",
    "team_cols = ['team', 'st_from_name', 'st_to_name', 'time_start_f', 'time_end_f', 'state', 'loco']\n",
    "total = team_plan.loc[(team_plan.state == 1) & (team_plan.st_from_name == st_name) & (team_plan.time_start >= current_time)]\n",
    "no_change = team_plan.loc[(team_plan.state == 1) & (team_plan.st_from_name == st_name)\n",
    "                          & (team_plan.time_start >= current_time) & (team_plan.start_trip == False)]\n",
    "perc = 100 * len(no_change.index) / len(total.index)\n",
    "if no_change.empty == False:\n",
    "    print('%d из %d поездов (%.2f%%) проследовали станцию %s без смены бригады (показаны первые 10):'\n",
    "         % (len(no_change.index), len(total.index), perc, st_name))\n",
    "    print(no_change[team_cols].head(10).to_string(index=False))\n",
    "else:\n",
    "    print('Не найдено случаев, когда поезд проходит станцию %s без смены бригады' % st_name)"
   ]
  },
  {
   "cell_type": "code",
   "execution_count": 135,
   "metadata": {
    "collapsed": false
   },
   "outputs": [
    {
     "data": {
      "text/html": [
       "<div>\n",
       "<table border=\"1\" class=\"dataframe\">\n",
       "  <thead>\n",
       "    <tr style=\"text-align: right;\">\n",
       "      <th></th>\n",
       "      <th>team</th>\n",
       "      <th>st_from_name</th>\n",
       "      <th>st_to_name</th>\n",
       "      <th>time_start_f</th>\n",
       "      <th>time_end_f</th>\n",
       "      <th>state</th>\n",
       "      <th>loco</th>\n",
       "    </tr>\n",
       "  </thead>\n",
       "  <tbody>\n",
       "  </tbody>\n",
       "</table>\n",
       "</div>"
      ],
      "text/plain": [
       "Empty DataFrame\n",
       "Columns: [team, st_from_name, st_to_name, time_start_f, time_end_f, state, loco]\n",
       "Index: []"
      ]
     },
     "execution_count": 135,
     "metadata": {},
     "output_type": "execute_result"
    }
   ],
   "source": [
    "team_id = '777700000479'\n",
    "team_plan[team_plan.team == team_id][team_cols]"
   ]
  },
  {
   "cell_type": "code",
   "execution_count": 136,
   "metadata": {
    "collapsed": false
   },
   "outputs": [
    {
     "name": "stdout",
     "output_type": "stream",
     "text": [
      "Sat Jun 18 02:40:00 2016\n",
      "         team      number  depot_name oper_time_norm    loc_name state is_assign\n",
      " 200200188972  9206003580  СЛЮДЯНКА I  Jun 07, 13:46  СЛЮДЯНКА I     3      True\n",
      " 200200250526  9206004925  СЛЮДЯНКА I  Jun 13, 15:06  СЛЮДЯНКА I     3      True\n",
      " 200200164017  9206002641  СЛЮДЯНКА I  Jun 17, 22:43  СЛЮДЯНКА I     3      True\n",
      " 200200169028  9206004277  СЛЮДЯНКА I  Jun 17, 23:00  СЛЮДЯНКА I     3      True\n",
      " 210207676311  9206035711  СЛЮДЯНКА I  Jun 18, 00:30  СЛЮДЯНКА I     3      True\n",
      " 200200138777  9206003817  СЛЮДЯНКА I  Jun 18, 00:32  СЛЮДЯНКА I     3      True\n",
      " 210207596546  9206035649  СЛЮДЯНКА I  Jun 18, 02:32  СЛЮДЯНКА I     3      True\n",
      " 200200091032  9206003865  СЛЮДЯНКА I  Jun 18, 02:53  СЛЮДЯНКА I     3      True\n",
      " 200200279774  9206002903  СЛЮДЯНКА I  Jun 18, 03:10  СЛЮДЯНКА I     3      True\n",
      " 200200274894  9206003806  СЛЮДЯНКА I  Jun 18, 03:12  СЛЮДЯНКА I     3      True\n"
     ]
    }
   ],
   "source": [
    "print(time.ctime(current_time))\n",
    "info_cols = ['team', 'number', 'depot_name', 'oper_time_norm', 'loc_name', 'state', 'is_assign']\n",
    "team_info['oper_time_norm'] = team_info.oper_time.apply(lambda x: time.strftime(time_format, time.localtime(x)))\n",
    "team_info['depot_name'] = team_info.depot.map(st_names.name)\n",
    "st_name = 'СЛЮДЯНКА I'\n",
    "print(team_info[(team_info.state == '3') \n",
    "          & (team_info.loc_name == st_name)\n",
    "         & (team_info.is_assign == True)].sort_values('oper_time')[info_cols].head(10).to_string(index=False))\n",
    "#team_plan[team_plan.team == '200200231479'][['team', 'st_from_name', 'st_to_name', 'time_start_f', 'time_end_f', 'state', 'loco']]"
   ]
  },
  {
   "cell_type": "markdown",
   "metadata": {},
   "source": [
    "<a id='ready_time'></a>\n",
    "## Проверка времени явки бригад [ToC](#toc)"
   ]
  },
  {
   "cell_type": "code",
   "execution_count": 137,
   "metadata": {
    "collapsed": true
   },
   "outputs": [],
   "source": [
    "add_header('Проверка корректости времен явки бригад в депо приписки во входных данных', h=2, p=False)"
   ]
  },
  {
   "cell_type": "markdown",
   "metadata": {},
   "source": [
    "1. У бригад, которые находятся на домашнем отдыхе (state = 3) передается именно время ухода на отдых. По постановке (см. раздел \"Заполнение атрибутов для входных сообщений по бригадам\") должно передаваться время ухода на отдых + 16 часов.\n",
    "2. Для бригады 200200158216 передается state=3, хотя по АСУ-Т последней операцией на 18.04 10:35 было \"прибытие на станцию Лесовозный 17.04 в 08:49\" (или, в крайнем случае, отправление с Улан-Удэ 17.04 в 07:51).\n",
    "3. Аналогично для бригады 200200225600. Впрочем, возможно, это какой-то косяк АСУ-Т. В любом случае, пункт 1 - это очевидный баг."
   ]
  },
  {
   "cell_type": "markdown",
   "metadata": {},
   "source": [
    "Общая идея:\n",
    "- если у бригад указано depot_time < rest_start_time, то эта разница не должна быть очень большой. \n",
    "- если у бригад указано depot_time < return_time, то эта разница тоже не должна быть очень большой."
   ]
  },
  {
   "cell_type": "code",
   "execution_count": 138,
   "metadata": {
    "collapsed": false
   },
   "outputs": [
    {
     "name": "stdout",
     "output_type": "stream",
     "text": [
      "Время начала планирования: Jun 18, 02:40\n",
      "Всего 335 бригад, у которых время последней явки в депо намного меньше (на 12+ часов) переданного времени начала отдыха. Примеры:\n",
      "         team      number        dt_norm       rst_norm  rest_dep_delta ready_type state\n",
      " 200200161468  8877007040  May 29, 16:50  Jun 17, 18:15          457.42     return     0\n",
      " 200200122711  9611089932  May 30, 02:52  Jun 16, 17:00          422.13     return     9\n",
      " 200200204563  9611023618  Jun 01, 21:30  Jun 17, 10:03          372.55     return     0\n",
      " 200200126051  9613072549  Jun 04, 06:00  Jun 17, 15:04          321.07     return     1\n",
      " 200200269541  8872006467  Jun 04, 07:00  Jun 17, 11:00          316.00     return     5\n",
      " 200200130295  9205004606  Jun 05, 15:30  Jun 18, 00:38          297.13     return     4\n",
      " 200200260240  9212002959  Jun 03, 16:03  Jun 15, 20:53          292.83     return     1\n",
      " 200200190270  9601012679  Jun 09, 11:36  Jun 17, 13:15          193.65     return     1\n",
      " 200200162875  9609055974  Jun 11, 04:49  Jun 17, 04:41          143.87     return     9\n",
      " 200200162123  8803007176  Jun 12, 03:00  Jun 17, 19:15          136.25     return     4\n",
      "\n",
      "Всего 838 бригад, у которых время последней явки в депо намного меньше (на 18+ часов) времени явки в пункте оборота. Примеры:\n",
      "         team      number        dt_norm       rst_norm  return_dep_delta ready_type state\n",
      " 200200161468  8877007040  May 29, 16:50  Jun 17, 18:15            465.67     return     0\n",
      " 200200122711  9611089932  May 30, 02:52  Jun 16, 17:00            433.72     return     9\n",
      " 200200204563  9611023618  Jun 01, 21:30  Jun 17, 10:03            382.47     return     0\n",
      " 200200126051  9613072549  Jun 04, 06:00  Jun 17, 15:04            326.35     return     1\n",
      " 200200269541  8872006467  Jun 04, 07:00  Jun 17, 11:00            325.00     return     5\n",
      " 200200260240  9212002959  Jun 03, 16:03  Jun 15, 20:53            299.45     return     1\n",
      " 200200252189  8872006409  Jun 04, 08:30  May 30, 10:00            294.92     return     1\n",
      " 200200190270  9601012679  Jun 09, 11:36  Jun 17, 13:15            202.65     return     1\n",
      " 200200185447  8802006109  Jun 10, 08:26             -1            170.57     return     1\n",
      " 200200162875  9609055974  Jun 11, 04:49  Jun 17, 04:41            148.78     return     9\n"
     ]
    }
   ],
   "source": [
    "add_line('Время начала планирования: %s' % (time.strftime(time_format, time.localtime(current_time))))\n",
    "team_info['dt_norm'] = team_info.depot_time.apply(lambda x: time.strftime(time_format, time.localtime(x)) if x > 0 else x)\n",
    "team_info['rt_norm'] = team_info.return_time.apply(lambda x: time.strftime(time_format, time.localtime(x)) if x > 0 else x)\n",
    "team_info['rst_norm'] = team_info.rest_time.apply(lambda x: time.strftime(time_format, time.localtime(x)) if x > 0 else x)\n",
    "team_info['rest_dep_delta'] = np.round(((team_info.rest_time - team_info.depot_time) / 3600), 2)\n",
    "team_info['return_dep_delta'] = np.round(((team_info.return_time - team_info.depot_time) / 3600), 2)\n",
    "\n",
    "dep_less_rest = team_info[(team_info.depot_time < team_info.rest_time) & (team_info.dt_norm != -1)]\n",
    "info_cols = ['team', 'number', 'dt_norm', 'rst_norm', 'rest_dep_delta', 'ready_type', 'state']\n",
    "add_header('Всего %d бригад, у которых время последней явки в депо намного меньше (на 12+ часов) переданного времени начала отдыха. Примеры:' \n",
    "          % dep_less_rest[dep_less_rest.rest_dep_delta > 12].team.drop_duplicates().count())\n",
    "add_line(dep_less_rest[dep_less_rest.rest_dep_delta > 12][info_cols].sort_values('rest_dep_delta', ascending=False).head(10))\n",
    "\n",
    "dep_less_return = team_info[(team_info.depot_time < team_info.return_time) & (team_info.dt_norm != -1)]\n",
    "info_cols = ['team', 'number', 'dt_norm', 'rst_norm', 'return_dep_delta', 'ready_type', 'state']\n",
    "add_header('\\nВсего %d бригад, у которых время последней явки в депо намного меньше (на 18+ часов) времени явки в пункте оборота. Примеры:' \n",
    "          % dep_less_return[dep_less_return.return_dep_delta > 12].team.drop_duplicates().count())\n",
    "add_line(dep_less_return[dep_less_return.return_dep_delta > 12][info_cols].sort_values('return_dep_delta', ascending=False).head(10))"
   ]
  },
  {
   "cell_type": "markdown",
   "metadata": {},
   "source": [
    "<a id='change'></a>\n",
    "## Проверка смены бригад на корректных станциях [ToC](#toc)"
   ]
  },
  {
   "cell_type": "code",
   "execution_count": 139,
   "metadata": {
    "collapsed": true
   },
   "outputs": [],
   "source": [
    "add_header('Проверка смены бригад на корректных станциях', h=2, p=False)"
   ]
  },
  {
   "cell_type": "markdown",
   "metadata": {},
   "source": [
    "### Проверка случаев проезда бригад мимо станций обязательной смены"
   ]
  },
  {
   "cell_type": "code",
   "execution_count": 140,
   "metadata": {
    "collapsed": true
   },
   "outputs": [],
   "source": [
    "add_header('Проверка проезда бригад мимо станций обязательной смены', h=3, p=False)"
   ]
  },
  {
   "cell_type": "code",
   "execution_count": 141,
   "metadata": {
    "collapsed": false,
    "scrolled": true
   },
   "outputs": [
    {
     "name": "stdout",
     "output_type": "stream",
     "text": [
      "Всего 18 случаев проезда бригад мимо станций обязательной смены\n",
      "\n",
      "Распределение по станциям:\n",
      "РУЖИНО          7\n",
      "ВЫСОКОГОРНАЯ    6\n",
      "ЗИМА            4\n",
      "НОВЫЙ УОЯН      1\n"
     ]
    }
   ],
   "source": [
    "st_team_change_full = ['КРАСНОЯРСК-ВОСТОЧНЫЙ', 'ЗИМА', 'ХИЛОК', 'МОГОЧА', 'ОБЛУЧЬЕ', 'РУЖИНО', 'СМОЛЯНИНОВО', \n",
    "                      'САЯНСКАЯ', 'ЛЕНА', 'СЕВЕРОБАЙКАЛЬСК', 'НОВЫЙ УОЯН', \n",
    "                      'НОВАЯ ЧАРА', 'ЮКТАЛИ', 'ВЕРХНЕЗЕЙСК', 'ФЕВРАЛЬСК', 'ПОСТЫШЕВО', 'ВЫСОКОГОРНАЯ', \n",
    "                      'УЖУР', 'ТЫРМА']\n",
    "                 \n",
    "cols = ['team', 'st_from_name', 'st_to_name', 'time_start_f', 'time_end_f', 'state', 'loco', 'loco_end', 'no_stop']\n",
    "team_plan['loco_end'] = team_plan.loco != team_plan.loco.shift(-1)\n",
    "team_plan['no_stop'] = team_plan.time_end == team_plan.time_start.shift(-1)\n",
    "no_stop = team_plan[(team_plan.st_to_name.isin(st_team_change_full)) & (team_plan.state == 1) \n",
    "                    & (team_plan.loco_end == False) & (team_plan.no_stop == True)]\n",
    "add_header('Всего %d случаев проезда бригад мимо станций обязательной смены' % len(no_stop.index))\n",
    "add_header('\\nРаспределение по станциям:')\n",
    "add_line(no_stop.st_to_name.value_counts())"
   ]
  },
  {
   "cell_type": "code",
   "execution_count": 142,
   "metadata": {
    "collapsed": false
   },
   "outputs": [
    {
     "name": "stdout",
     "output_type": "stream",
     "text": [
      "\n",
      "Примеры ошибочных бригад (первые 10):\n",
      "         team      st_from_name    st_to_name   time_start_f     time_end_f  state          loco loco_end no_stop\n",
      " 200200247393         АНГАРАКАН    НОВЫЙ УОЯН  Jun 18, 09:21  Jun 18, 11:46      1  200200056796    False    True\n",
      " 777700002558           ПЕРЕВОЗ          ЗИМА  Jun 18, 17:19  Jun 18, 17:35      1  200200105566    False    True\n",
      " 200200216261  БЛОКПОСТ 1571 КМ        РУЖИНО  Jun 19, 00:54  Jun 19, 01:55      1  200200074020    False    True\n",
      " 777700002852          МОНГОХТО  ВЫСОКОГОРНАЯ  Jun 18, 22:45  Jun 19, 02:01      1  200200072353    False    True\n"
     ]
    }
   ],
   "source": [
    "add_header('\\nПримеры ошибочных бригад (первые 10):')\n",
    "add_line(no_stop.drop_duplicates('st_to_name').sort_values('time_end')[cols])"
   ]
  },
  {
   "cell_type": "markdown",
   "metadata": {},
   "source": [
    "#### Причины проезда бригад мимо станций смены:"
   ]
  },
  {
   "cell_type": "markdown",
   "metadata": {},
   "source": [
    "1. Новый Уоян: у бригад в участках обкатки присутствует участок 2002118258 (Северобайкальск -- Таксимо). Возможное решение: проверить участки обкатки, выяснить, откуда берется участок обкатки Северобайкальск -- Таксимо, удалить этот участок при необходимости.\n",
    "2. Красноярск-Восточный: бригадам хватает рабочего времени, чтобы проехать на участке Ачинск I -- Иланская. Возможное решение: реализовать справочник нормативных рабочих времен бригад, указать в нем время работы на участках Ачинск -- Красноярск и Красноярск -- Иланская около 7-8 часов.\n",
    "3. Ружино: у бригад указан участок обкатки Хабаровск II -- Уссурийск. Но есть ошибка в планировщике с расчетом рабочего времени бригад (VP-6162)."
   ]
  },
  {
   "cell_type": "markdown",
   "metadata": {},
   "source": [
    "### Проверка случаев смены бригад не на допустимых станциях"
   ]
  },
  {
   "cell_type": "code",
   "execution_count": 143,
   "metadata": {
    "collapsed": true
   },
   "outputs": [],
   "source": [
    "add_header('Проверка случаев смены бригад не на допустимых станциях', h=3, p=False)"
   ]
  },
  {
   "cell_type": "code",
   "execution_count": 144,
   "metadata": {
    "collapsed": false
   },
   "outputs": [
    {
     "name": "stdout",
     "output_type": "stream",
     "text": [
      "Исключаются случаи смены бригады из-за завершения маршрута локомотива или поезда, а также случаи смены бригады на станции, которая является депо приписки бригады\n"
     ]
    }
   ],
   "source": [
    "add_line('Исключаются случаи смены бригады из-за завершения маршрута локомотива или поезда' + \n",
    "         ', а также случаи смены бригады на станции, которая является депо приписки бригады')"
   ]
  },
  {
   "cell_type": "code",
   "execution_count": 145,
   "metadata": {
    "collapsed": false
   },
   "outputs": [],
   "source": [
    "#loco_plan['loco_end'] = loco_plan.loco != loco_plan.loco.shift(-1)\n",
    "#train_ends = train_plan.drop_duplicates('train', keep='last')[['train', 'st_to_name']].set_index('train')\n",
    "#loco_plan['train_end'] = loco_plan.train.map(train_ends.st_to_name) == loco_plan.st_to_name\n",
    "loco_plan['end_trip'] = (loco_plan.state != loco_plan.state.shift(-1)) | (loco_plan.train != loco_plan.train.shift(-1))\\\n",
    "                        | (loco_plan.loco != loco_plan.loco.shift(-1))\n",
    "team_plan['start_station_name'] = team_plan.team.map(team_plan[team_plan.state.isin([0, 1])]\\\n",
    "                                                     .drop_duplicates('team').set_index('team').st_from_name)\n",
    "team_plan.depot_name.fillna(team_plan.start_station_name, inplace=True)\n",
    "team_plan['depot_st_name'] = team_plan.depot_st.map(st_names.name)\n",
    "team_plan.depot_st_name.fillna(team_plan.start_station_name, inplace=True)\n",
    "loco_plan['team_depot_name'] = loco_plan.team.map(team_plan.drop_duplicates('team').set_index('team').depot_name)\n",
    "loco_plan['team_ready_depot_name'] = loco_plan.team.map(team_plan.drop_duplicates('team').set_index('team').depot_st_name)"
   ]
  },
  {
   "cell_type": "code",
   "execution_count": 146,
   "metadata": {
    "collapsed": false
   },
   "outputs": [
    {
     "name": "stdout",
     "output_type": "stream",
     "text": [
      "Всего 9 случаев смены бригад не на приоритетных станциях смены (1.08%)\n",
      "Распределение по неприоритетным станциям (первые 10):\n",
      "ДАЛЬНЕРЕЧЕНСК I     2\n",
      "ПАДУНСКИЕ ПОРОГИ    1\n",
      "ШКОТОВО             1\n",
      "БАТАРЕЙНАЯ          1\n",
      "ТАШЕБА              1\n",
      "БОЛЕН               1\n",
      "ЗАУДИНСКИЙ          1\n",
      "ШТУРМ               1\n"
     ]
    }
   ],
   "source": [
    "pr_st = pd.read_csv(FOLDER + 'priority_team_change_stations.csv', sep=';', encoding='utf-8-sig', dtype={'station':str}).station\n",
    "#team_change = loco_plan[(loco_plan.state != 4) \n",
    "#                        & (loco_plan.team_end == True) & (loco_plan.loco_end == False) & (loco_plan.train_end == False)]\n",
    "team_change = loco_plan[(loco_plan.state != 4) & (loco_plan.team_end == True) & (loco_plan.end_trip == False)]\n",
    "bad_team_change = team_change[(team_change.st_to.isin(pr_st) == False) \n",
    "                              & (team_change.st_to_name != team_change.team_depot_name)\n",
    "                              & (team_change.st_to_name != team_change.team_ready_depot_name)]\n",
    "if bad_team_change.st_to_name.dropna().empty:\n",
    "    add_header('Все бригады меняются только на приоритетных станциях смены')\n",
    "else:\n",
    "    add_header('Всего %d случаев смены бригад не на приоритетных станциях смены (%.2f%%)'\n",
    "              % (bad_team_change.loco.count(), 100 * bad_team_change.loco.count() / team_change.loco.count()))\n",
    "    add_header('Распределение по неприоритетным станциям (первые 10):')\n",
    "    add_line(bad_team_change.st_to_name.value_counts().head(10))   \n",
    "    "
   ]
  },
  {
   "cell_type": "code",
   "execution_count": 147,
   "metadata": {
    "collapsed": false
   },
   "outputs": [
    {
     "name": "stdout",
     "output_type": "stream",
     "text": [
      "Примеры локомотивов и бригад, для которых смена указанной бригады произошла не на приоритетной станции:\n",
      "         loco          team        st_to_name     time_end_f            train\n",
      " 200200076600  200200154063   ДАЛЬНЕРЕЧЕНСК I  Jun 19, 06:32   88880004034786\n",
      " 200200076718  777700002555             БОЛЕН  Jun 19, 12:24   88880004064628\n",
      " 200200082521  200200238780   ДАЛЬНЕРЕЧЕНСК I  Jun 19, 06:32  999912434022026\n",
      " 200200084739  200200067544        ЗАУДИНСКИЙ  Jun 18, 09:31     200251514317\n",
      " 200200098870  200200158293  ПАДУНСКИЕ ПОРОГИ  Jun 18, 15:06   88880000264243\n",
      " 200200099703  200200223689             ШТУРМ  Jun 18, 18:10   88880000594701\n",
      " 200200100042  200200269858            ТАШЕБА  Jun 18, 17:49   88880000274308\n",
      " 200200102027  200200222228           ШКОТОВО  Jun 18, 17:24   88880003554314\n",
      " 200200106221  200200152922        БАТАРЕЙНАЯ  Jun 18, 06:53  999928809032000\n",
      "Полный план по одному из таких локомотивов:\n",
      "         loco         st_from_name           st_to_name   time_start_f     time_end_f            train          team team_depot_name\n",
      " 200200076600   АРТЕМ-ПРИМОРСКИЙ I              УГЛОВАЯ  Jun 18, 05:46  Jun 18, 05:57   88880000174471  777700002400     СМОЛЯНИНОВО\n",
      " 200200076600          СМОЛЯНИНОВО              ШКОТОВО  Jun 18, 06:25  Jun 18, 06:44   88880000174471  777700002400     СМОЛЯНИНОВО\n",
      " 200200076600              ШКОТОВО  АРТЕМ-ПРИМОРСКИЙ...  Jun 18, 06:44  Jun 18, 06:52   88880000174471  777700002400     СМОЛЯНИНОВО\n",
      " 200200076600  АРТЕМ-ПРИМОРСКИЙ...   АРТЕМ-ПРИМОРСКИЙ I  Jun 18, 06:52  Jun 18, 05:46   88880000174471  777700002400     СМОЛЯНИНОВО\n",
      " 200200076600              УГЛОВАЯ       АМУРСКИЙ ЗАЛИВ  Jun 18, 09:15  Jun 18, 09:24     200254581372  200200233165          РУЖИНО\n",
      " 200200076600       АМУРСКИЙ ЗАЛИВ         НАДЕЖДИНСКАЯ  Jun 18, 09:24  Jun 18, 09:33     200254581372  200200233165          РУЖИНО\n",
      " 200200076600         НАДЕЖДИНСКАЯ          БАРАНОВСКИЙ  Jun 18, 09:33  Jun 18, 10:17     200254581372  200200233165          РУЖИНО\n",
      " 200200076600          БАРАНОВСКИЙ            УССУРИЙСК  Jun 18, 10:17  Jun 18, 10:46     200254581372  200200233165          РУЖИНО\n",
      " 200200076600            УССУРИЙСК          ДУБИНИНСКИЙ  Jun 18, 10:46  Jun 18, 11:08     200254581372  200200233165          РУЖИНО\n",
      " 200200076600          ДУБИНИНСКИЙ            СИБИРЦЕВО  Jun 18, 11:08  Jun 18, 12:00     200254581372  200200233165          РУЖИНО\n",
      " 200200076600            СИБИРЦЕВО       СПАССК-ДАЛЬНИЙ  Jun 18, 12:00  Jun 18, 12:52     200254581372  200200233165          РУЖИНО\n",
      " 200200076600       СПАССК-ДАЛЬНИЙ             ШМАКОВКА  Jun 18, 12:52  Jun 18, 14:08     200254581372  200200233165          РУЖИНО\n",
      " 200200076600             ШМАКОВКА               РУЖИНО  Jun 18, 14:08  Jun 18, 14:53     200254581372  200200233165          РУЖИНО\n",
      " 200200076600               РУЖИНО     БЛОКПОСТ 1571 КМ  Jun 18, 15:35  Jun 18, 16:25     200254581372  200200221251          РУЖИНО\n",
      " 200200076600     БЛОКПОСТ 1571 КМ      ДАЛЬНЕРЕЧЕНСК I  Jun 18, 16:25  Jun 18, 16:32     200254581372  200200221251          РУЖИНО\n",
      " 200200076600      ДАЛЬНЕРЕЧЕНСК I             ЭБЕРГАРД  Jun 18, 16:32  Jun 18, 16:51     200254581372  200200221251          РУЖИНО\n",
      " 200200076600             ЭБЕРГАРД             ГУБЕРОВО  Jun 18, 16:51  Jun 18, 17:10     200254581372  200200221251          РУЖИНО\n",
      " 200200076600             ГУБЕРОВО            ЛУЧЕГОРСК  Jun 18, 17:10  Jun 18, 17:42     200254581372  200200221251          РУЖИНО\n",
      " 200200076600            ЛУЧЕГОРСК                БИКИН  Jun 18, 17:42  Jun 18, 18:42     200254581372  200200221251          РУЖИНО\n",
      " 200200076600                БИКИН        РОЗЕНГАРТОВКА  Jun 18, 18:42  Jun 18, 19:03     200254581372  200200221251          РУЖИНО\n",
      " 200200076600        РОЗЕНГАРТОВКА            ВЯЗЕМСКАЯ  Jun 18, 19:03  Jun 18, 20:10     200254581372  200200221251          РУЖИНО\n",
      " 200200076600            ВЯЗЕМСКАЯ           КРУГЛИКОВО  Jun 18, 20:17  Jun 18, 21:23     200254581372  200200221251          РУЖИНО\n",
      " 200200076600           КРУГЛИКОВО         ХАБАРОВСК II  Jun 18, 21:23  Jun 18, 21:40     200254581372  200200221251          РУЖИНО\n",
      " 200200076600         ХАБАРОВСК II         ХАБАРОВСК II  Jun 18, 22:10  Jun 19, 01:10               -1             0             NaN\n",
      " 200200076600         ХАБАРОВСК II           КРУГЛИКОВО  Jun 19, 01:55  Jun 19, 02:12   88880004034786  200200154063          РУЖИНО\n",
      " 200200076600           КРУГЛИКОВО            ВЯЗЕМСКАЯ  Jun 19, 02:12  Jun 19, 03:11   88880004034786  200200154063          РУЖИНО\n",
      " 200200076600            ВЯЗЕМСКАЯ        РОЗЕНГАРТОВКА  Jun 19, 03:11  Jun 19, 04:13   88880004034786  200200154063          РУЖИНО\n",
      " 200200076600        РОЗЕНГАРТОВКА                БИКИН  Jun 19, 04:13  Jun 19, 05:11   88880004034786  200200154063          РУЖИНО\n",
      " 200200076600                БИКИН            ЛУЧЕГОРСК  Jun 19, 05:11  Jun 19, 05:59   88880004034786  200200154063          РУЖИНО\n",
      " 200200076600            ЛУЧЕГОРСК             ГУБЕРОВО  Jun 19, 05:59  Jun 19, 06:34   88880004034786  200200154063          РУЖИНО\n",
      " 200200076600      ДАЛЬНЕРЕЧЕНСК I     БЛОКПОСТ 1571 КМ  Jun 19, 06:32  Jun 19, 06:38   88880004034786  200200154063          РУЖИНО\n",
      " 200200076600             ГУБЕРОВО             ЭБЕРГАРД  Jun 19, 06:34  Jun 19, 06:54   88880004034786  200200154063          РУЖИНО\n",
      " 200200076600     БЛОКПОСТ 1571 КМ               РУЖИНО  Jun 19, 06:38  Jun 19, 07:29   88880004034786  200200154063          РУЖИНО\n",
      " 200200076600             ЭБЕРГАРД      ДАЛЬНЕРЕЧЕНСК I  Jun 19, 06:54  Jun 19, 06:32   88880004034786  200200154063          РУЖИНО\n",
      " 200200076600               РУЖИНО             ШМАКОВКА  Jun 19, 13:09  Jun 19, 14:00   88880004034786  200200272213     СМОЛЯНИНОВО\n",
      " 200200076600             ШМАКОВКА       СПАССК-ДАЛЬНИЙ  Jun 19, 14:00  Jun 19, 15:04   88880004034786  200200272213     СМОЛЯНИНОВО\n",
      " 200200076600       СПАССК-ДАЛЬНИЙ            СИБИРЦЕВО  Jun 19, 15:04  Jun 19, 16:00   88880004034786  200200272213     СМОЛЯНИНОВО\n",
      " 200200076600            СИБИРЦЕВО          ДУБИНИНСКИЙ  Jun 19, 16:00  Jun 19, 16:54   88880004034786  200200272213     СМОЛЯНИНОВО\n",
      " 200200076600          ДУБИНИНСКИЙ            УССУРИЙСК  Jun 19, 16:54  Jun 19, 17:12   88880004034786  200200272213     СМОЛЯНИНОВО\n",
      " 200200076600            УССУРИЙСК          БАРАНОВСКИЙ  Jun 19, 17:12  Jun 19, 17:40   88880004034786  200200272213     СМОЛЯНИНОВО\n",
      " 200200076600          БАРАНОВСКИЙ         НАДЕЖДИНСКАЯ  Jun 19, 17:40  Jun 19, 18:27   88880004034786  200200272213     СМОЛЯНИНОВО\n",
      " 200200076600         НАДЕЖДИНСКАЯ       АМУРСКИЙ ЗАЛИВ  Jun 19, 18:27  Jun 19, 18:35   88880004034786  200200272213     СМОЛЯНИНОВО\n",
      " 200200076600       АМУРСКИЙ ЗАЛИВ              УГЛОВАЯ  Jun 19, 18:35  Jun 19, 18:48   88880004034786  200200272213     СМОЛЯНИНОВО\n",
      " 200200076600              УГЛОВАЯ   АРТЕМ-ПРИМОРСКИЙ I  Jun 19, 18:48  Jun 19, 19:00   88880004034786  200200272213     СМОЛЯНИНОВО\n",
      " 200200076600   АРТЕМ-ПРИМОРСКИЙ I  АРТЕМ-ПРИМОРСКИЙ...  Jun 19, 19:00  Jun 19, 19:11   88880004034786  200200272213     СМОЛЯНИНОВО\n",
      " 200200076600  АРТЕМ-ПРИМОРСКИЙ...              ШКОТОВО  Jun 19, 19:11  Jun 19, 19:19   88880004034786  200200272213     СМОЛЯНИНОВО\n",
      " 200200076600              ШКОТОВО          СМОЛЯНИНОВО  Jun 19, 19:19  Jun 19, 19:35   88880004034786  200200272213     СМОЛЯНИНОВО\n",
      " 200200076600    НАХОДКА-ВОСТОЧНАЯ           ХМЫЛОВСКИЙ  Jun 19, 22:41  Jun 19, 22:46  999928877032003            -1             NaN\n",
      " 200200076600           ХМЫЛОВСКИЙ              НАХОДКА  Jun 19, 22:46  Jun 19, 22:51  999928877032003            -1             NaN\n",
      " 200200076600              НАХОДКА            КУЗНЕЦОВО  Jun 19, 22:51  Jun 19, 23:07  999928877032003            -1             NaN\n",
      " 200200076600            КУЗНЕЦОВО              ЛОЗОВЫЙ  Jun 19, 23:07  Jun 19, 23:21  999928877032003            -1             NaN\n",
      " 200200076600              ЛОЗОВЫЙ           ПАРТИЗАНСК  Jun 19, 23:21  Jun 19, 23:34  999928877032003            -1             NaN\n",
      " 200200076600           ПАРТИЗАНСК      КРАСНОАРМЕЙСКИЙ  Jun 19, 23:34  Jun 19, 23:53  999928877032003            -1             NaN\n",
      " 200200076600      КРАСНОАРМЕЙСКИЙ           АНИСИМОВКА  Jun 19, 23:53  Jun 20, 00:45  999928877032003            -1             NaN\n",
      " 200200076600           АНИСИМОВКА           НОВОНЕЖИНО  Jun 20, 00:45  Jun 20, 01:03  999928877032003            -1             NaN\n",
      " 200200076600           НОВОНЕЖИНО          СМОЛЯНИНОВО  Jun 20, 01:03  Jun 20, 01:23  999928877032003            -1             NaN\n",
      " 200200076600          СМОЛЯНИНОВО              ШКОТОВО  Jun 20, 02:41  Jun 20, 02:55  999928877022005            -1             NaN\n",
      " 200200076600              ШКОТОВО  АРТЕМ-ПРИМОРСКИЙ...  Jun 20, 02:55  Jun 20, 03:03  999928877022005            -1             NaN\n",
      " 200200076600  АРТЕМ-ПРИМОРСКИЙ...   АРТЕМ-ПРИМОРСКИЙ I  Jun 20, 03:03  Jun 20, 03:14  999928877022005            -1             NaN\n",
      " 200200076600   АРТЕМ-ПРИМОРСКИЙ I              УГЛОВАЯ  Jun 20, 03:14  Jun 20, 03:38  999928877022005            -1             NaN\n",
      " 200200076600              УГЛОВАЯ       АМУРСКИЙ ЗАЛИВ  Jun 20, 03:38  Jun 20, 03:48  999928877022005            -1             NaN\n",
      " 200200076600       АМУРСКИЙ ЗАЛИВ         НАДЕЖДИНСКАЯ  Jun 20, 03:48  Jun 20, 03:58  999928877022005            -1             NaN\n",
      " 200200076600         НАДЕЖДИНСКАЯ          БАРАНОВСКИЙ  Jun 20, 03:58  Jun 20, 04:39  999928877022005            -1             NaN\n",
      " 200200076600          БАРАНОВСКИЙ            УССУРИЙСК  Jun 20, 04:39  Jun 20, 05:07  999928877022005            -1             NaN\n",
      " 200200076600            УССУРИЙСК          ДУБИНИНСКИЙ  Jun 20, 05:07  Jun 20, 05:31  999928877022005            -1             NaN\n",
      " 200200076600          ДУБИНИНСКИЙ            СИБИРЦЕВО  Jun 20, 05:31  Jun 20, 06:19  999928877022005            -1             NaN\n",
      " 200200076600            СИБИРЦЕВО       СПАССК-ДАЛЬНИЙ  Jun 20, 06:19  Jun 20, 07:20  999928877022005            -1             NaN\n",
      " 200200076600       СПАССК-ДАЛЬНИЙ             ШМАКОВКА  Jun 20, 07:20  Jun 20, 08:31  999928877022005            -1             NaN\n",
      " 200200076600             ШМАКОВКА               РУЖИНО  Jun 20, 08:31  Jun 20, 09:15  999928877022005            -1             NaN\n",
      " 200200076600               РУЖИНО     БЛОКПОСТ 1571 КМ  Jun 21, 07:26  Jun 21, 08:16  999928877022005            -1             NaN\n",
      " 200200076600     БЛОКПОСТ 1571 КМ      ДАЛЬНЕРЕЧЕНСК I  Jun 21, 08:16  Jun 21, 08:23  999928877022005            -1             NaN\n",
      " 200200076600      ДАЛЬНЕРЕЧЕНСК I             ЭБЕРГАРД  Jun 21, 08:23  Jun 21, 08:42  999928877022005            -1             NaN\n",
      " 200200076600             ЭБЕРГАРД             ГУБЕРОВО  Jun 21, 08:42  Jun 21, 09:05  999928877022005            -1             NaN\n",
      " 200200076600             ГУБЕРОВО            ЛУЧЕГОРСК  Jun 21, 09:05  Jun 21, 09:37  999928877022005            -1             NaN\n",
      " 200200076600            ЛУЧЕГОРСК                БИКИН  Jun 21, 09:37  Jun 21, 10:20  999928877022005            -1             NaN\n",
      " 200200076600                БИКИН        РОЗЕНГАРТОВКА  Jun 21, 10:20  Jun 21, 11:01  999928877022005            -1             NaN\n",
      " 200200076600        РОЗЕНГАРТОВКА            ВЯЗЕМСКАЯ  Jun 21, 11:01  Jun 21, 12:04  999928877022005            -1             NaN\n",
      " 200200076600            ВЯЗЕМСКАЯ           КРУГЛИКОВО  Jun 21, 12:04  Jun 21, 13:17  999928877022005            -1             NaN\n",
      " 200200076600           КРУГЛИКОВО         ХАБАРОВСК II  Jun 21, 13:17  Jun 21, 14:08  999928877022005            -1             NaN\n",
      " 200200076600          СМОЛЯНИНОВО           НОВОНЕЖИНО  Jul 23, 14:05  Jul 23, 14:44   88880004034786            -1             NaN\n",
      " 200200076600           НОВОНЕЖИНО           АНИСИМОВКА  Jul 23, 14:44  Jul 23, 15:03   88880004034786            -1             NaN\n",
      " 200200076600           АНИСИМОВКА      КРАСНОАРМЕЙСКИЙ  Jul 23, 15:03  Jul 23, 16:07   88880004034786            -1             NaN\n",
      " 200200076600      КРАСНОАРМЕЙСКИЙ           ПАРТИЗАНСК  Jul 23, 16:07  Jul 23, 16:28   88880004034786            -1             NaN\n",
      " 200200076600           ПАРТИЗАНСК              ЛОЗОВЫЙ  Jul 23, 16:28  Jul 23, 16:42   88880004034786            -1             NaN\n",
      " 200200076600              ЛОЗОВЫЙ            КУЗНЕЦОВО  Jul 23, 16:42  Jul 23, 16:54   88880004034786            -1             NaN\n",
      " 200200076600            КУЗНЕЦОВО              НАХОДКА  Jul 23, 16:54  Jul 23, 17:07   88880004034786            -1             NaN\n",
      " 200200076600              НАХОДКА           ХМЫЛОВСКИЙ  Jul 23, 17:07  Jul 23, 17:43   88880004034786            -1             NaN\n",
      " 200200076600           ХМЫЛОВСКИЙ    НАХОДКА-ВОСТОЧНАЯ  Jul 23, 17:43  Jul 23, 17:48   88880004034786            -1             NaN\n"
     ]
    }
   ],
   "source": [
    "with (pd.option_context('display.max_colwidth', 20)):\n",
    "    if not bad_team_change.st_to_name.dropna().empty:\n",
    "        add_header('Примеры локомотивов и бригад, для которых смена указанной бригады произошла не на приоритетной станции:')\n",
    "        add_line(bad_team_change[['loco', 'team', 'st_to_name', 'time_end_f', 'train']].head(10))\n",
    "        cols = ['loco', 'st_from_name', 'st_to_name', 'time_start_f', 'time_end_f', 'train', 'team', 'team_depot_name']        \n",
    "        loco_id = bad_team_change[bad_team_change.st_to_name == bad_team_change.st_to_name.value_counts().idxmax()]\\\n",
    "                    .drop_duplicates('loco').iloc[0,:].loco\n",
    "        add_header('Полный план по одному из таких локомотивов:')\n",
    "        add_line(loco_plan[loco_plan.loco == loco_id][cols])"
   ]
  },
  {
   "cell_type": "markdown",
   "metadata": {},
   "source": [
    "<a id='presence'></a>\n",
    "## Проверка отправления бригады не ранее времени явки [ToC](#toc)"
   ]
  },
  {
   "cell_type": "code",
   "execution_count": 148,
   "metadata": {
    "collapsed": true
   },
   "outputs": [],
   "source": [
    "add_header('Проверка отправления бригады не ранее времени явки', h=2, p=False)"
   ]
  },
  {
   "cell_type": "code",
   "execution_count": 149,
   "metadata": {
    "collapsed": false
   },
   "outputs": [],
   "source": [
    "# Вычисляем максимальное время явки, добавляем его в team_info и team_plan\n",
    "# В таблице presence_fail --- ошибочные отправления бригад до времени явки\n",
    "\n",
    "presence_lim = 0\n",
    "team_cols = ['team', 'st_from_name', 'st_to_name', 'time_start_f', 'ready_type', \n",
    "             'presence_norm', 'presence_gap', 'state', 'state_info']\n",
    "\n",
    "team_info['all_presence'] = list(zip(team_info.depot_time, team_info.return_time))\n",
    "team_info['presence'] = team_info.all_presence.apply(lambda x: x[0] if x[0] > x[1] else x[1])\n",
    "team_info['presence_norm'] = team_info.presence.apply(lambda x: time.strftime(time_format, time.localtime(x)) if x>0 else x)\n",
    "team_plan['presence'] = team_plan.team.map(team_info.set_index('team').presence)\n",
    "team_plan['presence_norm'] = team_plan.presence.apply(lambda x: time.strftime(time_format, time.localtime(x)) if x>0 else x)\n",
    "team_plan['presence_gap'] = team_plan.time_start - team_plan.presence\n",
    "team_plan['ready_type'] = team_plan.team.map(team_info.set_index('team').ready_type)\n",
    "presence_fail = team_plan[(team_plan.state.isin([0, 1])) & (team_plan.presence_gap < presence_lim)].drop_duplicates('team')\n",
    "pr = team_info[['team', 'depot_time', 'return_time', 'presence', 'presence_norm']]"
   ]
  },
  {
   "cell_type": "code",
   "execution_count": 150,
   "metadata": {
    "collapsed": false
   },
   "outputs": [
    {
     "name": "stdout",
     "output_type": "stream",
     "text": [
      "Всего бригад, которые отправлены пассажиром ранее времени явки: 0 (показаны первые 10)\n",
      "\n",
      "Всего бригад, которые отправлены пассажиром ранее времени явки после начала планирования: 0 (показаны первые 10)\n"
     ]
    }
   ],
   "source": [
    "p = presence_fail[presence_fail.state == 0]\n",
    "ph = presence_fail[(presence_fail.state == 0) & (presence_fail.time_start >= current_time)]\n",
    "add_header('Всего бригад, которые отправлены пассажиром ранее времени явки: %d (показаны первые 10)' % p.team.count())\n",
    "if not p.empty:\n",
    "    add_line(p.sort_values('presence_gap')[team_cols].head(10).to_string(index=False))\n",
    "add_header('\\nВсего бригад, которые отправлены пассажиром ранее времени явки после начала планирования: %d (показаны первые 10)' \n",
    "      % ph.team.count())\n",
    "if not ph.empty:\n",
    "    add_line(ph.sort_values('presence_gap')[team_cols].head(10).to_string(index=False))\n",
    "\n",
    "if not p.empty:\n",
    "    sns.set_style('whitegrid')\n",
    "    sns.set_context('talk')\n",
    "    fig = plt.figure()\n",
    "    ax = sns.distplot(-p.presence_gap / 3600, color='b', hist=False, kde_kws={'shade':True}, label='Все бригады пассажиром')\n",
    "    sns.distplot(-ph.presence_gap / 3600, color='g', hist=False, kde_kws={'shade':True}, \n",
    "             label='Бригады пассажиром после начала планирования')\n",
    "    ax.set(xlabel = 'Интервал от отправления до явки, ч')\n",
    "    sns.despine()\n",
    "    filename = 'pass_team_presence_fail.png'\n",
    "    fig.savefig(REPORT_FOLDER + filename, bbox_inches='tight')\n",
    "    add_image(filename)"
   ]
  },
  {
   "cell_type": "code",
   "execution_count": 151,
   "metadata": {
    "collapsed": false
   },
   "outputs": [
    {
     "name": "stdout",
     "output_type": "stream",
     "text": [
      "Всего бригад, которые отправлены с локомотивом ранее времени явки: 0 (показаны первые 10)\n",
      "\n",
      "Всего бригад, которые отправлены с локомотивом ранее времени явки после начала планирования: 0 (показаны первые 10)\n"
     ]
    }
   ],
   "source": [
    "f = presence_fail[presence_fail.state == 1]\n",
    "fh = presence_fail[(presence_fail.state == 1) & (presence_fail.time_start >= current_time)]\n",
    "add_header('Всего бригад, которые отправлены с локомотивом ранее времени явки: %d (показаны первые 10)' % f.team.count())\n",
    "if not f.empty:\n",
    "    add_line(f.sort_values('presence_gap')[team_cols].head(10))\n",
    "add_header('\\nВсего бригад, которые отправлены с локомотивом ранее времени явки после начала планирования: %d (показаны первые 10)' \n",
    "      % fh.team.count())\n",
    "if not fh.team.empty:\n",
    "    add_line(fh.sort_values('presence_gap')[team_cols].head(10))\n",
    "\n",
    "if not f.empty:    \n",
    "    sns.set_style('whitegrid')\n",
    "    sns.set_context('talk')\n",
    "    fig = plt.figure()\n",
    "    ax = sns.distplot(-f.presence_gap / 3600, color='b', hist=False, kde_kws={'shade':True}, label='Все бригады с локомотивами')\n",
    "    if not fh.empty:\n",
    "        sns.distplot(-fh.presence_gap / 3600, color='g', hist=False, kde_kws={'shade':True}, \n",
    "                     label='Бригады с локомотивами после начала планирования')\n",
    "    ax.set(xlabel = 'Интервал от отправления до явки, ч')\n",
    "    sns.despine()\n",
    "    filename = 'freight_team_presence_fail.png'\n",
    "    fig.savefig(REPORT_FOLDER + filename, bbox_inches='tight')\n",
    "    add_image(filename)"
   ]
  },
  {
   "cell_type": "markdown",
   "metadata": {},
   "source": [
    "<a id='before_current_time'></a>\n",
    "## Проверка планирования бригад до времени начала планирования [ToC](#toc)"
   ]
  },
  {
   "cell_type": "code",
   "execution_count": 152,
   "metadata": {
    "collapsed": true
   },
   "outputs": [],
   "source": [
    "add_header('Проверка планирования бригад до времени начала планирования', h=2, p=False)"
   ]
  },
  {
   "cell_type": "code",
   "execution_count": 153,
   "metadata": {
    "collapsed": false
   },
   "outputs": [
    {
     "name": "stdout",
     "output_type": "stream",
     "text": [
      "(Не учитываются бригады, которые на начало планирования находились на перегоне)\n",
      "Время начала планирования: Jun 18, 02:40\n",
      "\n",
      "Всего бригад, отправленных до начала планирования: 0 (0.00% от всех запланированных бригад)\n"
     ]
    }
   ],
   "source": [
    "team_cols = ['team', 'st_from_name', 'st_to_name', 'time_start_f', 'state', 'loco', 'state_info']\n",
    "\n",
    "add_line('(Не учитываются бригады, которые на начало планирования находились на перегоне)')\n",
    "add_line('Время начала планирования: %s' % time.strftime(time_format, time.localtime(current_time)))\n",
    "\n",
    "total_teams = team_plan.team.drop_duplicates().count()\n",
    "\n",
    "tbef = team_plan[(team_plan.time_start < current_time)          \n",
    "         & (team_plan.state.isin([0, 1])) & (team_plan.state_info != team_plan.state.apply(str))].drop_duplicates('team')\n",
    "add_header('\\nВсего бригад, отправленных до начала планирования: %d (%.2f%% от всех запланированных бригад)' \n",
    "           % (tbef.team.count(), 100 * tbef.team.count() / total_teams))\n",
    "if not tbef.empty:\n",
    "    add_header('\\nРаспределение по состояниям бригад, отправленных до начала планирования:')\n",
    "    add_line(tbef.state.value_counts())\n",
    "    \n",
    "    for i in sorted(tbef.state.unique()):\n",
    "        add_header('\\nБригады, отправленные до начала планирования в состоянии %d (первые 10):' % i)\n",
    "        add_line(tbef[tbef.state == i].sort_values('time_start').head(10)[team_cols])\n",
    "\n",
    "    add_header('\\nРаспределение по типу бригад, отправленных до начала планирования в состоянии 1:')\n",
    "    add_line(tbef[tbef.state == 1].team_type.value_counts())"
   ]
  },
  {
   "cell_type": "markdown",
   "metadata": {},
   "source": [
    "<a id='presenting'></a>\n",
    "## Проверка планируемых явок бригад [ToC](#toc)"
   ]
  },
  {
   "cell_type": "code",
   "execution_count": 154,
   "metadata": {
    "collapsed": true
   },
   "outputs": [],
   "source": [
    "add_header('Проверка планируемых явок бригад', h=2, p=False)"
   ]
  },
  {
   "cell_type": "code",
   "execution_count": 155,
   "metadata": {
    "collapsed": false
   },
   "outputs": [
    {
     "name": "stdout",
     "output_type": "stream",
     "text": [
      "Разброс времен на явку бригад: от 0.32 ч. до 3.82 ч.\n"
     ]
    },
    {
     "data": {
      "image/png": "[encoded data removed]",
      "text/plain": [
       "<matplotlib.figure.Figure at 0x2819381d780>"
      ]
     },
     "metadata": {},
     "output_type": "display_data"
    }
   ],
   "source": [
    "team_cols = ['team', 'st_from_name', 'st_to_name', 'time_start_f', 'time_end_f', 'tt', 'state', 'loco', 'state_info']\n",
    "team_plan['tt'] = team_plan.time_end - team_plan.time_start\n",
    "min_presenting = team_plan[team_plan.state == 2][team_cols].tt.min()\n",
    "max_presenting = team_plan[team_plan.state == 2][team_cols].tt.max()\n",
    "add_header('Разброс времен на явку бригад: от %.2f ч. до %.2f ч.' % (min_presenting / 3600, max_presenting / 3600))\n",
    "sns.set_style('whitegrid')\n",
    "sns.set_context('notebook')\n",
    "fig = plt.figure()\n",
    "ax = sns.distplot(team_plan[team_plan.state == 2][team_cols].tt / 3600, hist=False, bins=20, color='b', kde_kws={'shade':True})\n",
    "ax.set(xlabel='Время на явку, ч.', title='Распределение времен на явку бригад')\n",
    "sns.despine()\n",
    "filename = 'team_presenting.png'\n",
    "fig.savefig(REPORT_FOLDER + filename, bbox_inches='tight')\n",
    "add_image(filename)"
   ]
  },
  {
   "cell_type": "code",
   "execution_count": 156,
   "metadata": {
    "collapsed": false
   },
   "outputs": [
    {
     "name": "stdout",
     "output_type": "stream",
     "text": [
      "Всего 355 бригад, у которых время окончания отдыха не совпадает со временем явки (показаны первые 10):\n",
      "         team         st_from_name           st_to_name  state  next_state   time_start_f     time_end_f next_time_start_f\n",
      " 200200158565            МАГДАГАЧИ            МАГДАГАЧИ      4           2  Jun 18, 07:57  Jun 18, 10:57     Jun 18, 13:00\n",
      " 777700002320  ЧЕРНЫШЕВСК-ЗАБАЙ...  ЧЕРНЫШЕВСК-ЗАБАЙ...      4           2  Jun 18, 09:11  Jun 18, 12:11     Jun 18, 14:53\n",
      " 200200242667          НИЖНЕУДИНСК          НИЖНЕУДИНСК      4           2  Jun 18, 09:18  Jun 18, 12:18     Jun 18, 12:59\n",
      " 200200258396          НИЖНЕУДИНСК          НИЖНЕУДИНСК      4           2  Jun 18, 09:28  Jun 18, 12:28     Jun 18, 13:28\n",
      " 200200194327             УЛАН-УДЭ             УЛАН-УДЭ      4           2  Jun 18, 09:30  Jun 18, 12:30     Jun 18, 15:28\n",
      " 200200269334             САЯНСКАЯ             САЯНСКАЯ      4           2  Jun 18, 09:43  Jun 18, 12:43     Jun 18, 14:45\n",
      " 200200162382                ХИЛОК                ХИЛОК      4           2  Jun 18, 10:04  Jun 18, 13:04     Jun 18, 14:36\n",
      " 200200236868                ХИЛОК                ХИЛОК      4           2  Jun 18, 10:05  Jun 18, 13:05     Jun 18, 14:21\n",
      " 200200132361                УРУША                УРУША      4           2  Jun 18, 10:08  Jun 18, 13:15     Jun 18, 15:44\n",
      " 200200148526               РУЖИНО               РУЖИНО      4           2  Jun 18, 10:15  Jun 18, 13:25     Jun 18, 14:54\n",
      "\n",
      "Распределение таких ошибочных явок после отдыха по станциям (показаны первые 5):\n",
      "УЛАН-УДЭ                    35\n",
      "УРУША                       21\n",
      "СКОВОРОДИНО                 20\n",
      "ВЫСОКОГОРНАЯ                18\n",
      "ЧЕРНЫШЕВСК-ЗАБАЙКАЛЬСКИЙ    18\n"
     ]
    }
   ],
   "source": [
    "team_plan['next_state'] = team_plan.state.shift(-1)\n",
    "team_plan['next_time_start_f'] = team_plan.time_start_f.shift(-1)\n",
    "cols = ['team', 'st_from_name', 'st_to_name', 'state', 'next_state', 'time_start_f', 'time_end_f', 'next_time_start_f']\n",
    "rest_pres = team_plan[(team_plan.team == team_plan.team.shift(-1)) \n",
    "                     & (team_plan.state == 4) & (team_plan.next_state == 2)\n",
    "                     & (team_plan.time_end_f != team_plan.next_time_start_f)]\n",
    "add_header('Всего %d бригад, у которых время окончания отдыха не совпадает со временем явки (показаны первые 10):' \n",
    "      % rest_pres.team.drop_duplicates().count())\n",
    "add_line(rest_pres[rest_pres.time_start >= current_time].sort_values('time_start').head(10)[cols])\n",
    "add_header('\\nРаспределение таких ошибочных явок после отдыха по станциям (показаны первые 5):')\n",
    "add_line(rest_pres.st_from_name.value_counts().head())"
   ]
  },
  {
   "cell_type": "markdown",
   "metadata": {},
   "source": [
    "<a id='pass040'></a>\n",
    "## Проверка использования бригад после засылки пассажирами [ToC](#toc)"
   ]
  },
  {
   "cell_type": "code",
   "execution_count": 157,
   "metadata": {
    "collapsed": true
   },
   "outputs": [],
   "source": [
    "add_header('Проверка использования бригад после засылки пассажирами', h=2, p=False)"
   ]
  },
  {
   "cell_type": "code",
   "execution_count": 158,
   "metadata": {
    "collapsed": false
   },
   "outputs": [
    {
     "name": "stdout",
     "output_type": "stream",
     "text": [
      "Всего 0 бригад, для которых планируется отправка пассажиром и не планируется работа с поездом\n"
     ]
    }
   ],
   "source": [
    "team_plan['all_states'] = team_plan.team.map(team_plan.groupby('team').state.unique())\n",
    "team_plan['last_state'] = team_plan.team.map(team_plan\n",
    "                                             .sort_values(['team', 'time_start'], ascending=[True, False])\n",
    "                                             .drop_duplicates('team')[['team', 'state']]\n",
    "                                             .set_index('team')\n",
    "                                             .state)\n",
    "\n",
    "team_plan['first_state'] = team_plan.team.map(team_plan\n",
    "                                             .sort_values(['team', 'time_start'])\n",
    "                                             .drop_duplicates('team')[['team', 'state']]\n",
    "                                             .set_index('team')\n",
    "                                             .state)\n",
    "\n",
    "cols = ['team', 'st_from_name', 'st_to_name', 'time_start_f', 'time_end_f', \n",
    "        'state', 'all_states', 'first_state', 'last_state']\n",
    "only_pass_teams = team_plan[(team_plan.first_state == 0) \n",
    "                            & (team_plan.all_states.apply(lambda x: (sorted(x) == [0, 4])))\n",
    "                            & (team_plan.last_state == 0)]\n",
    "add_header('Всего %d бригад, для которых планируется отправка пассажиром и не планируется работа с поездом' \n",
    "      % only_pass_teams.team.drop_duplicates().count())"
   ]
  },
  {
   "cell_type": "code",
   "execution_count": 159,
   "metadata": {
    "collapsed": false
   },
   "outputs": [],
   "source": [
    "if only_pass_teams.team.drop_duplicates().count() != 0:\n",
    "    add_header('Примеры:')\n",
    "    for team in only_pass_teams.team.drop_duplicates().iloc[:3].values:    \n",
    "        add_line(team_plan[team_plan.team == team][cols])"
   ]
  },
  {
   "cell_type": "markdown",
   "metadata": {},
   "source": [
    "<a id='pass_teams_in_plan'></a>\n",
    "## Проверка подвязки негрузовых бригад [ToC](#toc)"
   ]
  },
  {
   "cell_type": "code",
   "execution_count": 160,
   "metadata": {
    "collapsed": true
   },
   "outputs": [],
   "source": [
    "add_header('Проверка подвязки негрузовых бригад', h=2, p=False)"
   ]
  },
  {
   "cell_type": "code",
   "execution_count": 161,
   "metadata": {
    "collapsed": false
   },
   "outputs": [
    {
     "name": "stdout",
     "output_type": "stream",
     "text": [
      "В плане нет негрузовых бригад с запланированной подвязкой, отличной от подвязки во входных данных\n"
     ]
    }
   ],
   "source": [
    "cols = ['team', 'ttype', 'loco_info', 'st_from_name', 'st_to_name', 'time_start_f', 'state', 'loco']\n",
    "bad_pass_teams = team_plan[(team_plan.ttype == 0) & (team_plan.loco != team_plan.loco_info) \n",
    "                           & (team_plan.state.isin([0, 1]))][cols]\n",
    "if bad_pass_teams.empty:\n",
    "    add_header('В плане нет негрузовых бригад с запланированной подвязкой, отличной от подвязки во входных данных')\n",
    "else:\n",
    "    add_header('Всего %d негрузовых бригад, для которых запланирована подвязка, отличная от подвязки во входных данных:' \n",
    "              % bad_pass_teams.drop_duplicates('team').team.count())\n",
    "    add_line(bad_pass_teams.drop_duplicates('team')[cols].head())"
   ]
  },
  {
   "cell_type": "markdown",
   "metadata": {},
   "source": [
    "## Экспорт в HTML [ToC](#toc)"
   ]
  },
  {
   "cell_type": "code",
   "execution_count": 162,
   "metadata": {
    "collapsed": false
   },
   "outputs": [
    {
     "name": "stdout",
     "output_type": "stream",
     "text": [
      "Отчет сформирован: report/team_report_20160623_020815.html\n"
     ]
    }
   ],
   "source": [
    "filename = REPORT_FOLDER + 'team_report_' + time.strftime('%Y%m%d_%H%M%S', time.localtime(time.time())) + '.html'\n",
    "create_report(filename)"
   ]
  }
 ],
 "metadata": {
  "kernelspec": {
   "display_name": "Python 3",
   "language": "python",
   "name": "python3"
  },
  "language_info": {
   "codemirror_mode": {
    "name": "ipython",
    "version": 3
   },
   "file_extension": ".py",
   "mimetype": "text/x-python",
   "name": "python",
   "nbconvert_exporter": "python",
   "pygments_lexer": "ipython3",
   "version": "3.5.1"
  }
 },
 "nbformat": 4,
 "nbformat_minor": 0
}
