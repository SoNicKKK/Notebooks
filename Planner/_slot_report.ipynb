{
 "cells": [
  {
   "cell_type": "code",
   "execution_count": 63,
   "metadata": {
    "collapsed": true
   },
   "outputs": [],
   "source": [
    "report = ''\n",
    "FOLDER = 'resources/'\n",
    "REPORT_FOLDER = 'report/'\n",
    "PRINT = True"
   ]
  },
  {
   "cell_type": "code",
   "execution_count": 64,
   "metadata": {
    "collapsed": false
   },
   "outputs": [],
   "source": [
    "def add_line(line, p=PRINT):    \n",
    "    global report        \n",
    "    if p:                \n",
    "        if type(line) == pd.core.frame.DataFrame:\n",
    "            print(line.to_string(index=False))\n",
    "        elif type(line) == pd.core.series.Series:\n",
    "            print(line.to_string())\n",
    "        else:\n",
    "            print(line)\n",
    "    if type(line) == pd.core.frame.DataFrame:        \n",
    "        report += ('%s<br>' % line.to_html(index=False))\n",
    "    elif type(line) == pd.core.series.Series:\n",
    "        report += ('%s<br>' % line.to_frame().reset_index().to_html(index=False))\n",
    "    else:                \n",
    "        report += ('%s<br>' % line)\n",
    "    \n",
    "def add_header(header, h=4, p=PRINT):\n",
    "    global report\n",
    "    report += ('<h%d>%s</h%d>' % (h, header, h))\n",
    "    if p:\n",
    "        print(header)\n",
    "\n",
    "def add_image(filename):\n",
    "    global report\n",
    "    report += ('<img src=\"%s\" alt=\"%s\" height=\"40%%\">' % (filename, filename))\n",
    "\n",
    "def create_report(filename):\n",
    "    global report\n",
    "    report = report.replace('<table border=\"1\" class=\"dataframe\">','<table class=\"table table-striped\">')\n",
    "    html_string = '''\n",
    "        <html>\n",
    "            <head>\n",
    "                <link rel=\"stylesheet\" href=\"skeleton.css\">\n",
    "                <style>body{ margin:20 20; background:whitesmoke; }\n",
    "                table {table-layout : fixed}\n",
    "                </style>\n",
    "            </head>\n",
    "            <body>                \n",
    "                %s\n",
    "            </body>\n",
    "        </html>''' % (report)\n",
    "    f = open(filename,'w', encoding='utf-8-sig')\n",
    "    f.write(html_string)\n",
    "    f.close()\n",
    "    print('Отчет сформирован: %s' % filename)"
   ]
  },
  {
   "cell_type": "code",
   "execution_count": 65,
   "metadata": {
    "collapsed": false
   },
   "outputs": [
    {
     "name": "stdout",
     "output_type": "stream",
     "text": [
      "Log time: 1466062285, Thu Jun 16 10:31:25 2016\n",
      "Read csvs: 0.82 sec\n"
     ]
    }
   ],
   "source": [
    "FOLDER = 'resources/'\n",
    "\n",
    "import numpy as np\n",
    "import pandas as pd\n",
    "import time, datetime\n",
    "from ast import literal_eval\n",
    "import matplotlib.pyplot as plt\n",
    "import seaborn as sns\n",
    "\n",
    "%matplotlib inline\n",
    "plt.style.use('fivethirtyeight')\n",
    "plt.rc('font', family='Times New Roman')\n",
    "\n",
    "pd.set_option('max_rows', 50)\n",
    "\n",
    "time_format = '%b %d, %H:%M'\n",
    "\n",
    "start_time = time.time()\n",
    "current_time = pd.read_csv(FOLDER + 'current_time.csv').current_time[0]\n",
    "twr          = pd.read_csv(FOLDER + 'team_work_region.csv', converters={'twr':str})\n",
    "links        = pd.read_csv(FOLDER + 'link.csv', dtype={'st_from':str, 'st_to':str})\n",
    "stations     = pd.read_csv(FOLDER + 'station.csv', converters={'station':str})\n",
    "train_info   = pd.read_csv(FOLDER + 'train_info.csv', converters={'train': str, 'st_from':str, 'st_to':str, 'oper_location':str,\n",
    "                                                                 'st_from':str, 'st_to':str})\n",
    "train_plan   = pd.read_csv(FOLDER + 'slot_train.csv', converters={'train': str, 'st_from':str, 'st_to':str})\n",
    "loco_info    = pd.read_csv(FOLDER + 'loco_attributes.csv', converters={'train':str, 'loco':str, 'depot':str,\n",
    "                                                                      'st_from':str, 'st_to':str})\n",
    "loco_plan    = pd.read_csv(FOLDER + 'slot_loco.csv', converters={'train':str, 'loco':str, 'st_from':str, 'st_to':str})\n",
    "team_info    = pd.read_csv(FOLDER + 'team_attributes.csv', converters={'team':str,'depot':str, 'oper_location':str, \\\n",
    "                                                                 'st_from':str, 'st_to':str, 'loco':str, 'depot_st':str})\n",
    "team_plan    = pd.read_csv(FOLDER + 'slot_team.csv', converters={'team':str,'loco':str, 'st_from':str, 'st_to':str})\n",
    "loco_series  = pd.read_csv(FOLDER + 'loco_series.csv')\n",
    "\n",
    "team_info.regions = team_info.regions.apply(literal_eval)\n",
    "st_names = stations[['station', 'name', 'esr']].drop_duplicates().set_index('station')\n",
    "print('Log time: %d, %s' % (current_time, time.ctime(current_time)))\n",
    "print('Read csvs:', np.round(time.time() - start_time, 2), 'sec')"
   ]
  },
  {
   "cell_type": "code",
   "execution_count": 66,
   "metadata": {
    "collapsed": true
   },
   "outputs": [],
   "source": [
    "# Мержим таблицы _plan и _info для поездов, локомотивов и бригад\n",
    "# Добавляем во все таблицы названия станций на маршруте и времена отправления/прибытия в читабельном формате\n",
    "\n",
    "def add_info(df):    \n",
    "    if 'st_from' in df.columns:\n",
    "        df['st_from_name'] = df.st_from.map(st_names.name)\n",
    "    if 'st_to' in df.columns:\n",
    "        df['st_to_name'] = df.st_to.map(st_names.name)\n",
    "    if 'time_start' in df.columns:\n",
    "        df['time_start_norm'] = df.time_start.apply(lambda x: time.strftime(time_format, time.localtime(x)))\n",
    "    if 'time_end' in df.columns:\n",
    "        df['time_end_norm'] = df.time_end.apply(lambda x: time.strftime(time_format, time.localtime(x)))\n",
    "    if 'oper_location' in df.columns:\n",
    "        df['oper_location_name'] = df.oper_location.map(st_names.name)    \n",
    "        df.oper_location_name.fillna(0, inplace=True)\n",
    "    if ('oper_location' in df.columns) & ('st_from' in df.columns) & ('st_to' in df.columns):        \n",
    "        df['loc_name'] = df.oper_location_name\n",
    "        df.loc[df.loc_name == 0, 'loc_name'] = df.st_from_name + ' - ' + df.st_to_name\n",
    "    \n",
    "add_info(train_plan)\n",
    "add_info(loco_plan)\n",
    "add_info(team_plan)\n",
    "add_info(loco_info)\n",
    "add_info(team_info)\n",
    "add_info(train_info)\n",
    "train_plan = train_plan.merge(train_info, on='train', suffixes=('', '_info'), how='left')\n",
    "loco_plan = loco_plan.merge(loco_info, on='loco', suffixes=('', '_info'), how='left')\n",
    "team_plan = team_plan.merge(team_info, on='team', suffixes=('', '_info'), how='left')\n",
    "team_plan['team_type'] = team_plan.team.apply(lambda x: 'Реальная' if str(x)[0] == '2' else 'Фейковая')"
   ]
  },
  {
   "cell_type": "code",
   "execution_count": 67,
   "metadata": {
    "collapsed": true
   },
   "outputs": [],
   "source": [
    "def nice_time(t):\n",
    "    return time.strftime(time_format, time.localtime(t)) if t > 0 else ''"
   ]
  },
  {
   "cell_type": "code",
   "execution_count": 68,
   "metadata": {
    "collapsed": true
   },
   "outputs": [],
   "source": [
    "add_header('Анализ расхождений времен хода поездов и времен хода в нитках', h=2, p=False)"
   ]
  },
  {
   "cell_type": "markdown",
   "metadata": {},
   "source": [
    "### Загружаем нитки, преобразуем все времена в datetime"
   ]
  },
  {
   "cell_type": "code",
   "execution_count": 69,
   "metadata": {
    "collapsed": false
   },
   "outputs": [],
   "source": [
    "slot = pd.read_csv(FOLDER + 'slot.csv', dtype={'st_from':str, 'st_to':str})\n",
    "add_info(slot)\n",
    "slot['tt'] = slot.time_end - slot.time_start\n",
    "slot['link_name'] = list(zip(slot.st_from_name, slot.st_to_name))\n",
    "slot['dt_from'] = slot.time_start.apply(lambda x: datetime.datetime.fromtimestamp(x))\n",
    "slot['dt_to'] = slot.time_end.apply(lambda x: datetime.datetime.fromtimestamp(x))"
   ]
  },
  {
   "cell_type": "markdown",
   "metadata": {},
   "source": [
    "### Для каждой нитки делаем resample до трехчасового интервала и ищем среднее время хода"
   ]
  },
  {
   "cell_type": "markdown",
   "metadata": {},
   "source": [
    "#### TO DO: Подумать, как переписать: работает очень долго"
   ]
  },
  {
   "cell_type": "code",
   "execution_count": 70,
   "metadata": {
    "collapsed": false
   },
   "outputs": [
    {
     "data": {
      "text/html": [
       "<div>\n",
       "<table border=\"1\" class=\"dataframe\">\n",
       "  <thead>\n",
       "    <tr style=\"text-align: right;\">\n",
       "      <th></th>\n",
       "      <th>link_name</th>\n",
       "      <th>dt_from</th>\n",
       "      <th>tt</th>\n",
       "    </tr>\n",
       "  </thead>\n",
       "  <tbody>\n",
       "    <tr>\n",
       "      <th>0</th>\n",
       "      <td>(АБАЗА, АСКИЗ)</td>\n",
       "      <td>2016-06-15 21:00:00</td>\n",
       "      <td>4980</td>\n",
       "    </tr>\n",
       "    <tr>\n",
       "      <th>1</th>\n",
       "      <td>(АБАЗА, АСКИЗ)</td>\n",
       "      <td>2016-06-16 00:00:00</td>\n",
       "      <td>7140</td>\n",
       "    </tr>\n",
       "    <tr>\n",
       "      <th>2</th>\n",
       "      <td>(АБАЗА, АСКИЗ)</td>\n",
       "      <td>2016-06-16 03:00:00</td>\n",
       "      <td>6840</td>\n",
       "    </tr>\n",
       "    <tr>\n",
       "      <th>3</th>\n",
       "      <td>(АБАЗА, АСКИЗ)</td>\n",
       "      <td>2016-06-16 06:00:00</td>\n",
       "      <td>7140</td>\n",
       "    </tr>\n",
       "    <tr>\n",
       "      <th>4</th>\n",
       "      <td>(АБАЗА, АСКИЗ)</td>\n",
       "      <td>2016-06-16 09:00:00</td>\n",
       "      <td>6600</td>\n",
       "    </tr>\n",
       "  </tbody>\n",
       "</table>\n",
       "</div>"
      ],
      "text/plain": [
       "        link_name             dt_from    tt\n",
       "0  (АБАЗА, АСКИЗ) 2016-06-15 21:00:00  4980\n",
       "1  (АБАЗА, АСКИЗ) 2016-06-16 00:00:00  7140\n",
       "2  (АБАЗА, АСКИЗ) 2016-06-16 03:00:00  6840\n",
       "3  (АБАЗА, АСКИЗ) 2016-06-16 06:00:00  7140\n",
       "4  (АБАЗА, АСКИЗ) 2016-06-16 09:00:00  6600"
      ]
     },
     "execution_count": 70,
     "metadata": {},
     "output_type": "execute_result"
    }
   ],
   "source": [
    "tracks = slot.dropna(subset=['st_from_name', 'st_to_name'], how='any').link_name.unique()\n",
    "res = {}\n",
    "for track in tracks:\n",
    "    a = slot[slot.link_name == track].set_index('dt_from').resample('3H', how={'tt':np.mean})\n",
    "    for i in a.index:\n",
    "        res[(track, i)] = a.ix[i]\n",
    "\n",
    "slot_3h_durations = pd.DataFrame.from_dict(res, orient='index')\n",
    "df_3h = slot_3h_durations.reset_index()\n",
    "df_3h.columns = ['link_name', 'dt_from', 'tt']\n",
    "df_3h.head()"
   ]
  },
  {
   "cell_type": "markdown",
   "metadata": {},
   "source": [
    "### Для каждого поезда находим начало трехчасового интервала для времени отправления"
   ]
  },
  {
   "cell_type": "code",
   "execution_count": 71,
   "metadata": {
    "collapsed": false
   },
   "outputs": [
    {
     "data": {
      "text/html": [
       "<div>\n",
       "<table border=\"1\" class=\"dataframe\">\n",
       "  <thead>\n",
       "    <tr style=\"text-align: right;\">\n",
       "      <th></th>\n",
       "      <th>train</th>\n",
       "      <th>time_start</th>\n",
       "      <th>dt_from</th>\n",
       "      <th>dt_3h</th>\n",
       "    </tr>\n",
       "  </thead>\n",
       "  <tbody>\n",
       "    <tr>\n",
       "      <th>0</th>\n",
       "      <td>999912408032000</td>\n",
       "      <td>1466106900</td>\n",
       "      <td>2016-06-16 22:55:00</td>\n",
       "      <td>2016-06-16 21:00:00</td>\n",
       "    </tr>\n",
       "    <tr>\n",
       "      <th>1</th>\n",
       "      <td>999912408032000</td>\n",
       "      <td>1466108400</td>\n",
       "      <td>2016-06-16 23:20:00</td>\n",
       "      <td>2016-06-16 21:00:00</td>\n",
       "    </tr>\n",
       "    <tr>\n",
       "      <th>2</th>\n",
       "      <td>999912408032000</td>\n",
       "      <td>1466109600</td>\n",
       "      <td>2016-06-16 23:40:00</td>\n",
       "      <td>2016-06-16 21:00:00</td>\n",
       "    </tr>\n",
       "    <tr>\n",
       "      <th>3</th>\n",
       "      <td>999912408032000</td>\n",
       "      <td>1466114133</td>\n",
       "      <td>2016-06-17 00:55:33</td>\n",
       "      <td>2016-06-17 00:00:00</td>\n",
       "    </tr>\n",
       "    <tr>\n",
       "      <th>4</th>\n",
       "      <td>999912408032000</td>\n",
       "      <td>1466116833</td>\n",
       "      <td>2016-06-17 01:40:33</td>\n",
       "      <td>2016-06-17 00:00:00</td>\n",
       "    </tr>\n",
       "  </tbody>\n",
       "</table>\n",
       "</div>"
      ],
      "text/plain": [
       "             train  time_start             dt_from               dt_3h\n",
       "0  999912408032000  1466106900 2016-06-16 22:55:00 2016-06-16 21:00:00\n",
       "1  999912408032000  1466108400 2016-06-16 23:20:00 2016-06-16 21:00:00\n",
       "2  999912408032000  1466109600 2016-06-16 23:40:00 2016-06-16 21:00:00\n",
       "3  999912408032000  1466114133 2016-06-17 00:55:33 2016-06-17 00:00:00\n",
       "4  999912408032000  1466116833 2016-06-17 01:40:33 2016-06-17 00:00:00"
      ]
     },
     "execution_count": 71,
     "metadata": {},
     "output_type": "execute_result"
    }
   ],
   "source": [
    "train_plan['dt_from'] = train_plan.time_start.apply(datetime.datetime.fromtimestamp)\n",
    "a = train_plan.set_index('dt_from').resample('3H', how={'time_start':min}).to_dict()['time_start']\n",
    "train_plan['dt_3h'] = train_plan.time_start.apply(lambda x: max([key for key, value in a.items() if value <= x]))\n",
    "train_plan[['train', 'time_start', 'dt_from', 'dt_3h']].head()"
   ]
  },
  {
   "cell_type": "markdown",
   "metadata": {},
   "source": [
    "### Подставляем в поездные планы среднее время хода из нитки"
   ]
  },
  {
   "cell_type": "code",
   "execution_count": 72,
   "metadata": {
    "collapsed": false
   },
   "outputs": [],
   "source": [
    "train_plan['link_name'] = list(zip(train_plan.st_from_name, train_plan.st_to_name))\n",
    "train_plan['dt_link_name'] = list(zip(train_plan.link_name, train_plan.dt_3h))\n",
    "df_3h['dt_link_name'] = list(zip(df_3h.link_name, df_3h.dt_from))\n",
    "train_plan['slot_tt'] = train_plan.dt_link_name.map(df_3h.set_index('dt_link_name').tt)\n",
    "train_plan.slot_tt.fillna(-1, inplace=True)"
   ]
  },
  {
   "cell_type": "markdown",
   "metadata": {},
   "source": [
    "### Считаем красивую статистику"
   ]
  },
  {
   "cell_type": "markdown",
   "metadata": {},
   "source": [
    "#### Гистограмма отклонений времен хода поездов от времен хода в нитках"
   ]
  },
  {
   "cell_type": "code",
   "execution_count": 73,
   "metadata": {
    "collapsed": false
   },
   "outputs": [
    {
     "data": {
      "image/png": "[encoded data removed]",
      "text/plain": [
       "<matplotlib.figure.Figure at 0x219abe46898>"
      ]
     },
     "metadata": {},
     "output_type": "display_data"
    }
   ],
   "source": [
    "train_plan['tt'] = train_plan.time_end - train_plan.time_start\n",
    "train_plan['slot_tt'] = train_plan.slot_tt.apply(int)\n",
    "train_plan['tt_delta'] = train_plan.tt - train_plan.slot_tt\n",
    "train_plan['tt_delta_abs'] = train_plan.tt_delta.apply(abs)\n",
    "add_info(links)\n",
    "links['link_name'] = list(zip(links.st_from_name, links.st_to_name))\n",
    "train_plan['tt_link'] = train_plan.link_name.map(links.drop_duplicates('link_name').set_index('link_name').time)\n",
    "df_tt_delta = train_plan[train_plan.slot_tt != -1]\n",
    "tt_delta_mean = df_tt_delta.tt_delta.mean()\n",
    "tt_delta_std = df_tt_delta.tt_delta.std()\n",
    "main = df_tt_delta[df_tt_delta.tt_delta.apply(lambda x: np.abs(x - tt_delta_mean) < 3 * tt_delta_std)]\n",
    "\n",
    "sns.set(context='notebook', style='whitegrid', palette='dark')\n",
    "fig = plt.figure()\n",
    "ax = sns.distplot(main.tt_delta / 60, hist=False, kde_kws={'shade':True})\n",
    "title = 'Отклонение времен хода поездов от времен хода в нитках (без учета выбросов)\\nСреднее = %.2f мин.' \\\n",
    "            % (main.tt_delta.mean() / 60)\n",
    "ax.set(title=title, xlabel='Отклонение, мин.')\n",
    "filename = 'main_delta.png'\n",
    "fig.savefig(REPORT_FOLDER + filename, bbox_inches='tight')\n",
    "add_image(filename)"
   ]
  },
  {
   "cell_type": "markdown",
   "metadata": {},
   "source": [
    "#### Выбросы (большие отклонения времен хода поездов от времен хода в нитках)"
   ]
  },
  {
   "cell_type": "code",
   "execution_count": 74,
   "metadata": {
    "collapsed": false
   },
   "outputs": [
    {
     "name": "stdout",
     "output_type": "stream",
     "text": [
      "Всего 660 случаев, когда время хода поезда существенно отличается от времени хода в нитке (выбросы).\n",
      "Частота выбросов по участку и трехчасовому интервалу:\n",
      "link_name                   dt_3h              \n",
      "(ЗАВИТАЯ, БЕЛОГОРСК II)     2016-06-16 18:00:00    24\n",
      "(ХАБАРОВСК II, КРУГЛИКОВО)  2016-06-17 18:00:00    16\n",
      "(ОБЛУЧЬЕ, АРХАРА)           2016-06-16 15:00:00    15\n",
      "(ХАБАРОВСК II, КРУГЛИКОВО)  2016-06-16 18:00:00    14\n",
      "(ОБЛУЧЬЕ, АРХАРА)           2016-06-16 18:00:00    14\n",
      "(ЗАВИТАЯ, БЕЛОГОРСК II)     2016-06-17 15:00:00    14\n",
      "                            2016-06-16 15:00:00    14\n",
      "                            2016-06-17 18:00:00    14\n",
      "(БЕЛОГОРСК II, ЗАВИТАЯ)     2016-06-17 21:00:00    13\n",
      "                            2016-06-16 15:00:00    12\n"
     ]
    },
    {
     "data": {
      "image/png": "[encoded data removed]",
      "text/plain": [
       "<matplotlib.figure.Figure at 0x219ae432b00>"
      ]
     },
     "metadata": {},
     "output_type": "display_data"
    }
   ],
   "source": [
    "outliers = df_tt_delta[df_tt_delta.tt_delta.apply(lambda x: np.abs(x - tt_delta_mean) > 3 * tt_delta_std)]\n",
    "cols = ['train', 'st_from_name', 'st_to_name', 'dt_from', 'dt_3h', 'tt', 'slot_tt', 'tt_delta', 'tt_link']\n",
    "add_header('Всего %d случаев, когда время хода поезда существенно отличается от времени хода в нитке (выбросы).' \n",
    "          % outliers.train.count())\n",
    "add_header('Частота выбросов по участку и трехчасовому интервалу:')\n",
    "add_line(outliers.groupby(['link_name', 'dt_3h']).train.count().sort_values(ascending=False).head(10))\n",
    "\n",
    "fig = plt.figure()\n",
    "sns.set(context='notebook', style='whitegrid', palette='dark')\n",
    "ax = sns.distplot(outliers.tt_delta.apply(abs), hist=False, kde_kws={'shade':True})\n",
    "title = 'Отклонение времен хода поездов от времен хода в нитках в выбросах\\nСреднее по модулю = %.2f мин.' \\\n",
    "            % (outliers.tt_delta_abs.mean() / 60)\n",
    "ax.set(title=title, xlabel='Отклонение, мин.')\n",
    "filename = 'outliers_delta.png'\n",
    "fig.savefig(REPORT_FOLDER + filename, bbox_inches='tight')\n",
    "add_image(filename)"
   ]
  },
  {
   "cell_type": "markdown",
   "metadata": {},
   "source": [
    "#### Подробная статистика по участку, где больше всего выборосов"
   ]
  },
  {
   "cell_type": "code",
   "execution_count": 75,
   "metadata": {
    "collapsed": false
   },
   "outputs": [
    {
     "name": "stdout",
     "output_type": "stream",
     "text": [
      "Статистика по участку с наибольшим количеством выбросов: ЗАВИТАЯ -- БЕЛОГОРСК II\n",
      "Статистика по ниткам:\n",
      "count      158.000000\n",
      "mean      7168.101266\n",
      "std       1579.684783\n",
      "min       6900.000000\n",
      "25%       6960.000000\n",
      "50%       6960.000000\n",
      "75%       6960.000000\n",
      "max      21060.000000\n",
      "Статистика по выбросам в поездных планах:\n",
      "count      84.000000\n",
      "mean      619.738095\n",
      "std       444.032103\n",
      "min       540.000000\n",
      "25%       540.000000\n",
      "50%       540.000000\n",
      "75%       540.000000\n",
      "max      3596.000000\n",
      "Примеры поездов с временами хода, значительно отличающимися от времен в нитках:\n",
      "          train st_from_name    st_to_name  time_start             dt_from   tt  slot_tt  tt_delta_abs  tt_link\n",
      "   200254357755      ЗАВИТАЯ  БЕЛОГОРСК II  1466170318 2016-06-17 16:31:58  540     7053          6513      540\n",
      "   200254290676      ЗАВИТАЯ  БЕЛОГОРСК II  1466083094 2016-06-16 16:18:14  540     7053          6513      540\n",
      "   200254307227      ЗАВИТАЯ  БЕЛОГОРСК II  1466086663 2016-06-16 17:17:43  540     7053          6513      540\n",
      "   200254622226      ЗАВИТАЯ  БЕЛОГОРСК II  1466175445 2016-06-17 17:57:25  540     7053          6513      540\n",
      "   200251353257      ЗАВИТАЯ  БЕЛОГОРСК II  1466173500 2016-06-17 17:25:00  540     7053          6513      540\n",
      " 88880012914243      ЗАВИТАЯ  БЕЛОГОРСК II  1466171727 2016-06-17 16:55:27  540     7053          6513      540\n",
      " 88880011034201      ЗАВИТАЯ  БЕЛОГОРСК II  1466085385 2016-06-16 16:56:25  540     7053          6513      540\n",
      "   200253171997      ЗАВИТАЯ  БЕЛОГОРСК II  1466088660 2016-06-16 17:51:00  540     7053          6513      540\n",
      " 88880014254453      ЗАВИТАЯ  БЕЛОГОРСК II  1466173063 2016-06-17 17:17:43  540     7053          6513      540\n",
      "   200254316498      ЗАВИТАЯ  БЕЛОГОРСК II  1466087854 2016-06-16 17:37:34  540     7053          6513      540\n"
     ]
    }
   ],
   "source": [
    "cols = ['train', 'st_from_name', 'st_to_name', 'time_start', 'dt_from', 'tt', 'slot_tt', 'tt_delta_abs', 'tt_link']\n",
    "l = outliers.groupby(['link_name', 'dt_3h']).train.count().sort_values(ascending=False).reset_index().ix[0].link_name\n",
    "st_from, st_to = l[0], l[1]\n",
    "add_header('Статистика по участку с наибольшим количеством выбросов: %s -- %s' % (st_from, st_to), h=3)\n",
    "add_header('Статистика по ниткам:')\n",
    "add_line(slot[(slot.st_from_name == st_from) & (slot.st_to_name == st_to)].tt.describe())\n",
    "add_header('Статистика по выбросам в поездных планах:')\n",
    "add_line(outliers[(outliers.st_from_name == st_from) & (outliers.st_to_name == st_to)].tt.describe())\n",
    "add_header('Примеры поездов с временами хода, значительно отличающимися от времен в нитках:')\n",
    "add_line(outliers[(outliers.st_from_name == st_from) & (outliers.st_to_name == st_to)].sort_values('tt_delta_abs', ascending=False)[cols].head(10))"
   ]
  },
  {
   "cell_type": "code",
   "execution_count": 76,
   "metadata": {
    "collapsed": false
   },
   "outputs": [
    {
     "name": "stdout",
     "output_type": "stream",
     "text": [
      "Примеры самых больших (по модулю отклонения) выбросов:\n",
      "          train st_from_name               st_to_name  time_start             dt_from     tt  slot_tt  tt_delta_abs  tt_link\n",
      "   220201205815      СЕЛЬГОН                    МЫЛКИ  1466090460 2016-06-16 18:21:00   9720    24180         14460     9720\n",
      "   200254356353      СЕЛЬГОН            ВОЛОЧАЕВКА II  1466084400 2016-06-16 16:40:00  10980    23760         12780    10980\n",
      "   200254603352      СЕЛЬГОН            ВОЛОЧАЕВКА II  1466088853 2016-06-16 17:54:13  10980    23760         12780    10980\n",
      "   200254330814      СЕЛЬГОН            ВОЛОЧАЕВКА II  1466083800 2016-06-16 16:30:00  10980    23760         12780    10980\n",
      " 88880010704605      СЕЛЬГОН            ВОЛОЧАЕВКА II  1466088853 2016-06-16 17:54:13  10980    23760         12780    10980\n",
      "   200254354408      СЕЛЬГОН            ВОЛОЧАЕВКА II  1466080200 2016-06-16 15:30:00  10980    23760         12780    10980\n",
      "   200254569449      СЕЛЬГОН            ВОЛОЧАЕВКА II  1466084118 2016-06-16 16:35:18  10980    23760         12780    10980\n",
      "   200254036808       ЭВОРОН  КОМСОМОЛЬСК-НА-АМУРЕ II  1466075400 2016-06-16 14:10:00   1440    13380         11940     1440\n",
      "   200254148729       ЭВОРОН  КОМСОМОЛЬСК-НА-АМУРЕ II  1466162637 2016-06-17 14:23:57   1440    13380         11940     1440\n",
      " 88880011034262       ЭВОРОН  КОМСОМОЛЬСК-НА-АМУРЕ II  1466077440 2016-06-16 14:44:00   1440    13380         11940     1440\n"
     ]
    }
   ],
   "source": [
    "add_header('Примеры самых больших (по модулю отклонения) выбросов:', h=3)\n",
    "add_line(outliers.sort_values('tt_delta_abs', ascending=False)[cols].head(10))"
   ]
  },
  {
   "cell_type": "markdown",
   "metadata": {},
   "source": [
    "## Проверка входных данных"
   ]
  },
  {
   "cell_type": "markdown",
   "metadata": {},
   "source": [
    "### Участки планирования без слотов"
   ]
  },
  {
   "cell_type": "code",
   "execution_count": 77,
   "metadata": {
    "collapsed": false
   },
   "outputs": [],
   "source": [
    "slot['link_name'] = list(zip(slot.st_from_name, slot.st_to_name))\n",
    "links['link_name'] = list(zip(links.st_from_name, links.st_to_name))\n",
    "slot.dropna(subset=['st_from_name', 'st_to_name'], how='any', inplace=True)"
   ]
  },
  {
   "cell_type": "code",
   "execution_count": 78,
   "metadata": {
    "collapsed": false
   },
   "outputs": [
    {
     "name": "stdout",
     "output_type": "stream",
     "text": [
      "Всего 70 участков планирования без слотов:\n",
      "[('СОЛОВЬЕВСК', 'БОРЗЯ') ('ЕНИСЕЙ', 'ДИВНОГОРСК') ('БЛЮХЕР', 'БАМБУРОВО')\n",
      " ('БИРОФЕЛЬД', 'ЛЕНИНСК') ('ОРОСИТЕЛЬНЫЙ', 'ХОНЫХ') ('УГЛОВАЯ', 'УГОЛЬНАЯ')\n",
      " ('БЛОКПОСТ 1571 КМ', 'ДАЛЬНЕРЕЧЕНСК I') ('ПЕРЕВАЛ', 'КАЗАНКАН')\n",
      " (nan, 'БИРА') ('БИРОФЕЛЬД', nan) ('ПОСТ-ПОКРОВСКИЙ', 'ПОКРОВКА-ПРИСТАНЬ')\n",
      " ('КАЗАНКАН', 'ПЕРЕВАЛ') ('ОУНЭ', 'КУЗНЕЦОВСКИЙ') ('ДИВНОГОРСК', 'ЕНИСЕЙ')\n",
      " ('СКОВОРОДИНО', 'РЕЙНОВО') (nan, nan) ('УГОЛЬНАЯ', 'УГЛОВАЯ')\n",
      " ('БАМБУРОВО', 'БЛЮХЕР') ('МАХАЛИНО', nan) ('ЭБЕРГАРД', 'ДАЛЬНЕРЕЧЕНСК II')\n",
      " (nan, 'БИРОФЕЛЬД') ('БЛОКПОСТ 197 КМ', 'ОУНЭ') ('БАЙКАЛ', 'КУЛТУК')\n",
      " ('ШАРЫПОВО', 'ШУШЬ') ('АНГАРСК', 'СУХОВСКАЯ-ЮЖНАЯ')\n",
      " ('ЧЕРЕМХОВО', 'МАКАРЬЕВО') ('ПЕРЕВАЛ', 'АНГАРАКАН')\n",
      " ('СОЛЛУ', 'ВЫСОКОГОРНАЯ') ('НАХОДКА-ВОСТОЧНАЯ', 'ХМЫЛОВСКИЙ')\n",
      " ('ХМЫЛОВСКИЙ', 'НАХОДКА-ВОСТОЧНАЯ') ('БОРЗЯ', 'СОЛОВЬЕВСК')\n",
      " ('ГРОДЕКОВО (КИТАЙ)', 'РАССЫПНАЯ ПАДЬ') ('МАКАРЬЕВО', 'ЧЕРЕМХОВО')\n",
      " ('АНГАРАКАН', 'ПЕРЕВАЛ') ('ЛУЧКИ', 'НОВОКАЧАЛИНСК') ('ШАРЫПОВО', 'БАЗЫР')\n",
      " ('БИРА', nan) ('ДАЛЬНЕРЕЧЕНСК II', 'БЛОКПОСТ 1571 КМ')\n",
      " ('ПЕРВАЯ РЕЧКА', 'ГАЙДАМАК') ('ЛЕНИНСК', 'БИРОФЕЛЬД')\n",
      " ('БАЗЫР', 'ШАРЫПОВО') ('ГАЙДАМАК', 'ПЕРВАЯ РЕЧКА')\n",
      " ('РЕЙНОВО', 'СКОВОРОДИНО') (nan, 'ВОЛОЧАЕВКА I') ('КРАСНОЯРСК', 'БУГАЧ')\n",
      " ('СЛЮДЯНКА II', 'КУЛТУК') ('ПОКРОВКА-ПРИСТАНЬ', 'ПОСТ-ПОКРОВСКИЙ')\n",
      " ('КУЛТУК', 'СЛЮДЯНКА II') ('ЕНИСЕЙ', 'КРАСНОЯРСК')\n",
      " ('ВЛАДИВОСТОК', 'ГАЙДАМАК') ('КРАСНОЯРСК', 'ЕНИСЕЙ') ('ЗЫКОВО', 'БАЗАИХА')\n",
      " ('ЗУЙ', 'СУХОВСКАЯ') ('ГАЙДАМАК', 'ВЛАДИВОСТОК') ('КУЗНЕЦОВСКИЙ', 'СОЛЛУ')\n",
      " ('БУГАЧ', 'КРАСНОЯРСК') ('ДАЛЬНЕРЕЧЕНСК I', 'ЭБЕРГАРД')\n",
      " ('ХОНЫХ', 'ОРОСИТЕЛЬНЫЙ') ('ЕНИСЕЙ', 'ЗЛОБИНО') ('БАЗАИХА', 'ЗЫКОВО')\n",
      " ('ЗЛОБИНО', 'ЕНИСЕЙ') ('НОВОКАЧАЛИНСК', 'ЛУЧКИ')\n",
      " ('СУХОВСКАЯ-ЮЖНАЯ', 'АНГАРСК') ('ВЫСОКОГОРНАЯ', 'БЛОКПОСТ 197 КМ')\n",
      " ('РАССЫПНАЯ ПАДЬ', 'ГРОДЕКОВО (КИТАЙ)') ('ШУШЬ', 'ШАРЫПОВО')\n",
      " ('ВОЛОЧАЕВКА I', nan) (nan, 'МАХАЛИНО') ('СУХОВСКАЯ', 'ЗУЙ')\n",
      " ('КУЛТУК', 'БАЙКАЛ')]\n"
     ]
    }
   ],
   "source": [
    "slot['tt'] = slot.time_end - slot.time_start\n",
    "links['slot_tt_init'] = links.link_name.map(slot.groupby('link_name').tt.mean())\n",
    "links['slot_tt'] = 60 * (links.slot_tt_init // 60)\n",
    "links[['link_name', 'time', 'slot_tt']]\n",
    "links_no_slots = links[links.slot_tt.isnull()]\n",
    "links_no_slots_names = links_no_slots.link_name.unique()\n",
    "add_header('Всего %d участков планирования без слотов:' % len(links_no_slots_names))\n",
    "add_line(links_no_slots_names)"
   ]
  },
  {
   "cell_type": "markdown",
   "metadata": {},
   "source": [
    "### Выявление участков с неправильным нормативным временем хода"
   ]
  },
  {
   "cell_type": "code",
   "execution_count": 79,
   "metadata": {
    "collapsed": false
   },
   "outputs": [
    {
     "data": {
      "text/html": [
       "<div>\n",
       "<table border=\"1\" class=\"dataframe\">\n",
       "  <thead>\n",
       "    <tr style=\"text-align: right;\">\n",
       "      <th></th>\n",
       "      <th>link_name</th>\n",
       "      <th>time</th>\n",
       "      <th>slot_tt</th>\n",
       "      <th>ratio</th>\n",
       "    </tr>\n",
       "  </thead>\n",
       "  <tbody>\n",
       "    <tr>\n",
       "      <th>251</th>\n",
       "      <td>(ЗАВИТАЯ, БЕЛОГОРСК II)</td>\n",
       "      <td>540</td>\n",
       "      <td>7140</td>\n",
       "      <td>13.222222</td>\n",
       "    </tr>\n",
       "    <tr>\n",
       "      <th>44</th>\n",
       "      <td>(БЕЛОГОРСК II, ЗАВИТАЯ)</td>\n",
       "      <td>720</td>\n",
       "      <td>7980</td>\n",
       "      <td>11.083333</td>\n",
       "    </tr>\n",
       "    <tr>\n",
       "      <th>224</th>\n",
       "      <td>(КОМСОМОЛЬСК-НА-АМУРЕ II, ЭВОРОН)</td>\n",
       "      <td>1500</td>\n",
       "      <td>14280</td>\n",
       "      <td>9.520000</td>\n",
       "    </tr>\n",
       "    <tr>\n",
       "      <th>237</th>\n",
       "      <td>(ЭВОРОН, КОМСОМОЛЬСК-НА-АМУРЕ II)</td>\n",
       "      <td>1440</td>\n",
       "      <td>13440</td>\n",
       "      <td>9.333333</td>\n",
       "    </tr>\n",
       "    <tr>\n",
       "      <th>217</th>\n",
       "      <td>(ГРОДЕКОВО II, ВОЗДВИЖЕНСКИЙ)</td>\n",
       "      <td>720</td>\n",
       "      <td>6600</td>\n",
       "      <td>9.166667</td>\n",
       "    </tr>\n",
       "  </tbody>\n",
       "</table>\n",
       "</div>"
      ],
      "text/plain": [
       "                             link_name  time  slot_tt      ratio\n",
       "251            (ЗАВИТАЯ, БЕЛОГОРСК II)   540     7140  13.222222\n",
       "44             (БЕЛОГОРСК II, ЗАВИТАЯ)   720     7980  11.083333\n",
       "224  (КОМСОМОЛЬСК-НА-АМУРЕ II, ЭВОРОН)  1500    14280   9.520000\n",
       "237  (ЭВОРОН, КОМСОМОЛЬСК-НА-АМУРЕ II)  1440    13440   9.333333\n",
       "217      (ГРОДЕКОВО II, ВОЗДВИЖЕНСКИЙ)   720     6600   9.166667"
      ]
     },
     "execution_count": 79,
     "metadata": {},
     "output_type": "execute_result"
    }
   ],
   "source": [
    "links['delta_tt_perc'] = 100 * np.abs(links.slot_tt - links.time) / links.slot_tt\n",
    "links['ratio'] = links.slot_tt / links.time\n",
    "cols = ['link_name', 'time', 'slot_tt', 'ratio']\n",
    "#links[(links.slot_tt.isnull() == False)][cols].sort_values('delta_tt_perc', ascending=False).head()\n",
    "links[(links.slot_tt.isnull() == False)][cols].sort_values('ratio', ascending=False).head()"
   ]
  },
  {
   "cell_type": "code",
   "execution_count": 80,
   "metadata": {
    "collapsed": false
   },
   "outputs": [
    {
     "name": "stdout",
     "output_type": "stream",
     "text": [
      "Всего 23 участков планирования с заниженным или завышенным временем хода относительно ниток: \n",
      "[('НАХОДКА', 'ХМЫЛОВСКИЙ') ('БЕЛОГОРСК II', 'ЗАВИТАЯ')\n",
      " ('ПРИГОРОДНЫЙ', 'АЧИНСК II') ('КРУГЛИКОВО', 'ХАБАРОВСК II')\n",
      " ('ВОЗДВИЖЕНСКИЙ', 'ГРОДЕКОВО II')\n",
      " ('КОМСОМОЛЬСК-НА-АМУРЕ', 'КОМСОМОЛЬСК-НА-АМУРЕ II') ('БАЗАИХА', 'ЗЛОБИНО')\n",
      " ('ВОЛОЧАЕВКА II', 'ТУНГУССКИЙ') ('ГРОДЕКОВО II', 'ВОЗДВИЖЕНСКИЙ')\n",
      " ('КОМСОМОЛЬСК-НА-АМУРЕ II', 'ЭВОРОН')\n",
      " ('ЭВОРОН', 'КОМСОМОЛЬСК-НА-АМУРЕ II') ('ЗАВИТАЯ', 'БЕЛОГОРСК II')\n",
      " ('СЕЛИХИН', 'КОМСОМОЛЬСК-НА-АМУРЕ-СОРТИРОВОЧНЫЙ')\n",
      " ('КОМСОМОЛЬСК-НА-АМУРЕ-СОРТИРОВОЧНЫЙ', 'СЕЛИХИН') ('СРЕТЕНСК', 'КУЭНГА')\n",
      " ('ХАБАРОВСК II', 'КРУГЛИКОВО') ('РАССЫПНАЯ ПАДЬ', 'ГРОДЕКОВО')\n",
      " ('ПОДСИНИЙ', 'АБАКАН') ('КОМСОМОЛЬСК-НА-АМУРЕ II', 'КОМСОМОЛЬСК-НА-АМУРЕ')\n",
      " ('ЗЛОБИНО', 'БАЗАИХА') ('ТУНГУССКИЙ', 'ВОЛОЧАЕВКА II')\n",
      " ('ХМЫЛОВСКИЙ', 'НАХОДКА') ('ГРОДЕКОВО', 'РАССЫПНАЯ ПАДЬ')]\n",
      "Примеры завышенных нормативов:\n",
      "                                       link_name  time  slot_tt     ratio\n",
      " (КОМСОМОЛЬСК-НА-АМУРЕ II, КОМСОМОЛЬСК-НА-АМУРЕ)  1500      300  0.200000\n",
      " (КОМСОМОЛЬСК-НА-АМУРЕ, КОМСОМОЛЬСК-НА-АМУРЕ II)  1440      300  0.208333\n",
      "                        (ПРИГОРОДНЫЙ, АЧИНСК II)  1080      300  0.277778\n",
      "                              (БАЗАИХА, ЗЛОБИНО)   420      960  2.285714\n",
      "                              (ЗЛОБИНО, БАЗАИХА)   360      840  2.333333\n",
      "Примеры заниженных нормативов:\n",
      "                         link_name  time  slot_tt      ratio\n",
      "     (ГРОДЕКОВО II, ВОЗДВИЖЕНСКИЙ)   720     6600   9.166667\n",
      " (ЭВОРОН, КОМСОМОЛЬСК-НА-АМУРЕ II)  1440    13440   9.333333\n",
      " (КОМСОМОЛЬСК-НА-АМУРЕ II, ЭВОРОН)  1500    14280   9.520000\n",
      "           (БЕЛОГОРСК II, ЗАВИТАЯ)   720     7980  11.083333\n",
      "           (ЗАВИТАЯ, БЕЛОГОРСК II)   540     7140  13.222222\n",
      "Свойства распределения выбросов:\n",
      "count    23.000000\n",
      "mean      4.718375\n",
      "std       3.703234\n",
      "min       0.200000\n",
      "25%       2.434959\n",
      "50%       3.000000\n",
      "75%       7.157143\n",
      "max      13.222222\n"
     ]
    },
    {
     "data": {
      "image/png": "[encoded data removed]",
      "text/plain": [
       "<matplotlib.figure.Figure at 0x219ad6bbdd8>"
      ]
     },
     "metadata": {},
     "output_type": "display_data"
    }
   ],
   "source": [
    "rmean = links.ratio.mean()\n",
    "rstd = links.ratio.std()\n",
    "outliers = links[links.ratio.apply(lambda x: np.abs(x - rmean) > rstd)]\n",
    "add_header('Всего %d участков планирования с заниженным или завышенным временем хода относительно ниток: \\n%s' %\n",
    "          (outliers.link_name.count(), outliers.link_name.unique()))\n",
    "#sns.distplot(links.ratio, hist=False, color='b', kde_kws={'shade':True})\n",
    "add_header('Примеры завышенных нормативов:')\n",
    "add_line(outliers.sort_values('ratio')[cols].head())\n",
    "add_header('Примеры заниженных нормативов:')\n",
    "add_line(outliers.sort_values('ratio')[cols].tail())\n",
    "add_header('Свойства распределения выбросов:')\n",
    "add_line(outliers.ratio.describe())\n",
    "\n",
    "fig = plt.figure()\n",
    "sns.set(context='notebook', style='whitegrid', palette='dark')\n",
    "ax = sns.distplot(outliers.ratio, hist=False, color='r', kde_kws={'shade':True})\n",
    "title = 'Распределение отношения времен хода в нитках к нормативным временам в участках-выбросах'\n",
    "ax.set(title=title, xlabel='Относительное отклонение')\n",
    "filename = 'outliers_slot_tt_ratio.png'\n",
    "fig.savefig(REPORT_FOLDER + filename, bbox_inches='tight')\n",
    "add_image(filename)"
   ]
  },
  {
   "cell_type": "code",
   "execution_count": 81,
   "metadata": {
    "collapsed": false
   },
   "outputs": [
    {
     "name": "stdout",
     "output_type": "stream",
     "text": [
      "Отчет сформирован: report/slot_report_20160616_144411.html\n"
     ]
    }
   ],
   "source": [
    "filename = REPORT_FOLDER + 'slot_report_' + time.strftime('%Y%m%d_%H%M%S', time.localtime(time.time())) + '.html'\n",
    "create_report(filename)"
   ]
  },
  {
   "cell_type": "code",
   "execution_count": 82,
   "metadata": {
    "collapsed": false
   },
   "outputs": [
    {
     "data": {
      "text/html": [
       "<div>\n",
       "<table border=\"1\" class=\"dataframe\">\n",
       "  <thead>\n",
       "    <tr style=\"text-align: right;\">\n",
       "      <th></th>\n",
       "      <th>slot</th>\n",
       "      <th>time_start_norm</th>\n",
       "    </tr>\n",
       "  </thead>\n",
       "  <tbody>\n",
       "    <tr>\n",
       "      <th>11484</th>\n",
       "      <td>200253685115</td>\n",
       "      <td>Jun 15, 22:49</td>\n",
       "    </tr>\n",
       "    <tr>\n",
       "      <th>11566</th>\n",
       "      <td>200253685142</td>\n",
       "      <td>Jun 15, 23:04</td>\n",
       "    </tr>\n",
       "    <tr>\n",
       "      <th>13586</th>\n",
       "      <td>200253704701</td>\n",
       "      <td>Jun 15, 23:19</td>\n",
       "    </tr>\n",
       "    <tr>\n",
       "      <th>11908</th>\n",
       "      <td>200253694791</td>\n",
       "      <td>Jun 15, 23:32</td>\n",
       "    </tr>\n",
       "    <tr>\n",
       "      <th>12088</th>\n",
       "      <td>200253694821</td>\n",
       "      <td>Jun 15, 23:49</td>\n",
       "    </tr>\n",
       "    <tr>\n",
       "      <th>12214</th>\n",
       "      <td>200253694856</td>\n",
       "      <td>Jun 16, 00:05</td>\n",
       "    </tr>\n",
       "    <tr>\n",
       "      <th>12273</th>\n",
       "      <td>200253694887</td>\n",
       "      <td>Jun 16, 00:20</td>\n",
       "    </tr>\n",
       "    <tr>\n",
       "      <th>12402</th>\n",
       "      <td>200253694907</td>\n",
       "      <td>Jun 16, 01:05</td>\n",
       "    </tr>\n",
       "    <tr>\n",
       "      <th>13054</th>\n",
       "      <td>200253695081</td>\n",
       "      <td>Jun 16, 01:20</td>\n",
       "    </tr>\n",
       "    <tr>\n",
       "      <th>12856</th>\n",
       "      <td>200253695049</td>\n",
       "      <td>Jun 16, 01:38</td>\n",
       "    </tr>\n",
       "    <tr>\n",
       "      <th>13013</th>\n",
       "      <td>200253695069</td>\n",
       "      <td>Jun 16, 01:53</td>\n",
       "    </tr>\n",
       "    <tr>\n",
       "      <th>13092</th>\n",
       "      <td>200253695096</td>\n",
       "      <td>Jun 16, 02:04</td>\n",
       "    </tr>\n",
       "    <tr>\n",
       "      <th>13151</th>\n",
       "      <td>200253695118</td>\n",
       "      <td>Jun 16, 02:36</td>\n",
       "    </tr>\n",
       "    <tr>\n",
       "      <th>13210</th>\n",
       "      <td>200253695148</td>\n",
       "      <td>Jun 16, 02:51</td>\n",
       "    </tr>\n",
       "    <tr>\n",
       "      <th>13366</th>\n",
       "      <td>200253695195</td>\n",
       "      <td>Jun 16, 03:06</td>\n",
       "    </tr>\n",
       "    <tr>\n",
       "      <th>13870</th>\n",
       "      <td>200253704774</td>\n",
       "      <td>Jun 16, 03:25</td>\n",
       "    </tr>\n",
       "    <tr>\n",
       "      <th>13423</th>\n",
       "      <td>200253704679</td>\n",
       "      <td>Jun 16, 03:46</td>\n",
       "    </tr>\n",
       "    <tr>\n",
       "      <th>13875</th>\n",
       "      <td>200253704782</td>\n",
       "      <td>Jun 16, 04:06</td>\n",
       "    </tr>\n",
       "    <tr>\n",
       "      <th>14232</th>\n",
       "      <td>200253704838</td>\n",
       "      <td>Jun 16, 04:21</td>\n",
       "    </tr>\n",
       "    <tr>\n",
       "      <th>14283</th>\n",
       "      <td>200253704864</td>\n",
       "      <td>Jun 16, 04:36</td>\n",
       "    </tr>\n",
       "    <tr>\n",
       "      <th>14401</th>\n",
       "      <td>200253704880</td>\n",
       "      <td>Jun 16, 04:51</td>\n",
       "    </tr>\n",
       "    <tr>\n",
       "      <th>14469</th>\n",
       "      <td>200253704898</td>\n",
       "      <td>Jun 16, 05:05</td>\n",
       "    </tr>\n",
       "    <tr>\n",
       "      <th>14657</th>\n",
       "      <td>200253704938</td>\n",
       "      <td>Jun 16, 05:25</td>\n",
       "    </tr>\n",
       "    <tr>\n",
       "      <th>14741</th>\n",
       "      <td>200253704957</td>\n",
       "      <td>Jun 16, 05:45</td>\n",
       "    </tr>\n",
       "    <tr>\n",
       "      <th>15389</th>\n",
       "      <td>200253705091</td>\n",
       "      <td>Jun 16, 06:00</td>\n",
       "    </tr>\n",
       "    <tr>\n",
       "      <th>...</th>\n",
       "      <td>...</td>\n",
       "      <td>...</td>\n",
       "    </tr>\n",
       "    <tr>\n",
       "      <th>43963</th>\n",
       "      <td>200254461278</td>\n",
       "      <td>Jun 17, 14:51</td>\n",
       "    </tr>\n",
       "    <tr>\n",
       "      <th>43709</th>\n",
       "      <td>200254461237</td>\n",
       "      <td>Jun 17, 15:28</td>\n",
       "    </tr>\n",
       "    <tr>\n",
       "      <th>44007</th>\n",
       "      <td>200254461280</td>\n",
       "      <td>Jun 17, 15:45</td>\n",
       "    </tr>\n",
       "    <tr>\n",
       "      <th>44158</th>\n",
       "      <td>200254461299</td>\n",
       "      <td>Jun 17, 16:21</td>\n",
       "    </tr>\n",
       "    <tr>\n",
       "      <th>45029</th>\n",
       "      <td>200254461428</td>\n",
       "      <td>Jun 17, 16:36</td>\n",
       "    </tr>\n",
       "    <tr>\n",
       "      <th>44501</th>\n",
       "      <td>200254461351</td>\n",
       "      <td>Jun 17, 16:47</td>\n",
       "    </tr>\n",
       "    <tr>\n",
       "      <th>45073</th>\n",
       "      <td>200254461433</td>\n",
       "      <td>Jun 17, 17:06</td>\n",
       "    </tr>\n",
       "    <tr>\n",
       "      <th>45222</th>\n",
       "      <td>200254461459</td>\n",
       "      <td>Jun 17, 17:21</td>\n",
       "    </tr>\n",
       "    <tr>\n",
       "      <th>46123</th>\n",
       "      <td>200254461606</td>\n",
       "      <td>Jun 17, 17:36</td>\n",
       "    </tr>\n",
       "    <tr>\n",
       "      <th>45937</th>\n",
       "      <td>200254461574</td>\n",
       "      <td>Jun 17, 17:51</td>\n",
       "    </tr>\n",
       "    <tr>\n",
       "      <th>46088</th>\n",
       "      <td>200254461597</td>\n",
       "      <td>Jun 17, 18:06</td>\n",
       "    </tr>\n",
       "    <tr>\n",
       "      <th>46846</th>\n",
       "      <td>200254471413</td>\n",
       "      <td>Jun 17, 18:17</td>\n",
       "    </tr>\n",
       "    <tr>\n",
       "      <th>46240</th>\n",
       "      <td>200254471320</td>\n",
       "      <td>Jun 17, 18:33</td>\n",
       "    </tr>\n",
       "    <tr>\n",
       "      <th>46389</th>\n",
       "      <td>200254471340</td>\n",
       "      <td>Jun 17, 18:52</td>\n",
       "    </tr>\n",
       "    <tr>\n",
       "      <th>46586</th>\n",
       "      <td>200254471373</td>\n",
       "      <td>Jun 17, 19:07</td>\n",
       "    </tr>\n",
       "    <tr>\n",
       "      <th>46734</th>\n",
       "      <td>200254471402</td>\n",
       "      <td>Jun 17, 19:22</td>\n",
       "    </tr>\n",
       "    <tr>\n",
       "      <th>46937</th>\n",
       "      <td>200254471420</td>\n",
       "      <td>Jun 17, 19:37</td>\n",
       "    </tr>\n",
       "    <tr>\n",
       "      <th>47104</th>\n",
       "      <td>200254471449</td>\n",
       "      <td>Jun 17, 19:52</td>\n",
       "    </tr>\n",
       "    <tr>\n",
       "      <th>47203</th>\n",
       "      <td>200254471469</td>\n",
       "      <td>Jun 17, 20:07</td>\n",
       "    </tr>\n",
       "    <tr>\n",
       "      <th>48078</th>\n",
       "      <td>200254471615</td>\n",
       "      <td>Jun 17, 20:25</td>\n",
       "    </tr>\n",
       "    <tr>\n",
       "      <th>48115</th>\n",
       "      <td>200254471618</td>\n",
       "      <td>Jun 17, 20:46</td>\n",
       "    </tr>\n",
       "    <tr>\n",
       "      <th>44537</th>\n",
       "      <td>200254401368</td>\n",
       "      <td>Jun 17, 20:51</td>\n",
       "    </tr>\n",
       "    <tr>\n",
       "      <th>48534</th>\n",
       "      <td>200254471703</td>\n",
       "      <td>Jun 17, 21:10</td>\n",
       "    </tr>\n",
       "    <tr>\n",
       "      <th>48676</th>\n",
       "      <td>200254471718</td>\n",
       "      <td>Jun 17, 21:25</td>\n",
       "    </tr>\n",
       "    <tr>\n",
       "      <th>48789</th>\n",
       "      <td>200254471741</td>\n",
       "      <td>Jun 17, 21:40</td>\n",
       "    </tr>\n",
       "  </tbody>\n",
       "</table>\n",
       "<p>158 rows × 2 columns</p>\n",
       "</div>"
      ],
      "text/plain": [
       "               slot time_start_norm\n",
       "11484  200253685115   Jun 15, 22:49\n",
       "11566  200253685142   Jun 15, 23:04\n",
       "13586  200253704701   Jun 15, 23:19\n",
       "11908  200253694791   Jun 15, 23:32\n",
       "12088  200253694821   Jun 15, 23:49\n",
       "12214  200253694856   Jun 16, 00:05\n",
       "12273  200253694887   Jun 16, 00:20\n",
       "12402  200253694907   Jun 16, 01:05\n",
       "13054  200253695081   Jun 16, 01:20\n",
       "12856  200253695049   Jun 16, 01:38\n",
       "13013  200253695069   Jun 16, 01:53\n",
       "13092  200253695096   Jun 16, 02:04\n",
       "13151  200253695118   Jun 16, 02:36\n",
       "13210  200253695148   Jun 16, 02:51\n",
       "13366  200253695195   Jun 16, 03:06\n",
       "13870  200253704774   Jun 16, 03:25\n",
       "13423  200253704679   Jun 16, 03:46\n",
       "13875  200253704782   Jun 16, 04:06\n",
       "14232  200253704838   Jun 16, 04:21\n",
       "14283  200253704864   Jun 16, 04:36\n",
       "14401  200253704880   Jun 16, 04:51\n",
       "14469  200253704898   Jun 16, 05:05\n",
       "14657  200253704938   Jun 16, 05:25\n",
       "14741  200253704957   Jun 16, 05:45\n",
       "15389  200253705091   Jun 16, 06:00\n",
       "...             ...             ...\n",
       "43963  200254461278   Jun 17, 14:51\n",
       "43709  200254461237   Jun 17, 15:28\n",
       "44007  200254461280   Jun 17, 15:45\n",
       "44158  200254461299   Jun 17, 16:21\n",
       "45029  200254461428   Jun 17, 16:36\n",
       "44501  200254461351   Jun 17, 16:47\n",
       "45073  200254461433   Jun 17, 17:06\n",
       "45222  200254461459   Jun 17, 17:21\n",
       "46123  200254461606   Jun 17, 17:36\n",
       "45937  200254461574   Jun 17, 17:51\n",
       "46088  200254461597   Jun 17, 18:06\n",
       "46846  200254471413   Jun 17, 18:17\n",
       "46240  200254471320   Jun 17, 18:33\n",
       "46389  200254471340   Jun 17, 18:52\n",
       "46586  200254471373   Jun 17, 19:07\n",
       "46734  200254471402   Jun 17, 19:22\n",
       "46937  200254471420   Jun 17, 19:37\n",
       "47104  200254471449   Jun 17, 19:52\n",
       "47203  200254471469   Jun 17, 20:07\n",
       "48078  200254471615   Jun 17, 20:25\n",
       "48115  200254471618   Jun 17, 20:46\n",
       "44537  200254401368   Jun 17, 20:51\n",
       "48534  200254471703   Jun 17, 21:10\n",
       "48676  200254471718   Jun 17, 21:25\n",
       "48789  200254471741   Jun 17, 21:40\n",
       "\n",
       "[158 rows x 2 columns]"
      ]
     },
     "execution_count": 82,
     "metadata": {},
     "output_type": "execute_result"
    }
   ],
   "source": [
    "slot[(slot.st_from_name == 'ЗАВИТАЯ') & (slot.st_to_name == 'БЕЛОГОРСК II')].sort_values('time_start')[['slot', 'time_start_norm']]"
   ]
  }
 ],
 "metadata": {
  "kernelspec": {
   "display_name": "Python 3",
   "language": "python",
   "name": "python3"
  },
  "language_info": {
   "codemirror_mode": {
    "name": "ipython",
    "version": 3
   },
   "file_extension": ".py",
   "mimetype": "text/x-python",
   "name": "python",
   "nbconvert_exporter": "python",
   "pygments_lexer": "ipython3",
   "version": "3.5.1"
  }
 },
 "nbformat": 4,
 "nbformat_minor": 0
}
