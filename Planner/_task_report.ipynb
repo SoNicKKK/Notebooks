{
 "cells": [
  {
   "cell_type": "code",
   "execution_count": 83,
   "metadata": {
    "collapsed": false
   },
   "outputs": [
    {
     "name": "stdout",
     "output_type": "stream",
     "text": [
      "Planning start time: Jun 28, 10:37 (1467099475)\n"
     ]
    }
   ],
   "source": [
    "FOLDER = 'resources/'\n",
    "\n",
    "import numpy as np\n",
    "import pandas as pd\n",
    "import time, datetime\n",
    "from ast import literal_eval\n",
    "import matplotlib.pyplot as plt\n",
    "import seaborn as sns\n",
    "import zipfile\n",
    "\n",
    "#%matplotlib inline\n",
    "plt.style.use('fivethirtyeight')\n",
    "plt.rc('font', family='Times New Roman')\n",
    "\n",
    "pd.set_option('max_rows', 50)\n",
    "\n",
    "time_format = '%b %d, %H:%M'\n",
    "\n",
    "start_time = time.time()\n",
    "current_time = pd.read_csv(FOLDER + 'current_time.csv').current_time[0]\n",
    "twr          = pd.read_csv(FOLDER + 'team_work_region.csv', converters={'twr':str})\n",
    "links        = pd.read_csv(FOLDER + 'link.csv')\n",
    "stations     = pd.read_csv(FOLDER + 'station.csv', converters={'station':str})\n",
    "train_info   = pd.read_csv(FOLDER + 'train_info.csv', converters={'train': str, 'st_from':str, 'st_to':str, 'oper_location':str,\n",
    "                                                                 'st_from':str, 'st_to':str})\n",
    "train_plan   = pd.read_csv(FOLDER + 'slot_train.csv', converters={'train': str, 'st_from':str, 'st_to':str})\n",
    "loco_info    = pd.read_csv(FOLDER + 'loco_attributes.csv', converters={'train':str, 'loco':str, 'depot':str,\n",
    "                                                                      'st_from':str, 'st_to':str})\n",
    "loco_plan    = pd.read_csv(FOLDER + 'slot_loco.csv', converters={'train':str, 'loco':str, 'st_from':str, 'st_to':str})\n",
    "team_info    = pd.read_csv(FOLDER + 'team_attributes.csv', converters={'team':str,'depot':str, 'oper_location':str, \\\n",
    "                                                                 'st_from':str, 'st_to':str, 'loco':str, 'depot_st':str})\n",
    "team_plan    = pd.read_csv(FOLDER + 'slot_team.csv', converters={'team':str,'loco':str, 'st_from':str, 'st_to':str})\n",
    "loco_series  = pd.read_csv(FOLDER + 'loco_series.csv')\n",
    "\n",
    "team_info.regions = team_info.regions.apply(literal_eval)\n",
    "st_names = stations[['station', 'name', 'esr']].drop_duplicates().set_index('station')\n",
    "print('Planning start time: %s (%d)' % (time.strftime(time_format, time.localtime(current_time)), current_time))"
   ]
  },
  {
   "cell_type": "code",
   "execution_count": 84,
   "metadata": {
    "collapsed": true
   },
   "outputs": [],
   "source": [
    "# Мержим таблицы _plan и _info для поездов, локомотивов и бригад\n",
    "# Добавляем во все таблицы названия станций на маршруте и времена отправления/прибытия в читабельном формате\n",
    "\n",
    "def add_info(df):    \n",
    "    if 'st_from' in df.columns:\n",
    "        df['st_from_name'] = df.st_from.map(st_names.name)\n",
    "    if 'st_to' in df.columns:\n",
    "        df['st_to_name'] = df.st_to.map(st_names.name)\n",
    "    if 'time_start' in df.columns:\n",
    "        df['time_start_norm'] = df.time_start.apply(lambda x: time.strftime(time_format, time.localtime(x)))\n",
    "    if 'time_end' in df.columns:\n",
    "        df['time_end_norm'] = df.time_end.apply(lambda x: time.strftime(time_format, time.localtime(x)))\n",
    "    if 'oper_location' in df.columns:\n",
    "        df['oper_location_name'] = df.oper_location.map(st_names.name)    \n",
    "        df.oper_location_name.fillna(0, inplace=True)\n",
    "    if ('oper_location' in df.columns) & ('st_from' in df.columns) & ('st_to' in df.columns):        \n",
    "        df['loc_name'] = df.oper_location_name\n",
    "        df.loc[df.loc_name == 0, 'loc_name'] = df.st_from_name + ' - ' + df.st_to_name\n",
    "    \n",
    "add_info(train_plan)\n",
    "add_info(loco_plan)\n",
    "add_info(team_plan)\n",
    "add_info(loco_info)\n",
    "add_info(team_info)\n",
    "add_info(train_info)\n",
    "train_plan = train_plan.merge(train_info, on='train', suffixes=('', '_info'), how='left')\n",
    "loco_plan = loco_plan.merge(loco_info, on='loco', suffixes=('', '_info'), how='left')\n",
    "team_plan = team_plan.merge(team_info, on='team', suffixes=('', '_info'), how='left')\n",
    "team_plan['team_type'] = team_plan.team.apply(lambda x: 'Реальная' if str(x)[0] == '2' else 'Фейковая')"
   ]
  },
  {
   "cell_type": "code",
   "execution_count": 85,
   "metadata": {
    "collapsed": true
   },
   "outputs": [],
   "source": [
    "def nice_time(t):\n",
    "    return time.strftime(time_format, time.localtime(t)) if t > 0 else ''"
   ]
  },
  {
   "cell_type": "code",
   "execution_count": 86,
   "metadata": {
    "collapsed": true
   },
   "outputs": [],
   "source": [
    "REPORT_FOLDER = 'report/'\n",
    "PRINT = True\n",
    "report = ''\n",
    "\n",
    "def add_line(line, p=PRINT):    \n",
    "    global report        \n",
    "    if p:                \n",
    "        if type(line) == pd.core.frame.DataFrame:\n",
    "            print(line.to_string(index=False))\n",
    "        elif type(line) == pd.core.series.Series:\n",
    "            print(line.to_string())\n",
    "        else:\n",
    "            print(line)\n",
    "    if type(line) == pd.core.frame.DataFrame:        \n",
    "        report += ('%s<br>' % line.to_html(index=False))\n",
    "    elif type(line) == pd.core.series.Series:\n",
    "        report += ('%s<br>' % line.to_frame().reset_index().to_html(index=False))\n",
    "    else:\n",
    "        report += ('%s<br>' % line)\n",
    "    \n",
    "def add_header(header, h=4, p=PRINT):\n",
    "    global report\n",
    "    report += ('<h%d>%s</h%d>' % (h, header, h))\n",
    "    if p:\n",
    "        print(header)\n",
    "\n",
    "def add_image(filename):\n",
    "    global report\n",
    "    report += ('<img src=\"%s\" alt=\"%s\" height=\"40%%\">' % (filename, filename))\n",
    "\n",
    "def create_report(filename):\n",
    "    global report\n",
    "    report = report.replace('<table border=\"1\" class=\"dataframe\">','<table class=\"table table-striped\">')\n",
    "    html_string = '''\n",
    "        <html>\n",
    "            <head>\n",
    "                <link rel=\"stylesheet\" href=\"skeleton.css\">\n",
    "                <style>body{ margin:20 20; background:whitesmoke; }\n",
    "                table {table-layout : fixed}\n",
    "                </style>\n",
    "            </head>\n",
    "            <body>                \n",
    "                %s\n",
    "            </body>\n",
    "        </html>''' % (report)\n",
    "    f = open(filename,'w', encoding='utf-8-sig')\n",
    "    f.write(html_string)\n",
    "    f.close()\n",
    "    print('Report created: %s' % filename)\n",
    "    \n",
    "def create_zip(filename):\n",
    "    zip_filename = filename[:-5] + '.zip'\n",
    "    zf = zipfile.ZipFile(zip_filename, mode='w')\n",
    "    try:\n",
    "        #print 'Отчет заархивирован в файл'\n",
    "        zf.write(filename)\n",
    "        zf.write('report\\skeleton.css')\n",
    "    finally:\n",
    "        print('Zip-file created: %s' % zip_filename)\n",
    "        zf.close()    "
   ]
  },
  {
   "cell_type": "code",
   "execution_count": 94,
   "metadata": {
    "collapsed": false
   },
   "outputs": [
    {
     "name": "stdout",
     "output_type": "stream",
     "text": [
      "Отчет строится для поездов формированием на станции ИРКУТСК-СОРТИРОВОЧНЫЙ\n",
      "Время начала планирования: Jun 28, 10:37\n"
     ]
    }
   ],
   "source": [
    "import sys\n",
    "if len(sys.argv) > 1:\n",
    "    if sys.argv[1].upper() in stations.name.values:\n",
    "        st_name = sys.argv[1]\n",
    "    else: st_name = 'ИРКУТСК-СОРТИРОВОЧНЫЙ'\n",
    "else: st_name = 'ИРКУТСК-СОРТИРОВОЧНЫЙ'\n",
    "add_line('Отчет строится для поездов формированием на станции %s' % st_name)\n",
    "add_line('Время начала планирования: %s' % nice_time(current_time))"
   ]
  },
  {
   "cell_type": "code",
   "execution_count": 88,
   "metadata": {
    "collapsed": false
   },
   "outputs": [
    {
     "name": "stdout",
     "output_type": "stream",
     "text": [
      "Все запланированные поезда своего формирования по направлениям:\n",
      "ГОНЧАРОВО     56\n",
      "БАТАРЕЙНАЯ    30\n"
     ]
    }
   ],
   "source": [
    "train_plan['train_type'] = train_plan.train.apply(lambda x: int(x[0]))\n",
    "train_plan.loc[train_plan.train_type == 9, 'task'] = train_plan.loc[train_plan.train_type == 9, 'train'].apply(lambda x: x[4:9])\n",
    "sf = train_plan[train_plan.train_type == 9]\n",
    "sf_start = sf.drop_duplicates('train')\n",
    "sf_irk = sf_start[sf_start.st_from_name == st_name]\n",
    "add_header('Все запланированные поезда своего формирования по направлениям:')\n",
    "add_line(sf_irk.st_to_name.value_counts())"
   ]
  },
  {
   "cell_type": "code",
   "execution_count": 89,
   "metadata": {
    "collapsed": false
   },
   "outputs": [
    {
     "name": "stdout",
     "output_type": "stream",
     "text": [
      "Задания (сгруппированные по направлениям) и кол-во поездов, запланированных в нужное время:\n",
      "                           id  time_start    time_end time_start_norm  time_end_norm st_next_name  number  plan_at_time\n",
      "               [200290012394]  1467082800  1467126000   Jun 28, 06:00  Jun 28, 18:00   БАТАРЕЙНАЯ       0             0\n",
      " [200290012393, 200220028815]  1467082800  1467126000   Jun 28, 06:00  Jun 28, 18:00    ГОНЧАРОВО      13             0\n",
      "               [200290012394]  1467126000  1467169200   Jun 28, 18:00  Jun 29, 06:00   БАТАРЕЙНАЯ      15             2\n",
      " [200290012393, 200220028815]  1467126000  1467169200   Jun 28, 18:00  Jun 29, 06:00    ГОНЧАРОВО      23             5\n",
      "               [200290012394]  1467169200  1467212400   Jun 29, 06:00  Jun 29, 18:00   БАТАРЕЙНАЯ      15             5\n",
      " [200290012393, 200220028815]  1467169200  1467212400   Jun 29, 06:00  Jun 29, 18:00    ГОНЧАРОВО      20             7\n"
     ]
    }
   ],
   "source": [
    "def get_planned_trains(row):\n",
    "    return sf_irk[(sf_irk.st_to_name == row.st_next_name) & (sf_irk.time_start >= row.time_start)\n",
    "                 & (sf_irk.time_start < row.time_end)].train.count()\n",
    "\n",
    "#f = {'number':'sum', 'id':'unique'}\n",
    "task = pd.read_csv(FOLDER + 'task.csv', dtype={'st_from':str, 'st_to':str, 'st_next':str})\n",
    "add_info(task)\n",
    "task['duration'] = task.time_end - task.time_start\n",
    "task['st_next_name'] = task.st_next.map(st_names.name)\n",
    "cols = ['id', 'time_start', 'time_end', 'time_start_norm', 'time_end_norm', 'duration', 'st_from_name', 'st_next_name', 'number']\n",
    "a = task[task.st_from_name == st_name].sort_values(['time_start', 'st_to_name'])[cols].drop_duplicates()\n",
    "b = a.groupby(['time_start', 'time_end', 'time_start_norm', 'time_end_norm', 'st_next_name'])\\\n",
    "        .agg({'number':'sum', 'id':'unique'}).reset_index()\n",
    "b['plan_at_time'] = b.apply(lambda row: get_planned_trains(row), axis=1)\n",
    "b = b[['id', 'time_start', 'time_end', 'time_start_norm', 'time_end_norm', 'st_next_name', 'number', 'plan_at_time']]\n",
    "add_header('Задания (сгруппированные по направлениям) и кол-во поездов, запланированных в нужное время:')\n",
    "add_line(b)"
   ]
  },
  {
   "cell_type": "code",
   "execution_count": 90,
   "metadata": {
    "collapsed": false
   },
   "outputs": [
    {
     "name": "stdout",
     "output_type": "stream",
     "text": [
      "Примеры заданий, по которым запланировано недостаточно поездов: [200290012393 200220028815]\n"
     ]
    }
   ],
   "source": [
    "b['part_id'] = b['id'].apply(lambda x: [str(t)[7:] for t in x])\n",
    "problem_tasks = b[b.number > b.plan_at_time].iloc[0]['id']\n",
    "problem_tasks_part_id = b[b.number > b.plan_at_time].iloc[0]['part_id']\n",
    "add_header('Примеры заданий, по которым запланировано недостаточно поездов: %s' % problem_tasks)"
   ]
  },
  {
   "cell_type": "code",
   "execution_count": 91,
   "metadata": {
    "collapsed": false
   },
   "outputs": [
    {
     "name": "stdout",
     "output_type": "stream",
     "text": [
      "Поезда по этим заданиям (отсортированы по id):\n",
      "           train   task           st_from_name st_to_name time_start_norm\n",
      " 999912393012000  12393  ИРКУТСК-СОРТИРОВОЧНЫЙ  ГОНЧАРОВО   Jul 03, 04:52\n",
      " 999912393012002  12393  ИРКУТСК-СОРТИРОВОЧНЫЙ  ГОНЧАРОВО   Jul 02, 21:47\n",
      " 999912393012004  12393  ИРКУТСК-СОРТИРОВОЧНЫЙ  ГОНЧАРОВО   Jul 03, 02:49\n",
      " 999912393012006  12393  ИРКУТСК-СОРТИРОВОЧНЫЙ  ГОНЧАРОВО   Jul 02, 23:19\n",
      " 999912393012008  12393  ИРКУТСК-СОРТИРОВОЧНЫЙ  ГОНЧАРОВО   Jul 03, 05:33\n",
      " 999912393012010  12393  ИРКУТСК-СОРТИРОВОЧНЫЙ  ГОНЧАРОВО   Jul 03, 03:30\n",
      " 999912393012012  12393  ИРКУТСК-СОРТИРОВОЧНЫЙ  ГОНЧАРОВО   Jul 02, 18:43\n",
      " 999912393012014  12393  ИРКУТСК-СОРТИРОВОЧНЫЙ  ГОНЧАРОВО   Jul 01, 18:54\n",
      " 999912393012016  12393  ИРКУТСК-СОРТИРОВОЧНЫЙ  ГОНЧАРОВО   Jul 02, 15:39\n",
      " 999912393012018  12393  ИРКУТСК-СОРТИРОВОЧНЫЙ  ГОНЧАРОВО   Jul 02, 08:09\n",
      " 999912393012020  12393  ИРКУТСК-СОРТИРОВОЧНЫЙ  ГОНЧАРОВО   Jul 01, 19:40\n",
      " 999912393012022  12393  ИРКУТСК-СОРТИРОВОЧНЫЙ  ГОНЧАРОВО   Jul 02, 06:47\n",
      " 999912393012024  12393  ИРКУТСК-СОРТИРОВОЧНЫЙ  ГОНЧАРОВО   Jul 02, 20:15\n",
      " 999912393012026  12393  ИРКУТСК-СОРТИРОВОЧНЫЙ  ГОНЧАРОВО   Jul 02, 17:57\n",
      " 999912393012028  12393  ИРКУТСК-СОРТИРОВОЧНЫЙ  ГОНЧАРОВО   Jul 02, 22:33\n",
      " 999912393012030  12393  ИРКУТСК-СОРТИРОВОЧНЫЙ  ГОНЧАРОВО   Jul 02, 16:25\n",
      " 999912393012032  12393  ИРКУТСК-СОРТИРОВОЧНЫЙ  ГОНЧАРОВО   Jul 01, 18:08\n",
      " 999912393012034  12393  ИРКУТСК-СОРТИРОВОЧНЫЙ  ГОНЧАРОВО   Jul 02, 12:55\n",
      " 999912393022000  12393  ИРКУТСК-СОРТИРОВОЧНЫЙ  ГОНЧАРОВО   Jul 03, 00:46\n",
      " 999912393022002  12393  ИРКУТСК-СОРТИРОВОЧНЫЙ  ГОНЧАРОВО   Jul 02, 06:06\n",
      " 999912393022004  12393  ИРКУТСК-СОРТИРОВОЧНЫЙ  ГОНЧАРОВО   Jul 01, 17:22\n",
      " 999912393022006  12393  ИРКУТСК-СОРТИРОВОЧНЫЙ  ГОНЧАРОВО   Jul 02, 10:52\n",
      " 999912393022008  12393  ИРКУТСК-СОРТИРОВОЧНЫЙ  ГОНЧАРОВО   Jul 02, 13:36\n",
      " 999912393022010  12393  ИРКУТСК-СОРТИРОВОЧНЫЙ  ГОНЧАРОВО   Jul 03, 02:08\n",
      " 999912393022012  12393  ИРКУТСК-СОРТИРОВОЧНЫЙ  ГОНЧАРОВО   Jul 02, 17:11\n",
      " 999912393022014  12393  ИРКУТСК-СОРТИРОВОЧНЫЙ  ГОНЧАРОВО   Jul 03, 01:27\n",
      " 999912393022016  12393  ИРКУТСК-СОРТИРОВОЧНЫЙ  ГОНЧАРОВО   Jul 02, 11:33\n",
      " 999912393022018  12393  ИРКУТСК-СОРТИРОВОЧНЫЙ  ГОНЧАРОВО   Jun 29, 22:45\n",
      " 999912393022020  12393  ИРКУТСК-СОРТИРОВОЧНЫЙ  ГОНЧАРОВО   Jul 02, 05:25\n",
      " 999912393022022  12393  ИРКУТСК-СОРТИРОВОЧНЫЙ  ГОНЧАРОВО   Jul 02, 14:17\n",
      " 999912393022024  12393  ИРКУТСК-СОРТИРОВОЧНЫЙ  ГОНЧАРОВО   Jul 02, 21:01\n",
      " 999912393022026  12393  ИРКУТСК-СОРТИРОВОЧНЫЙ  ГОНЧАРОВО   Jul 01, 04:55\n",
      " 999912393022028  12393  ИРКУТСК-СОРТИРОВОЧНЫЙ  ГОНЧАРОВО   Jul 03, 00:05\n",
      " 999912393022030  12393  ИРКУТСК-СОРТИРОВОЧНЫЙ  ГОНЧАРОВО   Jun 29, 07:05\n",
      " 999912393022032  12393  ИРКУТСК-СОРТИРОВОЧНЫЙ  ГОНЧАРОВО   Jun 29, 08:35\n",
      " 999912393022034  12393  ИРКУТСК-СОРТИРОВОЧНЫЙ  ГОНЧАРОВО   Jun 29, 13:10\n",
      " 999912393022036  12393  ИРКУТСК-СОРТИРОВОЧНЫЙ  ГОНЧАРОВО   Jul 01, 20:26\n",
      " 999912393022038  12393  ИРКУТСК-СОРТИРОВОЧНЫЙ  ГОНЧАРОВО   Jul 02, 09:31\n",
      " 999912393022040  12393  ИРКУТСК-СОРТИРОВОЧНЫЙ  ГОНЧАРОВО   Jul 01, 05:36\n",
      " 999912393022042  12393  ИРКУТСК-СОРТИРОВОЧНЫЙ  ГОНЧАРОВО   Jul 02, 07:28\n",
      " 999912393032000  12393  ИРКУТСК-СОРТИРОВОЧНЫЙ  ГОНЧАРОВО   Jun 29, 08:45\n",
      " 999912393032002  12393  ИРКУТСК-СОРТИРОВОЧНЫЙ  ГОНЧАРОВО   Jun 29, 00:00\n",
      " 999912393032004  12393  ИРКУТСК-СОРТИРОВОЧНЫЙ  ГОНЧАРОВО   Jun 29, 03:25\n",
      " 999912393032006  12393  ИРКУТСК-СОРТИРОВОЧНЫЙ  ГОНЧАРОВО   Jun 29, 13:20\n",
      " 999912393032008  12393  ИРКУТСК-СОРТИРОВОЧНЫЙ  ГОНЧАРОВО   Jul 02, 12:14\n",
      " 999912393032010  12393  ИРКУТСК-СОРТИРОВОЧНЫЙ  ГОНЧАРОВО   Jun 29, 00:30\n",
      " 999912393032012  12393  ИРКУТСК-СОРТИРОВОЧНЫЙ  ГОНЧАРОВО   Jul 02, 19:29\n",
      " 999912393032014  12393  ИРКУТСК-СОРТИРОВОЧНЫЙ  ГОНЧАРОВО   Jun 29, 03:15\n",
      " 999912393032016  12393  ИРКУТСК-СОРТИРОВОЧНЫЙ  ГОНЧАРОВО   Jul 03, 04:11\n",
      " 999912393032018  12393  ИРКУТСК-СОРТИРОВОЧНЫЙ  ГОНЧАРОВО   Jun 29, 07:40\n",
      " 999912393032020  12393  ИРКУТСК-СОРТИРОВОЧНЫЙ  ГОНЧАРОВО   Jun 29, 05:15\n",
      " 999928815012000  28815  ИРКУТСК-СОРТИРОВОЧНЫЙ  ГОНЧАРОВО   Jul 02, 04:44\n",
      " 999928815012002  28815  ИРКУТСК-СОРТИРОВОЧНЫЙ  ГОНЧАРОВО   Jul 02, 14:58\n",
      " 999928815022000  28815  ИРКУТСК-СОРТИРОВОЧНЫЙ  ГОНЧАРОВО   Jul 02, 10:12\n",
      " 999928815022002  28815  ИРКУТСК-СОРТИРОВОЧНЫЙ  ГОНЧАРОВО   Jul 02, 08:50\n",
      " 999928815032000  28815  ИРКУТСК-СОРТИРОВОЧНЫЙ  ГОНЧАРОВО   Jun 29, 11:05\n"
     ]
    }
   ],
   "source": [
    "cols = ['train', 'task', 'st_from_name', 'st_to_name', 'time_start_norm']\n",
    "add_header('Поезда по этим заданиям (отсортированы по id):')\n",
    "add_line(sf_irk[sf_irk.task.isin(problem_tasks_part_id)].sort_values('train')[cols])"
   ]
  },
  {
   "cell_type": "code",
   "execution_count": 92,
   "metadata": {
    "collapsed": false
   },
   "outputs": [
    {
     "name": "stdout",
     "output_type": "stream",
     "text": [
      "Report created: report/task_20160630_161058.html\n",
      "Zip-file created: report/task_20160630_161058.zip\n"
     ]
    }
   ],
   "source": [
    "filename = REPORT_FOLDER + 'task_' + time.strftime('%Y%m%d_%H%M%S', time.localtime(time.time())) + '.html'\n",
    "create_report(filename)\n",
    "create_zip(filename)"
   ]
  }
 ],
 "metadata": {
  "kernelspec": {
   "display_name": "Python 3",
   "language": "python",
   "name": "python3"
  },
  "language_info": {
   "codemirror_mode": {
    "name": "ipython",
    "version": 3
   },
   "file_extension": ".py",
   "mimetype": "text/x-python",
   "name": "python",
   "nbconvert_exporter": "python",
   "pygments_lexer": "ipython3",
   "version": "3.5.1"
  }
 },
 "nbformat": 4,
 "nbformat_minor": 0
}
