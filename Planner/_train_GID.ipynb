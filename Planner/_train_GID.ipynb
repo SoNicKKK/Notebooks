{
 "cells": [
  {
   "cell_type": "code",
   "execution_count": 114,
   "metadata": {
    "collapsed": false
   },
   "outputs": [
    {
     "name": "stdout",
     "output_type": "stream",
     "text": [
      "Log time: 1467099475, Tue Jun 28 10:37:55 2016\n",
      "Read csvs: 0.91 sec\n"
     ]
    }
   ],
   "source": [
    "FOLDER = 'resources/'\n",
    "\n",
    "import numpy as np\n",
    "import pandas as pd\n",
    "import time, datetime\n",
    "from ast import literal_eval\n",
    "import matplotlib.pyplot as plt\n",
    "import seaborn as sns\n",
    "\n",
    "#%matplotlib inline\n",
    "plt.style.use('fivethirtyeight')\n",
    "plt.rc('font', family='Times New Roman')\n",
    "\n",
    "pd.set_option('max_rows', 50)\n",
    "\n",
    "time_format = '%b %d, %H:%M'\n",
    "\n",
    "start_time = time.time()\n",
    "current_time = pd.read_csv(FOLDER + 'current_time.csv').current_time[0]\n",
    "twr          = pd.read_csv(FOLDER + 'team_work_region.csv', converters={'twr':str})\n",
    "links        = pd.read_csv(FOLDER + 'link.csv')\n",
    "stations     = pd.read_csv(FOLDER + 'station.csv', converters={'station':str})\n",
    "train_info   = pd.read_csv(FOLDER + 'train_info.csv', converters={'train': str, 'st_from':str, 'st_to':str, 'oper_location':str,\n",
    "                                                                 'st_from':str, 'st_to':str})\n",
    "train_plan   = pd.read_csv(FOLDER + 'slot_train.csv', converters={'train': str, 'st_from':str, 'st_to':str})\n",
    "loco_info    = pd.read_csv(FOLDER + 'loco_attributes.csv', converters={'train':str, 'loco':str, 'depot':str,\n",
    "                                                                      'st_from':str, 'st_to':str})\n",
    "loco_plan    = pd.read_csv(FOLDER + 'slot_loco.csv', converters={'train':str, 'loco':str, 'st_from':str, 'st_to':str})\n",
    "team_info    = pd.read_csv(FOLDER + 'team_attributes.csv', converters={'team':str,'depot':str, 'oper_location':str, \\\n",
    "                                                                 'st_from':str, 'st_to':str, 'loco':str, 'depot_st':str})\n",
    "team_plan    = pd.read_csv(FOLDER + 'slot_team.csv', converters={'team':str,'loco':str, 'st_from':str, 'st_to':str})\n",
    "loco_series  = pd.read_csv(FOLDER + 'loco_series.csv')\n",
    "\n",
    "team_info.regions = team_info.regions.apply(literal_eval)\n",
    "st_names = stations[['station', 'name', 'esr']].drop_duplicates().set_index('station')\n",
    "print('Log time: %d, %s' % (current_time, time.ctime(current_time)))\n",
    "print('Read csvs:', np.round(time.time() - start_time, 2), 'sec')"
   ]
  },
  {
   "cell_type": "code",
   "execution_count": 115,
   "metadata": {
    "collapsed": false
   },
   "outputs": [],
   "source": [
    "# Мержим таблицы _plan и _info для поездов, локомотивов и бригад\n",
    "# Добавляем во все таблицы названия станций на маршруте и времена отправления/прибытия в читабельном формате\n",
    "\n",
    "def add_info(df):    \n",
    "    if 'st_from' in df.columns:\n",
    "        df['st_from_name'] = df.st_from.map(st_names.name)\n",
    "    if 'st_to' in df.columns:\n",
    "        df['st_to_name'] = df.st_to.map(st_names.name)\n",
    "    if 'time_start' in df.columns:\n",
    "        df['time_start_norm'] = df.time_start.apply(lambda x: time.strftime(time_format, time.localtime(x)))\n",
    "    if 'time_end' in df.columns:\n",
    "        df['time_end_norm'] = df.time_end.apply(lambda x: time.strftime(time_format, time.localtime(x)))\n",
    "    if 'oper_location' in df.columns:\n",
    "        df['oper_location_name'] = df.oper_location.map(st_names.name)    \n",
    "        df.oper_location_name.fillna(0, inplace=True)\n",
    "    if ('oper_location' in df.columns) & ('st_from' in df.columns) & ('st_to' in df.columns):        \n",
    "        df['loc_name'] = df.oper_location_name\n",
    "        df.loc[df.loc_name == 0, 'loc_name'] = df.st_from_name + ' - ' + df.st_to_name\n",
    "    \n",
    "add_info(train_plan)\n",
    "add_info(loco_plan)\n",
    "add_info(team_plan)\n",
    "add_info(loco_info)\n",
    "add_info(team_info)\n",
    "add_info(train_info)\n",
    "train_plan = train_plan.merge(train_info, on='train', suffixes=('', '_info'), how='left')\n",
    "loco_plan = loco_plan.merge(loco_info, on='loco', suffixes=('', '_info'), how='left')\n",
    "team_plan = team_plan.merge(team_info, on='team', suffixes=('', '_info'), how='left')\n",
    "team_plan['team_type'] = team_plan.team.apply(lambda x: 'Реальная' if str(x)[0] == '2' else 'Фейковая')"
   ]
  },
  {
   "cell_type": "code",
   "execution_count": 116,
   "metadata": {
    "collapsed": true
   },
   "outputs": [],
   "source": [
    "def nice_time(t):\n",
    "    return time.strftime(time_format, time.localtime(t)) if t > 0 else ''"
   ]
  },
  {
   "cell_type": "code",
   "execution_count": 117,
   "metadata": {
    "collapsed": false
   },
   "outputs": [
    {
     "data": {
      "text/html": [
       "<div>\n",
       "<table border=\"1\" class=\"dataframe\">\n",
       "  <thead>\n",
       "    <tr style=\"text-align: right;\">\n",
       "      <th></th>\n",
       "      <th>n</th>\n",
       "      <th>number</th>\n",
       "      <th>ind</th>\n",
       "      <th>time</th>\n",
       "      <th>weight</th>\n",
       "    </tr>\n",
       "  </thead>\n",
       "  <tbody>\n",
       "    <tr>\n",
       "      <th>0</th>\n",
       "      <td>1</td>\n",
       "      <td>1179</td>\n",
       "      <td>9859-266-2305</td>\n",
       "      <td>10:57</td>\n",
       "      <td>2583</td>\n",
       "    </tr>\n",
       "    <tr>\n",
       "      <th>1</th>\n",
       "      <td>2</td>\n",
       "      <td>2049</td>\n",
       "      <td>9877-013-9200</td>\n",
       "      <td>11:11</td>\n",
       "      <td>1650</td>\n",
       "    </tr>\n",
       "    <tr>\n",
       "      <th>2</th>\n",
       "      <td>3</td>\n",
       "      <td>1085</td>\n",
       "      <td>9369-529-1305</td>\n",
       "      <td>11:26</td>\n",
       "      <td>1481</td>\n",
       "    </tr>\n",
       "    <tr>\n",
       "      <th>3</th>\n",
       "      <td>4</td>\n",
       "      <td>2481</td>\n",
       "      <td>9722-022-8623</td>\n",
       "      <td>11:33</td>\n",
       "      <td>2003</td>\n",
       "    </tr>\n",
       "    <tr>\n",
       "      <th>4</th>\n",
       "      <td>5</td>\n",
       "      <td>3847</td>\n",
       "      <td>9300-755-9325</td>\n",
       "      <td>11:50</td>\n",
       "      <td>4437</td>\n",
       "    </tr>\n",
       "  </tbody>\n",
       "</table>\n",
       "</div>"
      ],
      "text/plain": [
       "   n  number            ind   time  weight\n",
       "0  1    1179  9859-266-2305  10:57    2583\n",
       "1  2    2049  9877-013-9200  11:11    1650\n",
       "2  3    1085  9369-529-1305  11:26    1481\n",
       "3  4    2481  9722-022-8623  11:33    2003\n",
       "4  5    3847  9300-755-9325  11:50    4437"
      ]
     },
     "execution_count": 117,
     "metadata": {},
     "output_type": "execute_result"
    }
   ],
   "source": [
    "even = pd.read_csv('irk_odd.csv', sep=';')\n",
    "even.columns = ['n', 'number', 'ind', 'time', 'weight']\n",
    "even['ind'] = even.ind.apply(lambda x: x.replace(' ', '-'))\n",
    "even.head()"
   ]
  },
  {
   "cell_type": "code",
   "execution_count": 118,
   "metadata": {
    "collapsed": false
   },
   "outputs": [
    {
     "data": {
      "text/html": [
       "<div>\n",
       "<table border=\"1\" class=\"dataframe\">\n",
       "  <thead>\n",
       "    <tr style=\"text-align: right;\">\n",
       "      <th></th>\n",
       "      <th>train</th>\n",
       "      <th>number</th>\n",
       "      <th>ind434</th>\n",
       "    </tr>\n",
       "  </thead>\n",
       "  <tbody>\n",
       "    <tr>\n",
       "      <th>0</th>\n",
       "      <td>210251643764</td>\n",
       "      <td>9227</td>\n",
       "      <td>9351-986-9333</td>\n",
       "    </tr>\n",
       "    <tr>\n",
       "      <th>1</th>\n",
       "      <td>210251487430</td>\n",
       "      <td>3471</td>\n",
       "      <td>8891-976-8880</td>\n",
       "    </tr>\n",
       "    <tr>\n",
       "      <th>2</th>\n",
       "      <td>210251645533</td>\n",
       "      <td>9210</td>\n",
       "      <td>9231-886-9320</td>\n",
       "    </tr>\n",
       "    <tr>\n",
       "      <th>3</th>\n",
       "      <td>210251314711</td>\n",
       "      <td>3145</td>\n",
       "      <td>9600-329-9379</td>\n",
       "    </tr>\n",
       "    <tr>\n",
       "      <th>4</th>\n",
       "      <td>210251555062</td>\n",
       "      <td>2025</td>\n",
       "      <td>9600-333-9379</td>\n",
       "    </tr>\n",
       "  </tbody>\n",
       "</table>\n",
       "</div>"
      ],
      "text/plain": [
       "          train  number         ind434\n",
       "0  210251643764    9227  9351-986-9333\n",
       "1  210251487430    3471  8891-976-8880\n",
       "2  210251645533    9210  9231-886-9320\n",
       "3  210251314711    3145  9600-329-9379\n",
       "4  210251555062    2025  9600-333-9379"
      ]
     },
     "execution_count": 118,
     "metadata": {},
     "output_type": "execute_result"
    }
   ],
   "source": [
    "train_info[['train', 'number', 'ind434']].head()"
   ]
  },
  {
   "cell_type": "markdown",
   "metadata": {},
   "source": [
    "### Пробуем просто найти поезда по индексу"
   ]
  },
  {
   "cell_type": "code",
   "execution_count": 119,
   "metadata": {
    "collapsed": false
   },
   "outputs": [
    {
     "name": "stdout",
     "output_type": "stream",
     "text": [
      "Find indices: 43 of 94\n",
      "Not detected trains: 51\n"
     ]
    },
    {
     "data": {
      "text/html": [
       "<div>\n",
       "<table border=\"1\" class=\"dataframe\">\n",
       "  <thead>\n",
       "    <tr style=\"text-align: right;\">\n",
       "      <th></th>\n",
       "      <th>n</th>\n",
       "      <th>number</th>\n",
       "      <th>ind</th>\n",
       "      <th>time</th>\n",
       "      <th>weight</th>\n",
       "      <th>train_id</th>\n",
       "    </tr>\n",
       "  </thead>\n",
       "  <tbody>\n",
       "    <tr>\n",
       "      <th>0</th>\n",
       "      <td>1</td>\n",
       "      <td>1179</td>\n",
       "      <td>9859-266-2305</td>\n",
       "      <td>10:57</td>\n",
       "      <td>2583</td>\n",
       "      <td>200258764628</td>\n",
       "    </tr>\n",
       "    <tr>\n",
       "      <th>1</th>\n",
       "      <td>2</td>\n",
       "      <td>2049</td>\n",
       "      <td>9877-013-9200</td>\n",
       "      <td>11:11</td>\n",
       "      <td>1650</td>\n",
       "      <td>200258008316</td>\n",
       "    </tr>\n",
       "    <tr>\n",
       "      <th>2</th>\n",
       "      <td>3</td>\n",
       "      <td>1085</td>\n",
       "      <td>9369-529-1305</td>\n",
       "      <td>11:26</td>\n",
       "      <td>1481</td>\n",
       "      <td>210251533284</td>\n",
       "    </tr>\n",
       "    <tr>\n",
       "      <th>3</th>\n",
       "      <td>4</td>\n",
       "      <td>2481</td>\n",
       "      <td>9722-022-8623</td>\n",
       "      <td>11:33</td>\n",
       "      <td>2003</td>\n",
       "      <td>200258788958</td>\n",
       "    </tr>\n",
       "    <tr>\n",
       "      <th>4</th>\n",
       "      <td>5</td>\n",
       "      <td>3847</td>\n",
       "      <td>9300-755-9325</td>\n",
       "      <td>11:50</td>\n",
       "      <td>4437</td>\n",
       "      <td>NaN</td>\n",
       "    </tr>\n",
       "  </tbody>\n",
       "</table>\n",
       "</div>"
      ],
      "text/plain": [
       "   n  number            ind   time  weight      train_id\n",
       "0  1    1179  9859-266-2305  10:57    2583  200258764628\n",
       "1  2    2049  9877-013-9200  11:11    1650  200258008316\n",
       "2  3    1085  9369-529-1305  11:26    1481  210251533284\n",
       "3  4    2481  9722-022-8623  11:33    2003  200258788958\n",
       "4  5    3847  9300-755-9325  11:50    4437           NaN"
      ]
     },
     "execution_count": 119,
     "metadata": {},
     "output_type": "execute_result"
    }
   ],
   "source": [
    "even['train_id'] = even.ind.map(train_info.set_index('ind434').train)\n",
    "good = even[even.train_id.isnull() == False].ind.count()\n",
    "bad = even[even.train_id.isnull()].ind.count()\n",
    "total = even.ind.count()\n",
    "print('Find indices: %d of %d\\nNot detected trains: %d' % (good, total, bad))\n",
    "even.head()"
   ]
  },
  {
   "cell_type": "markdown",
   "metadata": {},
   "source": [
    "### Пробуем найти поезда по части индекса (без хвоста)"
   ]
  },
  {
   "cell_type": "code",
   "execution_count": 120,
   "metadata": {
    "collapsed": false
   },
   "outputs": [
    {
     "name": "stdout",
     "output_type": "stream",
     "text": [
      "Search of part of index:\n",
      "Find indices: 55 of 94\n",
      "Not detected trains: 39\n"
     ]
    }
   ],
   "source": [
    "even['ind_part'] = even.ind.apply(lambda x: x[:-5])\n",
    "train_info['ind_part'] = train_info.ind434.apply(lambda x: x[:-5])\n",
    "train_info.groupby('ind_part').train.unique()\n",
    "even['susp_trains'] = even.ind_part.map(train_info.groupby('ind_part').train.unique())\n",
    "even.train_id.fillna(even.susp_trains, inplace=True)\n",
    "good = even[even.train_id.isnull() == False].ind.count()\n",
    "bad = even[even.train_id.isnull()].ind.count()\n",
    "print('Search of part of index:')\n",
    "print('Find indices: %d of %d\\nNot detected trains: %d' % (good, total, bad))  "
   ]
  },
  {
   "cell_type": "markdown",
   "metadata": {},
   "source": [
    "### Из оставшихся выбираем поезда своего формирования (они будут созданы из ССП)"
   ]
  },
  {
   "cell_type": "code",
   "execution_count": 121,
   "metadata": {
    "collapsed": false
   },
   "outputs": [
    {
     "name": "stdout",
     "output_type": "stream",
     "text": [
      "Search of Irk trains (SSP)\n",
      "Fing irk trains: 34\n",
      "Find trains: 89 of 94\n",
      "Not detected trains: 5\n"
     ]
    },
    {
     "data": {
      "text/html": [
       "<div>\n",
       "<table border=\"1\" class=\"dataframe\">\n",
       "  <thead>\n",
       "    <tr style=\"text-align: right;\">\n",
       "      <th></th>\n",
       "      <th>n</th>\n",
       "      <th>number</th>\n",
       "      <th>ind</th>\n",
       "      <th>time</th>\n",
       "      <th>weight</th>\n",
       "      <th>train_id</th>\n",
       "      <th>ind_part</th>\n",
       "      <th>susp_trains</th>\n",
       "      <th>start_esr</th>\n",
       "    </tr>\n",
       "  </thead>\n",
       "  <tbody>\n",
       "    <tr>\n",
       "      <th>4</th>\n",
       "      <td>5</td>\n",
       "      <td>3847</td>\n",
       "      <td>9300-755-9325</td>\n",
       "      <td>11:50</td>\n",
       "      <td>4437</td>\n",
       "      <td>NaN</td>\n",
       "      <td>9300-755</td>\n",
       "      <td>NaN</td>\n",
       "      <td>9300</td>\n",
       "    </tr>\n",
       "    <tr>\n",
       "      <th>5</th>\n",
       "      <td>6</td>\n",
       "      <td>3849</td>\n",
       "      <td>9300-756-9325</td>\n",
       "      <td>12:25</td>\n",
       "      <td>2303</td>\n",
       "      <td>NaN</td>\n",
       "      <td>9300-756</td>\n",
       "      <td>NaN</td>\n",
       "      <td>9300</td>\n",
       "    </tr>\n",
       "    <tr>\n",
       "      <th>8</th>\n",
       "      <td>9</td>\n",
       "      <td>3851</td>\n",
       "      <td>9300-757-9325</td>\n",
       "      <td>13:20</td>\n",
       "      <td>4437</td>\n",
       "      <td>NaN</td>\n",
       "      <td>9300-757</td>\n",
       "      <td>NaN</td>\n",
       "      <td>9300</td>\n",
       "    </tr>\n",
       "    <tr>\n",
       "      <th>14</th>\n",
       "      <td>15</td>\n",
       "      <td>3801</td>\n",
       "      <td>9300-526-9325</td>\n",
       "      <td>15:19</td>\n",
       "      <td>1506</td>\n",
       "      <td>NaN</td>\n",
       "      <td>9300-526</td>\n",
       "      <td>NaN</td>\n",
       "      <td>9300</td>\n",
       "    </tr>\n",
       "    <tr>\n",
       "      <th>15</th>\n",
       "      <td>16</td>\n",
       "      <td>3821</td>\n",
       "      <td>9300-758-9325</td>\n",
       "      <td>15:20</td>\n",
       "      <td>2303</td>\n",
       "      <td>NaN</td>\n",
       "      <td>9300-758</td>\n",
       "      <td>NaN</td>\n",
       "      <td>9300</td>\n",
       "    </tr>\n",
       "  </tbody>\n",
       "</table>\n",
       "</div>"
      ],
      "text/plain": [
       "     n  number            ind   time  weight train_id  ind_part susp_trains  \\\n",
       "4    5    3847  9300-755-9325  11:50    4437      NaN  9300-755         NaN   \n",
       "5    6    3849  9300-756-9325  12:25    2303      NaN  9300-756         NaN   \n",
       "8    9    3851  9300-757-9325  13:20    4437      NaN  9300-757         NaN   \n",
       "14  15    3801  9300-526-9325  15:19    1506      NaN  9300-526         NaN   \n",
       "15  16    3821  9300-758-9325  15:20    2303      NaN  9300-758         NaN   \n",
       "\n",
       "   start_esr  \n",
       "4       9300  \n",
       "5       9300  \n",
       "8       9300  \n",
       "14      9300  \n",
       "15      9300  "
      ]
     },
     "execution_count": 121,
     "metadata": {},
     "output_type": "execute_result"
    }
   ],
   "source": [
    "even['start_esr'] = even.ind.apply(lambda x: x[:4])\n",
    "even[even.train_id.isnull()]\n",
    "irk = even[(even.train_id.isnull()) & (even.start_esr == '9300')].ind.count()\n",
    "bad = even[(even.train_id.isnull()) & (even.start_esr != '9300')].ind.count()\n",
    "print('Search of Irk trains (SSP)')\n",
    "print('Fing irk trains: %d' % irk)\n",
    "print('Find trains: %d of %d\\nNot detected trains: %d' % (total - bad, total, bad))\n",
    "even[(even.train_id.isnull()) & (even.start_esr == '9300')].head()"
   ]
  },
  {
   "cell_type": "markdown",
   "metadata": {},
   "source": [
    "### Смотрим, какие поезда остались не найденными"
   ]
  },
  {
   "cell_type": "code",
   "execution_count": 122,
   "metadata": {
    "collapsed": false
   },
   "outputs": [
    {
     "data": {
      "text/html": [
       "<div>\n",
       "<table border=\"1\" class=\"dataframe\">\n",
       "  <thead>\n",
       "    <tr style=\"text-align: right;\">\n",
       "      <th></th>\n",
       "      <th>n</th>\n",
       "      <th>number</th>\n",
       "      <th>ind</th>\n",
       "      <th>time</th>\n",
       "      <th>weight</th>\n",
       "      <th>train_id</th>\n",
       "      <th>ind_part</th>\n",
       "      <th>susp_trains</th>\n",
       "      <th>start_esr</th>\n",
       "      <th>start_name</th>\n",
       "    </tr>\n",
       "  </thead>\n",
       "  <tbody>\n",
       "    <tr>\n",
       "      <th>65</th>\n",
       "      <td>66</td>\n",
       "      <td>1627</td>\n",
       "      <td>9328-071-9222</td>\n",
       "      <td>3:10</td>\n",
       "      <td>1533</td>\n",
       "      <td>NaN</td>\n",
       "      <td>9328-071</td>\n",
       "      <td>NaN</td>\n",
       "      <td>9328</td>\n",
       "      <td>КАЯ</td>\n",
       "    </tr>\n",
       "    <tr>\n",
       "      <th>66</th>\n",
       "      <td>67</td>\n",
       "      <td>1659</td>\n",
       "      <td>9331-345-9321</td>\n",
       "      <td>3:39</td>\n",
       "      <td>4183</td>\n",
       "      <td>NaN</td>\n",
       "      <td>9331-345</td>\n",
       "      <td>NaN</td>\n",
       "      <td>9331</td>\n",
       "      <td>СЛЮДЯНКА II</td>\n",
       "    </tr>\n",
       "    <tr>\n",
       "      <th>75</th>\n",
       "      <td>76</td>\n",
       "      <td>2011</td>\n",
       "      <td>9338-267-9322</td>\n",
       "      <td>6:20</td>\n",
       "      <td>2035</td>\n",
       "      <td>NaN</td>\n",
       "      <td>9338-267</td>\n",
       "      <td>NaN</td>\n",
       "      <td>9338</td>\n",
       "      <td>БАЙКАЛЬСК</td>\n",
       "    </tr>\n",
       "    <tr>\n",
       "      <th>85</th>\n",
       "      <td>86</td>\n",
       "      <td>2963</td>\n",
       "      <td>9687-793-8927</td>\n",
       "      <td>8:57</td>\n",
       "      <td>2032</td>\n",
       "      <td>NaN</td>\n",
       "      <td>9687-793</td>\n",
       "      <td>NaN</td>\n",
       "      <td>9687</td>\n",
       "      <td>ДЗЕМГИ</td>\n",
       "    </tr>\n",
       "    <tr>\n",
       "      <th>89</th>\n",
       "      <td>90</td>\n",
       "      <td>2963</td>\n",
       "      <td>9845-743-9200</td>\n",
       "      <td>9:31</td>\n",
       "      <td>2029</td>\n",
       "      <td>NaN</td>\n",
       "      <td>9845-743</td>\n",
       "      <td>NaN</td>\n",
       "      <td>9845</td>\n",
       "      <td>НАХОДКА</td>\n",
       "    </tr>\n",
       "  </tbody>\n",
       "</table>\n",
       "</div>"
      ],
      "text/plain": [
       "     n  number            ind  time  weight train_id  ind_part susp_trains  \\\n",
       "65  66    1627  9328-071-9222  3:10    1533      NaN  9328-071         NaN   \n",
       "66  67    1659  9331-345-9321  3:39    4183      NaN  9331-345         NaN   \n",
       "75  76    2011  9338-267-9322  6:20    2035      NaN  9338-267         NaN   \n",
       "85  86    2963  9687-793-8927  8:57    2032      NaN  9687-793         NaN   \n",
       "89  90    2963  9845-743-9200  9:31    2029      NaN  9845-743         NaN   \n",
       "\n",
       "   start_esr   start_name  \n",
       "65      9328          КАЯ  \n",
       "66      9331  СЛЮДЯНКА II  \n",
       "75      9338    БАЙКАЛЬСК  \n",
       "85      9687       ДЗЕМГИ  \n",
       "89      9845      НАХОДКА  "
      ]
     },
     "execution_count": 122,
     "metadata": {},
     "output_type": "execute_result"
    }
   ],
   "source": [
    "stations['esr4'] = stations.esr.apply(lambda x: (str(x))[:4])\n",
    "even['start_name'] = even.start_esr.map(stations.drop_duplicates('esr4').set_index('esr4').name)\n",
    "even[(even.train_id.isnull()) & (even.start_esr != '9300')]"
   ]
  },
  {
   "cell_type": "markdown",
   "metadata": {},
   "source": [
    "### Убираем поезда с близких станций формирования (начинающиеся на 93)"
   ]
  },
  {
   "cell_type": "code",
   "execution_count": 123,
   "metadata": {
    "collapsed": false
   },
   "outputs": [
    {
     "data": {
      "text/html": [
       "<div>\n",
       "<table border=\"1\" class=\"dataframe\">\n",
       "  <thead>\n",
       "    <tr style=\"text-align: right;\">\n",
       "      <th></th>\n",
       "      <th>n</th>\n",
       "      <th>number</th>\n",
       "      <th>ind</th>\n",
       "      <th>time</th>\n",
       "      <th>weight</th>\n",
       "      <th>train_id</th>\n",
       "      <th>ind_part</th>\n",
       "      <th>susp_trains</th>\n",
       "      <th>start_esr</th>\n",
       "      <th>start_name</th>\n",
       "      <th>end_esr</th>\n",
       "      <th>end_name</th>\n",
       "    </tr>\n",
       "  </thead>\n",
       "  <tbody>\n",
       "    <tr>\n",
       "      <th>85</th>\n",
       "      <td>86</td>\n",
       "      <td>2963</td>\n",
       "      <td>9687-793-8927</td>\n",
       "      <td>8:57</td>\n",
       "      <td>2032</td>\n",
       "      <td>NaN</td>\n",
       "      <td>9687-793</td>\n",
       "      <td>NaN</td>\n",
       "      <td>9687</td>\n",
       "      <td>ДЗЕМГИ</td>\n",
       "      <td>8927</td>\n",
       "      <td>УЯР</td>\n",
       "    </tr>\n",
       "    <tr>\n",
       "      <th>89</th>\n",
       "      <td>90</td>\n",
       "      <td>2963</td>\n",
       "      <td>9845-743-9200</td>\n",
       "      <td>9:31</td>\n",
       "      <td>2029</td>\n",
       "      <td>NaN</td>\n",
       "      <td>9845-743</td>\n",
       "      <td>NaN</td>\n",
       "      <td>9845</td>\n",
       "      <td>НАХОДКА</td>\n",
       "      <td>9200</td>\n",
       "      <td>ТАЙШЕТ</td>\n",
       "    </tr>\n",
       "  </tbody>\n",
       "</table>\n",
       "</div>"
      ],
      "text/plain": [
       "     n  number            ind  time  weight train_id  ind_part susp_trains  \\\n",
       "85  86    2963  9687-793-8927  8:57    2032      NaN  9687-793         NaN   \n",
       "89  90    2963  9845-743-9200  9:31    2029      NaN  9845-743         NaN   \n",
       "\n",
       "   start_esr start_name end_esr end_name  \n",
       "85      9687     ДЗЕМГИ    8927      УЯР  \n",
       "89      9845    НАХОДКА    9200   ТАЙШЕТ  "
      ]
     },
     "execution_count": 123,
     "metadata": {},
     "output_type": "execute_result"
    }
   ],
   "source": [
    "even['end_esr'] = even.ind.apply(lambda x: x[-4:])\n",
    "even['end_name'] = even.end_esr.map(stations.drop_duplicates('esr4').set_index('esr4').name)\n",
    "not_found = even[(even.train_id.isnull()) & (even.start_esr.apply(lambda x: x[:2] != '93'))]\n",
    "not_found"
   ]
  },
  {
   "cell_type": "markdown",
   "metadata": {},
   "source": [
    "### Загружаем csv с отсевами, ищем непереданные в планировщик поезда там"
   ]
  },
  {
   "cell_type": "code",
   "execution_count": 124,
   "metadata": {
    "collapsed": false
   },
   "outputs": [
    {
     "data": {
      "text/html": [
       "<div>\n",
       "<table border=\"1\" class=\"dataframe\">\n",
       "  <thead>\n",
       "    <tr style=\"text-align: right;\">\n",
       "      <th></th>\n",
       "      <th>train_index</th>\n",
       "      <th>ind434</th>\n",
       "      <th>out</th>\n",
       "      <th>otsev_list</th>\n",
       "    </tr>\n",
       "  </thead>\n",
       "  <tbody>\n",
       "    <tr>\n",
       "      <th>17426</th>\n",
       "      <td>984502743920002</td>\n",
       "      <td>9845-743-9200</td>\n",
       "      <td>1</td>\n",
       "      <td>t_out_departing_without_loco,out</td>\n",
       "    </tr>\n",
       "  </tbody>\n",
       "</table>\n",
       "</div>"
      ],
      "text/plain": [
       "           train_index         ind434  out                        otsev_list\n",
       "17426  984502743920002  9845-743-9200    1  t_out_departing_without_loco,out"
      ]
     },
     "execution_count": 124,
     "metadata": {},
     "output_type": "execute_result"
    }
   ],
   "source": [
    "otsev = pd.read_csv('otsev_detail.csv', sep=';', dtype={'train_index':str, 'train_id':str})\n",
    "otsev['ind434'] = otsev['train_index'].apply(lambda x: str(x)[:4] + '-' + str(x)[6:9] + '-' + str(x)[9:-2])\n",
    "otsev[['train_id', 'train_index', 'ind434']]\n",
    "#print(list(otsev.columns))\n",
    "otsev[otsev.ind434.isin(not_found.ind)].sort_values('ind434')[['train_index', 'ind434', 'out', 'otsev_list']].dropna(subset=['out'])"
   ]
  },
  {
   "cell_type": "code",
   "execution_count": 127,
   "metadata": {
    "collapsed": false
   },
   "outputs": [
    {
     "data": {
      "text/html": [
       "<div>\n",
       "<table border=\"1\" class=\"dataframe\">\n",
       "  <thead>\n",
       "    <tr style=\"text-align: right;\">\n",
       "      <th></th>\n",
       "      <th>train_id</th>\n",
       "      <th>train_index</th>\n",
       "      <th>ind434</th>\n",
       "      <th>out</th>\n",
       "      <th>otsev_list</th>\n",
       "    </tr>\n",
       "  </thead>\n",
       "  <tbody>\n",
       "  </tbody>\n",
       "</table>\n",
       "</div>"
      ],
      "text/plain": [
       "Empty DataFrame\n",
       "Columns: [train_id, train_index, ind434, out, otsev_list]\n",
       "Index: []"
      ]
     },
     "execution_count": 127,
     "metadata": {},
     "output_type": "execute_result"
    }
   ],
   "source": [
    "otsev['ind434_part'] = otsev.ind434.apply(lambda x: x[:-5])\n",
    "a = otsev[(otsev.ind434.isin(not_found.ind) == False) \n",
    "             & (otsev.ind434_part.isin(not_found.ind_part))].sort_values('ind434')[['train_id', 'train_index', 'ind434', 'out', 'otsev_list']].dropna(subset=['out'])\n",
    "a"
   ]
  },
  {
   "cell_type": "markdown",
   "metadata": {},
   "source": [
    "### Непереданные поезда, которых нет и в логах отсевов"
   ]
  },
  {
   "cell_type": "code",
   "execution_count": 128,
   "metadata": {
    "collapsed": false
   },
   "outputs": [
    {
     "data": {
      "text/html": [
       "<div>\n",
       "<table border=\"1\" class=\"dataframe\">\n",
       "  <thead>\n",
       "    <tr style=\"text-align: right;\">\n",
       "      <th></th>\n",
       "      <th>n</th>\n",
       "      <th>number</th>\n",
       "      <th>ind</th>\n",
       "      <th>time</th>\n",
       "      <th>weight</th>\n",
       "      <th>train_id</th>\n",
       "      <th>ind_part</th>\n",
       "      <th>susp_trains</th>\n",
       "      <th>start_esr</th>\n",
       "      <th>start_name</th>\n",
       "      <th>end_esr</th>\n",
       "      <th>end_name</th>\n",
       "    </tr>\n",
       "  </thead>\n",
       "  <tbody>\n",
       "    <tr>\n",
       "      <th>85</th>\n",
       "      <td>86</td>\n",
       "      <td>2963</td>\n",
       "      <td>9687-793-8927</td>\n",
       "      <td>8:57</td>\n",
       "      <td>2032</td>\n",
       "      <td>NaN</td>\n",
       "      <td>9687-793</td>\n",
       "      <td>NaN</td>\n",
       "      <td>9687</td>\n",
       "      <td>ДЗЕМГИ</td>\n",
       "      <td>8927</td>\n",
       "      <td>УЯР</td>\n",
       "    </tr>\n",
       "  </tbody>\n",
       "</table>\n",
       "</div>"
      ],
      "text/plain": [
       "     n  number            ind  time  weight train_id  ind_part susp_trains  \\\n",
       "85  86    2963  9687-793-8927  8:57    2032      NaN  9687-793         NaN   \n",
       "\n",
       "   start_esr start_name end_esr end_name  \n",
       "85      9687     ДЗЕМГИ    8927      УЯР  "
      ]
     },
     "execution_count": 128,
     "metadata": {},
     "output_type": "execute_result"
    }
   ],
   "source": [
    "not_found[not_found.ind_part.isin(otsev.ind434_part) == False]"
   ]
  }
 ],
 "metadata": {
  "kernelspec": {
   "display_name": "Python 3",
   "language": "python",
   "name": "python3"
  },
  "language_info": {
   "codemirror_mode": {
    "name": "ipython",
    "version": 3
   },
   "file_extension": ".py",
   "mimetype": "text/x-python",
   "name": "python",
   "nbconvert_exporter": "python",
   "pygments_lexer": "ipython3",
   "version": "3.5.1"
  }
 },
 "nbformat": 4,
 "nbformat_minor": 0
}
