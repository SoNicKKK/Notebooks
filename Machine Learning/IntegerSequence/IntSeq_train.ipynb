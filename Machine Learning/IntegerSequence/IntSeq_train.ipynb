{
 "cells": [
  {
   "cell_type": "code",
   "execution_count": 132,
   "metadata": {
    "collapsed": true
   },
   "outputs": [],
   "source": [
    "import numpy as np\n",
    "import pandas as pd\n",
    "import matplotlib.pyplot as plt\n",
    "import seaborn as sns\n",
    "%matplotlib inline"
   ]
  },
  {
   "cell_type": "code",
   "execution_count": 133,
   "metadata": {
    "collapsed": false
   },
   "outputs": [
    {
     "data": {
      "text/html": [
       "<div>\n",
       "<table border=\"1\" class=\"dataframe\">\n",
       "  <thead>\n",
       "    <tr style=\"text-align: right;\">\n",
       "      <th></th>\n",
       "      <th>Id</th>\n",
       "      <th>Sequence</th>\n",
       "    </tr>\n",
       "  </thead>\n",
       "  <tbody>\n",
       "    <tr>\n",
       "      <th>0</th>\n",
       "      <td>3</td>\n",
       "      <td>1,3,13,87,1053,28576,2141733,508147108,4021352...</td>\n",
       "    </tr>\n",
       "    <tr>\n",
       "      <th>1</th>\n",
       "      <td>7</td>\n",
       "      <td>1,2,1,5,5,1,11,16,7,1,23,44,30,9,1,47,112,104,...</td>\n",
       "    </tr>\n",
       "    <tr>\n",
       "      <th>2</th>\n",
       "      <td>8</td>\n",
       "      <td>1,2,4,5,8,10,16,20,32,40,64,80,128,160,256,320...</td>\n",
       "    </tr>\n",
       "    <tr>\n",
       "      <th>3</th>\n",
       "      <td>11</td>\n",
       "      <td>1,8,25,83,274,2275,132224,1060067,3312425,1099...</td>\n",
       "    </tr>\n",
       "    <tr>\n",
       "      <th>4</th>\n",
       "      <td>13</td>\n",
       "      <td>1,111,12211,1343211,147753211,16252853211,1787...</td>\n",
       "    </tr>\n",
       "  </tbody>\n",
       "</table>\n",
       "</div>"
      ],
      "text/plain": [
       "   Id                                           Sequence\n",
       "0   3  1,3,13,87,1053,28576,2141733,508147108,4021352...\n",
       "1   7  1,2,1,5,5,1,11,16,7,1,23,44,30,9,1,47,112,104,...\n",
       "2   8  1,2,4,5,8,10,16,20,32,40,64,80,128,160,256,320...\n",
       "3  11  1,8,25,83,274,2275,132224,1060067,3312425,1099...\n",
       "4  13  1,111,12211,1343211,147753211,16252853211,1787..."
      ]
     },
     "execution_count": 133,
     "metadata": {},
     "output_type": "execute_result"
    }
   ],
   "source": [
    "filename = 'train.csv'\n",
    "#filename = 'test.csv'\n",
    "df = pd.read_csv(filename)\n",
    "df.head()"
   ]
  },
  {
   "cell_type": "code",
   "execution_count": 134,
   "metadata": {
    "collapsed": false
   },
   "outputs": [],
   "source": [
    "df.columns = ['Id', 'ints']\n",
    "a = df.ix[0].ints.split(',')[-1]"
   ]
  },
  {
   "cell_type": "code",
   "execution_count": 135,
   "metadata": {
    "collapsed": false
   },
   "outputs": [
    {
     "name": "stdout",
     "output_type": "stream",
     "text": [
      "Longest: 348\n"
     ]
    },
    {
     "data": {
      "text/html": [
       "<div>\n",
       "<table border=\"1\" class=\"dataframe\">\n",
       "  <thead>\n",
       "    <tr style=\"text-align: right;\">\n",
       "      <th></th>\n",
       "      <th>Id</th>\n",
       "      <th>ints_list</th>\n",
       "      <th>ints_len</th>\n",
       "      <th>ints_data</th>\n",
       "      <th>res</th>\n",
       "      <th>prev</th>\n",
       "    </tr>\n",
       "  </thead>\n",
       "  <tbody>\n",
       "    <tr>\n",
       "      <th>0</th>\n",
       "      <td>3</td>\n",
       "      <td>[1, 3, 13, 87, 1053, 28576, 2141733, 508147108...</td>\n",
       "      <td>14</td>\n",
       "      <td>[1, 3, 13, 87, 1053, 28576, 2141733, 508147108...</td>\n",
       "      <td>11474377948948020660089085281068730</td>\n",
       "      <td>31479360095907908092817694945</td>\n",
       "    </tr>\n",
       "    <tr>\n",
       "      <th>1</th>\n",
       "      <td>7</td>\n",
       "      <td>[1, 2, 1, 5, 5, 1, 11, 16, 7, 1, 23, 44, 30, 9...</td>\n",
       "      <td>57</td>\n",
       "      <td>[1, 2, 1, 5, 5, 1, 11, 16, 7, 1, 23, 44, 30, 9...</td>\n",
       "      <td>7424</td>\n",
       "      <td>1535</td>\n",
       "    </tr>\n",
       "    <tr>\n",
       "      <th>2</th>\n",
       "      <td>8</td>\n",
       "      <td>[1, 2, 4, 5, 8, 10, 16, 20, 32, 40, 64, 80, 12...</td>\n",
       "      <td>41</td>\n",
       "      <td>[1, 2, 4, 5, 8, 10, 16, 20, 32, 40, 64, 80, 12...</td>\n",
       "      <td>2097152</td>\n",
       "      <td>1310720</td>\n",
       "    </tr>\n",
       "    <tr>\n",
       "      <th>3</th>\n",
       "      <td>11</td>\n",
       "      <td>[1, 8, 25, 83, 274, 2275, 132224, 1060067, 331...</td>\n",
       "      <td>20</td>\n",
       "      <td>[1, 8, 25, 83, 274, 2275, 132224, 1060067, 331...</td>\n",
       "      <td>18610239435360217</td>\n",
       "      <td>2321287521544174</td>\n",
       "    </tr>\n",
       "    <tr>\n",
       "      <th>4</th>\n",
       "      <td>13</td>\n",
       "      <td>[1, 111, 12211, 1343211, 147753211, 1625285321...</td>\n",
       "      <td>12</td>\n",
       "      <td>[1, 111, 12211, 1343211, 147753211, 1625285321...</td>\n",
       "      <td>28792920887348623853211</td>\n",
       "      <td>261753826248623853211</td>\n",
       "    </tr>\n",
       "  </tbody>\n",
       "</table>\n",
       "</div>"
      ],
      "text/plain": [
       "   Id                                          ints_list  ints_len  \\\n",
       "0   3  [1, 3, 13, 87, 1053, 28576, 2141733, 508147108...        14   \n",
       "1   7  [1, 2, 1, 5, 5, 1, 11, 16, 7, 1, 23, 44, 30, 9...        57   \n",
       "2   8  [1, 2, 4, 5, 8, 10, 16, 20, 32, 40, 64, 80, 12...        41   \n",
       "3  11  [1, 8, 25, 83, 274, 2275, 132224, 1060067, 331...        20   \n",
       "4  13  [1, 111, 12211, 1343211, 147753211, 1625285321...        12   \n",
       "\n",
       "                                           ints_data  \\\n",
       "0  [1, 3, 13, 87, 1053, 28576, 2141733, 508147108...   \n",
       "1  [1, 2, 1, 5, 5, 1, 11, 16, 7, 1, 23, 44, 30, 9...   \n",
       "2  [1, 2, 4, 5, 8, 10, 16, 20, 32, 40, 64, 80, 12...   \n",
       "3  [1, 8, 25, 83, 274, 2275, 132224, 1060067, 331...   \n",
       "4  [1, 111, 12211, 1343211, 147753211, 1625285321...   \n",
       "\n",
       "                                   res                           prev  \n",
       "0  11474377948948020660089085281068730  31479360095907908092817694945  \n",
       "1                                 7424                           1535  \n",
       "2                              2097152                        1310720  \n",
       "3                    18610239435360217               2321287521544174  \n",
       "4              28792920887348623853211          261753826248623853211  "
      ]
     },
     "execution_count": 135,
     "metadata": {},
     "output_type": "execute_result"
    }
   ],
   "source": [
    "df['ints_list'] = df.ints.apply(lambda x: x.split(','))\n",
    "df['ints_len'] = df.ints_list.apply(lambda x: len(x))\n",
    "df['ints_data'] = df.ints_list.apply(lambda x: x[:-1])\n",
    "df['res'] = df.ints_list.apply(lambda x: x[-1])\n",
    "df['prev'] = df.ints_list.apply(lambda x: int(x[-2]) if len(x) > 1 else np.nan)\n",
    "df.drop('ints', axis=1, inplace=True)\n",
    "print('Longest:', df.ints_len.max())\n",
    "df.head()"
   ]
  },
  {
   "cell_type": "code",
   "execution_count": 136,
   "metadata": {
    "collapsed": false
   },
   "outputs": [
    {
     "name": "stdout",
     "output_type": "stream",
     "text": [
      "Indices: [ 54343  32174  16801  95658  51416  78608  74680    953 100558  20759\n",
      "  16340   6856  63536  61344  17864  48430]\n"
     ]
    },
    {
     "data": {
      "image/png": "[encoded data removed]",
      "text/plain": [
       "<matplotlib.figure.Figure at 0x217c797d160>"
      ]
     },
     "metadata": {},
     "output_type": "display_data"
    }
   ],
   "source": [
    "df.ints_len.max()\n",
    "nrows, ncols = 4, 4\n",
    "ar = np.random.randint(low=0, high=len(df.index), size=nrows*ncols)\n",
    "print('Indices:', ar)\n",
    "fig, ax = plt.subplots(nrows=nrows, ncols=ncols, figsize=(20,20))\n",
    "sns.set(style='whitegrid', context='talk')\n",
    "#for i in range(nrows * ncols):\n",
    "cnt = 0\n",
    "for i in ar:    \n",
    "    row = df.ix[i]\n",
    "    x = np.arange(row.ints_len)\n",
    "    y = row.ints_data\n",
    "    res = row.res\n",
    "    plt.subplot(nrows, ncols, cnt + 1)\n",
    "    plt.scatter(x[:-1], y, c='g', label=str(i))\n",
    "    plt.scatter(x[-1], res, c='r', s=30)\n",
    "    plt.legend(loc='upper left')\n",
    "    cnt += 1\n",
    "sns.despine()"
   ]
  },
  {
   "cell_type": "code",
   "execution_count": 137,
   "metadata": {
    "collapsed": false
   },
   "outputs": [],
   "source": [
    "df1 = df.iloc[108357]\n",
    "df_train = pd.DataFrame()\n",
    "df_train['x'] = np.arange(df1.ints_len)\n",
    "df_train['x2'] = df_train.x ** 2\n",
    "df_train['x3'] = df_train.x ** 3\n",
    "df_train['x4'] = df_train.x ** 4\n",
    "df_train['x5'] = df_train.x ** 5\n",
    "df_train['sqrt'] = df_train.x ** .5\n",
    "df_train['exp'] = np.exp(df_train.x).astype(float)\n",
    "df_train['x0'] = 1\n",
    "df_train['odd'] = df_train.x % 2\n",
    "df_train['log'] = np.log(df_train.x).astype(float)\n",
    "df_train['sin'] = np.sin(df_train.x)\n",
    "df_train['cos'] = np.cos(df_train.x)\n",
    "df_train['res'] = list(map(int, df1.ints_list))\n",
    "df_train['prev'] = df_train.res.shift(1)\n",
    "df_train['diff'] = df_train.res - df_train.prev\n",
    "#df_train['def'] = default_value\n",
    "df_train = df_train[['x0', 'x', 'x2', 'x3', 'x4', 'x5', 'sqrt', 'odd', 'exp', 'log', 'sin', 'cos', 'prev', 'res']]\n",
    "#df_train"
   ]
  },
  {
   "cell_type": "code",
   "execution_count": 207,
   "metadata": {
    "collapsed": false
   },
   "outputs": [
    {
     "name": "stdout",
     "output_type": "stream",
     "text": [
      "[1, 3, 13, 87, 1053, 28576, 2141733, 508147108, 402135275365, 1073376057490373, 9700385489355970183, 298434346895322960005291, 31479360095907908092817694945]\n",
      "0 31479360095907908092817694945\n",
      "[1, 2, 1, 5, 5, 1, 11, 16, 7, 1, 23, 44, 30, 9, 1, 47, 112, 104, 48, 11, 1, 95, 272, 320, 200, 70, 13, 1, 191, 640, 912, 720, 340, 96, 15, 1, 383, 1472, 2464, 2352, 1400, 532, 126, 17, 1, 767, 3328, 6400, 7168, 5152, 2464, 784, 160, 19, 1, 1535]\n",
      "1 1\n",
      "[1, 2, 4, 5, 8, 10, 16, 20, 32, 40, 64, 80, 128, 160, 256, 320, 512, 640, 1024, 1280, 2048, 2560, 4096, 5120, 8192, 10240, 16384, 20480, 32768, 40960, 65536, 81920, 131072, 163840, 262144, 327680, 524288, 655360, 1048576, 1310720]\n",
      "2 1310720\n",
      "[1, 8, 25, 83, 274, 2275, 132224, 1060067, 3312425, 10997342, 36304451, 301432950, 17519415551, 140456757358, 438889687625, 1457125820233, 4810267148324, 39939263006825, 2321287521544174]\n",
      "3 2321287521544174\n",
      "[1, 111, 12211, 1343211, 147753211, 16252853211, 1787813853211, 196659523853211, 21632547623853211, 2379580238623853211, 261753826248623853211]\n",
      "4 261753826248623853211\n",
      "[1, 1, 1, 1, 1, 1, 1, 1, 1, 5, 1, 1, 1, 1, 5, 5, 1, 1, 1, 1, 11, 5, 5, 11, 5, 1, 1, 1, 1, 5, 23, 5, 23, 5, 5, 1, 1, 1, 1, 21, 5, 39, 5, 5, 39, 5, 21, 5, 1, 1, 1, 1, 5, 1, 17, 1, 17, 1, 1, 5, 1, 1, 1, 1, 31, 5, 5, 29, 1, 1, 29, 1]\n",
      "5 1\n",
      "[840, 1320, 1680, 2520, 3192, 3432, 4920, 5208, 5280, 5712, 6552, 6888, 9360, 11928, 16008, 19152, 19992, 25200, 29568, 31080, 35880, 38280, 38640, 40920, 41832, 45240, 47880, 48360, 48720, 51240, 51480, 53040, 56280, 57288, 61320]\n",
      "6 61320\n",
      "[1, 2, 7, 27, 113, 483, 2138, 9681, 44374, 205500, 961614, 4532177, 21472917, 102258257, 489141279, 2347573314, 11300344747, 54548339666, 263926643851, 1279497594561, 6214413418672, 30233348558479, 147297034473933, 718569377619361, 3509725616656089, 17161306005034007]\n",
      "7 17161306005034007\n",
      "[4, 6, 8, 9, 26]\n",
      "8 26\n",
      "[1, 2, 1, 3, 4, 2, 4, 8, 8, 3, 5, 13, 19, 15, 5, 6, 19, 36, 42, 28, 8, 7, 26, 60, 91, 89, 51, 13, 8, 34, 92, 170, 216, 182, 92, 21, 9, 43, 133, 288, 446, 489, 363, 164, 34, 10, 53, 184, 455, 826, 1105, 1068, 709, 290, 55, 11, 64, 246, 682, 1414, 2219]\n",
      "9 8\n"
     ]
    }
   ],
   "source": [
    "df2 = df.head(10)\n",
    "#df2['freqs'] = df2.ints_data.apply(lambda x: pd.Series(x).value_counts().to_string())\n",
    "#df2\n",
    "for i in range(10):\n",
    "    df2 = df.ix[i]    \n",
    "    s = pd.Series(df2.ints_data)        \n",
    "    freqs = s[s < np.iinfo(np.int64).max].value_counts()\n",
    "    if len(freqs.index) > 2:\n",
    "        freq, next_freq = freqs.iloc[0], freqs.iloc[1]\n",
    "        default_value = freqs.idxmax() if freq / next_freq >= 2 else df2.ints_data[-1]\n",
    "    else:\n",
    "        default_value = df2.ints_data[-1]\n",
    "    print(df2.ints_data)\n",
    "    print(i, default_value)"
   ]
  },
  {
   "cell_type": "code",
   "execution_count": 8,
   "metadata": {
    "collapsed": false
   },
   "outputs": [
    {
     "name": "stdout",
     "output_type": "stream",
     "text": [
      "mean: 12.515151515151516\n",
      "last: 34\n",
      "most frequent value: 1 (freq = 10)\n",
      "1     10\n",
      "4      6\n",
      "0      5\n",
      "3      4\n",
      "10     4\n",
      "default value =  45\n"
     ]
    }
   ],
   "source": [
    "ints_ser = pd.Series(list(map(int, df1.ints_list)))\n",
    "print('mean:', np.mean(ints_ser))\n",
    "print('last:', df1.ints_list[-1])\n",
    "try:\n",
    "    freqs = ints_ser.value_counts() \n",
    "    if len(freqs.index) > 2:\n",
    "        freq, next_freq = freqs.iloc[0], freqs.iloc[1]\n",
    "        default_value = freqs.idxmax() if freq / next_freq >= 2 else df1.ints_list[-2]\n",
    "        print('most frequent value: %d (freq = %d)' % (freqs.idxmax(), freqs.iloc[0]))\n",
    "        print(freqs.head().to_string())\n",
    "    else:\n",
    "        default_value = df1.ints_list[-2]\n",
    "except OverflowError:\n",
    "    print('overflow')\n",
    "    default_value = df1.ints_list[-2]\n",
    "\n",
    "print('default value = ', default_value)"
   ]
  },
  {
   "cell_type": "code",
   "execution_count": 81,
   "metadata": {
    "collapsed": true
   },
   "outputs": [],
   "source": [
    "# Check recursion\n",
    "\n",
    "def get_matrix(seq, order):\n",
    "    A = []\n",
    "    for i in range(order + 1):\n",
    "        s = [1] + seq[i:i+order]\n",
    "        A = s if i == 0 else np.vstack([A, s]) \n",
    "    b = seq[order:2*order+1]\n",
    "    return A, b\n",
    "\n",
    "def check_recursion(seq):\n",
    "    p = len(seq) - 1\n",
    "    n = int(p/2 -1)\n",
    "    try:\n",
    "        A, b = get_matrix(seq, n)\n",
    "        if  np.linalg.matrix_rank(A) - 1 < n:\n",
    "            n = np.linalg.matrix_rank(A) - 1\n",
    "            A, b = get_matrix(seq, n)\n",
    "        w = np.linalg.solve(A, b)    \n",
    "        # check\n",
    "        feat_check_A = [1] + seq[n+1:2*n+1]\n",
    "        feat_check_b = seq[2*n+1]\n",
    "        if np.dot(feat_check_A, w) == feat_check_b:        \n",
    "            feat_pred_A = [1] + seq[p-n+1:]\n",
    "            predict = np.dot(feat_pred_A, w)\n",
    "            return int(predict)\n",
    "        else: return np.nan        \n",
    "    except:\n",
    "        return np.nan"
   ]
  },
  {
   "cell_type": "code",
   "execution_count": 10,
   "metadata": {
    "collapsed": false
   },
   "outputs": [
    {
     "name": "stdout",
     "output_type": "stream",
     "text": [
      "Recursion: None\n"
     ]
    }
   ],
   "source": [
    "print('Recursion:', check_recursion(list(map(int, df1.ints_data))))"
   ]
  },
  {
   "cell_type": "code",
   "execution_count": 11,
   "metadata": {
    "collapsed": false
   },
   "outputs": [
    {
     "name": "stdout",
     "output_type": "stream",
     "text": [
      "['x0', 'x', 'x2', 'x3', 'x4', 'x5', 'sqrt', 'odd', 'exp', 'log', 'sin', 'cos', 'prev']\n"
     ]
    }
   ],
   "source": [
    "cols = [col for col in df_train.columns if col != 'res']\n",
    "df_train.replace(np.inf, np.nan, inplace=True)\n",
    "df_train.replace(-np.inf, np.nan, inplace=True)\n",
    "df_train.dropna(inplace=True)\n",
    "df_train = df_train.reset_index()\n",
    "print(cols)"
   ]
  },
  {
   "cell_type": "code",
   "execution_count": 12,
   "metadata": {
    "collapsed": false
   },
   "outputs": [],
   "source": [
    "from sklearn import linear_model\n",
    "lr = linear_model.LinearRegression()\n",
    "X_train = df_train[:-1][cols]\n",
    "y_train = df_train[:-1].res\n",
    "X_test = df_train[cols]\n",
    "lr.fit(X_train, y_train)\n",
    "pred = lr.predict(X_test)\n",
    "df_train['predict'] = pred"
   ]
  },
  {
   "cell_type": "code",
   "execution_count": 13,
   "metadata": {
    "collapsed": false
   },
   "outputs": [
    {
     "name": "stdout",
     "output_type": "stream",
     "text": [
      "    x0   x    x2      x3        x4          x5      sqrt  odd           exp       log       sin       cos prev\n",
      "54   1  55  3025  166375   9150625   503284375  7.416198    1  7.694785e+23  4.007333 -0.999755  0.022127   31\n",
      "55   1  56  3136  175616   9834496   550731776  7.483315    0  2.091659e+24  4.025352 -0.521551  0.853220   25\n",
      "56   1  57  3249  185193  10556001   601692057  7.549834    1  5.685720e+24  4.043051  0.436165  0.899867   33\n",
      "57   1  58  3364  195112  11316496   656356768  7.615773    0  1.545539e+25  4.060443  0.992873  0.119180   24\n",
      "58   1  59  3481  205379  12117361   714924299  7.681146    1  4.201210e+25  4.077537  0.636738 -0.771080   34\n",
      "59   1  60  3600  216000  12960000   777600000  7.745967    0  1.142007e+26  4.094345 -0.304811 -0.952413   28\n",
      "60   1  61  3721  226981  13845841   844596301  7.810250    1  3.104298e+26  4.110874 -0.966118 -0.258102   41\n",
      "61   1  62  3844  238328  14776336   916132832  7.874008    0  8.438357e+26  4.127134 -0.739181  0.673507   31\n",
      "62   1  63  3969  250047  15752961   992436543  7.937254    1  2.293783e+27  4.143135  0.167356  0.985897   40\n",
      "63   1  64  4096  262144  16777216  1073741824  8.000000    0  6.235149e+27  4.158883  0.920026  0.391857   33 \n",
      "\n",
      "    x0   x    x2      x3        x4          x5      sqrt  odd           exp       log       sin       cos prev\n",
      "55   1  56  3136  175616   9834496   550731776  7.483315    0  2.091659e+24  4.025352 -0.521551  0.853220   25\n",
      "56   1  57  3249  185193  10556001   601692057  7.549834    1  5.685720e+24  4.043051  0.436165  0.899867   33\n",
      "57   1  58  3364  195112  11316496   656356768  7.615773    0  1.545539e+25  4.060443  0.992873  0.119180   24\n",
      "58   1  59  3481  205379  12117361   714924299  7.681146    1  4.201210e+25  4.077537  0.636738 -0.771080   34\n",
      "59   1  60  3600  216000  12960000   777600000  7.745967    0  1.142007e+26  4.094345 -0.304811 -0.952413   28\n",
      "60   1  61  3721  226981  13845841   844596301  7.810250    1  3.104298e+26  4.110874 -0.966118 -0.258102   41\n",
      "61   1  62  3844  238328  14776336   916132832  7.874008    0  8.438357e+26  4.127134 -0.739181  0.673507   31\n",
      "62   1  63  3969  250047  15752961   992436543  7.937254    1  2.293783e+27  4.143135  0.167356  0.985897   40\n",
      "63   1  64  4096  262144  16777216  1073741824  8.000000    0  6.235149e+27  4.158883  0.920026  0.391857   33\n",
      "64   1  65  4225  274625  17850625  1160290625  8.062258    1  1.694889e+28  4.174387  0.826829 -0.562454   45 \n",
      "\n",
      "54    25\n",
      "55    33\n",
      "56    24\n",
      "57    34\n",
      "58    28\n",
      "59    41\n",
      "60    31\n",
      "61    40\n",
      "62    33\n",
      "63    45 \n",
      "\n",
      "122.295370898\n"
     ]
    }
   ],
   "source": [
    "print(X_train.tail(10).to_string(), '\\n')\n",
    "print(X_test.tail(10).to_string(), '\\n')\n",
    "print(y_train.tail(10).to_string(), '\\n')\n",
    "print(pred[-1])"
   ]
  },
  {
   "cell_type": "code",
   "execution_count": 14,
   "metadata": {
    "collapsed": false
   },
   "outputs": [
    {
     "name": "stdout",
     "output_type": "stream",
     "text": [
      "Alpha = 0.0001\n",
      "Cross validation score = 0.519314578278\n"
     ]
    }
   ],
   "source": [
    "from sklearn import cross_validation\n",
    "import warnings\n",
    "\n",
    "alphas = [10 ** x for x in range(-5, 5)]\n",
    "with warnings.catch_warnings():\n",
    "    warnings.filterwarnings('error')\n",
    "    try:\n",
    "        lr_rigdeCV = linear_model.RidgeCV(alphas=alphas)\n",
    "        lr_rigdeCV.fit(X_train, y_train)\n",
    "        best_alpha = lr_rigdeCV.alpha_        \n",
    "    except: best_alpha = 0.1\n",
    "    \n",
    "print('Alpha =', best_alpha)    \n",
    "lr_ridge = linear_model.Ridge(alpha=best_alpha)\n",
    "lr_ridge.fit(X_train, y_train)\n",
    "pred_ridge = lr_ridge.predict(X_test)\n",
    "df_train['predict_ridge'] = pred_ridge\n",
    "\n",
    "kf = cross_validation.KFold(len(X_train.index), n_folds=5, shuffle=True)\n",
    "scores = cross_validation.cross_val_score(lr_ridge, X_train, y_train, cv=kf)\n",
    "print('Cross validation score =', np.mean(scores))"
   ]
  },
  {
   "cell_type": "code",
   "execution_count": 15,
   "metadata": {
    "collapsed": false
   },
   "outputs": [
    {
     "data": {
      "text/plain": [
       "<matplotlib.text.Text at 0x2169c137e48>"
      ]
     },
     "execution_count": 15,
     "metadata": {},
     "output_type": "execute_result"
    },
    {
     "data": {
      "image/png": "[encoded data removed]",
      "text/plain": [
       "<matplotlib.figure.Figure at 0x2169c1498d0>"
      ]
     },
     "metadata": {},
     "output_type": "display_data"
    }
   ],
   "source": [
    "import seaborn as sns\n",
    "sns.set(style='whitegrid', context='talk')\n",
    "plt.scatter(df_train[:-1].x, df_train[:-1].res, s=20, c='g', label='Train set')\n",
    "\n",
    "for j in range(5):    \n",
    "    plt.scatter(df_train[-1:].x, df_train[-1:].res, s=50+5**j, c='green', alpha=0.52-0.12*j, label='_')\n",
    "    plt.scatter(df_train[-1:].x, df_train[-1:].predict,  s=50+5**j, c='red', alpha=0.52-0.12*j, label='_')\n",
    "    plt.scatter(df_train[-1:].x, df_train[-1:].predict_ridge,  s=50+5**j, c='darkblue', alpha=0.52-0.12*j, label='_')\n",
    "    \n",
    "plt.plot(df_train.x, df_train.predict, '-', c='r', lw=0.8, ms=5, label='LinReg')\n",
    "plt.plot(df_train.x, df_train.predict_ridge, '-', c='darkblue', lw=0.8, ms=5, label='LinReg Ridge')\n",
    "plt.legend(loc='upper left', frameon=True)\n",
    "#sns.despine()\n",
    "res = df_train[-1:].res\n",
    "lr_p = int(np.round(float(df_train[-1:].predict.values[0])))\n",
    "lrr_p = int(np.round(float(df_train[-1:].predict_ridge.values[0])))\n",
    "plt.title('Real value = %s,\\nLinReg pred = %s,LinReg Ridge pred = %s,\\ndefault_value = %d'\n",
    "          % (str(df_train[-1:].res.values[0]), str(lr_p), str(lrr_p), int(default_value)))"
   ]
  },
  {
   "cell_type": "code",
   "execution_count": 518,
   "metadata": {
    "collapsed": false
   },
   "outputs": [
    {
     "name": "stdout",
     "output_type": "stream",
     "text": [
      "Recursions checked. Time elapsed: 2.83 min\n"
     ]
    },
    {
     "data": {
      "text/html": [
       "<div>\n",
       "<table border=\"1\" class=\"dataframe\">\n",
       "  <thead>\n",
       "    <tr style=\"text-align: right;\">\n",
       "      <th></th>\n",
       "      <th>Id</th>\n",
       "      <th>ints_list</th>\n",
       "      <th>ints_len</th>\n",
       "      <th>ints_data</th>\n",
       "      <th>res</th>\n",
       "      <th>prev</th>\n",
       "      <th>recursion</th>\n",
       "      <th>preds</th>\n",
       "    </tr>\n",
       "  </thead>\n",
       "  <tbody>\n",
       "    <tr>\n",
       "      <th>0</th>\n",
       "      <td>3</td>\n",
       "      <td>[1, 3, 13, 87, 1053, 28576, 2141733, 508147108...</td>\n",
       "      <td>14</td>\n",
       "      <td>[1, 3, 13, 87, 1053, 28576, 2141733, 508147108...</td>\n",
       "      <td>11474377948948020660089085281068730</td>\n",
       "      <td>31479360095907908092817694945</td>\n",
       "      <td>NaN</td>\n",
       "      <td>3.3205e+33</td>\n",
       "    </tr>\n",
       "    <tr>\n",
       "      <th>1</th>\n",
       "      <td>7</td>\n",
       "      <td>[1, 2, 1, 5, 5, 1, 11, 16, 7, 1, 23, 44, 30, 9...</td>\n",
       "      <td>57</td>\n",
       "      <td>[1, 2, 1, 5, 5, 1, 11, 16, 7, 1, 23, 44, 30, 9...</td>\n",
       "      <td>7424</td>\n",
       "      <td>1535</td>\n",
       "      <td>NaN</td>\n",
       "      <td>1</td>\n",
       "    </tr>\n",
       "    <tr>\n",
       "      <th>2</th>\n",
       "      <td>8</td>\n",
       "      <td>[1, 2, 4, 5, 8, 10, 16, 20, 32, 40, 64, 80, 12...</td>\n",
       "      <td>41</td>\n",
       "      <td>[1, 2, 4, 5, 8, 10, 16, 20, 32, 40, 64, 80, 12...</td>\n",
       "      <td>2097152</td>\n",
       "      <td>1310720</td>\n",
       "      <td>NaN</td>\n",
       "      <td>1310720</td>\n",
       "    </tr>\n",
       "    <tr>\n",
       "      <th>3</th>\n",
       "      <td>11</td>\n",
       "      <td>[1, 8, 25, 83, 274, 2275, 132224, 1060067, 331...</td>\n",
       "      <td>20</td>\n",
       "      <td>[1, 8, 25, 83, 274, 2275, 132224, 1060067, 331...</td>\n",
       "      <td>18610239435360217</td>\n",
       "      <td>2321287521544174</td>\n",
       "      <td>NaN</td>\n",
       "      <td>2321287521544174</td>\n",
       "    </tr>\n",
       "    <tr>\n",
       "      <th>4</th>\n",
       "      <td>13</td>\n",
       "      <td>[1, 111, 12211, 1343211, 147753211, 1625285321...</td>\n",
       "      <td>12</td>\n",
       "      <td>[1, 111, 12211, 1343211, 147753211, 1625285321...</td>\n",
       "      <td>28792920887348623853211</td>\n",
       "      <td>261753826248623853211</td>\n",
       "      <td>2.879292e+22</td>\n",
       "      <td>2.87929e+22</td>\n",
       "    </tr>\n",
       "  </tbody>\n",
       "</table>\n",
       "</div>"
      ],
      "text/plain": [
       "   Id                                          ints_list  ints_len  \\\n",
       "0   3  [1, 3, 13, 87, 1053, 28576, 2141733, 508147108...        14   \n",
       "1   7  [1, 2, 1, 5, 5, 1, 11, 16, 7, 1, 23, 44, 30, 9...        57   \n",
       "2   8  [1, 2, 4, 5, 8, 10, 16, 20, 32, 40, 64, 80, 12...        41   \n",
       "3  11  [1, 8, 25, 83, 274, 2275, 132224, 1060067, 331...        20   \n",
       "4  13  [1, 111, 12211, 1343211, 147753211, 1625285321...        12   \n",
       "\n",
       "                                           ints_data  \\\n",
       "0  [1, 3, 13, 87, 1053, 28576, 2141733, 508147108...   \n",
       "1  [1, 2, 1, 5, 5, 1, 11, 16, 7, 1, 23, 44, 30, 9...   \n",
       "2  [1, 2, 4, 5, 8, 10, 16, 20, 32, 40, 64, 80, 12...   \n",
       "3  [1, 8, 25, 83, 274, 2275, 132224, 1060067, 331...   \n",
       "4  [1, 111, 12211, 1343211, 147753211, 1625285321...   \n",
       "\n",
       "                                   res                           prev  \\\n",
       "0  11474377948948020660089085281068730  31479360095907908092817694945   \n",
       "1                                 7424                           1535   \n",
       "2                              2097152                        1310720   \n",
       "3                    18610239435360217               2321287521544174   \n",
       "4              28792920887348623853211          261753826248623853211   \n",
       "\n",
       "      recursion             preds  \n",
       "0           NaN        3.3205e+33  \n",
       "1           NaN                 1  \n",
       "2           NaN           1310720  \n",
       "3           NaN  2321287521544174  \n",
       "4  2.879292e+22       2.87929e+22  "
      ]
     },
     "execution_count": 518,
     "metadata": {},
     "output_type": "execute_result"
    }
   ],
   "source": [
    "st = time.time()\n",
    "#df['recursion'] = df.ints_data.apply(lambda x: check_recursion(list(map(int, x))))\n",
    "#print('Recursions checked. Time elapsed: %.2f min' % ((time.time() - st) / 60))\n",
    "#df[['Id', 'recursion']].to_csv('train_recursion_result.csv', encoding='utf-8-sig')\n",
    "df['recursion'] = df['Id'].map(pd.read_csv('train_recursion_result.csv', encoding='utf-8-sig').set_index('Id').recursion)\n",
    "df.head()"
   ]
  },
  {
   "cell_type": "code",
   "execution_count": null,
   "metadata": {
    "collapsed": true
   },
   "outputs": [],
   "source": [
    "# check some recursions\n",
    "import time\n",
    "st = time.time()\n",
    "def get_diffs(x):\n",
    "    return [x[i+1] - x[i] for i in range(len(x) - 1)] if len(x) > 1 else x    \n",
    "\n",
    "df['ints_data'] = df.ints_data.apply(lambda x: list(map(int, x)))\n",
    "df['diffs'] = df.ints_data.apply(get_diffs)\n",
    "df['plus1'] = df.ints_data.apply(lambda x: [i+1 for i in x])\n",
    "df['minus1'] = df.ints_data.apply(lambda x: [i-1 for i in x])\n",
    "print('time: %.2f min', ((time.time() - st) / 60))"
   ]
  },
  {
   "cell_type": "code",
   "execution_count": null,
   "metadata": {
    "collapsed": true
   },
   "outputs": [],
   "source": [
    "st = time.time()\n",
    "df['recursion'] = df['Id'].map(pd.read_csv('train_recursion_result.csv', encoding='utf-8-sig').set_index('Id').recursion)\n",
    "df['rec_diffs'] = df.apply(lambda row: check_recursion(row.diffs) + row.prev, axis=1)\n",
    "df['rec_plus1'] = df.plus1.apply(lambda x: check_recursion(x) - 1)\n",
    "df['rec_minus1'] = df.minus1.apply(lambda x: check_recursion(x) + 1)\n",
    "print('time: %.2f min', ((time.time() - st) / 60))"
   ]
  },
  {
   "cell_type": "code",
   "execution_count": null,
   "metadata": {
    "collapsed": true
   },
   "outputs": [],
   "source": [
    "print(df[df.recursion.notnull()].Id.count() / sample_n)\n",
    "df.recursion.fillna(df.rec_diffs, inplace=True)\n",
    "df.recursion.fillna(df.rec_plus1, inplace=True)\n",
    "df.recursion.fillna(df.rec_minus1, inplace=True)\n",
    "print(df[df.recursion.notnull()].Id.count() / sample_n)\n",
    "df[['Id', 'recursion']].to_csv('train_full_recursion_result.csv', encoding='utf-8-sig')"
   ]
  },
  {
   "cell_type": "code",
   "execution_count": 533,
   "metadata": {
    "collapsed": false
   },
   "outputs": [
    {
     "name": "stdout",
     "output_type": "stream",
     "text": [
      "Sequences: 1000 of 113845, time elapsed: 0.53 min, total estimated time: 60.76 min\n",
      "Sequences: 2000 of 113845, time elapsed: 1.04 min, total estimated time: 59.14 min\n",
      "Sequences: 3000 of 113845, time elapsed: 1.64 min, total estimated time: 62.05 min\n",
      "Sequences: 4000 of 113845, time elapsed: 2.23 min, total estimated time: 63.51 min\n",
      "Sequences: 5000 of 113845, time elapsed: 2.75 min, total estimated time: 62.55 min\n",
      "Sequences: 6000 of 113845, time elapsed: 3.36 min, total estimated time: 63.73 min\n",
      "Sequences: 7000 of 113845, time elapsed: 3.88 min, total estimated time: 63.13 min\n",
      "Sequences: 8000 of 113845, time elapsed: 4.41 min, total estimated time: 62.74 min\n",
      "Sequences: 9000 of 113845, time elapsed: 4.97 min, total estimated time: 62.81 min\n",
      "Sequences: 10000 of 113845, time elapsed: 5.59 min, total estimated time: 63.69 min\n",
      "Sequences: 11000 of 113845, time elapsed: 6.16 min, total estimated time: 63.80 min\n",
      "Sequences: 12000 of 113845, time elapsed: 6.78 min, total estimated time: 64.28 min\n",
      "Sequences: 13000 of 113845, time elapsed: 7.41 min, total estimated time: 64.87 min\n",
      "Sequences: 14000 of 113845, time elapsed: 7.92 min, total estimated time: 64.41 min\n",
      "Sequences: 15000 of 113845, time elapsed: 8.39 min, total estimated time: 63.71 min\n",
      "Sequences: 16000 of 113845, time elapsed: 8.88 min, total estimated time: 63.17 min\n",
      "Sequences: 17000 of 113845, time elapsed: 9.35 min, total estimated time: 62.61 min\n",
      "Sequences: 18000 of 113845, time elapsed: 9.84 min, total estimated time: 62.22 min\n",
      "Sequences: 19000 of 113845, time elapsed: 10.48 min, total estimated time: 62.82 min\n",
      "Sequences: 20000 of 113845, time elapsed: 11.06 min, total estimated time: 62.93 min\n",
      "Sequences: 21000 of 113845, time elapsed: 11.55 min, total estimated time: 62.60 min\n",
      "Sequences: 22000 of 113845, time elapsed: 12.28 min, total estimated time: 63.54 min\n",
      "Sequences: 23000 of 113845, time elapsed: 12.97 min, total estimated time: 64.18 min\n",
      "Sequences: 24000 of 113845, time elapsed: 13.57 min, total estimated time: 64.38 min\n",
      "Sequences: 25000 of 113845, time elapsed: 14.09 min, total estimated time: 64.18 min\n",
      "Sequences: 26000 of 113845, time elapsed: 14.62 min, total estimated time: 64.03 min\n",
      "Sequences: 27000 of 113845, time elapsed: 15.17 min, total estimated time: 63.97 min\n",
      "Sequences: 28000 of 113845, time elapsed: 15.73 min, total estimated time: 63.96 min\n",
      "Sequences: 29000 of 113845, time elapsed: 16.37 min, total estimated time: 64.26 min\n",
      "Sequences: 30000 of 113845, time elapsed: 16.89 min, total estimated time: 64.10 min\n",
      "Sequences: 31000 of 113845, time elapsed: 17.36 min, total estimated time: 63.76 min\n",
      "Sequences: 32000 of 113845, time elapsed: 17.83 min, total estimated time: 63.44 min\n",
      "Sequences: 33000 of 113845, time elapsed: 18.31 min, total estimated time: 63.16 min\n",
      "Sequences: 34000 of 113845, time elapsed: 18.81 min, total estimated time: 62.97 min\n",
      "Sequences: 35000 of 113845, time elapsed: 19.37 min, total estimated time: 62.99 min\n",
      "Sequences: 36000 of 113845, time elapsed: 19.86 min, total estimated time: 62.80 min\n",
      "Sequences: 37000 of 113845, time elapsed: 20.39 min, total estimated time: 62.73 min\n",
      "Sequences: 38000 of 113845, time elapsed: 20.91 min, total estimated time: 62.65 min\n",
      "Sequences: 39000 of 113845, time elapsed: 21.44 min, total estimated time: 62.59 min\n",
      "Sequences: 40000 of 113845, time elapsed: 21.95 min, total estimated time: 62.47 min\n",
      "Sequences: 41000 of 113845, time elapsed: 22.49 min, total estimated time: 62.45 min\n",
      "Sequences: 42000 of 113845, time elapsed: 23.36 min, total estimated time: 63.31 min\n",
      "Sequences: 43000 of 113845, time elapsed: 23.87 min, total estimated time: 63.19 min\n",
      "Sequences: 44000 of 113845, time elapsed: 24.39 min, total estimated time: 63.11 min\n",
      "Sequences: 45000 of 113845, time elapsed: 24.92 min, total estimated time: 63.04 min\n",
      "Sequences: 46000 of 113845, time elapsed: 25.44 min, total estimated time: 62.96 min\n",
      "Sequences: 47000 of 113845, time elapsed: 25.95 min, total estimated time: 62.85 min\n",
      "Sequences: 48000 of 113845, time elapsed: 26.48 min, total estimated time: 62.79 min\n",
      "Sequences: 49000 of 113845, time elapsed: 26.97 min, total estimated time: 62.65 min\n",
      "Sequences: 50000 of 113845, time elapsed: 27.55 min, total estimated time: 62.74 min\n",
      "Sequences: 51000 of 113845, time elapsed: 28.05 min, total estimated time: 62.62 min\n",
      "Sequences: 52000 of 113845, time elapsed: 28.56 min, total estimated time: 62.53 min\n",
      "Sequences: 53000 of 113845, time elapsed: 29.11 min, total estimated time: 62.54 min\n",
      "Sequences: 54000 of 113845, time elapsed: 29.62 min, total estimated time: 62.45 min\n",
      "Sequences: 55000 of 113845, time elapsed: 30.25 min, total estimated time: 62.61 min\n",
      "Sequences: 56000 of 113845, time elapsed: 30.84 min, total estimated time: 62.71 min\n",
      "Sequences: 57000 of 113845, time elapsed: 31.57 min, total estimated time: 63.04 min\n",
      "Sequences: 58000 of 113845, time elapsed: 32.15 min, total estimated time: 63.11 min\n",
      "Sequences: 59000 of 113845, time elapsed: 32.71 min, total estimated time: 63.12 min\n",
      "Sequences: 60000 of 113845, time elapsed: 33.28 min, total estimated time: 63.15 min\n",
      "Sequences: 61000 of 113845, time elapsed: 33.76 min, total estimated time: 63.00 min\n",
      "Sequences: 62000 of 113845, time elapsed: 34.22 min, total estimated time: 62.83 min\n",
      "Sequences: 63000 of 113845, time elapsed: 34.79 min, total estimated time: 62.86 min\n",
      "Sequences: 64000 of 113845, time elapsed: 35.29 min, total estimated time: 62.78 min\n",
      "Sequences: 65000 of 113845, time elapsed: 35.79 min, total estimated time: 62.68 min\n",
      "Sequences: 66000 of 113845, time elapsed: 36.27 min, total estimated time: 62.56 min\n",
      "Sequences: 67000 of 113845, time elapsed: 36.76 min, total estimated time: 62.47 min\n",
      "Sequences: 68000 of 113845, time elapsed: 37.42 min, total estimated time: 62.64 min\n",
      "Sequences: 69000 of 113845, time elapsed: 37.97 min, total estimated time: 62.64 min\n",
      "Sequences: 70000 of 113845, time elapsed: 38.50 min, total estimated time: 62.62 min\n",
      "Sequences: 71000 of 113845, time elapsed: 39.20 min, total estimated time: 62.86 min\n",
      "Sequences: 72000 of 113845, time elapsed: 39.84 min, total estimated time: 63.00 min\n",
      "Sequences: 73000 of 113845, time elapsed: 40.34 min, total estimated time: 62.90 min\n",
      "Sequences: 74000 of 113845, time elapsed: 40.84 min, total estimated time: 62.83 min\n",
      "Sequences: 75000 of 113845, time elapsed: 41.34 min, total estimated time: 62.76 min\n",
      "Sequences: 76000 of 113845, time elapsed: 41.90 min, total estimated time: 62.77 min\n",
      "Sequences: 77000 of 113845, time elapsed: 42.65 min, total estimated time: 63.05 min\n",
      "Sequences: 78000 of 113845, time elapsed: 43.23 min, total estimated time: 63.10 min\n",
      "Sequences: 79000 of 113845, time elapsed: 43.96 min, total estimated time: 63.35 min\n",
      "Sequences: 80000 of 113845, time elapsed: 44.59 min, total estimated time: 63.45 min\n",
      "Sequences: 81000 of 113845, time elapsed: 45.14 min, total estimated time: 63.44 min\n",
      "Sequences: 82000 of 113845, time elapsed: 45.72 min, total estimated time: 63.47 min\n",
      "Sequences: 83000 of 113845, time elapsed: 46.28 min, total estimated time: 63.48 min\n",
      "Sequences: 84000 of 113845, time elapsed: 46.79 min, total estimated time: 63.41 min\n",
      "Sequences: 85000 of 113845, time elapsed: 47.33 min, total estimated time: 63.40 min\n",
      "Sequences: 86000 of 113845, time elapsed: 47.94 min, total estimated time: 63.47 min\n",
      "Sequences: 87000 of 113845, time elapsed: 48.48 min, total estimated time: 63.44 min\n",
      "Sequences: 88000 of 113845, time elapsed: 49.00 min, total estimated time: 63.39 min\n",
      "Sequences: 89000 of 113845, time elapsed: 49.55 min, total estimated time: 63.39 min\n",
      "Sequences: 90000 of 113845, time elapsed: 50.13 min, total estimated time: 63.41 min\n",
      "Sequences: 91000 of 113845, time elapsed: 50.63 min, total estimated time: 63.34 min\n",
      "Sequences: 92000 of 113845, time elapsed: 51.15 min, total estimated time: 63.30 min\n",
      "Sequences: 93000 of 113845, time elapsed: 51.68 min, total estimated time: 63.26 min\n",
      "Sequences: 94000 of 113845, time elapsed: 52.29 min, total estimated time: 63.33 min\n",
      "Sequences: 95000 of 113845, time elapsed: 52.81 min, total estimated time: 63.29 min\n",
      "Sequences: 96000 of 113845, time elapsed: 53.30 min, total estimated time: 63.21 min\n",
      "Sequences: 97000 of 113845, time elapsed: 53.79 min, total estimated time: 63.13 min\n",
      "Sequences: 98000 of 113845, time elapsed: 54.28 min, total estimated time: 63.06 min\n",
      "Sequences: 99000 of 113845, time elapsed: 54.91 min, total estimated time: 63.15 min\n",
      "Sequences: 100000 of 113845, time elapsed: 55.75 min, total estimated time: 63.46 min\n",
      "Sequences: 101000 of 113845, time elapsed: 56.32 min, total estimated time: 63.48 min\n",
      "Sequences: 102000 of 113845, time elapsed: 56.91 min, total estimated time: 63.52 min\n",
      "Sequences: 103000 of 113845, time elapsed: 57.44 min, total estimated time: 63.49 min\n",
      "Sequences: 104000 of 113845, time elapsed: 58.13 min, total estimated time: 63.63 min\n",
      "Sequences: 105000 of 113845, time elapsed: 58.71 min, total estimated time: 63.66 min\n",
      "Sequences: 106000 of 113845, time elapsed: 59.19 min, total estimated time: 63.57 min\n",
      "Sequences: 107000 of 113845, time elapsed: 59.89 min, total estimated time: 63.72 min\n",
      "Sequences: 108000 of 113845, time elapsed: 60.54 min, total estimated time: 63.82 min\n",
      "Sequences: 109000 of 113845, time elapsed: 61.33 min, total estimated time: 64.06 min\n",
      "Sequences: 110000 of 113845, time elapsed: 62.13 min, total estimated time: 64.30 min\n",
      "Sequences: 111000 of 113845, time elapsed: 62.69 min, total estimated time: 64.29 min\n",
      "Sequences: 112000 of 113845, time elapsed: 63.25 min, total estimated time: 64.29 min\n",
      "Sequences: 113000 of 113845, time elapsed: 63.81 min, total estimated time: 64.29 min\n",
      "113845 113845\n",
      "Time 3858.51 sec\n",
      "Estimated time for full test data: 64.31 min\n",
      "[3.3205031392904417e+33, 1, '1310720', '2321287521544174', 2.8792920887348615e+22, 1, '61320', '17161306005034007', 93.116205586943849, 8, 2.7431353199170661e+36, '24096', '8', 2695681898687.0762, '1923', '810', '5232446865180756766896', 6711891494.9923906, 497.41126771842687, '13']\n"
     ]
    }
   ],
   "source": [
    "from sklearn import linear_model \n",
    "from sklearn import cross_validation\n",
    "import time\n",
    "preds = []\n",
    "longest = df.ints_len.max() + 1\n",
    "#cnt = 200\n",
    "#cnt = 10000\n",
    "cnt = len(df.index)\n",
    "\n",
    "df_train = pd.DataFrame()\n",
    "df_train['x'] = np.arange(longest)\n",
    "df_train['x0'] = 1\n",
    "df_train['x2'] = df_train.x ** 2\n",
    "df_train['x3'] = df_train.x ** 3\n",
    "df_train['x4'] = df_train.x ** 4\n",
    "df_train['sqrt'] = df_train.x ** .5\n",
    "df_train['exp'] = np.exp(df_train.x)\n",
    "df_train['odd'] = df_train.x % 2\n",
    "df_train['log'] = np.log(df_train.x)\n",
    "df_train['sin'] = np.sin(df_train.x)\n",
    "df_train['cos'] = np.cos(df_train.x)\n",
    "\n",
    "alphas = [10 ** x for x in range(-4, 4)]\n",
    "st = time.time()\n",
    "for i in range(cnt):\n",
    "    if (i % 1000 == 0) & (i != 0):\n",
    "        print('Sequences: %d of %d, time elapsed: %.2f min, total estimated time: %.2f min' \n",
    "              % (i, cnt, (time.time() - st) / 60, (time.time() - st) * cnt / (60 * i)))        \n",
    "    #print(i)\n",
    "    df1 = df.ix[i]    \n",
    "    df_curr = df_train[:df1.ints_len].copy(deep=True)    \n",
    "    #print(df1.ints_len, len(df_curr.index))\n",
    "    df_curr['res'] = df1.ints_list\n",
    "    df_curr['prev'] = df_curr.res.shift(1)\n",
    "    ints_ser = pd.Series(list(map(int, df1.ints_list)))\n",
    "    def_func = df1.ints_data[-1] if len(df1.ints_data) > 0 else 1\n",
    "    #def_func = np.mean(ints_ser)\n",
    "    try:\n",
    "        freqs = ints_ser[ints_ser < np.iinfo(np.int64).max].value_counts() \n",
    "        if len(freqs.index) > 2:\n",
    "            freq, next_freq = freqs.iloc[0], freqs.iloc[1]\n",
    "            default_value = freqs.idxmax() if freq / next_freq >= 2 else def_func\n",
    "        else:\n",
    "            default_value = def_func\n",
    "    except OverflowError:\n",
    "        default_value = def_func\n",
    "    \n",
    "    df_curr['def'] = default_value\n",
    "    df_curr = df_curr[['x0', 'x', 'x2', 'x3', 'x4', 'sqrt', 'odd', 'exp', 'log', 'sin', 'cos', 'prev', 'def', 'res']]\n",
    "\n",
    "    cols = [col for col in df_curr.columns if col != 'res']    \n",
    "    df_curr = df_curr[1:].reset_index()\n",
    "    \n",
    "    if not df_curr[:-1].empty:\n",
    "        X_train = df_curr[:-1][cols]\n",
    "        y_train = df_curr[:-1].res        \n",
    "        X_test = df_curr[cols]        \n",
    "        \n",
    "        lr = linear_model.LinearRegression()        \n",
    "        lr.fit(X_train, y_train)        \n",
    "        pred = lr.predict(X_test)\n",
    "        df_curr['predict'] = pred        \n",
    "        #preds.append(df_curr[-1:].predict)\n",
    "        \n",
    "        with warnings.catch_warnings():\n",
    "            warnings.simplefilter(\"error\")            \n",
    "            try:\n",
    "                lr_rigdeCV = linear_model.RidgeCV(alphas=alphas)\n",
    "                lr_rigdeCV.fit(X_train, y_train)\n",
    "                best_alpha = lr_rigdeCV.alpha_\n",
    "            except: best_alpha = 0.1\n",
    "            \n",
    "            try:\n",
    "                lr_ridge = linear_model.Ridge(alpha=best_alpha)\n",
    "                lr_ridge.fit(X_train, y_train)\n",
    "                pred_ridge = lr_ridge.predict(X_test)\n",
    "            except: pred_ridge = pred\n",
    "                \n",
    "            if len(X_train.index) > 5:\n",
    "                try:\n",
    "                    kf = cross_validation.KFold(len(X_train.index), n_folds=5, shuffle=True)\n",
    "                    scores = cross_validation.cross_val_score(lr_ridge, X_train, y_train, cv=kf)\n",
    "                    col_to_result = 'def' if np.mean(scores) < 0.999 else 'predict_ridge'                    \n",
    "                    #if np.mean(scores) >= 0.999:\n",
    "                    #    if np.round(pred_ridge[-1]) == int(df1.ints_list[-1]): \n",
    "                    #        print('SUCCESS!!!')\n",
    "                    #        print('CV score =', np.mean(scores))\n",
    "                    #        print('Predict', int(np.round(pred_ridge[-1])), ', real', df1.ints_list[-1])\n",
    "                except: col_to_result = 'predict_ridge'\n",
    "            else: col_to_result = 'predict_ridge'\n",
    "\n",
    "        df_curr['predict_ridge'] = pred_ridge\n",
    "        preds.append(df_curr[-1:][col_to_result].values[0])\n",
    "        \n",
    "    else:\n",
    "        preds.append(default_value)\n",
    "    \n",
    "print(len(df.index), len(preds))\n",
    "print('Time %.2f sec' % (time.time() - st))\n",
    "print('Estimated time for full test data: %.2f min' % ((time.time() - st) * int(len(df.index)) / (60 * int(len(preds)))))\n",
    "print(preds[:20])"
   ]
  },
  {
   "cell_type": "code",
   "execution_count": 539,
   "metadata": {
    "collapsed": false
   },
   "outputs": [
    {
     "name": "stdout",
     "output_type": "stream",
     "text": [
      "113845\n"
     ]
    },
    {
     "data": {
      "text/html": [
       "<div>\n",
       "<table border=\"1\" class=\"dataframe\">\n",
       "  <thead>\n",
       "    <tr style=\"text-align: right;\">\n",
       "      <th></th>\n",
       "      <th>Id</th>\n",
       "      <th>ints_data</th>\n",
       "      <th>recursion</th>\n",
       "      <th>preds</th>\n",
       "    </tr>\n",
       "  </thead>\n",
       "  <tbody>\n",
       "    <tr>\n",
       "      <th>0</th>\n",
       "      <td>3</td>\n",
       "      <td>[1, 3, 13, 87, 1053, 28576, 2141733, 508147108...</td>\n",
       "      <td>NaN</td>\n",
       "      <td>3.3205e+33</td>\n",
       "    </tr>\n",
       "    <tr>\n",
       "      <th>1</th>\n",
       "      <td>7</td>\n",
       "      <td>[1, 2, 1, 5, 5, 1, 11, 16, 7, 1, 23, 44, 30, 9...</td>\n",
       "      <td>NaN</td>\n",
       "      <td>1</td>\n",
       "    </tr>\n",
       "    <tr>\n",
       "      <th>2</th>\n",
       "      <td>8</td>\n",
       "      <td>[1, 2, 4, 5, 8, 10, 16, 20, 32, 40, 64, 80, 12...</td>\n",
       "      <td>NaN</td>\n",
       "      <td>1310720</td>\n",
       "    </tr>\n",
       "    <tr>\n",
       "      <th>3</th>\n",
       "      <td>11</td>\n",
       "      <td>[1, 8, 25, 83, 274, 2275, 132224, 1060067, 331...</td>\n",
       "      <td>NaN</td>\n",
       "      <td>2321287521544174</td>\n",
       "    </tr>\n",
       "    <tr>\n",
       "      <th>4</th>\n",
       "      <td>13</td>\n",
       "      <td>[1, 111, 12211, 1343211, 147753211, 1625285321...</td>\n",
       "      <td>2.879292e+22</td>\n",
       "      <td>2.87929e+22</td>\n",
       "    </tr>\n",
       "  </tbody>\n",
       "</table>\n",
       "</div>"
      ],
      "text/plain": [
       "   Id                                          ints_data     recursion  \\\n",
       "0   3  [1, 3, 13, 87, 1053, 28576, 2141733, 508147108...           NaN   \n",
       "1   7  [1, 2, 1, 5, 5, 1, 11, 16, 7, 1, 23, 44, 30, 9...           NaN   \n",
       "2   8  [1, 2, 4, 5, 8, 10, 16, 20, 32, 40, 64, 80, 12...           NaN   \n",
       "3  11  [1, 8, 25, 83, 274, 2275, 132224, 1060067, 331...           NaN   \n",
       "4  13  [1, 111, 12211, 1343211, 147753211, 1625285321...  2.879292e+22   \n",
       "\n",
       "              preds  \n",
       "0        3.3205e+33  \n",
       "1                 1  \n",
       "2           1310720  \n",
       "3  2321287521544174  \n",
       "4       2.87929e+22  "
      ]
     },
     "execution_count": 539,
     "metadata": {},
     "output_type": "execute_result"
    }
   ],
   "source": [
    "print(len(preds))\n",
    "if 'preds' in df.columns:\n",
    "    df.drop('preds', axis=1, inplace=True)\n",
    "\n",
    "df = df.join(pd.Series(preds, name='preds').to_frame())\n",
    "df[['Id', 'ints_data', 'recursion', 'preds']].head()"
   ]
  },
  {
   "cell_type": "code",
   "execution_count": 541,
   "metadata": {
    "collapsed": false
   },
   "outputs": [
    {
     "data": {
      "text/html": [
       "<div>\n",
       "<table border=\"1\" class=\"dataframe\">\n",
       "  <thead>\n",
       "    <tr style=\"text-align: right;\">\n",
       "      <th></th>\n",
       "      <th>Id</th>\n",
       "      <th>ints_data</th>\n",
       "      <th>res</th>\n",
       "      <th>recursion</th>\n",
       "      <th>preds</th>\n",
       "    </tr>\n",
       "  </thead>\n",
       "  <tbody>\n",
       "    <tr>\n",
       "      <th>0</th>\n",
       "      <td>3</td>\n",
       "      <td>[1, 3, 13, 87, 1053, 28576, 2141733, 508147108...</td>\n",
       "      <td>11474377948948020660089085281068730</td>\n",
       "      <td>NaN</td>\n",
       "      <td>3.3205e+33</td>\n",
       "    </tr>\n",
       "    <tr>\n",
       "      <th>1</th>\n",
       "      <td>7</td>\n",
       "      <td>[1, 2, 1, 5, 5, 1, 11, 16, 7, 1, 23, 44, 30, 9...</td>\n",
       "      <td>7424</td>\n",
       "      <td>NaN</td>\n",
       "      <td>1</td>\n",
       "    </tr>\n",
       "    <tr>\n",
       "      <th>2</th>\n",
       "      <td>8</td>\n",
       "      <td>[1, 2, 4, 5, 8, 10, 16, 20, 32, 40, 64, 80, 12...</td>\n",
       "      <td>2097152</td>\n",
       "      <td>NaN</td>\n",
       "      <td>1310720</td>\n",
       "    </tr>\n",
       "    <tr>\n",
       "      <th>3</th>\n",
       "      <td>11</td>\n",
       "      <td>[1, 8, 25, 83, 274, 2275, 132224, 1060067, 331...</td>\n",
       "      <td>18610239435360217</td>\n",
       "      <td>NaN</td>\n",
       "      <td>2321287521544174</td>\n",
       "    </tr>\n",
       "    <tr>\n",
       "      <th>4</th>\n",
       "      <td>13</td>\n",
       "      <td>[1, 111, 12211, 1343211, 147753211, 1625285321...</td>\n",
       "      <td>28792920887348623853211</td>\n",
       "      <td>2.879292e+22</td>\n",
       "      <td>2.87929e+22</td>\n",
       "    </tr>\n",
       "    <tr>\n",
       "      <th>5</th>\n",
       "      <td>15</td>\n",
       "      <td>[1, 1, 1, 1, 1, 1, 1, 1, 1, 5, 1, 1, 1, 1, 5, ...</td>\n",
       "      <td>5</td>\n",
       "      <td>NaN</td>\n",
       "      <td>1</td>\n",
       "    </tr>\n",
       "    <tr>\n",
       "      <th>6</th>\n",
       "      <td>16</td>\n",
       "      <td>[840, 1320, 1680, 2520, 3192, 3432, 4920, 5208...</td>\n",
       "      <td>63240</td>\n",
       "      <td>NaN</td>\n",
       "      <td>61320</td>\n",
       "    </tr>\n",
       "    <tr>\n",
       "      <th>7</th>\n",
       "      <td>18</td>\n",
       "      <td>[1, 2, 7, 27, 113, 483, 2138, 9681, 44374, 205...</td>\n",
       "      <td>83994842745043322</td>\n",
       "      <td>NaN</td>\n",
       "      <td>17161306005034007</td>\n",
       "    </tr>\n",
       "    <tr>\n",
       "      <th>8</th>\n",
       "      <td>20</td>\n",
       "      <td>[4, 6, 8, 9, 26]</td>\n",
       "      <td>1752</td>\n",
       "      <td>NaN</td>\n",
       "      <td>93.1162</td>\n",
       "    </tr>\n",
       "    <tr>\n",
       "      <th>9</th>\n",
       "      <td>21</td>\n",
       "      <td>[1, 2, 1, 3, 4, 2, 4, 8, 8, 3, 5, 13, 19, 15, ...</td>\n",
       "      <td>2619</td>\n",
       "      <td>NaN</td>\n",
       "      <td>8</td>\n",
       "    </tr>\n",
       "  </tbody>\n",
       "</table>\n",
       "</div>"
      ],
      "text/plain": [
       "   Id                                          ints_data  \\\n",
       "0   3  [1, 3, 13, 87, 1053, 28576, 2141733, 508147108...   \n",
       "1   7  [1, 2, 1, 5, 5, 1, 11, 16, 7, 1, 23, 44, 30, 9...   \n",
       "2   8  [1, 2, 4, 5, 8, 10, 16, 20, 32, 40, 64, 80, 12...   \n",
       "3  11  [1, 8, 25, 83, 274, 2275, 132224, 1060067, 331...   \n",
       "4  13  [1, 111, 12211, 1343211, 147753211, 1625285321...   \n",
       "5  15  [1, 1, 1, 1, 1, 1, 1, 1, 1, 5, 1, 1, 1, 1, 5, ...   \n",
       "6  16  [840, 1320, 1680, 2520, 3192, 3432, 4920, 5208...   \n",
       "7  18  [1, 2, 7, 27, 113, 483, 2138, 9681, 44374, 205...   \n",
       "8  20                                   [4, 6, 8, 9, 26]   \n",
       "9  21  [1, 2, 1, 3, 4, 2, 4, 8, 8, 3, 5, 13, 19, 15, ...   \n",
       "\n",
       "                                   res     recursion              preds  \n",
       "0  11474377948948020660089085281068730           NaN         3.3205e+33  \n",
       "1                                 7424           NaN                  1  \n",
       "2                              2097152           NaN            1310720  \n",
       "3                    18610239435360217           NaN   2321287521544174  \n",
       "4              28792920887348623853211  2.879292e+22        2.87929e+22  \n",
       "5                                    5           NaN                  1  \n",
       "6                                63240           NaN              61320  \n",
       "7                    83994842745043322           NaN  17161306005034007  \n",
       "8                                 1752           NaN            93.1162  \n",
       "9                                 2619           NaN                  8  "
      ]
     },
     "execution_count": 541,
     "metadata": {},
     "output_type": "execute_result"
    }
   ],
   "source": [
    "df['Last'] = df.recursion\n",
    "df.Last.fillna(df.preds, inplace=True)\n",
    "df.Last.fillna(df.prev, inplace=True)\n",
    "df.Last.fillna(1, inplace=True)\n",
    "#df[df.Last.isnull()]\n",
    "df['Last'] = df['Last'].apply(lambda x: int(np.round(float(x))))\n",
    "df[['Id', 'ints_data', 'res', 'recursion', 'preds']].head(10)"
   ]
  },
  {
   "cell_type": "code",
   "execution_count": 542,
   "metadata": {
    "collapsed": false
   },
   "outputs": [
    {
     "data": {
      "text/plain": [
       "0.13997979709253811"
      ]
     },
     "execution_count": 542,
     "metadata": {},
     "output_type": "execute_result"
    }
   ],
   "source": [
    "# check train\n",
    "df['res_str'] = df.res.apply(str)\n",
    "df['last_str'] = df.Last.apply(str)\n",
    "df[df.res_str == df.last_str].Id.count() / df.Id.count()"
   ]
  },
  {
   "cell_type": "code",
   "execution_count": null,
   "metadata": {
    "collapsed": true
   },
   "outputs": [],
   "source": [
    "#df[['Id', 'Last']].to_csv('submission.csv', sep=',', index=False)"
   ]
  }
 ],
 "metadata": {
  "kernelspec": {
   "display_name": "Python 3",
   "language": "python",
   "name": "python3"
  },
  "language_info": {
   "codemirror_mode": {
    "name": "ipython",
    "version": 3
   },
   "file_extension": ".py",
   "mimetype": "text/x-python",
   "name": "python",
   "nbconvert_exporter": "python",
   "pygments_lexer": "ipython3",
   "version": "3.5.1"
  }
 },
 "nbformat": 4,
 "nbformat_minor": 0
}
