{
 "cells": [
  {
   "cell_type": "markdown",
   "metadata": {},
   "source": [
    "# Применение алгоритма Гэйла-Шепли для решения задачи о назначении локомотивов на поезда"
   ]
  },
  {
   "cell_type": "markdown",
   "metadata": {},
   "source": [
    "## Теория"
   ]
  },
  {
   "cell_type": "markdown",
   "metadata": {},
   "source": [
    "### Текущая реализация: задача о назначениях (алгоритм аукционов)"
   ]
  },
  {
   "cell_type": "markdown",
   "metadata": {},
   "source": [
    "### Предлагаемая реализация: задача о стабильных мэтчингах (алгоритм Гэйла-Шепли)"
   ]
  },
  {
   "cell_type": "markdown",
   "metadata": {},
   "source": [
    "## Сравнение алгоритмов"
   ]
  },
  {
   "cell_type": "markdown",
   "metadata": {},
   "source": [
    "### Реализация алгоритма Гэйла-Шепли"
   ]
  },
  {
   "cell_type": "code",
   "execution_count": 331,
   "metadata": {
    "collapsed": false
   },
   "outputs": [],
   "source": [
    "import numpy as np\n",
    "def marraige_print(str, verbose):\n",
    "    if verbose == True:\n",
    "        print(str)\n",
    "\n",
    "def get_marriage(array1, array2, array_type='util', verbose=False):\n",
    "    if array_type == 'util':\n",
    "        man_prefs = np.argsort(-array1)\n",
    "        woman_prefs = np.argsort(-array2)\n",
    "    else:\n",
    "        man_prefs = array1\n",
    "        woman_prefs = array2\n",
    "        \n",
    "    #marraige_print('Man prefs:\\n %s' % man_prefs, verbose)\n",
    "    #marraige_print('Woman prefs:\\n %s' % woman_prefs, verbose)\n",
    "    #marraige_print('---------', verbose)\n",
    "\n",
    "    man_number = man_prefs.shape[0]\n",
    "    woman_number = woman_prefs.shape[0]\n",
    "    last_choices_indexes = [-1] * man_number\n",
    "    woman_choices = [-1] * woman_number\n",
    "    woman_accept = [-1] * woman_number\n",
    "    \n",
    "    while -1 in woman_accept: \n",
    "        last_choices = [-1] * man_number\n",
    "        for man in range(0, man_number):\n",
    "            if man not in woman_accept:\n",
    "                last_choices_indexes[man] = last_choices_indexes[man] + 1\n",
    "            last_choices[man] = man_prefs[man][last_choices_indexes[man]]\n",
    "        choices_tuple = [(w, last_choices[w]) for w in range(0, len(last_choices))]\n",
    "        #marraige_print('last choices: %s, choices_tuple: %s' % (last_choices, choices_tuple), verbose)\n",
    "        curr_woman_accept = np.copy(woman_accept)\n",
    "        for (man, woman) in choices_tuple:\n",
    "            if man not in curr_woman_accept:\n",
    "                curr_woman_prefs = woman_prefs[woman]\n",
    "                #marraige_print('check man %d, woman %d' % (man, woman), verbose)\n",
    "                #marraige_print('woman prefs for woman %d: %s' % (woman, curr_woman_prefs), verbose)\n",
    "                curr_woman_choice = woman_choices[woman]\n",
    "                #marraige_print('current choice of woman %d: %d' % (woman, curr_woman_choice), verbose)\n",
    "                if curr_woman_choice == -1:\n",
    "                    woman_choices[woman] = man\n",
    "                    woman_accept[woman] = man\n",
    "                elif np.where(curr_woman_prefs == man)[0][0] < np.where(curr_woman_prefs == curr_woman_choice)[0][0]:\n",
    "                    woman_choices[woman] = man\n",
    "                    woman_accept[woman] = man\n",
    "                else:\n",
    "                    woman_choices[woman] = curr_woman_choice           \n",
    "\n",
    "                #marraige_print('new choice of woman %d: %d' % (woman, choices2[woman]), verbose)\n",
    "\n",
    "        #marraige_print('woman accept: %s' % woman_accept, verbose)\n",
    "        #marraige_print('---------', verbose)\n",
    "\n",
    "    return woman_accept, list(range(0, len(woman_accept)))"
   ]
  },
  {
   "cell_type": "markdown",
   "metadata": {},
   "source": [
    "### Сравнение скорости работы"
   ]
  },
  {
   "cell_type": "code",
   "execution_count": 332,
   "metadata": {
    "collapsed": false
   },
   "outputs": [
    {
     "name": "stdout",
     "output_type": "stream",
     "text": [
      "Size 5\n",
      "1000 loops, best of 3: 651 µs per loop\n",
      "1000 loops, best of 3: 211 µs per loop\n",
      "Size 10\n",
      "1000 loops, best of 3: 1.57 ms per loop\n",
      "1000 loops, best of 3: 679 µs per loop\n",
      "Size 25\n",
      "The slowest run took 15.09 times longer than the fastest. This could mean that an intermediate result is being cached \n",
      "100 loops, best of 3: 5.88 ms per loop\n",
      "100 loops, best of 3: 3.57 ms per loop\n",
      "Size 50\n",
      "The slowest run took 12.94 times longer than the fastest. This could mean that an intermediate result is being cached \n",
      "1 loops, best of 3: 21.4 ms per loop\n",
      "100 loops, best of 3: 16.3 ms per loop\n",
      "Size 100\n",
      "10 loops, best of 3: 68.6 ms per loop\n",
      "10 loops, best of 3: 75 ms per loop\n"
     ]
    }
   ],
   "source": [
    "from scipy.optimize import linear_sum_assignment\n",
    "for size in [5, 10, 25, 50, 100]:\n",
    "    print('Size', size)\n",
    "    %timeit linear_sum_assignment(-np.random.rand(size, size))\n",
    "    %timeit get_marriage(np.argsort(-np.random.rand(size, size)), np.argsort(-np.random.rand(size, size)), array_type='pref')  "
   ]
  },
  {
   "cell_type": "markdown",
   "metadata": {},
   "source": [
    "### Сравнение полезностей решений"
   ]
  },
  {
   "cell_type": "code",
   "execution_count": 333,
   "metadata": {
    "collapsed": false
   },
   "outputs": [
    {
     "name": "stdout",
     "output_type": "stream",
     "text": [
      "Util matrix:\n",
      " [[ 0.79479449  0.32242699  0.38198306  0.35119844]\n",
      " [ 0.22089633  0.4740585   0.81575508  0.04707789]\n",
      " [ 0.46784804  0.17332245  0.18315568  0.56615277]\n",
      " [ 0.27195503  0.25429705  0.28584431  0.17059096]]\n",
      "Assignment problem solution: [(0, 0), (1, 2), (2, 3), (3, 1)]\n",
      "Assignment util: 2.43099939423\n",
      "Marriage problem solution: [(0, 0), (3, 1), (1, 2), (2, 3)]\n",
      "Marriage util: 2.43099939423\n",
      "Ratio marriage/assignment = 1.0\n"
     ]
    }
   ],
   "source": [
    "cost = np.random.rand(4, 4)\n",
    "print('Util matrix:\\n', cost)\n",
    "row_ind, col_ind = linear_sum_assignment(-cost)\n",
    "print('Assignment problem solution:', list(zip(row_ind, col_ind)))\n",
    "ass_util = cost[row_ind, col_ind].sum()\n",
    "print('Assignment util:', ass_util)\n",
    "\n",
    "mar_row, mar_col = get_marriage(cost, np.transpose(cost))\n",
    "print('Marriage problem solution:', list(zip(mar_row, mar_col)))\n",
    "mar_util = cost[mar_row, mar_col].sum()\n",
    "print('Marriage util:', mar_util)\n",
    "print('Ratio marriage/assignment =', mar_util / ass_util)"
   ]
  },
  {
   "cell_type": "code",
   "execution_count": 334,
   "metadata": {
    "collapsed": false
   },
   "outputs": [
    {
     "name": "stdout",
     "output_type": "stream",
     "text": [
      "Score = 0.9508 +/- 0.0153\n"
     ]
    }
   ],
   "source": [
    "ratios = []\n",
    "for i in range(0, 100):\n",
    "    cost = np.random.rand(25, 25)\n",
    "    row_ind, col_ind = linear_sum_assignment(-cost)\n",
    "    ass_util = cost[row_ind, col_ind].sum()\n",
    "\n",
    "    mar_row, mar_col = get_marriage(cost, np.transpose(cost))\n",
    "    mar_util = cost[mar_row, mar_col].sum()\n",
    "    ratio = mar_util / ass_util\n",
    "    ratios.append(ratio)\n",
    "    \n",
    "print('Score = %.4f +/- %.4f' % (np.mean(ratios), np.std(ratios)))"
   ]
  },
  {
   "cell_type": "code",
   "execution_count": 335,
   "metadata": {
    "collapsed": false
   },
   "outputs": [
    {
     "data": {
      "image/png": "[encoded data removed]",
      "text/plain": [
       "<matplotlib.figure.Figure at 0x266dbc1a8d0>"
      ]
     },
     "metadata": {},
     "output_type": "display_data"
    }
   ],
   "source": [
    "import matplotlib.pyplot as plt\n",
    "%matplotlib inline\n",
    "x = np.arange(0, 100)\n",
    "y = ratios\n",
    "plt.plot(x, y)\n",
    "\n",
    "z = np.polyfit(x, y, 1)\n",
    "p = np.poly1d(z)\n",
    "plt.plot(x, p(x),\"r--\")\n",
    "\n",
    "plt.show()"
   ]
  },
  {
   "cell_type": "markdown",
   "metadata": {},
   "source": [
    "## Выводы"
   ]
  },
  {
   "cell_type": "markdown",
   "metadata": {},
   "source": [
    "1. Теоретическая сложность ЗН больше, чем ЗГШ ($O(n^3)$ против $O(n^2)$). Это можно увидеть на примерах выше. То, что при увеличении размеров матрицы времена работы сравниваются, можно объяснить тем, что метод решения ЗН взят из библиотеки scipy, где код хорошо оптимизирован, а алгоритм ГШ реализован \"на коленке\" без оптимизаций. К сожалению, не удалось найти реализованный алгоритм ГШ в известных математических библиотеках (в интернете есть только \"любительские\" реализации, сопоставимые по скорости работы с моей).\n",
    "2. Главное преимущество алгоритма ГШ заключается в том, что он позволяет разделить полезность поездов и локомотивов. Есть случаи, когда какое-то назнчение оказывается хорошим для поезда и плохим для локомотива. Для решения ЗН приходится считать единую функцию полезности, которая будет как бы усреднять выгоду для поездов и локомотивов. В ЗГШ можно отдельно составить матрицу предпочтений поездов и матрицу предпочтений локомотивов. Далее, можно делать переключение, чему давать предпочтение - поездам или локомотивам. В зависимости от этого решение будет искаться \"от лица\" нужной сущности и будет гарантировано, что для данной сущности найденное решение -- наилучшее.\n",
    "3. Чаще всего стабильное оптимальное решение с точки зрения ЗГШ не является оптимальным для ЗН с теми же входными данными. Это связано как раз с тем, что ЗГШ решается из предположения предпочтения одной сущности (поездов или локомотивов). Моделирование показывает, что суммарная полезность решений ЗГШ составляет не меньше 0.9 от оптимального решения ЗН, что является вполне приемлемым. С ростом размерности матрицы полезностей (до 50х50) разброс отклонений уменьшается (0.95...0.98).\n",
    "4. Задачу ГШ можно модифицировать, чтобы разрешать некоторые поезда (локомотивы) оставлять неподвязанными, если выбранное назначение оказывается достаточно плохим. Это делается вставкой в нужное место в упорядоченный список предпочтений локомотивов для поезда элемента, который соответствует отсутствию назначения (пустое назначение). Например, можно так построить расчет функции полезности, что отрицательные значения будут считаться неприемлемыми."
   ]
  }
 ],
 "metadata": {
  "kernelspec": {
   "display_name": "Python 3",
   "language": "python",
   "name": "python3"
  },
  "language_info": {
   "codemirror_mode": {
    "name": "ipython",
    "version": 3
   },
   "file_extension": ".py",
   "mimetype": "text/x-python",
   "name": "python",
   "nbconvert_exporter": "python",
   "pygments_lexer": "ipython3",
   "version": "3.5.1"
  }
 },
 "nbformat": 4,
 "nbformat_minor": 0
}
