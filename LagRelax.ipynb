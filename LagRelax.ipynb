{
 "cells": [
  {
   "cell_type": "code",
   "execution_count": 176,
   "metadata": {
    "collapsed": true
   },
   "outputs": [],
   "source": [
    "from scipy.optimize import linear_sum_assignment\n",
    "import numpy as np"
   ]
  },
  {
   "cell_type": "code",
   "execution_count": 177,
   "metadata": {
    "collapsed": false
   },
   "outputs": [
    {
     "data": {
      "text/plain": [
       "array([[[  0.,   4.,   8.],\n",
       "        [ 10.,   3.,   7.],\n",
       "        [  6.,   5.,   0.]],\n",
       "\n",
       "       [[  7.,   7.,   6.],\n",
       "        [  5.,   3.,   9.],\n",
       "        [  5.,   9.,   0.]],\n",
       "\n",
       "       [[  6.,   9.,   2.],\n",
       "        [  0.,   3.,   7.],\n",
       "        [  6.,   2.,   8.]],\n",
       "\n",
       "       [[  9.,   9.,   2.],\n",
       "        [  7.,   7.,   5.],\n",
       "        [  8.,   4.,   8.]]])"
      ]
     },
     "execution_count": 177,
     "metadata": {},
     "output_type": "execute_result"
    }
   ],
   "source": [
    "cost = np.round(10 * np.random.rand(4, 3, 3), 0)\n",
    "cost"
   ]
  },
  {
   "cell_type": "code",
   "execution_count": 178,
   "metadata": {
    "collapsed": false
   },
   "outputs": [
    {
     "name": "stdout",
     "output_type": "stream",
     "text": [
      "initial cost\n",
      " [[[  0.   4.   8.]\n",
      "  [ 10.   3.   7.]\n",
      "  [  6.   5.   0.]]\n",
      "\n",
      " [[  7.   7.   6.]\n",
      "  [  5.   3.   9.]\n",
      "  [  5.   9.   0.]]\n",
      "\n",
      " [[  6.   9.   2.]\n",
      "  [  0.   3.   7.]\n",
      "  [  6.   2.   8.]]\n",
      "\n",
      " [[  9.   9.   2.]\n",
      "  [  7.   7.   5.]\n",
      "  [  8.   4.   8.]]]\n",
      "------\n",
      "u [0.5, 0.5, 0.5, 0.5]\n",
      "cost1 - planar reduced\n",
      " [[[-0.5  3.5  7.5]\n",
      "  [ 9.5  2.5  6.5]\n",
      "  [ 5.5  4.5 -0.5]]\n",
      "\n",
      " [[ 6.5  6.5  5.5]\n",
      "  [ 4.5  2.5  8.5]\n",
      "  [ 4.5  8.5 -0.5]]\n",
      "\n",
      " [[ 5.5  8.5  1.5]\n",
      "  [-0.5  2.5  6.5]\n",
      "  [ 5.5  1.5  7.5]]\n",
      "\n",
      " [[ 8.5  8.5  1.5]\n",
      "  [ 6.5  6.5  4.5]\n",
      "  [ 7.5  3.5  7.5]]]\n",
      "arg max in w\n",
      " [[3 2 0]\n",
      " [0 3 1]\n",
      " [3 1 2]]\n",
      "w\n",
      " [[ 8.5  8.5  7.5]\n",
      " [ 9.5  6.5  8.5]\n",
      " [ 7.5  8.5  7.5]]\n",
      "sum: 25.5 \n",
      "assignment: [(0, 2), (1, 0), (2, 1)]\n",
      "phi: 27.5\n",
      "ksi [(0, 0, 2), (0, 1, 0), (1, 2, 1)]\n",
      "ksi sum 27.0\n",
      "ub, lb 27.5 27.0\n",
      "nu [-1  0  1  1]\n",
      "new u [-0.15  0.    0.15  0.15]\n",
      "-------\n",
      "u [-0.15  0.    0.15  0.15]\n",
      "cost1 - planar reduced\n",
      " [[[  0.15   4.15   8.15]\n",
      "  [ 10.15   3.15   7.15]\n",
      "  [  6.15   5.15   0.15]]\n",
      "\n",
      " [[  7.     7.     6.  ]\n",
      "  [  5.     3.     9.  ]\n",
      "  [  5.     9.     0.  ]]\n",
      "\n",
      " [[  5.85   8.85   1.85]\n",
      "  [ -0.15   2.85   6.85]\n",
      "  [  5.85   1.85   7.85]]\n",
      "\n",
      " [[  8.85   8.85   1.85]\n",
      "  [  6.85   6.85   4.85]\n",
      "  [  7.85   3.85   7.85]]]\n",
      "arg max in w\n",
      " [[3 2 0]\n",
      " [0 3 1]\n",
      " [3 1 2]]\n",
      "w\n",
      " [[  8.85   8.85   8.15]\n",
      " [ 10.15   6.85   9.  ]\n",
      " [  7.85   9.     7.85]]\n",
      "sum: 27.3 \n",
      "assignment: [(0, 2), (1, 0), (2, 1)]\n",
      "phi: 27.45\n",
      "ksi [(0, 0, 2), (0, 1, 0), (1, 2, 1)]\n",
      "ksi sum 27.0\n",
      "ub, lb 27.45 27.0\n",
      "nu [-1  0  1  1]\n",
      "new u [-0.135  0.     0.135  0.135]\n",
      "-------\n"
     ]
    }
   ],
   "source": [
    "u = [.5] * cost.shape[0]\n",
    "cost1 = np.copy(cost)\n",
    "ub = 1000\n",
    "lb = -1000\n",
    "l = .9\n",
    "print('initial cost\\n', cost)\n",
    "print('------')\n",
    "\n",
    "for cnt in range(0, 2):\n",
    "    cost1 = np.copy(cost)\n",
    "    print('u', u)\n",
    "    for k in range(0, cost.shape[0]):\n",
    "        cost1[k,:,:] = cost[k,:,:] - u[k]\n",
    "\n",
    "    print('cost1 - planar reduced\\n', cost1)\n",
    "    w = np.max(cost1, axis=0)\n",
    "    h = np.argmax(cost1, axis=0)\n",
    "    print('arg max in w\\n', h)\n",
    "    print('w\\n', w)\n",
    "    \n",
    "    row, col = linear_sum_assignment(-w)\n",
    "    print('sum:', w[row, col].sum(), '\\nassignment:', list(zip(row, col)))\n",
    "    phi = w[row, col].sum() + np.sum(u)\n",
    "    print('phi:', phi)\n",
    "    \n",
    "    ksi = list(zip(h[row, col], row, col))\n",
    "    print('ksi', ksi)\n",
    "    ksi_ar = np.array(ksi)\n",
    "    ksi_sum = np.sum([cost[x] for x in ksi])\n",
    "    print('ksi sum', ksi_sum)\n",
    "    \n",
    "    ub = np.min([ub, phi])\n",
    "    lb = np.max([lb, ksi_sum])\n",
    "    print('ub, lb', ub, lb)\n",
    "    \n",
    "    nu = [0] * cost.shape[0]\n",
    "    for x in ksi_ar[:,0]:\n",
    "        nu[x] = nu[x] + 1\n",
    "    nu = 1 - np.array(nu)    \n",
    "    print('nu', nu)\n",
    "    \n",
    "    sigma = l * (phi - lb) / (np.linalg.norm(nu) ** 2)\n",
    "    u = np.array([0] * cost.shape[0])\n",
    "    u = u + sigma * np.array(nu)\n",
    "    print('new u', u)    \n",
    "    print('-------')"
   ]
  },
  {
   "cell_type": "code",
   "execution_count": 185,
   "metadata": {
    "collapsed": false
   },
   "outputs": [
    {
     "data": {
      "text/plain": [
       "array([[0, 2],\n",
       "       [1, 0],\n",
       "       [2, 1]], dtype=int64)"
      ]
     },
     "execution_count": 185,
     "metadata": {},
     "output_type": "execute_result"
    }
   ],
   "source": [
    "ksi_ar[:,1:]"
   ]
  },
  {
   "cell_type": "code",
   "execution_count": 186,
   "metadata": {
    "collapsed": false
   },
   "outputs": [
    {
     "data": {
      "text/plain": [
       "array([[[  0.,   4.,   8.],\n",
       "        [ 10.,   3.,   7.],\n",
       "        [  6.,   5.,   0.]],\n",
       "\n",
       "       [[  7.,   7.,   6.],\n",
       "        [  5.,   3.,   9.],\n",
       "        [  5.,   9.,   0.]],\n",
       "\n",
       "       [[  6.,   9.,   2.],\n",
       "        [  0.,   3.,   7.],\n",
       "        [  6.,   2.,   8.]],\n",
       "\n",
       "       [[  9.,   9.,   2.],\n",
       "        [  7.,   7.,   5.],\n",
       "        [  8.,   4.,   8.]]])"
      ]
     },
     "execution_count": 186,
     "metadata": {},
     "output_type": "execute_result"
    }
   ],
   "source": [
    "cost"
   ]
  },
  {
   "cell_type": "code",
   "execution_count": 211,
   "metadata": {
    "collapsed": false
   },
   "outputs": [
    {
     "name": "stdout",
     "output_type": "stream",
     "text": [
      "[[  8.   6.   2.   2.]\n",
      " [ 10.   5.   0.   7.]\n",
      " [  5.   9.   2.   4.]]\n"
     ]
    },
    {
     "data": {
      "text/plain": [
       "array([0, 3, 1], dtype=int64)"
      ]
     },
     "execution_count": 211,
     "metadata": {},
     "output_type": "execute_result"
    }
   ],
   "source": [
    "ar = np.vstack([cost[:,0,2], cost[:,1,0], cost[:,2,1]])\n",
    "r, c = linear_sum_assignment(-ar)\n",
    "print(ar)\n",
    "np.array(list(zip(r, c)))[:,1]"
   ]
  }
 ],
 "metadata": {
  "kernelspec": {
   "display_name": "Python 3",
   "language": "python",
   "name": "python3"
  },
  "language_info": {
   "codemirror_mode": {
    "name": "ipython",
    "version": 3
   },
   "file_extension": ".py",
   "mimetype": "text/x-python",
   "name": "python",
   "nbconvert_exporter": "python",
   "pygments_lexer": "ipython3",
   "version": "3.5.1"
  }
 },
 "nbformat": 4,
 "nbformat_minor": 0
}
